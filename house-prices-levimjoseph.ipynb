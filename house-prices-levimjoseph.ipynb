{
 "cells": [
  {
   "cell_type": "markdown",
   "id": "cd1d5cbe",
   "metadata": {
    "papermill": {
     "duration": 0.00989,
     "end_time": "2022-04-16T21:52:06.769857",
     "exception": false,
     "start_time": "2022-04-16T21:52:06.759967",
     "status": "completed"
    },
    "tags": []
   },
   "source": [
    "# Overview"
   ]
  },
  {
   "cell_type": "markdown",
   "id": "d092acbf",
   "metadata": {
    "papermill": {
     "duration": 0.006243,
     "end_time": "2022-04-16T21:52:06.782784",
     "exception": false,
     "start_time": "2022-04-16T21:52:06.776541",
     "status": "completed"
    },
    "tags": []
   },
   "source": []
  },
  {
   "cell_type": "markdown",
   "id": "24c291ae",
   "metadata": {
    "papermill": {
     "duration": 0.00595,
     "end_time": "2022-04-16T21:52:06.794868",
     "exception": false,
     "start_time": "2022-04-16T21:52:06.788918",
     "status": "completed"
    },
    "tags": []
   },
   "source": [
    "# Setup"
   ]
  },
  {
   "cell_type": "code",
   "execution_count": 1,
   "id": "2bf7b580",
   "metadata": {
    "_cell_guid": "b1076dfc-b9ad-4769-8c92-a6c4dae69d19",
    "_uuid": "8f2839f25d086af736a60e9eeb907d3b93b6e0e5",
    "execution": {
     "iopub.execute_input": "2022-04-16T21:52:06.811176Z",
     "iopub.status.busy": "2022-04-16T21:52:06.810809Z",
     "iopub.status.idle": "2022-04-16T21:52:06.823411Z",
     "shell.execute_reply": "2022-04-16T21:52:06.822055Z"
    },
    "papermill": {
     "duration": 0.023992,
     "end_time": "2022-04-16T21:52:06.825494",
     "exception": false,
     "start_time": "2022-04-16T21:52:06.801502",
     "status": "completed"
    },
    "tags": []
   },
   "outputs": [
    {
     "name": "stdout",
     "output_type": "stream",
     "text": [
      "/kaggle/input/house-prices-advanced-regression-techniques/sample_submission.csv\n",
      "/kaggle/input/house-prices-advanced-regression-techniques/data_description.txt\n",
      "/kaggle/input/house-prices-advanced-regression-techniques/train.csv\n",
      "/kaggle/input/house-prices-advanced-regression-techniques/test.csv\n"
     ]
    }
   ],
   "source": [
    "# This Python 3 environment comes with many helpful analytics libraries installed\n",
    "# It is defined by the kaggle/python Docker image: https://github.com/kaggle/docker-python\n",
    "# For example, here's several helpful packages to load\n",
    "\n",
    "import numpy as np # linear algebra\n",
    "import pandas as pd # data processing, CSV file I/O (e.g. pd.read_csv)\n",
    "\n",
    "# Input data files are available in the read-only \"../input/\" directory\n",
    "# For example, running this (by clicking run or pressing Shift+Enter) will list all files under the input directory\n",
    "\n",
    "import os\n",
    "for dirname, _, filenames in os.walk('/kaggle/input'):\n",
    "    for filename in filenames:\n",
    "        print(os.path.join(dirname, filename))\n",
    "\n",
    "# You can write up to 20GB to the current directory (/kaggle/working/) that gets preserved as output when you create a version using \"Save & Run All\" \n",
    "# You can also write temporary files to /kaggle/temp/, but they won't be saved outside of the current session"
   ]
  },
  {
   "cell_type": "markdown",
   "id": "91a7df55",
   "metadata": {
    "papermill": {
     "duration": 0.008737,
     "end_time": "2022-04-16T21:52:06.844208",
     "exception": false,
     "start_time": "2022-04-16T21:52:06.835471",
     "status": "completed"
    },
    "tags": []
   },
   "source": [
    "# EDA"
   ]
  },
  {
   "cell_type": "code",
   "execution_count": null,
   "id": "e1f40703",
   "metadata": {
    "papermill": {
     "duration": 0.006195,
     "end_time": "2022-04-16T21:52:06.856987",
     "exception": false,
     "start_time": "2022-04-16T21:52:06.850792",
     "status": "completed"
    },
    "tags": []
   },
   "outputs": [],
   "source": []
  },
  {
   "cell_type": "markdown",
   "id": "4c6f38f7",
   "metadata": {
    "papermill": {
     "duration": 0.006089,
     "end_time": "2022-04-16T21:52:06.869444",
     "exception": false,
     "start_time": "2022-04-16T21:52:06.863355",
     "status": "completed"
    },
    "tags": []
   },
   "source": [
    "# Modeling"
   ]
  },
  {
   "cell_type": "code",
   "execution_count": null,
   "id": "086cd249",
   "metadata": {
    "papermill": {
     "duration": 0.006107,
     "end_time": "2022-04-16T21:52:06.881812",
     "exception": false,
     "start_time": "2022-04-16T21:52:06.875705",
     "status": "completed"
    },
    "tags": []
   },
   "outputs": [],
   "source": []
  },
  {
   "cell_type": "markdown",
   "id": "b8b8cdda",
   "metadata": {
    "papermill": {
     "duration": 0.006134,
     "end_time": "2022-04-16T21:52:06.894295",
     "exception": false,
     "start_time": "2022-04-16T21:52:06.888161",
     "status": "completed"
    },
    "tags": []
   },
   "source": [
    "# Submission"
   ]
  },
  {
   "cell_type": "code",
   "execution_count": null,
   "id": "711e3580",
   "metadata": {
    "papermill": {
     "duration": 0.006147,
     "end_time": "2022-04-16T21:52:06.906819",
     "exception": false,
     "start_time": "2022-04-16T21:52:06.900672",
     "status": "completed"
    },
    "tags": []
   },
   "outputs": [],
   "source": []
  }
 ],
 "metadata": {
  "kernelspec": {
   "display_name": "Python 3",
   "language": "python",
   "name": "python3"
  },
  "language_info": {
   "codemirror_mode": {
    "name": "ipython",
    "version": 3
   },
   "file_extension": ".py",
   "mimetype": "text/x-python",
   "name": "python",
   "nbconvert_exporter": "python",
   "pygments_lexer": "ipython3",
   "version": "3.7.12"
  },
  "papermill": {
   "default_parameters": {},
   "duration": 9.035367,
   "end_time": "2022-04-16T21:52:07.532892",
   "environment_variables": {},
   "exception": null,
   "input_path": "__notebook__.ipynb",
   "output_path": "__notebook__.ipynb",
   "parameters": {},
   "start_time": "2022-04-16T21:51:58.497525",
   "version": "2.3.4"
  }
 },
 "nbformat": 4,
 "nbformat_minor": 5
}
