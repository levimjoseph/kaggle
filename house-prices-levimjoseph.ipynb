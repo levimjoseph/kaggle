{
 "cells": [
  {
   "cell_type": "markdown",
   "id": "1cf5e139",
   "metadata": {
    "papermill": {
     "duration": 0.008942,
     "end_time": "2022-04-16T21:36:02.685828",
     "exception": false,
     "start_time": "2022-04-16T21:36:02.676886",
     "status": "completed"
    },
    "tags": []
   },
   "source": [
    "# Overview"
   ]
  },
  {
   "cell_type": "markdown",
   "id": "33913e97",
   "metadata": {
    "papermill": {
     "duration": 0.007647,
     "end_time": "2022-04-16T21:36:02.701558",
     "exception": false,
     "start_time": "2022-04-16T21:36:02.693911",
     "status": "completed"
    },
    "tags": []
   },
   "source": []
  },
  {
   "cell_type": "markdown",
   "id": "8312b076",
   "metadata": {
    "papermill": {
     "duration": 0.007452,
     "end_time": "2022-04-16T21:36:02.716772",
     "exception": false,
     "start_time": "2022-04-16T21:36:02.709320",
     "status": "completed"
    },
    "tags": []
   },
   "source": [
    "# Setup"
   ]
  },
  {
   "cell_type": "code",
   "execution_count": 1,
   "id": "e2fea426",
   "metadata": {
    "_cell_guid": "b1076dfc-b9ad-4769-8c92-a6c4dae69d19",
    "_uuid": "8f2839f25d086af736a60e9eeb907d3b93b6e0e5",
    "execution": {
     "iopub.execute_input": "2022-04-16T21:36:02.733781Z",
     "iopub.status.busy": "2022-04-16T21:36:02.733441Z",
     "iopub.status.idle": "2022-04-16T21:36:02.744700Z",
     "shell.execute_reply": "2022-04-16T21:36:02.744099Z"
    },
    "papermill": {
     "duration": 0.022266,
     "end_time": "2022-04-16T21:36:02.746859",
     "exception": false,
     "start_time": "2022-04-16T21:36:02.724593",
     "status": "completed"
    },
    "tags": []
   },
   "outputs": [],
   "source": [
    "# This Python 3 environment comes with many helpful analytics libraries installed\n",
    "# It is defined by the kaggle/python Docker image: https://github.com/kaggle/docker-python\n",
    "# For example, here's several helpful packages to load\n",
    "\n",
    "import numpy as np # linear algebra\n",
    "import pandas as pd # data processing, CSV file I/O (e.g. pd.read_csv)\n",
    "\n",
    "# Input data files are available in the read-only \"../input/\" directory\n",
    "# For example, running this (by clicking run or pressing Shift+Enter) will list all files under the input directory\n",
    "\n",
    "import os\n",
    "for dirname, _, filenames in os.walk('/kaggle/input'):\n",
    "    for filename in filenames:\n",
    "        print(os.path.join(dirname, filename))\n",
    "\n",
    "# You can write up to 20GB to the current directory (/kaggle/working/) that gets preserved as output when you create a version using \"Save & Run All\" \n",
    "# You can also write temporary files to /kaggle/temp/, but they won't be saved outside of the current session"
   ]
  },
  {
   "cell_type": "markdown",
   "id": "d6adc978",
   "metadata": {
    "papermill": {
     "duration": 0.007657,
     "end_time": "2022-04-16T21:36:02.762495",
     "exception": false,
     "start_time": "2022-04-16T21:36:02.754838",
     "status": "completed"
    },
    "tags": []
   },
   "source": [
    "# EDA"
   ]
  },
  {
   "cell_type": "code",
   "execution_count": null,
   "id": "724b771d",
   "metadata": {
    "papermill": {
     "duration": 0.010067,
     "end_time": "2022-04-16T21:36:02.781510",
     "exception": false,
     "start_time": "2022-04-16T21:36:02.771443",
     "status": "completed"
    },
    "tags": []
   },
   "outputs": [],
   "source": []
  },
  {
   "cell_type": "markdown",
   "id": "fbe68813",
   "metadata": {
    "papermill": {
     "duration": 0.008356,
     "end_time": "2022-04-16T21:36:02.798624",
     "exception": false,
     "start_time": "2022-04-16T21:36:02.790268",
     "status": "completed"
    },
    "tags": []
   },
   "source": [
    "# Modeling"
   ]
  },
  {
   "cell_type": "code",
   "execution_count": null,
   "id": "cac84e0c",
   "metadata": {
    "papermill": {
     "duration": 0.01162,
     "end_time": "2022-04-16T21:36:02.819474",
     "exception": false,
     "start_time": "2022-04-16T21:36:02.807854",
     "status": "completed"
    },
    "tags": []
   },
   "outputs": [],
   "source": []
  },
  {
   "cell_type": "markdown",
   "id": "80854ce6",
   "metadata": {
    "papermill": {
     "duration": 0.00852,
     "end_time": "2022-04-16T21:36:02.838572",
     "exception": false,
     "start_time": "2022-04-16T21:36:02.830052",
     "status": "completed"
    },
    "tags": []
   },
   "source": [
    "# Submission"
   ]
  },
  {
   "cell_type": "code",
   "execution_count": null,
   "id": "62c5485a",
   "metadata": {
    "papermill": {
     "duration": 0.009676,
     "end_time": "2022-04-16T21:36:02.856426",
     "exception": false,
     "start_time": "2022-04-16T21:36:02.846750",
     "status": "completed"
    },
    "tags": []
   },
   "outputs": [],
   "source": []
  }
 ],
 "metadata": {
  "kernelspec": {
   "display_name": "Python 3",
   "language": "python",
   "name": "python3"
  },
  "language_info": {
   "codemirror_mode": {
    "name": "ipython",
    "version": 3
   },
   "file_extension": ".py",
   "mimetype": "text/x-python",
   "name": "python",
   "nbconvert_exporter": "python",
   "pygments_lexer": "ipython3",
   "version": "3.7.12"
  },
  "papermill": {
   "default_parameters": {},
   "duration": 10.191216,
   "end_time": "2022-04-16T21:36:03.488992",
   "environment_variables": {},
   "exception": null,
   "input_path": "__notebook__.ipynb",
   "output_path": "__notebook__.ipynb",
   "parameters": {},
   "start_time": "2022-04-16T21:35:53.297776",
   "version": "2.3.4"
  }
 },
 "nbformat": 4,
 "nbformat_minor": 5
}
