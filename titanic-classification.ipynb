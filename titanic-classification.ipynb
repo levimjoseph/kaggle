{
 "cells": [
  {
   "cell_type": "markdown",
   "id": "f6aed802",
   "metadata": {
    "papermill": {
     "duration": 0.020674,
     "end_time": "2022-08-29T20:02:40.846954",
     "exception": false,
     "start_time": "2022-08-29T20:02:40.826280",
     "status": "completed"
    },
    "tags": []
   },
   "source": [
    "# Overview\n",
    "The Titanic Competition is a classification problem where we are tasked with predicting whether or not a passenger survived the ship's sinking.\n",
    "\n",
    "**Goal**: place in top the 10% of rolling leaderboard."
   ]
  },
  {
   "cell_type": "code",
   "execution_count": 1,
   "id": "18441fbe",
   "metadata": {
    "execution": {
     "iopub.execute_input": "2022-08-29T20:02:40.887316Z",
     "iopub.status.busy": "2022-08-29T20:02:40.886461Z",
     "iopub.status.idle": "2022-08-29T20:02:42.123480Z",
     "shell.execute_reply": "2022-08-29T20:02:42.122123Z"
    },
    "papermill": {
     "duration": 1.260774,
     "end_time": "2022-08-29T20:02:42.126719",
     "exception": false,
     "start_time": "2022-08-29T20:02:40.865945",
     "status": "completed"
    },
    "tags": []
   },
   "outputs": [],
   "source": [
    "# initial imports\n",
    "import numpy as np\n",
    "import pandas as pd\n",
    "import seaborn as sns\n",
    "import matplotlib.pyplot as plt\n",
    "\n",
    "# set the random seed state for reproducibility\n",
    "random_state = 42"
   ]
  },
  {
   "cell_type": "code",
   "execution_count": 2,
   "id": "67152904",
   "metadata": {
    "execution": {
     "iopub.execute_input": "2022-08-29T20:02:42.167254Z",
     "iopub.status.busy": "2022-08-29T20:02:42.166796Z",
     "iopub.status.idle": "2022-08-29T20:02:42.197644Z",
     "shell.execute_reply": "2022-08-29T20:02:42.196295Z"
    },
    "papermill": {
     "duration": 0.054362,
     "end_time": "2022-08-29T20:02:42.200561",
     "exception": false,
     "start_time": "2022-08-29T20:02:42.146199",
     "status": "completed"
    },
    "tags": []
   },
   "outputs": [],
   "source": [
    "# import train and test set\n",
    "train_df = pd.read_csv('../input/titanic/train.csv')\n",
    "test_df = pd.read_csv('../input/titanic/test.csv')"
   ]
  },
  {
   "cell_type": "code",
   "execution_count": 3,
   "id": "51706b54",
   "metadata": {
    "execution": {
     "iopub.execute_input": "2022-08-29T20:02:42.241042Z",
     "iopub.status.busy": "2022-08-29T20:02:42.240545Z",
     "iopub.status.idle": "2022-08-29T20:02:42.267234Z",
     "shell.execute_reply": "2022-08-29T20:02:42.266348Z"
    },
    "papermill": {
     "duration": 0.050202,
     "end_time": "2022-08-29T20:02:42.269928",
     "exception": false,
     "start_time": "2022-08-29T20:02:42.219726",
     "status": "completed"
    },
    "tags": []
   },
   "outputs": [
    {
     "data": {
      "text/html": [
       "<div>\n",
       "<style scoped>\n",
       "    .dataframe tbody tr th:only-of-type {\n",
       "        vertical-align: middle;\n",
       "    }\n",
       "\n",
       "    .dataframe tbody tr th {\n",
       "        vertical-align: top;\n",
       "    }\n",
       "\n",
       "    .dataframe thead th {\n",
       "        text-align: right;\n",
       "    }\n",
       "</style>\n",
       "<table border=\"1\" class=\"dataframe\">\n",
       "  <thead>\n",
       "    <tr style=\"text-align: right;\">\n",
       "      <th></th>\n",
       "      <th>PassengerId</th>\n",
       "      <th>Survived</th>\n",
       "      <th>Pclass</th>\n",
       "      <th>Name</th>\n",
       "      <th>Sex</th>\n",
       "      <th>Age</th>\n",
       "      <th>SibSp</th>\n",
       "      <th>Parch</th>\n",
       "      <th>Ticket</th>\n",
       "      <th>Fare</th>\n",
       "      <th>Cabin</th>\n",
       "      <th>Embarked</th>\n",
       "    </tr>\n",
       "  </thead>\n",
       "  <tbody>\n",
       "    <tr>\n",
       "      <th>0</th>\n",
       "      <td>1</td>\n",
       "      <td>0</td>\n",
       "      <td>3</td>\n",
       "      <td>Braund, Mr. Owen Harris</td>\n",
       "      <td>male</td>\n",
       "      <td>22.0</td>\n",
       "      <td>1</td>\n",
       "      <td>0</td>\n",
       "      <td>A/5 21171</td>\n",
       "      <td>7.2500</td>\n",
       "      <td>NaN</td>\n",
       "      <td>S</td>\n",
       "    </tr>\n",
       "    <tr>\n",
       "      <th>1</th>\n",
       "      <td>2</td>\n",
       "      <td>1</td>\n",
       "      <td>1</td>\n",
       "      <td>Cumings, Mrs. John Bradley (Florence Briggs Th...</td>\n",
       "      <td>female</td>\n",
       "      <td>38.0</td>\n",
       "      <td>1</td>\n",
       "      <td>0</td>\n",
       "      <td>PC 17599</td>\n",
       "      <td>71.2833</td>\n",
       "      <td>C85</td>\n",
       "      <td>C</td>\n",
       "    </tr>\n",
       "    <tr>\n",
       "      <th>2</th>\n",
       "      <td>3</td>\n",
       "      <td>1</td>\n",
       "      <td>3</td>\n",
       "      <td>Heikkinen, Miss. Laina</td>\n",
       "      <td>female</td>\n",
       "      <td>26.0</td>\n",
       "      <td>0</td>\n",
       "      <td>0</td>\n",
       "      <td>STON/O2. 3101282</td>\n",
       "      <td>7.9250</td>\n",
       "      <td>NaN</td>\n",
       "      <td>S</td>\n",
       "    </tr>\n",
       "    <tr>\n",
       "      <th>3</th>\n",
       "      <td>4</td>\n",
       "      <td>1</td>\n",
       "      <td>1</td>\n",
       "      <td>Futrelle, Mrs. Jacques Heath (Lily May Peel)</td>\n",
       "      <td>female</td>\n",
       "      <td>35.0</td>\n",
       "      <td>1</td>\n",
       "      <td>0</td>\n",
       "      <td>113803</td>\n",
       "      <td>53.1000</td>\n",
       "      <td>C123</td>\n",
       "      <td>S</td>\n",
       "    </tr>\n",
       "    <tr>\n",
       "      <th>4</th>\n",
       "      <td>5</td>\n",
       "      <td>0</td>\n",
       "      <td>3</td>\n",
       "      <td>Allen, Mr. William Henry</td>\n",
       "      <td>male</td>\n",
       "      <td>35.0</td>\n",
       "      <td>0</td>\n",
       "      <td>0</td>\n",
       "      <td>373450</td>\n",
       "      <td>8.0500</td>\n",
       "      <td>NaN</td>\n",
       "      <td>S</td>\n",
       "    </tr>\n",
       "  </tbody>\n",
       "</table>\n",
       "</div>"
      ],
      "text/plain": [
       "   PassengerId  Survived  Pclass  \\\n",
       "0            1         0       3   \n",
       "1            2         1       1   \n",
       "2            3         1       3   \n",
       "3            4         1       1   \n",
       "4            5         0       3   \n",
       "\n",
       "                                                Name     Sex   Age  SibSp  \\\n",
       "0                            Braund, Mr. Owen Harris    male  22.0      1   \n",
       "1  Cumings, Mrs. John Bradley (Florence Briggs Th...  female  38.0      1   \n",
       "2                             Heikkinen, Miss. Laina  female  26.0      0   \n",
       "3       Futrelle, Mrs. Jacques Heath (Lily May Peel)  female  35.0      1   \n",
       "4                           Allen, Mr. William Henry    male  35.0      0   \n",
       "\n",
       "   Parch            Ticket     Fare Cabin Embarked  \n",
       "0      0         A/5 21171   7.2500   NaN        S  \n",
       "1      0          PC 17599  71.2833   C85        C  \n",
       "2      0  STON/O2. 3101282   7.9250   NaN        S  \n",
       "3      0            113803  53.1000  C123        S  \n",
       "4      0            373450   8.0500   NaN        S  "
      ]
     },
     "execution_count": 3,
     "metadata": {},
     "output_type": "execute_result"
    }
   ],
   "source": [
    "# confirm train_df\n",
    "train_df.head()"
   ]
  },
  {
   "cell_type": "code",
   "execution_count": 4,
   "id": "26a6d0ea",
   "metadata": {
    "execution": {
     "iopub.execute_input": "2022-08-29T20:02:42.310950Z",
     "iopub.status.busy": "2022-08-29T20:02:42.310072Z",
     "iopub.status.idle": "2022-08-29T20:02:42.327235Z",
     "shell.execute_reply": "2022-08-29T20:02:42.326284Z"
    },
    "papermill": {
     "duration": 0.040176,
     "end_time": "2022-08-29T20:02:42.329482",
     "exception": false,
     "start_time": "2022-08-29T20:02:42.289306",
     "status": "completed"
    },
    "tags": []
   },
   "outputs": [
    {
     "data": {
      "text/html": [
       "<div>\n",
       "<style scoped>\n",
       "    .dataframe tbody tr th:only-of-type {\n",
       "        vertical-align: middle;\n",
       "    }\n",
       "\n",
       "    .dataframe tbody tr th {\n",
       "        vertical-align: top;\n",
       "    }\n",
       "\n",
       "    .dataframe thead th {\n",
       "        text-align: right;\n",
       "    }\n",
       "</style>\n",
       "<table border=\"1\" class=\"dataframe\">\n",
       "  <thead>\n",
       "    <tr style=\"text-align: right;\">\n",
       "      <th></th>\n",
       "      <th>PassengerId</th>\n",
       "      <th>Pclass</th>\n",
       "      <th>Name</th>\n",
       "      <th>Sex</th>\n",
       "      <th>Age</th>\n",
       "      <th>SibSp</th>\n",
       "      <th>Parch</th>\n",
       "      <th>Ticket</th>\n",
       "      <th>Fare</th>\n",
       "      <th>Cabin</th>\n",
       "      <th>Embarked</th>\n",
       "    </tr>\n",
       "  </thead>\n",
       "  <tbody>\n",
       "    <tr>\n",
       "      <th>0</th>\n",
       "      <td>892</td>\n",
       "      <td>3</td>\n",
       "      <td>Kelly, Mr. James</td>\n",
       "      <td>male</td>\n",
       "      <td>34.5</td>\n",
       "      <td>0</td>\n",
       "      <td>0</td>\n",
       "      <td>330911</td>\n",
       "      <td>7.8292</td>\n",
       "      <td>NaN</td>\n",
       "      <td>Q</td>\n",
       "    </tr>\n",
       "    <tr>\n",
       "      <th>1</th>\n",
       "      <td>893</td>\n",
       "      <td>3</td>\n",
       "      <td>Wilkes, Mrs. James (Ellen Needs)</td>\n",
       "      <td>female</td>\n",
       "      <td>47.0</td>\n",
       "      <td>1</td>\n",
       "      <td>0</td>\n",
       "      <td>363272</td>\n",
       "      <td>7.0000</td>\n",
       "      <td>NaN</td>\n",
       "      <td>S</td>\n",
       "    </tr>\n",
       "    <tr>\n",
       "      <th>2</th>\n",
       "      <td>894</td>\n",
       "      <td>2</td>\n",
       "      <td>Myles, Mr. Thomas Francis</td>\n",
       "      <td>male</td>\n",
       "      <td>62.0</td>\n",
       "      <td>0</td>\n",
       "      <td>0</td>\n",
       "      <td>240276</td>\n",
       "      <td>9.6875</td>\n",
       "      <td>NaN</td>\n",
       "      <td>Q</td>\n",
       "    </tr>\n",
       "    <tr>\n",
       "      <th>3</th>\n",
       "      <td>895</td>\n",
       "      <td>3</td>\n",
       "      <td>Wirz, Mr. Albert</td>\n",
       "      <td>male</td>\n",
       "      <td>27.0</td>\n",
       "      <td>0</td>\n",
       "      <td>0</td>\n",
       "      <td>315154</td>\n",
       "      <td>8.6625</td>\n",
       "      <td>NaN</td>\n",
       "      <td>S</td>\n",
       "    </tr>\n",
       "    <tr>\n",
       "      <th>4</th>\n",
       "      <td>896</td>\n",
       "      <td>3</td>\n",
       "      <td>Hirvonen, Mrs. Alexander (Helga E Lindqvist)</td>\n",
       "      <td>female</td>\n",
       "      <td>22.0</td>\n",
       "      <td>1</td>\n",
       "      <td>1</td>\n",
       "      <td>3101298</td>\n",
       "      <td>12.2875</td>\n",
       "      <td>NaN</td>\n",
       "      <td>S</td>\n",
       "    </tr>\n",
       "  </tbody>\n",
       "</table>\n",
       "</div>"
      ],
      "text/plain": [
       "   PassengerId  Pclass                                          Name     Sex  \\\n",
       "0          892       3                              Kelly, Mr. James    male   \n",
       "1          893       3              Wilkes, Mrs. James (Ellen Needs)  female   \n",
       "2          894       2                     Myles, Mr. Thomas Francis    male   \n",
       "3          895       3                              Wirz, Mr. Albert    male   \n",
       "4          896       3  Hirvonen, Mrs. Alexander (Helga E Lindqvist)  female   \n",
       "\n",
       "    Age  SibSp  Parch   Ticket     Fare Cabin Embarked  \n",
       "0  34.5      0      0   330911   7.8292   NaN        Q  \n",
       "1  47.0      1      0   363272   7.0000   NaN        S  \n",
       "2  62.0      0      0   240276   9.6875   NaN        Q  \n",
       "3  27.0      0      0   315154   8.6625   NaN        S  \n",
       "4  22.0      1      1  3101298  12.2875   NaN        S  "
      ]
     },
     "execution_count": 4,
     "metadata": {},
     "output_type": "execute_result"
    }
   ],
   "source": [
    "# confirm test_df\n",
    "test_df.head()"
   ]
  },
  {
   "cell_type": "markdown",
   "id": "f581a791",
   "metadata": {
    "papermill": {
     "duration": 0.019207,
     "end_time": "2022-08-29T20:02:42.368332",
     "exception": false,
     "start_time": "2022-08-29T20:02:42.349125",
     "status": "completed"
    },
    "tags": []
   },
   "source": [
    "---\n",
    "# EDA"
   ]
  },
  {
   "cell_type": "code",
   "execution_count": 5,
   "id": "040ba497",
   "metadata": {
    "execution": {
     "iopub.execute_input": "2022-08-29T20:02:42.410292Z",
     "iopub.status.busy": "2022-08-29T20:02:42.409449Z",
     "iopub.status.idle": "2022-08-29T20:02:42.435563Z",
     "shell.execute_reply": "2022-08-29T20:02:42.434491Z"
    },
    "papermill": {
     "duration": 0.05098,
     "end_time": "2022-08-29T20:02:42.438762",
     "exception": false,
     "start_time": "2022-08-29T20:02:42.387782",
     "status": "completed"
    },
    "tags": []
   },
   "outputs": [
    {
     "name": "stdout",
     "output_type": "stream",
     "text": [
      "<class 'pandas.core.frame.DataFrame'>\n",
      "RangeIndex: 891 entries, 0 to 890\n",
      "Data columns (total 12 columns):\n",
      " #   Column       Non-Null Count  Dtype  \n",
      "---  ------       --------------  -----  \n",
      " 0   PassengerId  891 non-null    int64  \n",
      " 1   Survived     891 non-null    int64  \n",
      " 2   Pclass       891 non-null    int64  \n",
      " 3   Name         891 non-null    object \n",
      " 4   Sex          891 non-null    object \n",
      " 5   Age          714 non-null    float64\n",
      " 6   SibSp        891 non-null    int64  \n",
      " 7   Parch        891 non-null    int64  \n",
      " 8   Ticket       891 non-null    object \n",
      " 9   Fare         891 non-null    float64\n",
      " 10  Cabin        204 non-null    object \n",
      " 11  Embarked     889 non-null    object \n",
      "dtypes: float64(2), int64(5), object(5)\n",
      "memory usage: 83.7+ KB\n"
     ]
    }
   ],
   "source": [
    "# get basic info on the train_df\n",
    "train_df.info()"
   ]
  },
  {
   "cell_type": "code",
   "execution_count": 6,
   "id": "5f518d9b",
   "metadata": {
    "execution": {
     "iopub.execute_input": "2022-08-29T20:02:42.479902Z",
     "iopub.status.busy": "2022-08-29T20:02:42.479459Z",
     "iopub.status.idle": "2022-08-29T20:02:42.494217Z",
     "shell.execute_reply": "2022-08-29T20:02:42.492867Z"
    },
    "papermill": {
     "duration": 0.039248,
     "end_time": "2022-08-29T20:02:42.497620",
     "exception": false,
     "start_time": "2022-08-29T20:02:42.458372",
     "status": "completed"
    },
    "tags": []
   },
   "outputs": [
    {
     "name": "stdout",
     "output_type": "stream",
     "text": [
      "<class 'pandas.core.frame.DataFrame'>\n",
      "RangeIndex: 418 entries, 0 to 417\n",
      "Data columns (total 11 columns):\n",
      " #   Column       Non-Null Count  Dtype  \n",
      "---  ------       --------------  -----  \n",
      " 0   PassengerId  418 non-null    int64  \n",
      " 1   Pclass       418 non-null    int64  \n",
      " 2   Name         418 non-null    object \n",
      " 3   Sex          418 non-null    object \n",
      " 4   Age          332 non-null    float64\n",
      " 5   SibSp        418 non-null    int64  \n",
      " 6   Parch        418 non-null    int64  \n",
      " 7   Ticket       418 non-null    object \n",
      " 8   Fare         417 non-null    float64\n",
      " 9   Cabin        91 non-null     object \n",
      " 10  Embarked     418 non-null    object \n",
      "dtypes: float64(2), int64(4), object(5)\n",
      "memory usage: 36.0+ KB\n"
     ]
    }
   ],
   "source": [
    "# get basic info on the test_df\n",
    "test_df.info()"
   ]
  },
  {
   "cell_type": "markdown",
   "id": "b66b8ee3",
   "metadata": {
    "papermill": {
     "duration": 0.019443,
     "end_time": "2022-08-29T20:02:42.536810",
     "exception": false,
     "start_time": "2022-08-29T20:02:42.517367",
     "status": "completed"
    },
    "tags": []
   },
   "source": [
    "**Dimensions:**\n",
    "\n",
    "The training data has 891 rows and 11 columns. Survived is the dependent variable.\n",
    "\n",
    "Our test data has 418 rows and 10 columns. ~32% of our overall data is in the test set.\n",
    "\n",
    "**Data Dictionary:**\n",
    "\n",
    "* PassengerId - int. Key.\n",
    "* Survived - int. Survival. 0 = No, 1 = Yes. Boolean.\n",
    "* Pclass - int. Ticket class.\n",
    "* Name - str. Name of passenger.\n",
    "* Sex - str. Sex of passenger.\n",
    "* Age - float. Age of passenger. If age is estimated, takes xx.5. Has nulls.\n",
    "* SibSp - int. # of siblings/spouses on board.\n",
    "* Parch - int. # of parents/ children aboard the titanic.\n",
    "* Ticket - str. Ticket number.\n",
    "* Fare - float. Fare paid by passenger. Has nulls.\n",
    "* Cabin - str. Cabin of passenger. Has nulls.\n",
    "* Embarked - str. Port of embarkation. C = Cherbourg, Q = Queenstown, S = Southampton. Has nulls.\n",
    "\n",
    "**Initial Hypotheses:**\n",
    "\n",
    "* Young children will survive.\n",
    "* Young women will survive.\n",
    "* Rich people will survive.\n",
    "* Location on ship matters.\n",
    "* Titles will or will not survive (depending on title).\n",
    "* Larger families will not survive."
   ]
  },
  {
   "cell_type": "markdown",
   "id": "77efdbf0",
   "metadata": {
    "papermill": {
     "duration": 0.019739,
     "end_time": "2022-08-29T20:02:42.576163",
     "exception": false,
     "start_time": "2022-08-29T20:02:42.556424",
     "status": "completed"
    },
    "tags": []
   },
   "source": [
    "### Survived EDA"
   ]
  },
  {
   "cell_type": "code",
   "execution_count": 7,
   "id": "d9dec814",
   "metadata": {
    "execution": {
     "iopub.execute_input": "2022-08-29T20:02:42.617187Z",
     "iopub.status.busy": "2022-08-29T20:02:42.616729Z",
     "iopub.status.idle": "2022-08-29T20:02:42.931433Z",
     "shell.execute_reply": "2022-08-29T20:02:42.930079Z"
    },
    "papermill": {
     "duration": 0.338835,
     "end_time": "2022-08-29T20:02:42.934577",
     "exception": false,
     "start_time": "2022-08-29T20:02:42.595742",
     "status": "completed"
    },
    "tags": []
   },
   "outputs": [
    {
     "data": {
      "image/png": "[encoded data removed]",
      "text/plain": [
       "<Figure size 360x360 with 1 Axes>"
      ]
     },
     "metadata": {
      "needs_background": "light"
     },
     "output_type": "display_data"
    }
   ],
   "source": [
    "# Survived\n",
    "sns.catplot(x='Survived', data=train_df, kind='count').set(title='Survived')\n",
    "plt.show()"
   ]
  },
  {
   "cell_type": "code",
   "execution_count": 8,
   "id": "2a20d662",
   "metadata": {
    "execution": {
     "iopub.execute_input": "2022-08-29T20:02:42.978750Z",
     "iopub.status.busy": "2022-08-29T20:02:42.978298Z",
     "iopub.status.idle": "2022-08-29T20:02:42.986436Z",
     "shell.execute_reply": "2022-08-29T20:02:42.984546Z"
    },
    "papermill": {
     "duration": 0.03321,
     "end_time": "2022-08-29T20:02:42.989566",
     "exception": false,
     "start_time": "2022-08-29T20:02:42.956356",
     "status": "completed"
    },
    "tags": []
   },
   "outputs": [
    {
     "name": "stdout",
     "output_type": "stream",
     "text": [
      "Percentage who survived: 38.38%\n"
     ]
    }
   ],
   "source": [
    "survived_perc = round((train_df['Survived'].sum()) / len(train_df.index) * 100,2)\n",
    "print(f'Percentage who survived: {survived_perc}%')"
   ]
  },
  {
   "cell_type": "markdown",
   "id": "2e321021",
   "metadata": {
    "papermill": {
     "duration": 0.019315,
     "end_time": "2022-08-29T20:02:43.028804",
     "exception": false,
     "start_time": "2022-08-29T20:02:43.009489",
     "status": "completed"
    },
    "tags": []
   },
   "source": [
    "## Categorical EDA"
   ]
  },
  {
   "cell_type": "markdown",
   "id": "e47ed8aa",
   "metadata": {
    "papermill": {
     "duration": 0.020076,
     "end_time": "2022-08-29T20:02:43.068598",
     "exception": false,
     "start_time": "2022-08-29T20:02:43.048522",
     "status": "completed"
    },
    "tags": []
   },
   "source": [
    "### Pclass EDA"
   ]
  },
  {
   "cell_type": "code",
   "execution_count": 9,
   "id": "c64b0d85",
   "metadata": {
    "execution": {
     "iopub.execute_input": "2022-08-29T20:02:43.112246Z",
     "iopub.status.busy": "2022-08-29T20:02:43.111378Z",
     "iopub.status.idle": "2022-08-29T20:02:43.373814Z",
     "shell.execute_reply": "2022-08-29T20:02:43.372569Z"
    },
    "papermill": {
     "duration": 0.286589,
     "end_time": "2022-08-29T20:02:43.376527",
     "exception": false,
     "start_time": "2022-08-29T20:02:43.089938",
     "status": "completed"
    },
    "tags": []
   },
   "outputs": [
    {
     "data": {
      "image/png": "[encoded data removed]",
      "text/plain": [
       "<Figure size 360x360 with 1 Axes>"
      ]
     },
     "metadata": {
      "needs_background": "light"
     },
     "output_type": "display_data"
    }
   ],
   "source": [
    "# PClass\n",
    "sns.catplot(x='Pclass', data=train_df, kind='count').set(title='Pclass')\n",
    "plt.show()"
   ]
  },
  {
   "cell_type": "code",
   "execution_count": 10,
   "id": "6a19a289",
   "metadata": {
    "execution": {
     "iopub.execute_input": "2022-08-29T20:02:43.419179Z",
     "iopub.status.busy": "2022-08-29T20:02:43.418002Z",
     "iopub.status.idle": "2022-08-29T20:02:43.774276Z",
     "shell.execute_reply": "2022-08-29T20:02:43.772924Z"
    },
    "papermill": {
     "duration": 0.380719,
     "end_time": "2022-08-29T20:02:43.776870",
     "exception": false,
     "start_time": "2022-08-29T20:02:43.396151",
     "status": "completed"
    },
    "tags": []
   },
   "outputs": [
    {
     "data": {
      "image/png": "[encoded data removed]",
      "text/plain": [
       "<Figure size 411.875x360 with 1 Axes>"
      ]
     },
     "metadata": {
      "needs_background": "light"
     },
     "output_type": "display_data"
    }
   ],
   "source": [
    "# PClass and Survived\n",
    "sns.catplot(x='Pclass', hue='Survived', data=train_df, kind='count').set(title='Pclass and Survived')\n",
    "plt.show()"
   ]
  },
  {
   "cell_type": "markdown",
   "id": "405ceb33",
   "metadata": {
    "papermill": {
     "duration": 0.019772,
     "end_time": "2022-08-29T20:02:43.816776",
     "exception": false,
     "start_time": "2022-08-29T20:02:43.797004",
     "status": "completed"
    },
    "tags": []
   },
   "source": [
    "As expected, Pclass appears to be correlated with survival."
   ]
  },
  {
   "cell_type": "markdown",
   "id": "a353d33b",
   "metadata": {
    "papermill": {
     "duration": 0.019793,
     "end_time": "2022-08-29T20:02:43.856753",
     "exception": false,
     "start_time": "2022-08-29T20:02:43.836960",
     "status": "completed"
    },
    "tags": []
   },
   "source": [
    "### Sex EDA"
   ]
  },
  {
   "cell_type": "code",
   "execution_count": 11,
   "id": "c558655d",
   "metadata": {
    "execution": {
     "iopub.execute_input": "2022-08-29T20:02:43.900189Z",
     "iopub.status.busy": "2022-08-29T20:02:43.898940Z",
     "iopub.status.idle": "2022-08-29T20:02:44.168243Z",
     "shell.execute_reply": "2022-08-29T20:02:44.166867Z"
    },
    "papermill": {
     "duration": 0.295234,
     "end_time": "2022-08-29T20:02:44.171997",
     "exception": false,
     "start_time": "2022-08-29T20:02:43.876763",
     "status": "completed"
    },
    "tags": []
   },
   "outputs": [
    {
     "data": {
      "image/png": "[encoded data removed]",
      "text/plain": [
       "<Figure size 360x360 with 1 Axes>"
      ]
     },
     "metadata": {
      "needs_background": "light"
     },
     "output_type": "display_data"
    }
   ],
   "source": [
    "# Sex\n",
    "sns.catplot(x='Sex', data=train_df, kind='count').set(title='Sex')\n",
    "plt.show()"
   ]
  },
  {
   "cell_type": "code",
   "execution_count": 12,
   "id": "9901b29a",
   "metadata": {
    "execution": {
     "iopub.execute_input": "2022-08-29T20:02:44.215983Z",
     "iopub.status.busy": "2022-08-29T20:02:44.214503Z",
     "iopub.status.idle": "2022-08-29T20:02:44.539794Z",
     "shell.execute_reply": "2022-08-29T20:02:44.538488Z"
    },
    "papermill": {
     "duration": 0.34995,
     "end_time": "2022-08-29T20:02:44.542294",
     "exception": false,
     "start_time": "2022-08-29T20:02:44.192344",
     "status": "completed"
    },
    "tags": []
   },
   "outputs": [
    {
     "data": {
      "image/png": "[encoded data removed]",
      "text/plain": [
       "<Figure size 411.875x360 with 1 Axes>"
      ]
     },
     "metadata": {
      "needs_background": "light"
     },
     "output_type": "display_data"
    }
   ],
   "source": [
    "# Sex and Survived\n",
    "sns.catplot(x='Sex', hue='Survived', data=train_df, kind='count').set(title='Sex and Survived')\n",
    "plt.show()"
   ]
  },
  {
   "cell_type": "markdown",
   "id": "8f103793",
   "metadata": {
    "papermill": {
     "duration": 0.020359,
     "end_time": "2022-08-29T20:02:44.583149",
     "exception": false,
     "start_time": "2022-08-29T20:02:44.562790",
     "status": "completed"
    },
    "tags": []
   },
   "source": [
    "Sex appears to be correlated with survival."
   ]
  },
  {
   "cell_type": "markdown",
   "id": "615a303b",
   "metadata": {
    "papermill": {
     "duration": 0.020223,
     "end_time": "2022-08-29T20:02:44.624317",
     "exception": false,
     "start_time": "2022-08-29T20:02:44.604094",
     "status": "completed"
    },
    "tags": []
   },
   "source": [
    "### Embarked EDA"
   ]
  },
  {
   "cell_type": "code",
   "execution_count": 13,
   "id": "a825fcbe",
   "metadata": {
    "execution": {
     "iopub.execute_input": "2022-08-29T20:02:44.667988Z",
     "iopub.status.busy": "2022-08-29T20:02:44.667310Z",
     "iopub.status.idle": "2022-08-29T20:02:44.933409Z",
     "shell.execute_reply": "2022-08-29T20:02:44.932132Z"
    },
    "papermill": {
     "duration": 0.29115,
     "end_time": "2022-08-29T20:02:44.936201",
     "exception": false,
     "start_time": "2022-08-29T20:02:44.645051",
     "status": "completed"
    },
    "tags": []
   },
   "outputs": [
    {
     "data": {
      "image/png": "[encoded data removed]",
      "text/plain": [
       "<Figure size 360x360 with 1 Axes>"
      ]
     },
     "metadata": {
      "needs_background": "light"
     },
     "output_type": "display_data"
    }
   ],
   "source": [
    "# Embarked\n",
    "sns.catplot(x='Embarked', data=train_df, kind='count').set(title='Embarked')\n",
    "plt.show()"
   ]
  },
  {
   "cell_type": "code",
   "execution_count": 14,
   "id": "195a70ec",
   "metadata": {
    "execution": {
     "iopub.execute_input": "2022-08-29T20:02:44.979962Z",
     "iopub.status.busy": "2022-08-29T20:02:44.979492Z",
     "iopub.status.idle": "2022-08-29T20:02:45.340665Z",
     "shell.execute_reply": "2022-08-29T20:02:45.339485Z"
    },
    "papermill": {
     "duration": 0.38644,
     "end_time": "2022-08-29T20:02:45.343444",
     "exception": false,
     "start_time": "2022-08-29T20:02:44.957004",
     "status": "completed"
    },
    "tags": []
   },
   "outputs": [
    {
     "data": {
      "image/png": "[encoded data removed]",
      "text/plain": [
       "<Figure size 411.875x360 with 1 Axes>"
      ]
     },
     "metadata": {
      "needs_background": "light"
     },
     "output_type": "display_data"
    }
   ],
   "source": [
    "# Embarked and Survived\n",
    "sns.catplot(x='Embarked', hue='Survived', data=train_df, kind='count').set(title='Embarked and Survived')\n",
    "plt.show()"
   ]
  },
  {
   "cell_type": "markdown",
   "id": "68d4d9e8",
   "metadata": {
    "papermill": {
     "duration": 0.022317,
     "end_time": "2022-08-29T20:02:45.387205",
     "exception": false,
     "start_time": "2022-08-29T20:02:45.364888",
     "status": "completed"
    },
    "tags": []
   },
   "source": [
    "Embarked may be correlated with Pclass."
   ]
  },
  {
   "cell_type": "code",
   "execution_count": 15,
   "id": "6be5083b",
   "metadata": {
    "execution": {
     "iopub.execute_input": "2022-08-29T20:02:45.434085Z",
     "iopub.status.busy": "2022-08-29T20:02:45.433254Z",
     "iopub.status.idle": "2022-08-29T20:02:45.817778Z",
     "shell.execute_reply": "2022-08-29T20:02:45.816793Z"
    },
    "papermill": {
     "duration": 0.410766,
     "end_time": "2022-08-29T20:02:45.820299",
     "exception": false,
     "start_time": "2022-08-29T20:02:45.409533",
     "status": "completed"
    },
    "tags": []
   },
   "outputs": [
    {
     "data": {
      "image/png": "[encoded data removed]",
      "text/plain": [
       "<Figure size 402.375x360 with 1 Axes>"
      ]
     },
     "metadata": {
      "needs_background": "light"
     },
     "output_type": "display_data"
    }
   ],
   "source": [
    "# Embarked and Pclass\n",
    "sns.catplot(x='Embarked', hue='Pclass', data=train_df, kind='count').set(title='Embarked and Pclass')\n",
    "plt.show()"
   ]
  },
  {
   "cell_type": "markdown",
   "id": "92f88342",
   "metadata": {
    "papermill": {
     "duration": 0.021551,
     "end_time": "2022-08-29T20:02:45.863130",
     "exception": false,
     "start_time": "2022-08-29T20:02:45.841579",
     "status": "completed"
    },
    "tags": []
   },
   "source": [
    "S is disproportionately 3rd class. I would consider this a spurious correlation as Pclass is likely the underlying structure driving survival here."
   ]
  },
  {
   "cell_type": "markdown",
   "id": "f591c1e2",
   "metadata": {
    "papermill": {
     "duration": 0.021666,
     "end_time": "2022-08-29T20:02:45.907233",
     "exception": false,
     "start_time": "2022-08-29T20:02:45.885567",
     "status": "completed"
    },
    "tags": []
   },
   "source": [
    "## Quantitative EDA"
   ]
  },
  {
   "cell_type": "code",
   "execution_count": 16,
   "id": "b2a4483a",
   "metadata": {
    "execution": {
     "iopub.execute_input": "2022-08-29T20:02:45.953566Z",
     "iopub.status.busy": "2022-08-29T20:02:45.952364Z",
     "iopub.status.idle": "2022-08-29T20:02:45.987890Z",
     "shell.execute_reply": "2022-08-29T20:02:45.986880Z"
    },
    "papermill": {
     "duration": 0.061913,
     "end_time": "2022-08-29T20:02:45.990508",
     "exception": false,
     "start_time": "2022-08-29T20:02:45.928595",
     "status": "completed"
    },
    "tags": []
   },
   "outputs": [
    {
     "data": {
      "text/html": [
       "<div>\n",
       "<style scoped>\n",
       "    .dataframe tbody tr th:only-of-type {\n",
       "        vertical-align: middle;\n",
       "    }\n",
       "\n",
       "    .dataframe tbody tr th {\n",
       "        vertical-align: top;\n",
       "    }\n",
       "\n",
       "    .dataframe thead th {\n",
       "        text-align: right;\n",
       "    }\n",
       "</style>\n",
       "<table border=\"1\" class=\"dataframe\">\n",
       "  <thead>\n",
       "    <tr style=\"text-align: right;\">\n",
       "      <th></th>\n",
       "      <th>PassengerId</th>\n",
       "      <th>Survived</th>\n",
       "      <th>Pclass</th>\n",
       "      <th>Age</th>\n",
       "      <th>SibSp</th>\n",
       "      <th>Parch</th>\n",
       "      <th>Fare</th>\n",
       "    </tr>\n",
       "  </thead>\n",
       "  <tbody>\n",
       "    <tr>\n",
       "      <th>count</th>\n",
       "      <td>891.000000</td>\n",
       "      <td>891.000000</td>\n",
       "      <td>891.000000</td>\n",
       "      <td>714.000000</td>\n",
       "      <td>891.000000</td>\n",
       "      <td>891.000000</td>\n",
       "      <td>891.000000</td>\n",
       "    </tr>\n",
       "    <tr>\n",
       "      <th>mean</th>\n",
       "      <td>446.000000</td>\n",
       "      <td>0.383838</td>\n",
       "      <td>2.308642</td>\n",
       "      <td>29.699118</td>\n",
       "      <td>0.523008</td>\n",
       "      <td>0.381594</td>\n",
       "      <td>32.204208</td>\n",
       "    </tr>\n",
       "    <tr>\n",
       "      <th>std</th>\n",
       "      <td>257.353842</td>\n",
       "      <td>0.486592</td>\n",
       "      <td>0.836071</td>\n",
       "      <td>14.526497</td>\n",
       "      <td>1.102743</td>\n",
       "      <td>0.806057</td>\n",
       "      <td>49.693429</td>\n",
       "    </tr>\n",
       "    <tr>\n",
       "      <th>min</th>\n",
       "      <td>1.000000</td>\n",
       "      <td>0.000000</td>\n",
       "      <td>1.000000</td>\n",
       "      <td>0.420000</td>\n",
       "      <td>0.000000</td>\n",
       "      <td>0.000000</td>\n",
       "      <td>0.000000</td>\n",
       "    </tr>\n",
       "    <tr>\n",
       "      <th>25%</th>\n",
       "      <td>223.500000</td>\n",
       "      <td>0.000000</td>\n",
       "      <td>2.000000</td>\n",
       "      <td>20.125000</td>\n",
       "      <td>0.000000</td>\n",
       "      <td>0.000000</td>\n",
       "      <td>7.910400</td>\n",
       "    </tr>\n",
       "    <tr>\n",
       "      <th>50%</th>\n",
       "      <td>446.000000</td>\n",
       "      <td>0.000000</td>\n",
       "      <td>3.000000</td>\n",
       "      <td>28.000000</td>\n",
       "      <td>0.000000</td>\n",
       "      <td>0.000000</td>\n",
       "      <td>14.454200</td>\n",
       "    </tr>\n",
       "    <tr>\n",
       "      <th>75%</th>\n",
       "      <td>668.500000</td>\n",
       "      <td>1.000000</td>\n",
       "      <td>3.000000</td>\n",
       "      <td>38.000000</td>\n",
       "      <td>1.000000</td>\n",
       "      <td>0.000000</td>\n",
       "      <td>31.000000</td>\n",
       "    </tr>\n",
       "    <tr>\n",
       "      <th>max</th>\n",
       "      <td>891.000000</td>\n",
       "      <td>1.000000</td>\n",
       "      <td>3.000000</td>\n",
       "      <td>80.000000</td>\n",
       "      <td>8.000000</td>\n",
       "      <td>6.000000</td>\n",
       "      <td>512.329200</td>\n",
       "    </tr>\n",
       "  </tbody>\n",
       "</table>\n",
       "</div>"
      ],
      "text/plain": [
       "       PassengerId    Survived      Pclass         Age       SibSp  \\\n",
       "count   891.000000  891.000000  891.000000  714.000000  891.000000   \n",
       "mean    446.000000    0.383838    2.308642   29.699118    0.523008   \n",
       "std     257.353842    0.486592    0.836071   14.526497    1.102743   \n",
       "min       1.000000    0.000000    1.000000    0.420000    0.000000   \n",
       "25%     223.500000    0.000000    2.000000   20.125000    0.000000   \n",
       "50%     446.000000    0.000000    3.000000   28.000000    0.000000   \n",
       "75%     668.500000    1.000000    3.000000   38.000000    1.000000   \n",
       "max     891.000000    1.000000    3.000000   80.000000    8.000000   \n",
       "\n",
       "            Parch        Fare  \n",
       "count  891.000000  891.000000  \n",
       "mean     0.381594   32.204208  \n",
       "std      0.806057   49.693429  \n",
       "min      0.000000    0.000000  \n",
       "25%      0.000000    7.910400  \n",
       "50%      0.000000   14.454200  \n",
       "75%      0.000000   31.000000  \n",
       "max      6.000000  512.329200  "
      ]
     },
     "execution_count": 16,
     "metadata": {},
     "output_type": "execute_result"
    }
   ],
   "source": [
    "# basic distributions of train_df\n",
    "train_df.describe()"
   ]
  },
  {
   "cell_type": "code",
   "execution_count": 17,
   "id": "60613118",
   "metadata": {
    "execution": {
     "iopub.execute_input": "2022-08-29T20:02:46.036773Z",
     "iopub.status.busy": "2022-08-29T20:02:46.035941Z",
     "iopub.status.idle": "2022-08-29T20:02:46.068992Z",
     "shell.execute_reply": "2022-08-29T20:02:46.067923Z"
    },
    "papermill": {
     "duration": 0.059312,
     "end_time": "2022-08-29T20:02:46.071884",
     "exception": false,
     "start_time": "2022-08-29T20:02:46.012572",
     "status": "completed"
    },
    "tags": []
   },
   "outputs": [
    {
     "data": {
      "text/html": [
       "<div>\n",
       "<style scoped>\n",
       "    .dataframe tbody tr th:only-of-type {\n",
       "        vertical-align: middle;\n",
       "    }\n",
       "\n",
       "    .dataframe tbody tr th {\n",
       "        vertical-align: top;\n",
       "    }\n",
       "\n",
       "    .dataframe thead th {\n",
       "        text-align: right;\n",
       "    }\n",
       "</style>\n",
       "<table border=\"1\" class=\"dataframe\">\n",
       "  <thead>\n",
       "    <tr style=\"text-align: right;\">\n",
       "      <th></th>\n",
       "      <th>PassengerId</th>\n",
       "      <th>Pclass</th>\n",
       "      <th>Age</th>\n",
       "      <th>SibSp</th>\n",
       "      <th>Parch</th>\n",
       "      <th>Fare</th>\n",
       "    </tr>\n",
       "  </thead>\n",
       "  <tbody>\n",
       "    <tr>\n",
       "      <th>count</th>\n",
       "      <td>418.000000</td>\n",
       "      <td>418.000000</td>\n",
       "      <td>332.000000</td>\n",
       "      <td>418.000000</td>\n",
       "      <td>418.000000</td>\n",
       "      <td>417.000000</td>\n",
       "    </tr>\n",
       "    <tr>\n",
       "      <th>mean</th>\n",
       "      <td>1100.500000</td>\n",
       "      <td>2.265550</td>\n",
       "      <td>30.272590</td>\n",
       "      <td>0.447368</td>\n",
       "      <td>0.392344</td>\n",
       "      <td>35.627188</td>\n",
       "    </tr>\n",
       "    <tr>\n",
       "      <th>std</th>\n",
       "      <td>120.810458</td>\n",
       "      <td>0.841838</td>\n",
       "      <td>14.181209</td>\n",
       "      <td>0.896760</td>\n",
       "      <td>0.981429</td>\n",
       "      <td>55.907576</td>\n",
       "    </tr>\n",
       "    <tr>\n",
       "      <th>min</th>\n",
       "      <td>892.000000</td>\n",
       "      <td>1.000000</td>\n",
       "      <td>0.170000</td>\n",
       "      <td>0.000000</td>\n",
       "      <td>0.000000</td>\n",
       "      <td>0.000000</td>\n",
       "    </tr>\n",
       "    <tr>\n",
       "      <th>25%</th>\n",
       "      <td>996.250000</td>\n",
       "      <td>1.000000</td>\n",
       "      <td>21.000000</td>\n",
       "      <td>0.000000</td>\n",
       "      <td>0.000000</td>\n",
       "      <td>7.895800</td>\n",
       "    </tr>\n",
       "    <tr>\n",
       "      <th>50%</th>\n",
       "      <td>1100.500000</td>\n",
       "      <td>3.000000</td>\n",
       "      <td>27.000000</td>\n",
       "      <td>0.000000</td>\n",
       "      <td>0.000000</td>\n",
       "      <td>14.454200</td>\n",
       "    </tr>\n",
       "    <tr>\n",
       "      <th>75%</th>\n",
       "      <td>1204.750000</td>\n",
       "      <td>3.000000</td>\n",
       "      <td>39.000000</td>\n",
       "      <td>1.000000</td>\n",
       "      <td>0.000000</td>\n",
       "      <td>31.500000</td>\n",
       "    </tr>\n",
       "    <tr>\n",
       "      <th>max</th>\n",
       "      <td>1309.000000</td>\n",
       "      <td>3.000000</td>\n",
       "      <td>76.000000</td>\n",
       "      <td>8.000000</td>\n",
       "      <td>9.000000</td>\n",
       "      <td>512.329200</td>\n",
       "    </tr>\n",
       "  </tbody>\n",
       "</table>\n",
       "</div>"
      ],
      "text/plain": [
       "       PassengerId      Pclass         Age       SibSp       Parch        Fare\n",
       "count   418.000000  418.000000  332.000000  418.000000  418.000000  417.000000\n",
       "mean   1100.500000    2.265550   30.272590    0.447368    0.392344   35.627188\n",
       "std     120.810458    0.841838   14.181209    0.896760    0.981429   55.907576\n",
       "min     892.000000    1.000000    0.170000    0.000000    0.000000    0.000000\n",
       "25%     996.250000    1.000000   21.000000    0.000000    0.000000    7.895800\n",
       "50%    1100.500000    3.000000   27.000000    0.000000    0.000000   14.454200\n",
       "75%    1204.750000    3.000000   39.000000    1.000000    0.000000   31.500000\n",
       "max    1309.000000    3.000000   76.000000    8.000000    9.000000  512.329200"
      ]
     },
     "execution_count": 17,
     "metadata": {},
     "output_type": "execute_result"
    }
   ],
   "source": [
    "# basic distributions of test_df\n",
    "test_df.describe()"
   ]
  },
  {
   "cell_type": "markdown",
   "id": "dd2e4fde",
   "metadata": {
    "papermill": {
     "duration": 0.021579,
     "end_time": "2022-08-29T20:02:46.118174",
     "exception": false,
     "start_time": "2022-08-29T20:02:46.096595",
     "status": "completed"
    },
    "tags": []
   },
   "source": [
    "### Age EDA"
   ]
  },
  {
   "cell_type": "code",
   "execution_count": 18,
   "id": "35d49330",
   "metadata": {
    "execution": {
     "iopub.execute_input": "2022-08-29T20:02:46.164046Z",
     "iopub.status.busy": "2022-08-29T20:02:46.163232Z",
     "iopub.status.idle": "2022-08-29T20:02:46.371014Z",
     "shell.execute_reply": "2022-08-29T20:02:46.369346Z"
    },
    "papermill": {
     "duration": 0.234113,
     "end_time": "2022-08-29T20:02:46.374050",
     "exception": false,
     "start_time": "2022-08-29T20:02:46.139937",
     "status": "completed"
    },
    "tags": []
   },
   "outputs": [
    {
     "data": {
      "image/png": "[encoded data removed]",
      "text/plain": [
       "<Figure size 432x288 with 1 Axes>"
      ]
     },
     "metadata": {
      "needs_background": "light"
     },
     "output_type": "display_data"
    }
   ],
   "source": [
    "# Survived and Age\n",
    "sns.boxplot(x='Survived', y='Age', data=train_df).set(title='Survived and Age')\n",
    "plt.show()"
   ]
  },
  {
   "cell_type": "code",
   "execution_count": 19,
   "id": "557951ed",
   "metadata": {
    "execution": {
     "iopub.execute_input": "2022-08-29T20:02:46.420874Z",
     "iopub.status.busy": "2022-08-29T20:02:46.419638Z",
     "iopub.status.idle": "2022-08-29T20:02:46.644177Z",
     "shell.execute_reply": "2022-08-29T20:02:46.642722Z"
    },
    "papermill": {
     "duration": 0.251101,
     "end_time": "2022-08-29T20:02:46.647228",
     "exception": false,
     "start_time": "2022-08-29T20:02:46.396127",
     "status": "completed"
    },
    "tags": []
   },
   "outputs": [
    {
     "data": {
      "image/png": "[encoded data removed]",
      "text/plain": [
       "<Figure size 432x288 with 1 Axes>"
      ]
     },
     "metadata": {
      "needs_background": "light"
     },
     "output_type": "display_data"
    }
   ],
   "source": [
    "# Pclass and Age\n",
    "sns.boxplot(x='Pclass', y='Age', data=train_df).set(title='Pclass and Age')\n",
    "plt.show()"
   ]
  },
  {
   "cell_type": "markdown",
   "id": "805a7ade",
   "metadata": {
    "papermill": {
     "duration": 0.022179,
     "end_time": "2022-08-29T20:02:46.692029",
     "exception": false,
     "start_time": "2022-08-29T20:02:46.669850",
     "status": "completed"
    },
    "tags": []
   },
   "source": [
    "1st class is older than second class which is older than 3rd class on average. Second class has fewer children."
   ]
  },
  {
   "cell_type": "code",
   "execution_count": 20,
   "id": "3dcc7875",
   "metadata": {
    "execution": {
     "iopub.execute_input": "2022-08-29T20:02:46.739963Z",
     "iopub.status.busy": "2022-08-29T20:02:46.739077Z",
     "iopub.status.idle": "2022-08-29T20:02:46.950434Z",
     "shell.execute_reply": "2022-08-29T20:02:46.948699Z"
    },
    "papermill": {
     "duration": 0.238581,
     "end_time": "2022-08-29T20:02:46.953255",
     "exception": false,
     "start_time": "2022-08-29T20:02:46.714674",
     "status": "completed"
    },
    "tags": []
   },
   "outputs": [
    {
     "data": {
      "image/png": "[encoded data removed]",
      "text/plain": [
       "<Figure size 432x288 with 1 Axes>"
      ]
     },
     "metadata": {
      "needs_background": "light"
     },
     "output_type": "display_data"
    }
   ],
   "source": [
    "# Sex and Age\n",
    "sns.boxplot(x='Sex', y='Age', data=train_df).set(title='Sex and Age')\n",
    "plt.show()"
   ]
  },
  {
   "cell_type": "markdown",
   "id": "db705aa2",
   "metadata": {
    "papermill": {
     "duration": 0.023503,
     "end_time": "2022-08-29T20:02:47.000508",
     "exception": false,
     "start_time": "2022-08-29T20:02:46.977005",
     "status": "completed"
    },
    "tags": []
   },
   "source": [
    "Men were slightly older in general and had all the elderly individuals."
   ]
  },
  {
   "cell_type": "markdown",
   "id": "16842231",
   "metadata": {
    "papermill": {
     "duration": 0.022276,
     "end_time": "2022-08-29T20:02:47.046461",
     "exception": false,
     "start_time": "2022-08-29T20:02:47.024185",
     "status": "completed"
    },
    "tags": []
   },
   "source": [
    "---\n",
    "# Modeling"
   ]
  },
  {
   "cell_type": "code",
   "execution_count": 21,
   "id": "707774fb",
   "metadata": {
    "execution": {
     "iopub.execute_input": "2022-08-29T20:02:47.097113Z",
     "iopub.status.busy": "2022-08-29T20:02:47.096658Z",
     "iopub.status.idle": "2022-08-29T20:02:47.114368Z",
     "shell.execute_reply": "2022-08-29T20:02:47.112932Z"
    },
    "papermill": {
     "duration": 0.045796,
     "end_time": "2022-08-29T20:02:47.117665",
     "exception": false,
     "start_time": "2022-08-29T20:02:47.071869",
     "status": "completed"
    },
    "tags": []
   },
   "outputs": [
    {
     "name": "stdout",
     "output_type": "stream",
     "text": [
      "<class 'pandas.core.frame.DataFrame'>\n",
      "RangeIndex: 891 entries, 0 to 890\n",
      "Data columns (total 12 columns):\n",
      " #   Column       Non-Null Count  Dtype  \n",
      "---  ------       --------------  -----  \n",
      " 0   PassengerId  891 non-null    int64  \n",
      " 1   Survived     891 non-null    int64  \n",
      " 2   Pclass       891 non-null    int64  \n",
      " 3   Name         891 non-null    object \n",
      " 4   Sex          891 non-null    object \n",
      " 5   Age          714 non-null    float64\n",
      " 6   SibSp        891 non-null    int64  \n",
      " 7   Parch        891 non-null    int64  \n",
      " 8   Ticket       891 non-null    object \n",
      " 9   Fare         891 non-null    float64\n",
      " 10  Cabin        204 non-null    object \n",
      " 11  Embarked     889 non-null    object \n",
      "dtypes: float64(2), int64(5), object(5)\n",
      "memory usage: 83.7+ KB\n"
     ]
    }
   ],
   "source": [
    "train_df.info()"
   ]
  },
  {
   "cell_type": "code",
   "execution_count": 22,
   "id": "cc4325de",
   "metadata": {
    "execution": {
     "iopub.execute_input": "2022-08-29T20:02:47.168742Z",
     "iopub.status.busy": "2022-08-29T20:02:47.167536Z",
     "iopub.status.idle": "2022-08-29T20:02:47.181091Z",
     "shell.execute_reply": "2022-08-29T20:02:47.180067Z"
    },
    "papermill": {
     "duration": 0.04191,
     "end_time": "2022-08-29T20:02:47.184320",
     "exception": false,
     "start_time": "2022-08-29T20:02:47.142410",
     "status": "completed"
    },
    "tags": []
   },
   "outputs": [
    {
     "name": "stdout",
     "output_type": "stream",
     "text": [
      "<class 'pandas.core.frame.DataFrame'>\n",
      "RangeIndex: 418 entries, 0 to 417\n",
      "Data columns (total 11 columns):\n",
      " #   Column       Non-Null Count  Dtype  \n",
      "---  ------       --------------  -----  \n",
      " 0   PassengerId  418 non-null    int64  \n",
      " 1   Pclass       418 non-null    int64  \n",
      " 2   Name         418 non-null    object \n",
      " 3   Sex          418 non-null    object \n",
      " 4   Age          332 non-null    float64\n",
      " 5   SibSp        418 non-null    int64  \n",
      " 6   Parch        418 non-null    int64  \n",
      " 7   Ticket       418 non-null    object \n",
      " 8   Fare         417 non-null    float64\n",
      " 9   Cabin        91 non-null     object \n",
      " 10  Embarked     418 non-null    object \n",
      "dtypes: float64(2), int64(4), object(5)\n",
      "memory usage: 36.0+ KB\n"
     ]
    }
   ],
   "source": [
    "test_df.info()"
   ]
  },
  {
   "cell_type": "markdown",
   "id": "2973197b",
   "metadata": {
    "papermill": {
     "duration": 0.022386,
     "end_time": "2022-08-29T20:02:47.230020",
     "exception": false,
     "start_time": "2022-08-29T20:02:47.207634",
     "status": "completed"
    },
    "tags": []
   },
   "source": [
    "## Null Imputation\n",
    "The following columns have nulls in the train_df\n",
    "\n",
    "* Age\n",
    "* Cabin\n",
    "* Embarked\n",
    "\n",
    "The following columns have nulls in the test_df\n",
    "\n",
    "* Age\n",
    "* Fare\n",
    "* Cabin"
   ]
  },
  {
   "cell_type": "code",
   "execution_count": 23,
   "id": "2411e969",
   "metadata": {
    "execution": {
     "iopub.execute_input": "2022-08-29T20:02:47.278542Z",
     "iopub.status.busy": "2022-08-29T20:02:47.277566Z",
     "iopub.status.idle": "2022-08-29T20:02:47.282972Z",
     "shell.execute_reply": "2022-08-29T20:02:47.281928Z"
    },
    "papermill": {
     "duration": 0.032585,
     "end_time": "2022-08-29T20:02:47.285634",
     "exception": false,
     "start_time": "2022-08-29T20:02:47.253049",
     "status": "completed"
    },
    "tags": []
   },
   "outputs": [],
   "source": [
    "# make copies of original data\n",
    "e_train_df = train_df.copy()\n",
    "e_test_df = test_df.copy()"
   ]
  },
  {
   "cell_type": "code",
   "execution_count": 24,
   "id": "51802f07",
   "metadata": {
    "execution": {
     "iopub.execute_input": "2022-08-29T20:02:47.333901Z",
     "iopub.status.busy": "2022-08-29T20:02:47.333138Z",
     "iopub.status.idle": "2022-08-29T20:02:47.342849Z",
     "shell.execute_reply": "2022-08-29T20:02:47.341647Z"
    },
    "papermill": {
     "duration": 0.036975,
     "end_time": "2022-08-29T20:02:47.345542",
     "exception": false,
     "start_time": "2022-08-29T20:02:47.308567",
     "status": "completed"
    },
    "tags": []
   },
   "outputs": [],
   "source": [
    "# categorical impute\n",
    "e_train_df['Cabin'] = e_train_df['Cabin'].fillna('Missing') \n",
    "e_train_df['Embarked'] = e_train_df['Embarked'].fillna(e_train_df['Embarked'].mode()[0])\n",
    "\n",
    "e_test_df['Cabin'] = e_test_df['Cabin'].fillna('Missing')\n",
    "e_test_df['Embarked'] = e_test_df['Embarked'].fillna(e_test_df['Embarked'].mode()[0])"
   ]
  },
  {
   "cell_type": "code",
   "execution_count": 25,
   "id": "7dc97a68",
   "metadata": {
    "execution": {
     "iopub.execute_input": "2022-08-29T20:02:47.395369Z",
     "iopub.status.busy": "2022-08-29T20:02:47.394707Z",
     "iopub.status.idle": "2022-08-29T20:02:47.581740Z",
     "shell.execute_reply": "2022-08-29T20:02:47.580287Z"
    },
    "papermill": {
     "duration": 0.215629,
     "end_time": "2022-08-29T20:02:47.584574",
     "exception": false,
     "start_time": "2022-08-29T20:02:47.368945",
     "status": "completed"
    },
    "tags": []
   },
   "outputs": [
    {
     "data": {
      "image/png": "[encoded data removed]",
      "text/plain": [
       "<Figure size 432x288 with 1 Axes>"
      ]
     },
     "metadata": {
      "needs_background": "light"
     },
     "output_type": "display_data"
    }
   ],
   "source": [
    "# checking Age for distribution and outliers\n",
    "sns.boxplot(x='Age', data=train_df).set(title='Age Distribution')\n",
    "plt.show()"
   ]
  },
  {
   "cell_type": "code",
   "execution_count": 26,
   "id": "c67ebe9a",
   "metadata": {
    "execution": {
     "iopub.execute_input": "2022-08-29T20:02:47.633706Z",
     "iopub.status.busy": "2022-08-29T20:02:47.633291Z",
     "iopub.status.idle": "2022-08-29T20:02:47.805289Z",
     "shell.execute_reply": "2022-08-29T20:02:47.803840Z"
    },
    "papermill": {
     "duration": 0.198973,
     "end_time": "2022-08-29T20:02:47.808055",
     "exception": false,
     "start_time": "2022-08-29T20:02:47.609082",
     "status": "completed"
    },
    "tags": []
   },
   "outputs": [
    {
     "data": {
      "image/png": "[encoded data removed]",
      "text/plain": [
       "<Figure size 432x288 with 1 Axes>"
      ]
     },
     "metadata": {
      "needs_background": "light"
     },
     "output_type": "display_data"
    }
   ],
   "source": [
    "# checking Fare for distribution and outliers\n",
    "sns.boxplot(x='Fare', data=train_df).set(title='Fare Distribution')\n",
    "plt.show()"
   ]
  },
  {
   "cell_type": "markdown",
   "id": "b44e3e10",
   "metadata": {
    "papermill": {
     "duration": 0.023114,
     "end_time": "2022-08-29T20:02:47.854450",
     "exception": false,
     "start_time": "2022-08-29T20:02:47.831336",
     "status": "completed"
    },
    "tags": []
   },
   "source": [
    "It appears that Age is relatively symmetrical and that Fare is right skewed. I will use mean imputation for Age and median imputation for Fare."
   ]
  },
  {
   "cell_type": "code",
   "execution_count": 27,
   "id": "19d9923c",
   "metadata": {
    "execution": {
     "iopub.execute_input": "2022-08-29T20:02:47.903460Z",
     "iopub.status.busy": "2022-08-29T20:02:47.902607Z",
     "iopub.status.idle": "2022-08-29T20:02:47.911862Z",
     "shell.execute_reply": "2022-08-29T20:02:47.910832Z"
    },
    "papermill": {
     "duration": 0.036779,
     "end_time": "2022-08-29T20:02:47.914410",
     "exception": false,
     "start_time": "2022-08-29T20:02:47.877631",
     "status": "completed"
    },
    "tags": []
   },
   "outputs": [],
   "source": [
    "# quantitative impute\n",
    "e_train_df['Age'] = e_train_df['Age'].fillna(e_train_df['Age'].mean())\n",
    "e_train_df['Fare'] = e_train_df['Fare'].fillna(e_train_df['Fare'].median())\n",
    "\n",
    "e_test_df['Age'] = e_test_df['Age'].fillna(e_test_df['Age'].mean())\n",
    "e_test_df['Fare'] = e_test_df['Fare'].fillna(e_test_df['Fare'].median())"
   ]
  },
  {
   "cell_type": "code",
   "execution_count": 28,
   "id": "ac47d6e5",
   "metadata": {
    "execution": {
     "iopub.execute_input": "2022-08-29T20:02:47.963703Z",
     "iopub.status.busy": "2022-08-29T20:02:47.962457Z",
     "iopub.status.idle": "2022-08-29T20:02:47.978072Z",
     "shell.execute_reply": "2022-08-29T20:02:47.976774Z"
    },
    "papermill": {
     "duration": 0.043564,
     "end_time": "2022-08-29T20:02:47.981459",
     "exception": false,
     "start_time": "2022-08-29T20:02:47.937895",
     "status": "completed"
    },
    "tags": []
   },
   "outputs": [
    {
     "name": "stdout",
     "output_type": "stream",
     "text": [
      "<class 'pandas.core.frame.DataFrame'>\n",
      "RangeIndex: 891 entries, 0 to 890\n",
      "Data columns (total 12 columns):\n",
      " #   Column       Non-Null Count  Dtype  \n",
      "---  ------       --------------  -----  \n",
      " 0   PassengerId  891 non-null    int64  \n",
      " 1   Survived     891 non-null    int64  \n",
      " 2   Pclass       891 non-null    int64  \n",
      " 3   Name         891 non-null    object \n",
      " 4   Sex          891 non-null    object \n",
      " 5   Age          891 non-null    float64\n",
      " 6   SibSp        891 non-null    int64  \n",
      " 7   Parch        891 non-null    int64  \n",
      " 8   Ticket       891 non-null    object \n",
      " 9   Fare         891 non-null    float64\n",
      " 10  Cabin        891 non-null    object \n",
      " 11  Embarked     891 non-null    object \n",
      "dtypes: float64(2), int64(5), object(5)\n",
      "memory usage: 83.7+ KB\n"
     ]
    }
   ],
   "source": [
    "# confirm the imputation worked\n",
    "e_train_df.info()"
   ]
  },
  {
   "cell_type": "code",
   "execution_count": 29,
   "id": "f16698f8",
   "metadata": {
    "execution": {
     "iopub.execute_input": "2022-08-29T20:02:48.031608Z",
     "iopub.status.busy": "2022-08-29T20:02:48.030437Z",
     "iopub.status.idle": "2022-08-29T20:02:48.044989Z",
     "shell.execute_reply": "2022-08-29T20:02:48.043568Z"
    },
    "papermill": {
     "duration": 0.042294,
     "end_time": "2022-08-29T20:02:48.048030",
     "exception": false,
     "start_time": "2022-08-29T20:02:48.005736",
     "status": "completed"
    },
    "tags": []
   },
   "outputs": [
    {
     "name": "stdout",
     "output_type": "stream",
     "text": [
      "<class 'pandas.core.frame.DataFrame'>\n",
      "RangeIndex: 418 entries, 0 to 417\n",
      "Data columns (total 11 columns):\n",
      " #   Column       Non-Null Count  Dtype  \n",
      "---  ------       --------------  -----  \n",
      " 0   PassengerId  418 non-null    int64  \n",
      " 1   Pclass       418 non-null    int64  \n",
      " 2   Name         418 non-null    object \n",
      " 3   Sex          418 non-null    object \n",
      " 4   Age          418 non-null    float64\n",
      " 5   SibSp        418 non-null    int64  \n",
      " 6   Parch        418 non-null    int64  \n",
      " 7   Ticket       418 non-null    object \n",
      " 8   Fare         418 non-null    float64\n",
      " 9   Cabin        418 non-null    object \n",
      " 10  Embarked     418 non-null    object \n",
      "dtypes: float64(2), int64(4), object(5)\n",
      "memory usage: 36.0+ KB\n"
     ]
    }
   ],
   "source": [
    "# confirm the imputation worked\n",
    "e_test_df.info()"
   ]
  },
  {
   "cell_type": "markdown",
   "id": "b02982c9",
   "metadata": {
    "papermill": {
     "duration": 0.022921,
     "end_time": "2022-08-29T20:02:48.094353",
     "exception": false,
     "start_time": "2022-08-29T20:02:48.071432",
     "status": "completed"
    },
    "tags": []
   },
   "source": [
    "## Feature Engineering"
   ]
  },
  {
   "cell_type": "markdown",
   "id": "472ed753",
   "metadata": {
    "papermill": {
     "duration": 0.022967,
     "end_time": "2022-08-29T20:02:48.140459",
     "exception": false,
     "start_time": "2022-08-29T20:02:48.117492",
     "status": "completed"
    },
    "tags": []
   },
   "source": [
    "### Age Bucket\n",
    "Bucket age into 'Child, 'Adult', 'Elderly'"
   ]
  },
  {
   "cell_type": "code",
   "execution_count": 30,
   "id": "3406e7f1",
   "metadata": {
    "execution": {
     "iopub.execute_input": "2022-08-29T20:02:48.188917Z",
     "iopub.status.busy": "2022-08-29T20:02:48.188472Z",
     "iopub.status.idle": "2022-08-29T20:02:48.202364Z",
     "shell.execute_reply": "2022-08-29T20:02:48.201012Z"
    },
    "papermill": {
     "duration": 0.041168,
     "end_time": "2022-08-29T20:02:48.204770",
     "exception": false,
     "start_time": "2022-08-29T20:02:48.163602",
     "status": "completed"
    },
    "tags": []
   },
   "outputs": [],
   "source": [
    "# age_bucket\n",
    "age_bins = [0, 18, 65, 100]\n",
    "age_labels = ['child','adult', 'elderly']\n",
    "\n",
    "e_train_df['age_bucket'] = pd.cut(x=e_train_df['Age'], bins=age_bins,\n",
    "                    labels=age_labels).astype('object')\n",
    "\n",
    "e_test_df['age_bucket'] = pd.cut(x=e_test_df['Age'], bins=age_bins,\n",
    "                    labels=age_labels).astype('object')"
   ]
  },
  {
   "cell_type": "code",
   "execution_count": 31,
   "id": "6d61d77e",
   "metadata": {
    "execution": {
     "iopub.execute_input": "2022-08-29T20:02:48.253468Z",
     "iopub.status.busy": "2022-08-29T20:02:48.252439Z",
     "iopub.status.idle": "2022-08-29T20:02:48.596958Z",
     "shell.execute_reply": "2022-08-29T20:02:48.595577Z"
    },
    "papermill": {
     "duration": 0.372092,
     "end_time": "2022-08-29T20:02:48.599907",
     "exception": false,
     "start_time": "2022-08-29T20:02:48.227815",
     "status": "completed"
    },
    "tags": []
   },
   "outputs": [
    {
     "data": {
      "image/png": "[encoded data removed]",
      "text/plain": [
       "<Figure size 411.875x360 with 1 Axes>"
      ]
     },
     "metadata": {
      "needs_background": "light"
     },
     "output_type": "display_data"
    }
   ],
   "source": [
    "# ship_location and survived\n",
    "sns.catplot(x='age_bucket', hue='Survived', data=e_train_df, kind='count').set(title='age_bucket and Survived')\n",
    "plt.show()"
   ]
  },
  {
   "cell_type": "markdown",
   "id": "a2c33c92",
   "metadata": {
    "papermill": {
     "duration": 0.02484,
     "end_time": "2022-08-29T20:02:48.653071",
     "exception": false,
     "start_time": "2022-08-29T20:02:48.628231",
     "status": "completed"
    },
    "tags": []
   },
   "source": [
    "Being either a child or elderly increased survival rate."
   ]
  },
  {
   "cell_type": "markdown",
   "id": "0207960f",
   "metadata": {
    "papermill": {
     "duration": 0.024385,
     "end_time": "2022-08-29T20:02:48.707917",
     "exception": false,
     "start_time": "2022-08-29T20:02:48.683532",
     "status": "completed"
    },
    "tags": []
   },
   "source": [
    "### Role\n",
    "I noticed in examining the data that certain names have titles (Mr, Ms, Don, Capt, etc.) and I want to bucket these into roles."
   ]
  },
  {
   "cell_type": "code",
   "execution_count": 32,
   "id": "9e5cb729",
   "metadata": {
    "execution": {
     "iopub.execute_input": "2022-08-29T20:02:48.772721Z",
     "iopub.status.busy": "2022-08-29T20:02:48.771773Z",
     "iopub.status.idle": "2022-08-29T20:02:48.799680Z",
     "shell.execute_reply": "2022-08-29T20:02:48.798337Z"
    },
    "papermill": {
     "duration": 0.063835,
     "end_time": "2022-08-29T20:02:48.802603",
     "exception": false,
     "start_time": "2022-08-29T20:02:48.738768",
     "status": "completed"
    },
    "tags": []
   },
   "outputs": [],
   "source": [
    "# extract titles\n",
    "e_train_df[['last_name','intermediate']] = e_train_df['Name'].str.split(', ', expand=True)\n",
    "e_train_df[['title','first_name']] = e_train_df['intermediate'].str.split('.', 1, expand=True)\n",
    "e_train_df = e_train_df.drop(columns=['last_name', 'intermediate', 'first_name'])\n",
    "\n",
    "e_test_df[['last_name','intermediate']] = e_test_df['Name'].str.split(', ', expand=True)\n",
    "e_test_df[['title','first_name']] = e_test_df['intermediate'].str.split('.', 1, expand=True)\n",
    "e_test_df = e_test_df.drop(columns=['last_name', 'intermediate', 'first_name'])"
   ]
  },
  {
   "cell_type": "code",
   "execution_count": 33,
   "id": "f7244cad",
   "metadata": {
    "execution": {
     "iopub.execute_input": "2022-08-29T20:02:48.854530Z",
     "iopub.status.busy": "2022-08-29T20:02:48.853502Z",
     "iopub.status.idle": "2022-08-29T20:02:48.864182Z",
     "shell.execute_reply": "2022-08-29T20:02:48.862941Z"
    },
    "papermill": {
     "duration": 0.04034,
     "end_time": "2022-08-29T20:02:48.867590",
     "exception": false,
     "start_time": "2022-08-29T20:02:48.827250",
     "status": "completed"
    },
    "tags": []
   },
   "outputs": [
    {
     "name": "stdout",
     "output_type": "stream",
     "text": [
      "['Capt', 'Col', 'Don', 'Dona', 'Dr', 'Jonkheer', 'Lady', 'Major', 'Master', 'Miss', 'Mlle', 'Mme', 'Mr', 'Mrs', 'Ms', 'Rev', 'Sir', 'the Countess']\n"
     ]
    }
   ],
   "source": [
    "# unique titles\n",
    "train_title_set = set(e_train_df['title'].tolist())\n",
    "test_title_set = set(e_test_df['title'].tolist())\n",
    "title_sorted = sorted(train_title_set.union(test_title_set))\n",
    "\n",
    "print(title_sorted)"
   ]
  },
  {
   "cell_type": "code",
   "execution_count": 34,
   "id": "9976104b",
   "metadata": {
    "execution": {
     "iopub.execute_input": "2022-08-29T20:02:48.921913Z",
     "iopub.status.busy": "2022-08-29T20:02:48.921206Z",
     "iopub.status.idle": "2022-08-29T20:02:48.959011Z",
     "shell.execute_reply": "2022-08-29T20:02:48.957938Z"
    },
    "papermill": {
     "duration": 0.066171,
     "end_time": "2022-08-29T20:02:48.961638",
     "exception": false,
     "start_time": "2022-08-29T20:02:48.895467",
     "status": "completed"
    },
    "tags": []
   },
   "outputs": [],
   "source": [
    "# assign titles to roles\n",
    "def assign_role(row):\n",
    "    if row['title'] in ['Capt', 'Col', 'Major']:\n",
    "        return 'officer'\n",
    "    elif row['title'] in ['Don', 'Dona', 'Dr', 'Jonkheer', 'Lady', 'Master', 'Rev', 'Sir', 'the Countess']:\n",
    "        return 'important'\n",
    "    elif row['title'] in ['Miss', 'Mlle', 'Mme', 'Mr', 'Mrs', 'Ms']:\n",
    "        return 'average'\n",
    "    \n",
    "e_train_df['role'] = e_train_df.apply(lambda row: assign_role(row), axis=1)\n",
    "e_test_df['role'] = e_test_df.apply(lambda row: assign_role(row), axis=1)"
   ]
  },
  {
   "cell_type": "code",
   "execution_count": 35,
   "id": "5f3cec31",
   "metadata": {
    "execution": {
     "iopub.execute_input": "2022-08-29T20:02:49.026251Z",
     "iopub.status.busy": "2022-08-29T20:02:49.025673Z",
     "iopub.status.idle": "2022-08-29T20:02:49.378569Z",
     "shell.execute_reply": "2022-08-29T20:02:49.377177Z"
    },
    "papermill": {
     "duration": 0.392201,
     "end_time": "2022-08-29T20:02:49.382240",
     "exception": false,
     "start_time": "2022-08-29T20:02:48.990039",
     "status": "completed"
    },
    "tags": []
   },
   "outputs": [
    {
     "data": {
      "image/png": "[encoded data removed]",
      "text/plain": [
       "<Figure size 411.875x360 with 1 Axes>"
      ]
     },
     "metadata": {
      "needs_background": "light"
     },
     "output_type": "display_data"
    }
   ],
   "source": [
    "# role and survived\n",
    "sns.catplot(x='role', hue='Survived', data=e_train_df, kind='count').set(title='Role and Survived')\n",
    "plt.show()"
   ]
  },
  {
   "cell_type": "markdown",
   "id": "7600406e",
   "metadata": {
    "papermill": {
     "duration": 0.0241,
     "end_time": "2022-08-29T20:02:49.430171",
     "exception": false,
     "start_time": "2022-08-29T20:02:49.406071",
     "status": "completed"
    },
    "tags": []
   },
   "source": [
    "Both \"important\" and \"officer\" roles appear to improve survival.\n"
   ]
  },
  {
   "cell_type": "markdown",
   "id": "c85d755e",
   "metadata": {
    "papermill": {
     "duration": 0.023439,
     "end_time": "2022-08-29T20:02:49.477493",
     "exception": false,
     "start_time": "2022-08-29T20:02:49.454054",
     "status": "completed"
    },
    "tags": []
   },
   "source": [
    "### Ship Location\n",
    "Ship location matters due to proximity to lifeboats and upper deck access.\n"
   ]
  },
  {
   "cell_type": "code",
   "execution_count": 36,
   "id": "854be0c6",
   "metadata": {
    "execution": {
     "iopub.execute_input": "2022-08-29T20:02:49.528134Z",
     "iopub.status.busy": "2022-08-29T20:02:49.527312Z",
     "iopub.status.idle": "2022-08-29T20:02:49.541706Z",
     "shell.execute_reply": "2022-08-29T20:02:49.540421Z"
    },
    "papermill": {
     "duration": 0.042373,
     "end_time": "2022-08-29T20:02:49.544220",
     "exception": false,
     "start_time": "2022-08-29T20:02:49.501847",
     "status": "completed"
    },
    "tags": []
   },
   "outputs": [
    {
     "data": {
      "text/html": [
       "<div>\n",
       "<style scoped>\n",
       "    .dataframe tbody tr th:only-of-type {\n",
       "        vertical-align: middle;\n",
       "    }\n",
       "\n",
       "    .dataframe tbody tr th {\n",
       "        vertical-align: top;\n",
       "    }\n",
       "\n",
       "    .dataframe thead th {\n",
       "        text-align: right;\n",
       "    }\n",
       "</style>\n",
       "<table border=\"1\" class=\"dataframe\">\n",
       "  <thead>\n",
       "    <tr style=\"text-align: right;\">\n",
       "      <th></th>\n",
       "      <th>Ticket</th>\n",
       "      <th>Cabin</th>\n",
       "    </tr>\n",
       "  </thead>\n",
       "  <tbody>\n",
       "    <tr>\n",
       "      <th>0</th>\n",
       "      <td>A/5 21171</td>\n",
       "      <td>Missing</td>\n",
       "    </tr>\n",
       "    <tr>\n",
       "      <th>1</th>\n",
       "      <td>PC 17599</td>\n",
       "      <td>C85</td>\n",
       "    </tr>\n",
       "    <tr>\n",
       "      <th>2</th>\n",
       "      <td>STON/O2. 3101282</td>\n",
       "      <td>Missing</td>\n",
       "    </tr>\n",
       "    <tr>\n",
       "      <th>3</th>\n",
       "      <td>113803</td>\n",
       "      <td>C123</td>\n",
       "    </tr>\n",
       "    <tr>\n",
       "      <th>4</th>\n",
       "      <td>373450</td>\n",
       "      <td>Missing</td>\n",
       "    </tr>\n",
       "    <tr>\n",
       "      <th>5</th>\n",
       "      <td>330877</td>\n",
       "      <td>Missing</td>\n",
       "    </tr>\n",
       "    <tr>\n",
       "      <th>6</th>\n",
       "      <td>17463</td>\n",
       "      <td>E46</td>\n",
       "    </tr>\n",
       "    <tr>\n",
       "      <th>7</th>\n",
       "      <td>349909</td>\n",
       "      <td>Missing</td>\n",
       "    </tr>\n",
       "    <tr>\n",
       "      <th>8</th>\n",
       "      <td>347742</td>\n",
       "      <td>Missing</td>\n",
       "    </tr>\n",
       "    <tr>\n",
       "      <th>9</th>\n",
       "      <td>237736</td>\n",
       "      <td>Missing</td>\n",
       "    </tr>\n",
       "  </tbody>\n",
       "</table>\n",
       "</div>"
      ],
      "text/plain": [
       "             Ticket    Cabin\n",
       "0         A/5 21171  Missing\n",
       "1          PC 17599      C85\n",
       "2  STON/O2. 3101282  Missing\n",
       "3            113803     C123\n",
       "4            373450  Missing\n",
       "5            330877  Missing\n",
       "6             17463      E46\n",
       "7            349909  Missing\n",
       "8            347742  Missing\n",
       "9            237736  Missing"
      ]
     },
     "execution_count": 36,
     "metadata": {},
     "output_type": "execute_result"
    }
   ],
   "source": [
    "# see if there is a connection between Ticket and Cabin\n",
    "e_train_df.loc[e_train_df['Cabin'].notnull(), ['Ticket', 'Cabin']].head(10)"
   ]
  },
  {
   "cell_type": "markdown",
   "id": "138ae49e",
   "metadata": {
    "papermill": {
     "duration": 0.023748,
     "end_time": "2022-08-29T20:02:49.591921",
     "exception": false,
     "start_time": "2022-08-29T20:02:49.568173",
     "status": "completed"
    },
    "tags": []
   },
   "source": [
    "Cabin itself is a high cardinality feature and ticket does not appear useful in any obvious way.\n",
    "\n",
    "We will try and extract ship_location using the Cabin's first letter."
   ]
  },
  {
   "cell_type": "code",
   "execution_count": 37,
   "id": "718067ed",
   "metadata": {
    "execution": {
     "iopub.execute_input": "2022-08-29T20:02:49.645802Z",
     "iopub.status.busy": "2022-08-29T20:02:49.644964Z",
     "iopub.status.idle": "2022-08-29T20:02:49.653439Z",
     "shell.execute_reply": "2022-08-29T20:02:49.651750Z"
    },
    "papermill": {
     "duration": 0.039964,
     "end_time": "2022-08-29T20:02:49.656285",
     "exception": false,
     "start_time": "2022-08-29T20:02:49.616321",
     "status": "completed"
    },
    "tags": []
   },
   "outputs": [
    {
     "name": "stdout",
     "output_type": "stream",
     "text": [
      "['A10', 'A11', 'A14', 'A16', 'A18', 'A19', 'A20', 'A21', 'A23', 'A24', 'A26', 'A29', 'A31', 'A32', 'A34', 'A36', 'A5', 'A6', 'A7', 'A9', 'B10', 'B101', 'B102', 'B11', 'B18', 'B19', 'B20', 'B22', 'B24', 'B26', 'B28', 'B3', 'B30', 'B35', 'B36', 'B37', 'B38', 'B39', 'B4', 'B41', 'B42', 'B45', 'B49', 'B5', 'B50', 'B51 B53 B55', 'B52 B54 B56', 'B57 B59 B63 B66', 'B58 B60', 'B61', 'B69', 'B71', 'B73', 'B77', 'B78', 'B79', 'B80', 'B82 B84', 'B86', 'B94', 'B96 B98', 'C101', 'C103', 'C104', 'C105', 'C106', 'C110', 'C111', 'C116', 'C118', 'C123', 'C124', 'C125', 'C126', 'C128', 'C130', 'C132', 'C148', 'C2', 'C22 C26', 'C23 C25 C27', 'C28', 'C30', 'C31', 'C32', 'C39', 'C45', 'C46', 'C47', 'C49', 'C50', 'C51', 'C52', 'C53', 'C54', 'C55 C57', 'C6', 'C62 C64', 'C65', 'C68', 'C7', 'C70', 'C78', 'C80', 'C82', 'C83', 'C85', 'C86', 'C87', 'C89', 'C90', 'C91', 'C92', 'C93', 'C95', 'C97', 'C99', 'D', 'D10 D12', 'D11', 'D15', 'D17', 'D19', 'D20', 'D21', 'D22', 'D26', 'D28', 'D30', 'D33', 'D34', 'D35', 'D36', 'D37', 'D38', 'D40', 'D43', 'D45', 'D46', 'D47', 'D48', 'D49', 'D50', 'D56', 'D6', 'D7', 'D9', 'E10', 'E101', 'E12', 'E121', 'E17', 'E24', 'E25', 'E31', 'E33', 'E34', 'E36', 'E38', 'E39 E41', 'E40', 'E44', 'E45', 'E46', 'E49', 'E50', 'E52', 'E58', 'E60', 'E63', 'E67', 'E68', 'E77', 'E8', 'F', 'F E46', 'F E57', 'F E69', 'F G63', 'F G73', 'F2', 'F33', 'F38', 'F4', 'G6', 'Missing', 'T']\n"
     ]
    }
   ],
   "source": [
    "# unique titles from each data set\n",
    "train_set = set(e_train_df['Cabin'].tolist())\n",
    "test_set = set(e_test_df['Cabin'].tolist())\n",
    "sorted_set = sorted(train_set.union(test_set))\n",
    "\n",
    "print(sorted_set)"
   ]
  },
  {
   "cell_type": "markdown",
   "id": "330b9f47",
   "metadata": {
    "papermill": {
     "duration": 0.024748,
     "end_time": "2022-08-29T20:02:49.705266",
     "exception": false,
     "start_time": "2022-08-29T20:02:49.680518",
     "status": "completed"
    },
    "tags": []
   },
   "source": [
    "Some passengers have multiple cabins, but they all appear to be in the same general ship_location."
   ]
  },
  {
   "cell_type": "code",
   "execution_count": 38,
   "id": "dd7d5aa9",
   "metadata": {
    "execution": {
     "iopub.execute_input": "2022-08-29T20:02:49.758796Z",
     "iopub.status.busy": "2022-08-29T20:02:49.757937Z",
     "iopub.status.idle": "2022-08-29T20:02:49.767421Z",
     "shell.execute_reply": "2022-08-29T20:02:49.766392Z"
    },
    "papermill": {
     "duration": 0.038332,
     "end_time": "2022-08-29T20:02:49.770174",
     "exception": false,
     "start_time": "2022-08-29T20:02:49.731842",
     "status": "completed"
    },
    "tags": []
   },
   "outputs": [],
   "source": [
    "# ship_location\n",
    "e_train_df['ship_location'] = e_train_df['Cabin'].astype(str).str[0]\n",
    "e_test_df['ship_location'] = e_test_df['Cabin'].astype(str).str[0]"
   ]
  },
  {
   "cell_type": "markdown",
   "id": "75c13ee4",
   "metadata": {
    "papermill": {
     "duration": 0.024318,
     "end_time": "2022-08-29T20:02:49.819776",
     "exception": false,
     "start_time": "2022-08-29T20:02:49.795458",
     "status": "completed"
    },
    "tags": []
   },
   "source": [
    "I want to see if how ship location relates to survival and Pclass."
   ]
  },
  {
   "cell_type": "code",
   "execution_count": 39,
   "id": "fe0c4aa6",
   "metadata": {
    "execution": {
     "iopub.execute_input": "2022-08-29T20:02:49.871800Z",
     "iopub.status.busy": "2022-08-29T20:02:49.870980Z",
     "iopub.status.idle": "2022-08-29T20:02:50.288381Z",
     "shell.execute_reply": "2022-08-29T20:02:50.287102Z"
    },
    "papermill": {
     "duration": 0.446297,
     "end_time": "2022-08-29T20:02:50.291030",
     "exception": false,
     "start_time": "2022-08-29T20:02:49.844733",
     "status": "completed"
    },
    "tags": []
   },
   "outputs": [
    {
     "data": {
      "image/png": "[encoded data removed]",
      "text/plain": [
       "<Figure size 411.875x360 with 1 Axes>"
      ]
     },
     "metadata": {
      "needs_background": "light"
     },
     "output_type": "display_data"
    }
   ],
   "source": [
    "# ship_location and survived\n",
    "sns.catplot(x='ship_location', hue='Survived', data=e_train_df, kind='count').set(title='ship_location and Survived')\n",
    "plt.show()"
   ]
  },
  {
   "cell_type": "markdown",
   "id": "c4434cfc",
   "metadata": {
    "papermill": {
     "duration": 0.02401,
     "end_time": "2022-08-29T20:02:50.339259",
     "exception": false,
     "start_time": "2022-08-29T20:02:50.315249",
     "status": "completed"
    },
    "tags": []
   },
   "source": [
    "Some locations appear to correlate with higher chances of survival.\n",
    "\n",
    "This also makes me think that passenger class correlates with having been assigned a cabin at all."
   ]
  },
  {
   "cell_type": "code",
   "execution_count": 40,
   "id": "d9db8999",
   "metadata": {
    "execution": {
     "iopub.execute_input": "2022-08-29T20:02:50.389997Z",
     "iopub.status.busy": "2022-08-29T20:02:50.389566Z",
     "iopub.status.idle": "2022-08-29T20:02:51.040185Z",
     "shell.execute_reply": "2022-08-29T20:02:51.038941Z"
    },
    "papermill": {
     "duration": 0.680021,
     "end_time": "2022-08-29T20:02:51.043509",
     "exception": false,
     "start_time": "2022-08-29T20:02:50.363488",
     "status": "completed"
    },
    "tags": []
   },
   "outputs": [
    {
     "data": {
      "image/png": "[encoded data removed]",
      "text/plain": [
       "<Figure size 402.375x360 with 1 Axes>"
      ]
     },
     "metadata": {
      "needs_background": "light"
     },
     "output_type": "display_data"
    }
   ],
   "source": [
    "# ship_location and Pclass\n",
    "sns.catplot(x='ship_location', hue='Pclass', data=e_train_df, kind='count').set(title='ship_location and Pclass')\n",
    "plt.show()"
   ]
  },
  {
   "cell_type": "markdown",
   "id": "e7a6d2df",
   "metadata": {
    "papermill": {
     "duration": 0.043746,
     "end_time": "2022-08-29T20:02:51.112432",
     "exception": false,
     "start_time": "2022-08-29T20:02:51.068686",
     "status": "completed"
    },
    "tags": []
   },
   "source": [
    "Pclass correlates with having been assigned a cabin."
   ]
  },
  {
   "cell_type": "markdown",
   "id": "6b75b521",
   "metadata": {
    "papermill": {
     "duration": 0.024442,
     "end_time": "2022-08-29T20:02:51.163177",
     "exception": false,
     "start_time": "2022-08-29T20:02:51.138735",
     "status": "completed"
    },
    "tags": []
   },
   "source": [
    "### Family Size\n",
    "Family size is total amount of siblings, spouses, parents and children."
   ]
  },
  {
   "cell_type": "code",
   "execution_count": 41,
   "id": "4ed7e4a2",
   "metadata": {
    "execution": {
     "iopub.execute_input": "2022-08-29T20:02:51.217500Z",
     "iopub.status.busy": "2022-08-29T20:02:51.216862Z",
     "iopub.status.idle": "2022-08-29T20:02:51.225256Z",
     "shell.execute_reply": "2022-08-29T20:02:51.223829Z"
    },
    "papermill": {
     "duration": 0.038476,
     "end_time": "2022-08-29T20:02:51.227733",
     "exception": false,
     "start_time": "2022-08-29T20:02:51.189257",
     "status": "completed"
    },
    "tags": []
   },
   "outputs": [],
   "source": [
    "# family_size\n",
    "e_train_df['family_size'] = e_train_df['SibSp'] + e_train_df['Parch']\n",
    "e_test_df['family_size'] = e_test_df['SibSp'] + e_test_df['Parch']"
   ]
  },
  {
   "cell_type": "markdown",
   "id": "6a8b1881",
   "metadata": {
    "papermill": {
     "duration": 0.025833,
     "end_time": "2022-08-29T20:02:51.279127",
     "exception": false,
     "start_time": "2022-08-29T20:02:51.253294",
     "status": "completed"
    },
    "tags": []
   },
   "source": [
    "I want to see how family_size relates to survival."
   ]
  },
  {
   "cell_type": "code",
   "execution_count": 42,
   "id": "6e64644d",
   "metadata": {
    "execution": {
     "iopub.execute_input": "2022-08-29T20:02:51.335919Z",
     "iopub.status.busy": "2022-08-29T20:02:51.335437Z",
     "iopub.status.idle": "2022-08-29T20:02:51.544143Z",
     "shell.execute_reply": "2022-08-29T20:02:51.542012Z"
    },
    "papermill": {
     "duration": 0.24168,
     "end_time": "2022-08-29T20:02:51.547624",
     "exception": false,
     "start_time": "2022-08-29T20:02:51.305944",
     "status": "completed"
    },
    "tags": []
   },
   "outputs": [
    {
     "data": {
      "image/png": "[encoded data removed]",
      "text/plain": [
       "<Figure size 432x288 with 1 Axes>"
      ]
     },
     "metadata": {
      "needs_background": "light"
     },
     "output_type": "display_data"
    }
   ],
   "source": [
    "# survival and family_size\n",
    "sns.boxplot(x='Survived', y='family_size', data=e_train_df).set(title='Survived and family_size')\n",
    "plt.show()"
   ]
  },
  {
   "cell_type": "markdown",
   "id": "c52b4b93",
   "metadata": {
    "papermill": {
     "duration": 0.024957,
     "end_time": "2022-08-29T20:02:51.598706",
     "exception": false,
     "start_time": "2022-08-29T20:02:51.573749",
     "status": "completed"
    },
    "tags": []
   },
   "source": [
    "It appears larger overall families survive more. This surprises me. Lets examine it further by treating it like a categorical variable."
   ]
  },
  {
   "cell_type": "code",
   "execution_count": 43,
   "id": "0c6cf991",
   "metadata": {
    "execution": {
     "iopub.execute_input": "2022-08-29T20:02:51.652064Z",
     "iopub.status.busy": "2022-08-29T20:02:51.651521Z",
     "iopub.status.idle": "2022-08-29T20:02:52.093524Z",
     "shell.execute_reply": "2022-08-29T20:02:52.092164Z"
    },
    "papermill": {
     "duration": 0.471687,
     "end_time": "2022-08-29T20:02:52.096121",
     "exception": false,
     "start_time": "2022-08-29T20:02:51.624434",
     "status": "completed"
    },
    "tags": []
   },
   "outputs": [
    {
     "data": {
      "image/png": "[encoded data removed]",
      "text/plain": [
       "<Figure size 411.875x360 with 1 Axes>"
      ]
     },
     "metadata": {
      "needs_background": "light"
     },
     "output_type": "display_data"
    }
   ],
   "source": [
    "# family_size and survived\n",
    "sns.catplot(x='family_size', hue='Survived', data=e_train_df, kind='count').set(title='Survived and family_size')\n",
    "plt.show()"
   ]
  },
  {
   "cell_type": "markdown",
   "id": "1dcca529",
   "metadata": {
    "papermill": {
     "duration": 0.024846,
     "end_time": "2022-08-29T20:02:52.146085",
     "exception": false,
     "start_time": "2022-08-29T20:02:52.121239",
     "status": "completed"
    },
    "tags": []
   },
   "source": [
    "Solo travelers and those with small families (3 or less) do better by far.\n",
    "\n"
   ]
  },
  {
   "cell_type": "code",
   "execution_count": 44,
   "id": "b0dda94b",
   "metadata": {
    "execution": {
     "iopub.execute_input": "2022-08-29T20:02:52.198513Z",
     "iopub.status.busy": "2022-08-29T20:02:52.197808Z",
     "iopub.status.idle": "2022-08-29T20:02:52.223114Z",
     "shell.execute_reply": "2022-08-29T20:02:52.222139Z"
    },
    "papermill": {
     "duration": 0.054569,
     "end_time": "2022-08-29T20:02:52.225672",
     "exception": false,
     "start_time": "2022-08-29T20:02:52.171103",
     "status": "completed"
    },
    "tags": []
   },
   "outputs": [],
   "source": [
    "# travel_solo\n",
    "e_train_df['travel_solo'] = e_train_df.apply(lambda row: 1 if row['family_size']==0 else 0, axis=1)\n",
    "e_test_df['travel_solo'] = e_test_df.apply(lambda row: 1 if row['family_size']==0 else 0, axis=1)"
   ]
  },
  {
   "cell_type": "markdown",
   "id": "3f06d125",
   "metadata": {
    "papermill": {
     "duration": 0.024773,
     "end_time": "2022-08-29T20:02:52.276108",
     "exception": false,
     "start_time": "2022-08-29T20:02:52.251335",
     "status": "completed"
    },
    "tags": []
   },
   "source": [
    "## Model Preparation"
   ]
  },
  {
   "cell_type": "code",
   "execution_count": 45,
   "id": "08410f92",
   "metadata": {
    "execution": {
     "iopub.execute_input": "2022-08-29T20:02:52.328689Z",
     "iopub.status.busy": "2022-08-29T20:02:52.327886Z",
     "iopub.status.idle": "2022-08-29T20:02:52.344030Z",
     "shell.execute_reply": "2022-08-29T20:02:52.342516Z"
    },
    "papermill": {
     "duration": 0.045831,
     "end_time": "2022-08-29T20:02:52.347140",
     "exception": false,
     "start_time": "2022-08-29T20:02:52.301309",
     "status": "completed"
    },
    "tags": []
   },
   "outputs": [
    {
     "name": "stdout",
     "output_type": "stream",
     "text": [
      "<class 'pandas.core.frame.DataFrame'>\n",
      "RangeIndex: 891 entries, 0 to 890\n",
      "Data columns (total 18 columns):\n",
      " #   Column         Non-Null Count  Dtype  \n",
      "---  ------         --------------  -----  \n",
      " 0   PassengerId    891 non-null    int64  \n",
      " 1   Survived       891 non-null    int64  \n",
      " 2   Pclass         891 non-null    int64  \n",
      " 3   Name           891 non-null    object \n",
      " 4   Sex            891 non-null    object \n",
      " 5   Age            891 non-null    float64\n",
      " 6   SibSp          891 non-null    int64  \n",
      " 7   Parch          891 non-null    int64  \n",
      " 8   Ticket         891 non-null    object \n",
      " 9   Fare           891 non-null    float64\n",
      " 10  Cabin          891 non-null    object \n",
      " 11  Embarked       891 non-null    object \n",
      " 12  age_bucket     891 non-null    object \n",
      " 13  title          891 non-null    object \n",
      " 14  role           891 non-null    object \n",
      " 15  ship_location  891 non-null    object \n",
      " 16  family_size    891 non-null    int64  \n",
      " 17  travel_solo    891 non-null    int64  \n",
      "dtypes: float64(2), int64(7), object(9)\n",
      "memory usage: 125.4+ KB\n"
     ]
    }
   ],
   "source": [
    "e_train_df.info()"
   ]
  },
  {
   "cell_type": "code",
   "execution_count": 46,
   "id": "02215ae8",
   "metadata": {
    "execution": {
     "iopub.execute_input": "2022-08-29T20:02:52.400268Z",
     "iopub.status.busy": "2022-08-29T20:02:52.399479Z",
     "iopub.status.idle": "2022-08-29T20:02:52.413763Z",
     "shell.execute_reply": "2022-08-29T20:02:52.412348Z"
    },
    "papermill": {
     "duration": 0.04502,
     "end_time": "2022-08-29T20:02:52.417360",
     "exception": false,
     "start_time": "2022-08-29T20:02:52.372340",
     "status": "completed"
    },
    "tags": []
   },
   "outputs": [
    {
     "name": "stdout",
     "output_type": "stream",
     "text": [
      "<class 'pandas.core.frame.DataFrame'>\n",
      "RangeIndex: 418 entries, 0 to 417\n",
      "Data columns (total 17 columns):\n",
      " #   Column         Non-Null Count  Dtype  \n",
      "---  ------         --------------  -----  \n",
      " 0   PassengerId    418 non-null    int64  \n",
      " 1   Pclass         418 non-null    int64  \n",
      " 2   Name           418 non-null    object \n",
      " 3   Sex            418 non-null    object \n",
      " 4   Age            418 non-null    float64\n",
      " 5   SibSp          418 non-null    int64  \n",
      " 6   Parch          418 non-null    int64  \n",
      " 7   Ticket         418 non-null    object \n",
      " 8   Fare           418 non-null    float64\n",
      " 9   Cabin          418 non-null    object \n",
      " 10  Embarked       418 non-null    object \n",
      " 11  age_bucket     418 non-null    object \n",
      " 12  title          418 non-null    object \n",
      " 13  role           418 non-null    object \n",
      " 14  ship_location  418 non-null    object \n",
      " 15  family_size    418 non-null    int64  \n",
      " 16  travel_solo    418 non-null    int64  \n",
      "dtypes: float64(2), int64(6), object(9)\n",
      "memory usage: 55.6+ KB\n"
     ]
    }
   ],
   "source": [
    "e_test_df.info()"
   ]
  },
  {
   "cell_type": "code",
   "execution_count": 47,
   "id": "6ee79e18",
   "metadata": {
    "execution": {
     "iopub.execute_input": "2022-08-29T20:02:52.471021Z",
     "iopub.status.busy": "2022-08-29T20:02:52.470555Z",
     "iopub.status.idle": "2022-08-29T20:02:52.496410Z",
     "shell.execute_reply": "2022-08-29T20:02:52.495367Z"
    },
    "papermill": {
     "duration": 0.055497,
     "end_time": "2022-08-29T20:02:52.499102",
     "exception": false,
     "start_time": "2022-08-29T20:02:52.443605",
     "status": "completed"
    },
    "tags": []
   },
   "outputs": [],
   "source": [
    "# make a copy of enhanced dataframes for modeling\n",
    "m_train_df = e_train_df.copy()\n",
    "m_test_df = e_test_df.copy()\n",
    "\n",
    "# drop cols\n",
    "drop_list = ['Name', 'Ticket', 'Cabin', 'title', 'family_size']\n",
    "m_train_df.drop(columns=drop_list, inplace=True)\n",
    "m_test_df.drop(columns=drop_list, inplace=True)\n",
    "\n",
    "# dummy variables\n",
    "dummy_list = ['Pclass', 'Sex', 'Embarked', 'age_bucket', 'role', 'ship_location']\n",
    "m_train_df = pd.get_dummies(m_train_df, columns=dummy_list)\n",
    "m_test_df = pd.get_dummies(m_test_df, columns=dummy_list)"
   ]
  },
  {
   "cell_type": "code",
   "execution_count": 48,
   "id": "27f08990",
   "metadata": {
    "execution": {
     "iopub.execute_input": "2022-08-29T20:02:52.552617Z",
     "iopub.status.busy": "2022-08-29T20:02:52.551347Z",
     "iopub.status.idle": "2022-08-29T20:02:52.570520Z",
     "shell.execute_reply": "2022-08-29T20:02:52.568762Z"
    },
    "papermill": {
     "duration": 0.049085,
     "end_time": "2022-08-29T20:02:52.573377",
     "exception": false,
     "start_time": "2022-08-29T20:02:52.524292",
     "status": "completed"
    },
    "tags": []
   },
   "outputs": [
    {
     "name": "stdout",
     "output_type": "stream",
     "text": [
      "<class 'pandas.core.frame.DataFrame'>\n",
      "RangeIndex: 891 entries, 0 to 890\n",
      "Data columns (total 30 columns):\n",
      " #   Column              Non-Null Count  Dtype  \n",
      "---  ------              --------------  -----  \n",
      " 0   PassengerId         891 non-null    int64  \n",
      " 1   Survived            891 non-null    int64  \n",
      " 2   Age                 891 non-null    float64\n",
      " 3   SibSp               891 non-null    int64  \n",
      " 4   Parch               891 non-null    int64  \n",
      " 5   Fare                891 non-null    float64\n",
      " 6   travel_solo         891 non-null    int64  \n",
      " 7   Pclass_1            891 non-null    uint8  \n",
      " 8   Pclass_2            891 non-null    uint8  \n",
      " 9   Pclass_3            891 non-null    uint8  \n",
      " 10  Sex_female          891 non-null    uint8  \n",
      " 11  Sex_male            891 non-null    uint8  \n",
      " 12  Embarked_C          891 non-null    uint8  \n",
      " 13  Embarked_Q          891 non-null    uint8  \n",
      " 14  Embarked_S          891 non-null    uint8  \n",
      " 15  age_bucket_adult    891 non-null    uint8  \n",
      " 16  age_bucket_child    891 non-null    uint8  \n",
      " 17  age_bucket_elderly  891 non-null    uint8  \n",
      " 18  role_average        891 non-null    uint8  \n",
      " 19  role_important      891 non-null    uint8  \n",
      " 20  role_officer        891 non-null    uint8  \n",
      " 21  ship_location_A     891 non-null    uint8  \n",
      " 22  ship_location_B     891 non-null    uint8  \n",
      " 23  ship_location_C     891 non-null    uint8  \n",
      " 24  ship_location_D     891 non-null    uint8  \n",
      " 25  ship_location_E     891 non-null    uint8  \n",
      " 26  ship_location_F     891 non-null    uint8  \n",
      " 27  ship_location_G     891 non-null    uint8  \n",
      " 28  ship_location_M     891 non-null    uint8  \n",
      " 29  ship_location_T     891 non-null    uint8  \n",
      "dtypes: float64(2), int64(5), uint8(23)\n",
      "memory usage: 68.9 KB\n"
     ]
    }
   ],
   "source": [
    "m_train_df.info()"
   ]
  },
  {
   "cell_type": "markdown",
   "id": "e145c8b5",
   "metadata": {
    "papermill": {
     "duration": 0.025676,
     "end_time": "2022-08-29T20:02:52.625597",
     "exception": false,
     "start_time": "2022-08-29T20:02:52.599921",
     "status": "completed"
    },
    "tags": []
   },
   "source": [
    "## Column Confirmation\n",
    "We need to confirm that our df have the same dimensions at this point"
   ]
  },
  {
   "cell_type": "code",
   "execution_count": 49,
   "id": "f0501150",
   "metadata": {
    "execution": {
     "iopub.execute_input": "2022-08-29T20:02:52.679474Z",
     "iopub.status.busy": "2022-08-29T20:02:52.678397Z",
     "iopub.status.idle": "2022-08-29T20:02:52.686224Z",
     "shell.execute_reply": "2022-08-29T20:02:52.684602Z"
    },
    "papermill": {
     "duration": 0.037914,
     "end_time": "2022-08-29T20:02:52.689396",
     "exception": false,
     "start_time": "2022-08-29T20:02:52.651482",
     "status": "completed"
    },
    "tags": []
   },
   "outputs": [
    {
     "name": "stdout",
     "output_type": "stream",
     "text": [
      "Missing columns in test not in train: set()\n",
      "Missing columns in train not in test: {'Survived', 'ship_location_T'}\n"
     ]
    }
   ],
   "source": [
    "train_set = set(m_train_df.columns)\n",
    "test_set = set(m_test_df.columns)\n",
    "\n",
    "test_train_diff_set = test_set - train_set\n",
    "train_test_diff_set = train_set - test_set\n",
    "print(f'Missing columns in test not in train: {test_train_diff_set}')\n",
    "print(f'Missing columns in train not in test: {train_test_diff_set}')"
   ]
  },
  {
   "cell_type": "markdown",
   "id": "5240b85e",
   "metadata": {
    "papermill": {
     "duration": 0.026741,
     "end_time": "2022-08-29T20:02:52.742304",
     "exception": false,
     "start_time": "2022-08-29T20:02:52.715563",
     "status": "completed"
    },
    "tags": []
   },
   "source": [
    "It appears our dummy_encoder missed 'ship_location_t' on the test set because it is not present."
   ]
  },
  {
   "cell_type": "code",
   "execution_count": 50,
   "id": "74757124",
   "metadata": {
    "execution": {
     "iopub.execute_input": "2022-08-29T20:02:52.795709Z",
     "iopub.status.busy": "2022-08-29T20:02:52.794887Z",
     "iopub.status.idle": "2022-08-29T20:02:52.801849Z",
     "shell.execute_reply": "2022-08-29T20:02:52.800743Z"
    },
    "papermill": {
     "duration": 0.036363,
     "end_time": "2022-08-29T20:02:52.804419",
     "exception": false,
     "start_time": "2022-08-29T20:02:52.768056",
     "status": "completed"
    },
    "tags": []
   },
   "outputs": [],
   "source": [
    "m_test_df['ship_location_T'] = 0"
   ]
  },
  {
   "cell_type": "code",
   "execution_count": 51,
   "id": "f7bff87d",
   "metadata": {
    "execution": {
     "iopub.execute_input": "2022-08-29T20:02:52.857643Z",
     "iopub.status.busy": "2022-08-29T20:02:52.857250Z",
     "iopub.status.idle": "2022-08-29T20:02:52.864317Z",
     "shell.execute_reply": "2022-08-29T20:02:52.863039Z"
    },
    "papermill": {
     "duration": 0.036629,
     "end_time": "2022-08-29T20:02:52.866935",
     "exception": false,
     "start_time": "2022-08-29T20:02:52.830306",
     "status": "completed"
    },
    "tags": []
   },
   "outputs": [
    {
     "name": "stdout",
     "output_type": "stream",
     "text": [
      "Missing columns in test not in train: set()\n",
      "Missing columns in train not in test: {'Survived'}\n"
     ]
    }
   ],
   "source": [
    "train_set = set(m_train_df.columns)\n",
    "test_set = set(m_test_df.columns)\n",
    "\n",
    "test_train_diff_set = test_set - train_set\n",
    "train_test_diff_set = train_set - test_set\n",
    "print(f'Missing columns in test not in train: {test_train_diff_set}')\n",
    "print(f'Missing columns in train not in test: {train_test_diff_set}')"
   ]
  },
  {
   "cell_type": "markdown",
   "id": "6f513644",
   "metadata": {
    "papermill": {
     "duration": 0.026441,
     "end_time": "2022-08-29T20:02:52.918912",
     "exception": false,
     "start_time": "2022-08-29T20:02:52.892471",
     "status": "completed"
    },
    "tags": []
   },
   "source": [
    "## Super Feature\n",
    "Combine the most important variables into a single predictor.\n",
    "\n",
    "Note: I did lots of experimentation here to find the right combination. It came down to treating Fare as a proxy for social class (to bolster Pclass) plus the strongest binary flags."
   ]
  },
  {
   "cell_type": "code",
   "execution_count": 52,
   "id": "5561ba96",
   "metadata": {
    "execution": {
     "iopub.execute_input": "2022-08-29T20:02:52.973056Z",
     "iopub.status.busy": "2022-08-29T20:02:52.972575Z",
     "iopub.status.idle": "2022-08-29T20:02:52.983133Z",
     "shell.execute_reply": "2022-08-29T20:02:52.982113Z"
    },
    "papermill": {
     "duration": 0.04023,
     "end_time": "2022-08-29T20:02:52.985407",
     "exception": false,
     "start_time": "2022-08-29T20:02:52.945177",
     "status": "completed"
    },
    "tags": []
   },
   "outputs": [],
   "source": [
    "m_train_df['fare_pclass_solo_female'] = m_train_df['Fare'] * (m_train_df['Pclass_1'] + m_train_df['travel_solo'] + m_train_df['Sex_female'] + m_train_df['age_bucket_child'] + m_train_df['age_bucket_elderly'])\n",
    "m_test_df['fare_pclass_solo_female'] = m_test_df['Fare'] * (m_test_df['Pclass_1'] + m_test_df['travel_solo'] + m_test_df['Sex_female'] + m_test_df['age_bucket_child'] + m_test_df['age_bucket_elderly'])"
   ]
  },
  {
   "cell_type": "markdown",
   "id": "52ace188",
   "metadata": {
    "papermill": {
     "duration": 0.025245,
     "end_time": "2022-08-29T20:02:53.036476",
     "exception": false,
     "start_time": "2022-08-29T20:02:53.011231",
     "status": "completed"
    },
    "tags": []
   },
   "source": [
    "## Scaling"
   ]
  },
  {
   "cell_type": "code",
   "execution_count": 53,
   "id": "2bf23a5e",
   "metadata": {
    "execution": {
     "iopub.execute_input": "2022-08-29T20:02:53.091627Z",
     "iopub.status.busy": "2022-08-29T20:02:53.090663Z",
     "iopub.status.idle": "2022-08-29T20:02:53.264215Z",
     "shell.execute_reply": "2022-08-29T20:02:53.262814Z"
    },
    "papermill": {
     "duration": 0.205786,
     "end_time": "2022-08-29T20:02:53.267458",
     "exception": false,
     "start_time": "2022-08-29T20:02:53.061672",
     "status": "completed"
    },
    "tags": []
   },
   "outputs": [],
   "source": [
    "# standardize\n",
    "from sklearn.preprocessing import StandardScaler\n",
    "\n",
    "standardize_list = ['Age', 'SibSp', 'Parch', 'Fare', 'fare_pclass_solo_female']\n",
    "\n",
    "train_features = m_train_df[standardize_list]\n",
    "train_scaler = StandardScaler().fit(train_features.values)\n",
    "train_features = train_scaler.transform(train_features.values)\n",
    "\n",
    "m_train_df[standardize_list] = train_features\n",
    "\n",
    "test_features = m_test_df[standardize_list]\n",
    "test_scaler = StandardScaler().fit(test_features.values)\n",
    "test_features = test_scaler.transform(test_features.values)\n",
    "\n",
    "m_test_df[standardize_list] = test_features"
   ]
  },
  {
   "cell_type": "code",
   "execution_count": 54,
   "id": "1f862ccc",
   "metadata": {
    "execution": {
     "iopub.execute_input": "2022-08-29T20:02:53.322182Z",
     "iopub.status.busy": "2022-08-29T20:02:53.320981Z",
     "iopub.status.idle": "2022-08-29T20:02:53.339326Z",
     "shell.execute_reply": "2022-08-29T20:02:53.337373Z"
    },
    "papermill": {
     "duration": 0.047926,
     "end_time": "2022-08-29T20:02:53.341980",
     "exception": false,
     "start_time": "2022-08-29T20:02:53.294054",
     "status": "completed"
    },
    "tags": []
   },
   "outputs": [
    {
     "name": "stdout",
     "output_type": "stream",
     "text": [
      "<class 'pandas.core.frame.DataFrame'>\n",
      "RangeIndex: 891 entries, 0 to 890\n",
      "Data columns (total 31 columns):\n",
      " #   Column                   Non-Null Count  Dtype  \n",
      "---  ------                   --------------  -----  \n",
      " 0   PassengerId              891 non-null    int64  \n",
      " 1   Survived                 891 non-null    int64  \n",
      " 2   Age                      891 non-null    float64\n",
      " 3   SibSp                    891 non-null    float64\n",
      " 4   Parch                    891 non-null    float64\n",
      " 5   Fare                     891 non-null    float64\n",
      " 6   travel_solo              891 non-null    int64  \n",
      " 7   Pclass_1                 891 non-null    uint8  \n",
      " 8   Pclass_2                 891 non-null    uint8  \n",
      " 9   Pclass_3                 891 non-null    uint8  \n",
      " 10  Sex_female               891 non-null    uint8  \n",
      " 11  Sex_male                 891 non-null    uint8  \n",
      " 12  Embarked_C               891 non-null    uint8  \n",
      " 13  Embarked_Q               891 non-null    uint8  \n",
      " 14  Embarked_S               891 non-null    uint8  \n",
      " 15  age_bucket_adult         891 non-null    uint8  \n",
      " 16  age_bucket_child         891 non-null    uint8  \n",
      " 17  age_bucket_elderly       891 non-null    uint8  \n",
      " 18  role_average             891 non-null    uint8  \n",
      " 19  role_important           891 non-null    uint8  \n",
      " 20  role_officer             891 non-null    uint8  \n",
      " 21  ship_location_A          891 non-null    uint8  \n",
      " 22  ship_location_B          891 non-null    uint8  \n",
      " 23  ship_location_C          891 non-null    uint8  \n",
      " 24  ship_location_D          891 non-null    uint8  \n",
      " 25  ship_location_E          891 non-null    uint8  \n",
      " 26  ship_location_F          891 non-null    uint8  \n",
      " 27  ship_location_G          891 non-null    uint8  \n",
      " 28  ship_location_M          891 non-null    uint8  \n",
      " 29  ship_location_T          891 non-null    uint8  \n",
      " 30  fare_pclass_solo_female  891 non-null    float64\n",
      "dtypes: float64(5), int64(3), uint8(23)\n",
      "memory usage: 75.8 KB\n"
     ]
    }
   ],
   "source": [
    "m_train_df.info()"
   ]
  },
  {
   "cell_type": "code",
   "execution_count": 55,
   "id": "34ffa816",
   "metadata": {
    "execution": {
     "iopub.execute_input": "2022-08-29T20:02:53.395366Z",
     "iopub.status.busy": "2022-08-29T20:02:53.394961Z",
     "iopub.status.idle": "2022-08-29T20:02:53.410691Z",
     "shell.execute_reply": "2022-08-29T20:02:53.409404Z"
    },
    "papermill": {
     "duration": 0.046064,
     "end_time": "2022-08-29T20:02:53.413596",
     "exception": false,
     "start_time": "2022-08-29T20:02:53.367532",
     "status": "completed"
    },
    "tags": []
   },
   "outputs": [
    {
     "name": "stdout",
     "output_type": "stream",
     "text": [
      "<class 'pandas.core.frame.DataFrame'>\n",
      "RangeIndex: 418 entries, 0 to 417\n",
      "Data columns (total 30 columns):\n",
      " #   Column                   Non-Null Count  Dtype  \n",
      "---  ------                   --------------  -----  \n",
      " 0   PassengerId              418 non-null    int64  \n",
      " 1   Age                      418 non-null    float64\n",
      " 2   SibSp                    418 non-null    float64\n",
      " 3   Parch                    418 non-null    float64\n",
      " 4   Fare                     418 non-null    float64\n",
      " 5   travel_solo              418 non-null    int64  \n",
      " 6   Pclass_1                 418 non-null    uint8  \n",
      " 7   Pclass_2                 418 non-null    uint8  \n",
      " 8   Pclass_3                 418 non-null    uint8  \n",
      " 9   Sex_female               418 non-null    uint8  \n",
      " 10  Sex_male                 418 non-null    uint8  \n",
      " 11  Embarked_C               418 non-null    uint8  \n",
      " 12  Embarked_Q               418 non-null    uint8  \n",
      " 13  Embarked_S               418 non-null    uint8  \n",
      " 14  age_bucket_adult         418 non-null    uint8  \n",
      " 15  age_bucket_child         418 non-null    uint8  \n",
      " 16  age_bucket_elderly       418 non-null    uint8  \n",
      " 17  role_average             418 non-null    uint8  \n",
      " 18  role_important           418 non-null    uint8  \n",
      " 19  role_officer             418 non-null    uint8  \n",
      " 20  ship_location_A          418 non-null    uint8  \n",
      " 21  ship_location_B          418 non-null    uint8  \n",
      " 22  ship_location_C          418 non-null    uint8  \n",
      " 23  ship_location_D          418 non-null    uint8  \n",
      " 24  ship_location_E          418 non-null    uint8  \n",
      " 25  ship_location_F          418 non-null    uint8  \n",
      " 26  ship_location_G          418 non-null    uint8  \n",
      " 27  ship_location_M          418 non-null    uint8  \n",
      " 28  ship_location_T          418 non-null    int64  \n",
      " 29  fare_pclass_solo_female  418 non-null    float64\n",
      "dtypes: float64(5), int64(3), uint8(22)\n",
      "memory usage: 35.2 KB\n"
     ]
    }
   ],
   "source": [
    "m_test_df.info()"
   ]
  },
  {
   "cell_type": "markdown",
   "id": "b70fd006",
   "metadata": {
    "papermill": {
     "duration": 0.026834,
     "end_time": "2022-08-29T20:02:53.466502",
     "exception": false,
     "start_time": "2022-08-29T20:02:53.439668",
     "status": "completed"
    },
    "tags": []
   },
   "source": [
    "## Model Implementation"
   ]
  },
  {
   "cell_type": "code",
   "execution_count": 56,
   "id": "1e9dcf80",
   "metadata": {
    "execution": {
     "iopub.execute_input": "2022-08-29T20:02:53.520751Z",
     "iopub.status.busy": "2022-08-29T20:02:53.519878Z",
     "iopub.status.idle": "2022-08-29T20:02:53.546320Z",
     "shell.execute_reply": "2022-08-29T20:02:53.544986Z"
    },
    "papermill": {
     "duration": 0.056466,
     "end_time": "2022-08-29T20:02:53.548851",
     "exception": false,
     "start_time": "2022-08-29T20:02:53.492385",
     "status": "completed"
    },
    "tags": []
   },
   "outputs": [
    {
     "data": {
      "text/html": [
       "<div>\n",
       "<style scoped>\n",
       "    .dataframe tbody tr th:only-of-type {\n",
       "        vertical-align: middle;\n",
       "    }\n",
       "\n",
       "    .dataframe tbody tr th {\n",
       "        vertical-align: top;\n",
       "    }\n",
       "\n",
       "    .dataframe thead th {\n",
       "        text-align: right;\n",
       "    }\n",
       "</style>\n",
       "<table border=\"1\" class=\"dataframe\">\n",
       "  <thead>\n",
       "    <tr style=\"text-align: right;\">\n",
       "      <th></th>\n",
       "      <th>Age</th>\n",
       "      <th>SibSp</th>\n",
       "      <th>Parch</th>\n",
       "      <th>Fare</th>\n",
       "      <th>travel_solo</th>\n",
       "      <th>Pclass_1</th>\n",
       "      <th>Pclass_2</th>\n",
       "      <th>Pclass_3</th>\n",
       "      <th>Sex_female</th>\n",
       "      <th>Sex_male</th>\n",
       "      <th>...</th>\n",
       "      <th>ship_location_A</th>\n",
       "      <th>ship_location_B</th>\n",
       "      <th>ship_location_C</th>\n",
       "      <th>ship_location_D</th>\n",
       "      <th>ship_location_E</th>\n",
       "      <th>ship_location_F</th>\n",
       "      <th>ship_location_G</th>\n",
       "      <th>ship_location_M</th>\n",
       "      <th>ship_location_T</th>\n",
       "      <th>fare_pclass_solo_female</th>\n",
       "    </tr>\n",
       "  </thead>\n",
       "  <tbody>\n",
       "    <tr>\n",
       "      <th>0</th>\n",
       "      <td>-0.592481</td>\n",
       "      <td>0.432793</td>\n",
       "      <td>-0.473674</td>\n",
       "      <td>-0.502445</td>\n",
       "      <td>0</td>\n",
       "      <td>0</td>\n",
       "      <td>0</td>\n",
       "      <td>1</td>\n",
       "      <td>0</td>\n",
       "      <td>1</td>\n",
       "      <td>...</td>\n",
       "      <td>0</td>\n",
       "      <td>0</td>\n",
       "      <td>0</td>\n",
       "      <td>0</td>\n",
       "      <td>0</td>\n",
       "      <td>0</td>\n",
       "      <td>0</td>\n",
       "      <td>1</td>\n",
       "      <td>0</td>\n",
       "      <td>-0.479064</td>\n",
       "    </tr>\n",
       "    <tr>\n",
       "      <th>1</th>\n",
       "      <td>0.638789</td>\n",
       "      <td>0.432793</td>\n",
       "      <td>-0.473674</td>\n",
       "      <td>0.786845</td>\n",
       "      <td>0</td>\n",
       "      <td>1</td>\n",
       "      <td>0</td>\n",
       "      <td>0</td>\n",
       "      <td>1</td>\n",
       "      <td>0</td>\n",
       "      <td>...</td>\n",
       "      <td>0</td>\n",
       "      <td>0</td>\n",
       "      <td>1</td>\n",
       "      <td>0</td>\n",
       "      <td>0</td>\n",
       "      <td>0</td>\n",
       "      <td>0</td>\n",
       "      <td>0</td>\n",
       "      <td>0</td>\n",
       "      <td>0.781096</td>\n",
       "    </tr>\n",
       "    <tr>\n",
       "      <th>2</th>\n",
       "      <td>-0.284663</td>\n",
       "      <td>-0.474545</td>\n",
       "      <td>-0.473674</td>\n",
       "      <td>-0.488854</td>\n",
       "      <td>1</td>\n",
       "      <td>0</td>\n",
       "      <td>0</td>\n",
       "      <td>1</td>\n",
       "      <td>1</td>\n",
       "      <td>0</td>\n",
       "      <td>...</td>\n",
       "      <td>0</td>\n",
       "      <td>0</td>\n",
       "      <td>0</td>\n",
       "      <td>0</td>\n",
       "      <td>0</td>\n",
       "      <td>0</td>\n",
       "      <td>0</td>\n",
       "      <td>1</td>\n",
       "      <td>0</td>\n",
       "      <td>-0.338964</td>\n",
       "    </tr>\n",
       "    <tr>\n",
       "      <th>3</th>\n",
       "      <td>0.407926</td>\n",
       "      <td>0.432793</td>\n",
       "      <td>-0.473674</td>\n",
       "      <td>0.420730</td>\n",
       "      <td>0</td>\n",
       "      <td>1</td>\n",
       "      <td>0</td>\n",
       "      <td>0</td>\n",
       "      <td>1</td>\n",
       "      <td>0</td>\n",
       "      <td>...</td>\n",
       "      <td>0</td>\n",
       "      <td>0</td>\n",
       "      <td>1</td>\n",
       "      <td>0</td>\n",
       "      <td>0</td>\n",
       "      <td>0</td>\n",
       "      <td>0</td>\n",
       "      <td>0</td>\n",
       "      <td>0</td>\n",
       "      <td>0.459648</td>\n",
       "    </tr>\n",
       "    <tr>\n",
       "      <th>4</th>\n",
       "      <td>0.407926</td>\n",
       "      <td>-0.474545</td>\n",
       "      <td>-0.473674</td>\n",
       "      <td>-0.486337</td>\n",
       "      <td>1</td>\n",
       "      <td>0</td>\n",
       "      <td>0</td>\n",
       "      <td>1</td>\n",
       "      <td>0</td>\n",
       "      <td>1</td>\n",
       "      <td>...</td>\n",
       "      <td>0</td>\n",
       "      <td>0</td>\n",
       "      <td>0</td>\n",
       "      <td>0</td>\n",
       "      <td>0</td>\n",
       "      <td>0</td>\n",
       "      <td>0</td>\n",
       "      <td>1</td>\n",
       "      <td>0</td>\n",
       "      <td>-0.407909</td>\n",
       "    </tr>\n",
       "  </tbody>\n",
       "</table>\n",
       "<p>5 rows × 29 columns</p>\n",
       "</div>"
      ],
      "text/plain": [
       "        Age     SibSp     Parch      Fare  travel_solo  Pclass_1  Pclass_2  \\\n",
       "0 -0.592481  0.432793 -0.473674 -0.502445            0         0         0   \n",
       "1  0.638789  0.432793 -0.473674  0.786845            0         1         0   \n",
       "2 -0.284663 -0.474545 -0.473674 -0.488854            1         0         0   \n",
       "3  0.407926  0.432793 -0.473674  0.420730            0         1         0   \n",
       "4  0.407926 -0.474545 -0.473674 -0.486337            1         0         0   \n",
       "\n",
       "   Pclass_3  Sex_female  Sex_male  ...  ship_location_A  ship_location_B  \\\n",
       "0         1           0         1  ...                0                0   \n",
       "1         0           1         0  ...                0                0   \n",
       "2         1           1         0  ...                0                0   \n",
       "3         0           1         0  ...                0                0   \n",
       "4         1           0         1  ...                0                0   \n",
       "\n",
       "   ship_location_C  ship_location_D  ship_location_E  ship_location_F  \\\n",
       "0                0                0                0                0   \n",
       "1                1                0                0                0   \n",
       "2                0                0                0                0   \n",
       "3                1                0                0                0   \n",
       "4                0                0                0                0   \n",
       "\n",
       "   ship_location_G  ship_location_M  ship_location_T  fare_pclass_solo_female  \n",
       "0                0                1                0                -0.479064  \n",
       "1                0                0                0                 0.781096  \n",
       "2                0                1                0                -0.338964  \n",
       "3                0                0                0                 0.459648  \n",
       "4                0                1                0                -0.407909  \n",
       "\n",
       "[5 rows x 29 columns]"
      ]
     },
     "execution_count": 56,
     "metadata": {},
     "output_type": "execute_result"
    }
   ],
   "source": [
    "# split into x and y\n",
    "dependent_variable = 'Survived'\n",
    "m_train_df.drop(columns=['PassengerId'], inplace=True)\n",
    "\n",
    "y_train = m_train_df[dependent_variable].copy()\n",
    "x_train = m_train_df.drop(columns=[dependent_variable], axis=1).copy()\n",
    "\n",
    "# assure dependent variable is gone\n",
    "x_train.head()"
   ]
  },
  {
   "cell_type": "code",
   "execution_count": 57,
   "id": "0e7cda8a",
   "metadata": {
    "execution": {
     "iopub.execute_input": "2022-08-29T20:02:53.603648Z",
     "iopub.status.busy": "2022-08-29T20:02:53.602559Z",
     "iopub.status.idle": "2022-08-29T20:02:57.080231Z",
     "shell.execute_reply": "2022-08-29T20:02:57.078994Z"
    },
    "papermill": {
     "duration": 3.508414,
     "end_time": "2022-08-29T20:02:57.083366",
     "exception": false,
     "start_time": "2022-08-29T20:02:53.574952",
     "status": "completed"
    },
    "tags": []
   },
   "outputs": [],
   "source": [
    "# use RandomForestClassifier\n",
    "from sklearn.ensemble import RandomForestClassifier\n",
    "\n",
    "model = RandomForestClassifier(\n",
    "    criterion='gini',\n",
    "    n_estimators=1000,\n",
    "    min_samples_split=10,\n",
    "    min_samples_leaf=1,\n",
    "    max_features='auto',\n",
    "    oob_score=True,\n",
    "    random_state=random_state,\n",
    "    n_jobs=-1\n",
    ")\n",
    "\n",
    "fitted_model = model.fit(x_train.values, y_train.values)"
   ]
  },
  {
   "cell_type": "markdown",
   "id": "c9b74df4",
   "metadata": {
    "papermill": {
     "duration": 0.026348,
     "end_time": "2022-08-29T20:02:57.136563",
     "exception": false,
     "start_time": "2022-08-29T20:02:57.110215",
     "status": "completed"
    },
    "tags": []
   },
   "source": [
    "---\n",
    "# Submission"
   ]
  },
  {
   "cell_type": "code",
   "execution_count": 58,
   "id": "b79cc3bf",
   "metadata": {
    "execution": {
     "iopub.execute_input": "2022-08-29T20:02:57.193359Z",
     "iopub.status.busy": "2022-08-29T20:02:57.192634Z",
     "iopub.status.idle": "2022-08-29T20:02:57.612436Z",
     "shell.execute_reply": "2022-08-29T20:02:57.610793Z"
    },
    "papermill": {
     "duration": 0.451746,
     "end_time": "2022-08-29T20:02:57.615835",
     "exception": false,
     "start_time": "2022-08-29T20:02:57.164089",
     "status": "completed"
    },
    "tags": []
   },
   "outputs": [],
   "source": [
    "# construct submission\n",
    "submission_df = pd.DataFrame()\n",
    "submission_df['PassengerId'] = m_test_df['PassengerId'].copy()\n",
    "\n",
    "m_test_df.drop(columns=['PassengerId'], inplace=True)\n",
    "\n",
    "submission_df['Survived'] = fitted_model.predict(m_test_df.values)\n",
    "\n",
    "submission_df.to_csv('submission.csv', index=False)"
   ]
  },
  {
   "cell_type": "markdown",
   "id": "4d2be341",
   "metadata": {
    "papermill": {
     "duration": 0.026978,
     "end_time": "2022-08-29T20:02:57.669042",
     "exception": false,
     "start_time": "2022-08-29T20:02:57.642064",
     "status": "completed"
    },
    "tags": []
   },
   "source": [
    "## Result\n",
    "My public score for this notebook was 0.80622 at the time of submission.\n",
    "\n",
    "This put me at 320/13413 (top 3%) on the leaderboard."
   ]
  }
 ],
 "metadata": {
  "kernelspec": {
   "display_name": "Python 3",
   "language": "python",
   "name": "python3"
  },
  "language_info": {
   "codemirror_mode": {
    "name": "ipython",
    "version": 3
   },
   "file_extension": ".py",
   "mimetype": "text/x-python",
   "name": "python",
   "nbconvert_exporter": "python",
   "pygments_lexer": "ipython3",
   "version": "3.7.12"
  },
  "papermill": {
   "default_parameters": {},
   "duration": 28.395555,
   "end_time": "2022-08-29T20:02:58.620953",
   "environment_variables": {},
   "exception": null,
   "input_path": "__notebook__.ipynb",
   "output_path": "__notebook__.ipynb",
   "parameters": {},
   "start_time": "2022-08-29T20:02:30.225398",
   "version": "2.3.4"
  }
 },
 "nbformat": 4,
 "nbformat_minor": 5
}
