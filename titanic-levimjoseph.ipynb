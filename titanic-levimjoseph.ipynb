{
 "cells": [
  {
   "cell_type": "markdown",
   "id": "ebff40fc",
   "metadata": {
    "papermill": {
     "duration": 0.010142,
     "end_time": "2022-04-12T03:09:18.213156",
     "exception": false,
     "start_time": "2022-04-12T03:09:18.203014",
     "status": "completed"
    },
    "tags": []
   },
   "source": [
    "# Overview"
   ]
  },
  {
   "cell_type": "markdown",
   "id": "328cddc7",
   "metadata": {
    "papermill": {
     "duration": 0.008833,
     "end_time": "2022-04-12T03:09:18.232528",
     "exception": false,
     "start_time": "2022-04-12T03:09:18.223695",
     "status": "completed"
    },
    "tags": []
   },
   "source": [
    " This is my first time participating in a Kaggle. I have used Kaggle competitions as learning resources in the past, and am now determined to become a competitor myself. Please see my [blog post](https://medium.com/@levimjoseph/getting-started-with-kaggle-competitions-63bee65fb31d) on the matter.  \n",
    "\n",
    "Much has been written about the Titanic competition on Kaggle. There are several wonderful notebook write ups, such as Alexis Cook's [Titanic Tutorial](https://www.kaggle.com/alexisbcook/titanic-tutorial). Therefore, I will not belabor my introduction.  \n",
    "\n",
    "That said, the Titanic Competition is a classification problem where we are tasked with predicting whether or not a passenger survived the ship's sinking."
   ]
  },
  {
   "cell_type": "markdown",
   "id": "b0257fe8",
   "metadata": {
    "papermill": {
     "duration": 0.008814,
     "end_time": "2022-04-12T03:09:18.250315",
     "exception": false,
     "start_time": "2022-04-12T03:09:18.241501",
     "status": "completed"
    },
    "tags": []
   },
   "source": [
    "# Setup"
   ]
  },
  {
   "cell_type": "code",
   "execution_count": 1,
   "id": "a4ec16bb",
   "metadata": {
    "execution": {
     "iopub.execute_input": "2022-04-12T03:09:18.272345Z",
     "iopub.status.busy": "2022-04-12T03:09:18.271306Z",
     "iopub.status.idle": "2022-04-12T03:09:18.278639Z",
     "shell.execute_reply": "2022-04-12T03:09:18.279157Z",
     "shell.execute_reply.started": "2022-04-12T03:04:54.032869Z"
    },
    "papermill": {
     "duration": 0.019995,
     "end_time": "2022-04-12T03:09:18.279435",
     "exception": false,
     "start_time": "2022-04-12T03:09:18.259440",
     "status": "completed"
    },
    "tags": []
   },
   "outputs": [],
   "source": [
    "# initial imports\n",
    "import numpy as np\n",
    "import pandas as pd"
   ]
  },
  {
   "cell_type": "code",
   "execution_count": 2,
   "id": "4bd909a9",
   "metadata": {
    "_cell_guid": "b1076dfc-b9ad-4769-8c92-a6c4dae69d19",
    "_uuid": "8f2839f25d086af736a60e9eeb907d3b93b6e0e5",
    "execution": {
     "iopub.execute_input": "2022-04-12T03:09:18.304320Z",
     "iopub.status.busy": "2022-04-12T03:09:18.303319Z",
     "iopub.status.idle": "2022-04-12T03:09:18.307242Z",
     "shell.execute_reply": "2022-04-12T03:09:18.307820Z",
     "shell.execute_reply.started": "2022-04-12T03:08:28.534444Z"
    },
    "papermill": {
     "duration": 0.019232,
     "end_time": "2022-04-12T03:09:18.308032",
     "exception": false,
     "start_time": "2022-04-12T03:09:18.288800",
     "status": "completed"
    },
    "tags": []
   },
   "outputs": [
    {
     "name": "stdout",
     "output_type": "stream",
     "text": [
      "/kaggle/input/titanic/train.csv\n",
      "/kaggle/input/titanic/test.csv\n",
      "/kaggle/input/titanic/gender_submission.csv\n"
     ]
    }
   ],
   "source": [
    "# determine what data is available\n",
    "import os\n",
    "for dirname, _, filenames in os.walk('/kaggle/input'):\n",
    "    for filename in filenames:\n",
    "        print(os.path.join(dirname, filename))"
   ]
  },
  {
   "cell_type": "code",
   "execution_count": 3,
   "id": "4ff6c866",
   "metadata": {
    "execution": {
     "iopub.execute_input": "2022-04-12T03:09:18.332881Z",
     "iopub.status.busy": "2022-04-12T03:09:18.331951Z",
     "iopub.status.idle": "2022-04-12T03:09:18.358709Z",
     "shell.execute_reply": "2022-04-12T03:09:18.359436Z",
     "shell.execute_reply.started": "2022-04-12T03:04:57.707111Z"
    },
    "papermill": {
     "duration": 0.041437,
     "end_time": "2022-04-12T03:09:18.359639",
     "exception": false,
     "start_time": "2022-04-12T03:09:18.318202",
     "status": "completed"
    },
    "tags": []
   },
   "outputs": [],
   "source": [
    "# import train and test set\n",
    "train_df = pd.read_csv('../input/titanic/train.csv')\n",
    "test_df = pd.read_csv('../input/titanic/test.csv')"
   ]
  },
  {
   "cell_type": "code",
   "execution_count": 4,
   "id": "f4645dd2",
   "metadata": {
    "execution": {
     "iopub.execute_input": "2022-04-12T03:09:18.382839Z",
     "iopub.status.busy": "2022-04-12T03:09:18.382148Z",
     "iopub.status.idle": "2022-04-12T03:09:18.406692Z",
     "shell.execute_reply": "2022-04-12T03:09:18.407283Z",
     "shell.execute_reply.started": "2022-04-12T03:07:39.755913Z"
    },
    "papermill": {
     "duration": 0.038011,
     "end_time": "2022-04-12T03:09:18.407450",
     "exception": false,
     "start_time": "2022-04-12T03:09:18.369439",
     "status": "completed"
    },
    "tags": []
   },
   "outputs": [
    {
     "name": "stdout",
     "output_type": "stream",
     "text": [
      "<class 'pandas.core.frame.DataFrame'>\n",
      "RangeIndex: 891 entries, 0 to 890\n",
      "Data columns (total 12 columns):\n",
      " #   Column       Non-Null Count  Dtype  \n",
      "---  ------       --------------  -----  \n",
      " 0   PassengerId  891 non-null    int64  \n",
      " 1   Survived     891 non-null    int64  \n",
      " 2   Pclass       891 non-null    int64  \n",
      " 3   Name         891 non-null    object \n",
      " 4   Sex          891 non-null    object \n",
      " 5   Age          714 non-null    float64\n",
      " 6   SibSp        891 non-null    int64  \n",
      " 7   Parch        891 non-null    int64  \n",
      " 8   Ticket       891 non-null    object \n",
      " 9   Fare         891 non-null    float64\n",
      " 10  Cabin        204 non-null    object \n",
      " 11  Embarked     889 non-null    object \n",
      "dtypes: float64(2), int64(5), object(5)\n",
      "memory usage: 83.7+ KB\n"
     ]
    }
   ],
   "source": [
    "# confirm train_df\n",
    "train_df.info()"
   ]
  },
  {
   "cell_type": "code",
   "execution_count": 5,
   "id": "8252279e",
   "metadata": {
    "execution": {
     "iopub.execute_input": "2022-04-12T03:09:18.432247Z",
     "iopub.status.busy": "2022-04-12T03:09:18.431561Z",
     "iopub.status.idle": "2022-04-12T03:09:18.444258Z",
     "shell.execute_reply": "2022-04-12T03:09:18.443590Z",
     "shell.execute_reply.started": "2022-04-12T03:07:45.802585Z"
    },
    "papermill": {
     "duration": 0.026556,
     "end_time": "2022-04-12T03:09:18.444423",
     "exception": false,
     "start_time": "2022-04-12T03:09:18.417867",
     "status": "completed"
    },
    "tags": []
   },
   "outputs": [
    {
     "name": "stdout",
     "output_type": "stream",
     "text": [
      "<class 'pandas.core.frame.DataFrame'>\n",
      "RangeIndex: 418 entries, 0 to 417\n",
      "Data columns (total 11 columns):\n",
      " #   Column       Non-Null Count  Dtype  \n",
      "---  ------       --------------  -----  \n",
      " 0   PassengerId  418 non-null    int64  \n",
      " 1   Pclass       418 non-null    int64  \n",
      " 2   Name         418 non-null    object \n",
      " 3   Sex          418 non-null    object \n",
      " 4   Age          332 non-null    float64\n",
      " 5   SibSp        418 non-null    int64  \n",
      " 6   Parch        418 non-null    int64  \n",
      " 7   Ticket       418 non-null    object \n",
      " 8   Fare         417 non-null    float64\n",
      " 9   Cabin        91 non-null     object \n",
      " 10  Embarked     418 non-null    object \n",
      "dtypes: float64(2), int64(4), object(5)\n",
      "memory usage: 36.0+ KB\n"
     ]
    }
   ],
   "source": [
    "# confirm train_df\n",
    "test_df.info()"
   ]
  },
  {
   "cell_type": "markdown",
   "id": "e9cd9686",
   "metadata": {
    "papermill": {
     "duration": 0.010289,
     "end_time": "2022-04-12T03:09:18.465708",
     "exception": false,
     "start_time": "2022-04-12T03:09:18.455419",
     "status": "completed"
    },
    "tags": []
   },
   "source": [
    "# EDA"
   ]
  },
  {
   "cell_type": "code",
   "execution_count": null,
   "id": "7c8ca131",
   "metadata": {
    "papermill": {
     "duration": 0.014822,
     "end_time": "2022-04-12T03:09:18.494569",
     "exception": false,
     "start_time": "2022-04-12T03:09:18.479747",
     "status": "completed"
    },
    "tags": []
   },
   "outputs": [],
   "source": []
  },
  {
   "cell_type": "markdown",
   "id": "257f55ea",
   "metadata": {
    "papermill": {
     "duration": 0.011496,
     "end_time": "2022-04-12T03:09:18.517301",
     "exception": false,
     "start_time": "2022-04-12T03:09:18.505805",
     "status": "completed"
    },
    "tags": []
   },
   "source": [
    "# Modeling"
   ]
  },
  {
   "cell_type": "code",
   "execution_count": null,
   "id": "70639fb9",
   "metadata": {
    "papermill": {
     "duration": 0.010459,
     "end_time": "2022-04-12T03:09:18.538247",
     "exception": false,
     "start_time": "2022-04-12T03:09:18.527788",
     "status": "completed"
    },
    "tags": []
   },
   "outputs": [],
   "source": []
  },
  {
   "cell_type": "markdown",
   "id": "b89c646d",
   "metadata": {
    "papermill": {
     "duration": 0.010069,
     "end_time": "2022-04-12T03:09:18.559532",
     "exception": false,
     "start_time": "2022-04-12T03:09:18.549463",
     "status": "completed"
    },
    "tags": []
   },
   "source": [
    "# Submission"
   ]
  },
  {
   "cell_type": "code",
   "execution_count": null,
   "id": "45f7f532",
   "metadata": {
    "papermill": {
     "duration": 0.009841,
     "end_time": "2022-04-12T03:09:18.579605",
     "exception": false,
     "start_time": "2022-04-12T03:09:18.569764",
     "status": "completed"
    },
    "tags": []
   },
   "outputs": [],
   "source": []
  }
 ],
 "metadata": {
  "kernelspec": {
   "display_name": "Python 3",
   "language": "python",
   "name": "python3"
  },
  "language_info": {
   "codemirror_mode": {
    "name": "ipython",
    "version": 3
   },
   "file_extension": ".py",
   "mimetype": "text/x-python",
   "name": "python",
   "nbconvert_exporter": "python",
   "pygments_lexer": "ipython3",
   "version": "3.7.12"
  },
  "papermill": {
   "default_parameters": {},
   "duration": 10.738551,
   "end_time": "2022-04-12T03:09:19.200963",
   "environment_variables": {},
   "exception": null,
   "input_path": "__notebook__.ipynb",
   "output_path": "__notebook__.ipynb",
   "parameters": {},
   "start_time": "2022-04-12T03:09:08.462412",
   "version": "2.3.3"
  }
 },
 "nbformat": 4,
 "nbformat_minor": 5
}
