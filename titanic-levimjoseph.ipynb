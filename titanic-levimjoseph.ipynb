{
 "cells": [
  {
   "cell_type": "markdown",
   "id": "6e8a32c7",
   "metadata": {
    "papermill": {
     "duration": 0.016156,
     "end_time": "2022-04-12T13:27:35.555835",
     "exception": false,
     "start_time": "2022-04-12T13:27:35.539679",
     "status": "completed"
    },
    "tags": []
   },
   "source": [
    "# Overview"
   ]
  },
  {
   "cell_type": "markdown",
   "id": "2df238bb",
   "metadata": {
    "papermill": {
     "duration": 0.014681,
     "end_time": "2022-04-12T13:27:35.586092",
     "exception": false,
     "start_time": "2022-04-12T13:27:35.571411",
     "status": "completed"
    },
    "tags": []
   },
   "source": [
    " This is my first time participating in a Kaggle. I have used Kaggle competitions as learning resources in the past, and am now determined to become a competitor myself. Please see my [blog post](https://medium.com/@levimjoseph/getting-started-with-kaggle-competitions-63bee65fb31d) on the matter.  \n",
    "\n",
    "Much has been written about the Titanic competition on Kaggle. There are several wonderful notebook write ups, such as Alexis Cook's [Titanic Tutorial](https://www.kaggle.com/alexisbcook/titanic-tutorial). Therefore, I will not belabor my introduction.  \n",
    "\n",
    "That said, the Titanic Competition is a classification problem where we are tasked with predicting whether or not a passenger survived the ship's sinking."
   ]
  },
  {
   "cell_type": "markdown",
   "id": "3aa4d52a",
   "metadata": {
    "papermill": {
     "duration": 0.014787,
     "end_time": "2022-04-12T13:27:35.615834",
     "exception": false,
     "start_time": "2022-04-12T13:27:35.601047",
     "status": "completed"
    },
    "tags": []
   },
   "source": [
    "# Setup"
   ]
  },
  {
   "cell_type": "code",
   "execution_count": 1,
   "id": "a0088c9b",
   "metadata": {
    "execution": {
     "iopub.execute_input": "2022-04-12T13:27:35.651876Z",
     "iopub.status.busy": "2022-04-12T13:27:35.650176Z",
     "iopub.status.idle": "2022-04-12T13:27:35.658761Z",
     "shell.execute_reply": "2022-04-12T13:27:35.659213Z",
     "shell.execute_reply.started": "2022-04-12T12:34:22.842801Z"
    },
    "papermill": {
     "duration": 0.028685,
     "end_time": "2022-04-12T13:27:35.659527",
     "exception": false,
     "start_time": "2022-04-12T13:27:35.630842",
     "status": "completed"
    },
    "tags": []
   },
   "outputs": [],
   "source": [
    "# initial imports\n",
    "import numpy as np\n",
    "import pandas as pd"
   ]
  },
  {
   "cell_type": "code",
   "execution_count": 2,
   "id": "03b1478f",
   "metadata": {
    "execution": {
     "iopub.execute_input": "2022-04-12T13:27:35.693536Z",
     "iopub.status.busy": "2022-04-12T13:27:35.692623Z",
     "iopub.status.idle": "2022-04-12T13:27:35.718579Z",
     "shell.execute_reply": "2022-04-12T13:27:35.718015Z",
     "shell.execute_reply.started": "2022-04-12T12:34:24.440388Z"
    },
    "papermill": {
     "duration": 0.043929,
     "end_time": "2022-04-12T13:27:35.718761",
     "exception": false,
     "start_time": "2022-04-12T13:27:35.674832",
     "status": "completed"
    },
    "tags": []
   },
   "outputs": [],
   "source": [
    "# import train and test set\n",
    "train_df = pd.read_csv('../input/titanic/train.csv')\n",
    "test_df = pd.read_csv('../input/titanic/test.csv')"
   ]
  },
  {
   "cell_type": "code",
   "execution_count": 3,
   "id": "18636c8b",
   "metadata": {
    "execution": {
     "iopub.execute_input": "2022-04-12T13:27:35.754023Z",
     "iopub.status.busy": "2022-04-12T13:27:35.753108Z",
     "iopub.status.idle": "2022-04-12T13:27:35.774991Z",
     "shell.execute_reply": "2022-04-12T13:27:35.775452Z",
     "shell.execute_reply.started": "2022-04-12T12:34:26.232564Z"
    },
    "papermill": {
     "duration": 0.040312,
     "end_time": "2022-04-12T13:27:35.775613",
     "exception": false,
     "start_time": "2022-04-12T13:27:35.735301",
     "status": "completed"
    },
    "tags": []
   },
   "outputs": [
    {
     "data": {
      "text/html": [
       "<div>\n",
       "<style scoped>\n",
       "    .dataframe tbody tr th:only-of-type {\n",
       "        vertical-align: middle;\n",
       "    }\n",
       "\n",
       "    .dataframe tbody tr th {\n",
       "        vertical-align: top;\n",
       "    }\n",
       "\n",
       "    .dataframe thead th {\n",
       "        text-align: right;\n",
       "    }\n",
       "</style>\n",
       "<table border=\"1\" class=\"dataframe\">\n",
       "  <thead>\n",
       "    <tr style=\"text-align: right;\">\n",
       "      <th></th>\n",
       "      <th>PassengerId</th>\n",
       "      <th>Survived</th>\n",
       "      <th>Pclass</th>\n",
       "      <th>Name</th>\n",
       "      <th>Sex</th>\n",
       "      <th>Age</th>\n",
       "      <th>SibSp</th>\n",
       "      <th>Parch</th>\n",
       "      <th>Ticket</th>\n",
       "      <th>Fare</th>\n",
       "      <th>Cabin</th>\n",
       "      <th>Embarked</th>\n",
       "    </tr>\n",
       "  </thead>\n",
       "  <tbody>\n",
       "    <tr>\n",
       "      <th>0</th>\n",
       "      <td>1</td>\n",
       "      <td>0</td>\n",
       "      <td>3</td>\n",
       "      <td>Braund, Mr. Owen Harris</td>\n",
       "      <td>male</td>\n",
       "      <td>22.0</td>\n",
       "      <td>1</td>\n",
       "      <td>0</td>\n",
       "      <td>A/5 21171</td>\n",
       "      <td>7.2500</td>\n",
       "      <td>NaN</td>\n",
       "      <td>S</td>\n",
       "    </tr>\n",
       "    <tr>\n",
       "      <th>1</th>\n",
       "      <td>2</td>\n",
       "      <td>1</td>\n",
       "      <td>1</td>\n",
       "      <td>Cumings, Mrs. John Bradley (Florence Briggs Th...</td>\n",
       "      <td>female</td>\n",
       "      <td>38.0</td>\n",
       "      <td>1</td>\n",
       "      <td>0</td>\n",
       "      <td>PC 17599</td>\n",
       "      <td>71.2833</td>\n",
       "      <td>C85</td>\n",
       "      <td>C</td>\n",
       "    </tr>\n",
       "    <tr>\n",
       "      <th>2</th>\n",
       "      <td>3</td>\n",
       "      <td>1</td>\n",
       "      <td>3</td>\n",
       "      <td>Heikkinen, Miss. Laina</td>\n",
       "      <td>female</td>\n",
       "      <td>26.0</td>\n",
       "      <td>0</td>\n",
       "      <td>0</td>\n",
       "      <td>STON/O2. 3101282</td>\n",
       "      <td>7.9250</td>\n",
       "      <td>NaN</td>\n",
       "      <td>S</td>\n",
       "    </tr>\n",
       "    <tr>\n",
       "      <th>3</th>\n",
       "      <td>4</td>\n",
       "      <td>1</td>\n",
       "      <td>1</td>\n",
       "      <td>Futrelle, Mrs. Jacques Heath (Lily May Peel)</td>\n",
       "      <td>female</td>\n",
       "      <td>35.0</td>\n",
       "      <td>1</td>\n",
       "      <td>0</td>\n",
       "      <td>113803</td>\n",
       "      <td>53.1000</td>\n",
       "      <td>C123</td>\n",
       "      <td>S</td>\n",
       "    </tr>\n",
       "    <tr>\n",
       "      <th>4</th>\n",
       "      <td>5</td>\n",
       "      <td>0</td>\n",
       "      <td>3</td>\n",
       "      <td>Allen, Mr. William Henry</td>\n",
       "      <td>male</td>\n",
       "      <td>35.0</td>\n",
       "      <td>0</td>\n",
       "      <td>0</td>\n",
       "      <td>373450</td>\n",
       "      <td>8.0500</td>\n",
       "      <td>NaN</td>\n",
       "      <td>S</td>\n",
       "    </tr>\n",
       "  </tbody>\n",
       "</table>\n",
       "</div>"
      ],
      "text/plain": [
       "   PassengerId  Survived  Pclass  \\\n",
       "0            1         0       3   \n",
       "1            2         1       1   \n",
       "2            3         1       3   \n",
       "3            4         1       1   \n",
       "4            5         0       3   \n",
       "\n",
       "                                                Name     Sex   Age  SibSp  \\\n",
       "0                            Braund, Mr. Owen Harris    male  22.0      1   \n",
       "1  Cumings, Mrs. John Bradley (Florence Briggs Th...  female  38.0      1   \n",
       "2                             Heikkinen, Miss. Laina  female  26.0      0   \n",
       "3       Futrelle, Mrs. Jacques Heath (Lily May Peel)  female  35.0      1   \n",
       "4                           Allen, Mr. William Henry    male  35.0      0   \n",
       "\n",
       "   Parch            Ticket     Fare Cabin Embarked  \n",
       "0      0         A/5 21171   7.2500   NaN        S  \n",
       "1      0          PC 17599  71.2833   C85        C  \n",
       "2      0  STON/O2. 3101282   7.9250   NaN        S  \n",
       "3      0            113803  53.1000  C123        S  \n",
       "4      0            373450   8.0500   NaN        S  "
      ]
     },
     "execution_count": 3,
     "metadata": {},
     "output_type": "execute_result"
    }
   ],
   "source": [
    "# confirm train_df\n",
    "train_df.head()"
   ]
  },
  {
   "cell_type": "code",
   "execution_count": 4,
   "id": "aee94406",
   "metadata": {
    "execution": {
     "iopub.execute_input": "2022-04-12T13:27:35.811012Z",
     "iopub.status.busy": "2022-04-12T13:27:35.810110Z",
     "iopub.status.idle": "2022-04-12T13:27:35.823523Z",
     "shell.execute_reply": "2022-04-12T13:27:35.823981Z",
     "shell.execute_reply.started": "2022-04-12T12:34:28.618926Z"
    },
    "papermill": {
     "duration": 0.032323,
     "end_time": "2022-04-12T13:27:35.824154",
     "exception": false,
     "start_time": "2022-04-12T13:27:35.791831",
     "status": "completed"
    },
    "tags": []
   },
   "outputs": [
    {
     "data": {
      "text/html": [
       "<div>\n",
       "<style scoped>\n",
       "    .dataframe tbody tr th:only-of-type {\n",
       "        vertical-align: middle;\n",
       "    }\n",
       "\n",
       "    .dataframe tbody tr th {\n",
       "        vertical-align: top;\n",
       "    }\n",
       "\n",
       "    .dataframe thead th {\n",
       "        text-align: right;\n",
       "    }\n",
       "</style>\n",
       "<table border=\"1\" class=\"dataframe\">\n",
       "  <thead>\n",
       "    <tr style=\"text-align: right;\">\n",
       "      <th></th>\n",
       "      <th>PassengerId</th>\n",
       "      <th>Pclass</th>\n",
       "      <th>Name</th>\n",
       "      <th>Sex</th>\n",
       "      <th>Age</th>\n",
       "      <th>SibSp</th>\n",
       "      <th>Parch</th>\n",
       "      <th>Ticket</th>\n",
       "      <th>Fare</th>\n",
       "      <th>Cabin</th>\n",
       "      <th>Embarked</th>\n",
       "    </tr>\n",
       "  </thead>\n",
       "  <tbody>\n",
       "    <tr>\n",
       "      <th>0</th>\n",
       "      <td>892</td>\n",
       "      <td>3</td>\n",
       "      <td>Kelly, Mr. James</td>\n",
       "      <td>male</td>\n",
       "      <td>34.5</td>\n",
       "      <td>0</td>\n",
       "      <td>0</td>\n",
       "      <td>330911</td>\n",
       "      <td>7.8292</td>\n",
       "      <td>NaN</td>\n",
       "      <td>Q</td>\n",
       "    </tr>\n",
       "    <tr>\n",
       "      <th>1</th>\n",
       "      <td>893</td>\n",
       "      <td>3</td>\n",
       "      <td>Wilkes, Mrs. James (Ellen Needs)</td>\n",
       "      <td>female</td>\n",
       "      <td>47.0</td>\n",
       "      <td>1</td>\n",
       "      <td>0</td>\n",
       "      <td>363272</td>\n",
       "      <td>7.0000</td>\n",
       "      <td>NaN</td>\n",
       "      <td>S</td>\n",
       "    </tr>\n",
       "    <tr>\n",
       "      <th>2</th>\n",
       "      <td>894</td>\n",
       "      <td>2</td>\n",
       "      <td>Myles, Mr. Thomas Francis</td>\n",
       "      <td>male</td>\n",
       "      <td>62.0</td>\n",
       "      <td>0</td>\n",
       "      <td>0</td>\n",
       "      <td>240276</td>\n",
       "      <td>9.6875</td>\n",
       "      <td>NaN</td>\n",
       "      <td>Q</td>\n",
       "    </tr>\n",
       "    <tr>\n",
       "      <th>3</th>\n",
       "      <td>895</td>\n",
       "      <td>3</td>\n",
       "      <td>Wirz, Mr. Albert</td>\n",
       "      <td>male</td>\n",
       "      <td>27.0</td>\n",
       "      <td>0</td>\n",
       "      <td>0</td>\n",
       "      <td>315154</td>\n",
       "      <td>8.6625</td>\n",
       "      <td>NaN</td>\n",
       "      <td>S</td>\n",
       "    </tr>\n",
       "    <tr>\n",
       "      <th>4</th>\n",
       "      <td>896</td>\n",
       "      <td>3</td>\n",
       "      <td>Hirvonen, Mrs. Alexander (Helga E Lindqvist)</td>\n",
       "      <td>female</td>\n",
       "      <td>22.0</td>\n",
       "      <td>1</td>\n",
       "      <td>1</td>\n",
       "      <td>3101298</td>\n",
       "      <td>12.2875</td>\n",
       "      <td>NaN</td>\n",
       "      <td>S</td>\n",
       "    </tr>\n",
       "  </tbody>\n",
       "</table>\n",
       "</div>"
      ],
      "text/plain": [
       "   PassengerId  Pclass                                          Name     Sex  \\\n",
       "0          892       3                              Kelly, Mr. James    male   \n",
       "1          893       3              Wilkes, Mrs. James (Ellen Needs)  female   \n",
       "2          894       2                     Myles, Mr. Thomas Francis    male   \n",
       "3          895       3                              Wirz, Mr. Albert    male   \n",
       "4          896       3  Hirvonen, Mrs. Alexander (Helga E Lindqvist)  female   \n",
       "\n",
       "    Age  SibSp  Parch   Ticket     Fare Cabin Embarked  \n",
       "0  34.5      0      0   330911   7.8292   NaN        Q  \n",
       "1  47.0      1      0   363272   7.0000   NaN        S  \n",
       "2  62.0      0      0   240276   9.6875   NaN        Q  \n",
       "3  27.0      0      0   315154   8.6625   NaN        S  \n",
       "4  22.0      1      1  3101298  12.2875   NaN        S  "
      ]
     },
     "execution_count": 4,
     "metadata": {},
     "output_type": "execute_result"
    }
   ],
   "source": [
    "# confirm test_df\n",
    "test_df.head()"
   ]
  },
  {
   "cell_type": "markdown",
   "id": "f2523692",
   "metadata": {
    "papermill": {
     "duration": 0.015993,
     "end_time": "2022-04-12T13:27:35.856966",
     "exception": false,
     "start_time": "2022-04-12T13:27:35.840973",
     "status": "completed"
    },
    "tags": []
   },
   "source": [
    "---\n",
    "# EDA"
   ]
  },
  {
   "cell_type": "code",
   "execution_count": 5,
   "id": "2aa2ce3e",
   "metadata": {
    "execution": {
     "iopub.execute_input": "2022-04-12T13:27:35.892408Z",
     "iopub.status.busy": "2022-04-12T13:27:35.891795Z",
     "iopub.status.idle": "2022-04-12T13:27:35.913146Z",
     "shell.execute_reply": "2022-04-12T13:27:35.914036Z",
     "shell.execute_reply.started": "2022-04-12T12:34:30.960740Z"
    },
    "papermill": {
     "duration": 0.041003,
     "end_time": "2022-04-12T13:27:35.914312",
     "exception": false,
     "start_time": "2022-04-12T13:27:35.873309",
     "status": "completed"
    },
    "tags": []
   },
   "outputs": [
    {
     "name": "stdout",
     "output_type": "stream",
     "text": [
      "<class 'pandas.core.frame.DataFrame'>\n",
      "RangeIndex: 891 entries, 0 to 890\n",
      "Data columns (total 12 columns):\n",
      " #   Column       Non-Null Count  Dtype  \n",
      "---  ------       --------------  -----  \n",
      " 0   PassengerId  891 non-null    int64  \n",
      " 1   Survived     891 non-null    int64  \n",
      " 2   Pclass       891 non-null    int64  \n",
      " 3   Name         891 non-null    object \n",
      " 4   Sex          891 non-null    object \n",
      " 5   Age          714 non-null    float64\n",
      " 6   SibSp        891 non-null    int64  \n",
      " 7   Parch        891 non-null    int64  \n",
      " 8   Ticket       891 non-null    object \n",
      " 9   Fare         891 non-null    float64\n",
      " 10  Cabin        204 non-null    object \n",
      " 11  Embarked     889 non-null    object \n",
      "dtypes: float64(2), int64(5), object(5)\n",
      "memory usage: 83.7+ KB\n"
     ]
    }
   ],
   "source": [
    "# get basic info on the train_df\n",
    "train_df.info()"
   ]
  },
  {
   "cell_type": "code",
   "execution_count": 6,
   "id": "f460bd35",
   "metadata": {
    "execution": {
     "iopub.execute_input": "2022-04-12T13:27:35.951935Z",
     "iopub.status.busy": "2022-04-12T13:27:35.951347Z",
     "iopub.status.idle": "2022-04-12T13:27:35.962643Z",
     "shell.execute_reply": "2022-04-12T13:27:35.963535Z",
     "shell.execute_reply.started": "2022-04-12T12:34:51.975283Z"
    },
    "papermill": {
     "duration": 0.031365,
     "end_time": "2022-04-12T13:27:35.963780",
     "exception": false,
     "start_time": "2022-04-12T13:27:35.932415",
     "status": "completed"
    },
    "tags": []
   },
   "outputs": [
    {
     "name": "stdout",
     "output_type": "stream",
     "text": [
      "<class 'pandas.core.frame.DataFrame'>\n",
      "RangeIndex: 418 entries, 0 to 417\n",
      "Data columns (total 11 columns):\n",
      " #   Column       Non-Null Count  Dtype  \n",
      "---  ------       --------------  -----  \n",
      " 0   PassengerId  418 non-null    int64  \n",
      " 1   Pclass       418 non-null    int64  \n",
      " 2   Name         418 non-null    object \n",
      " 3   Sex          418 non-null    object \n",
      " 4   Age          332 non-null    float64\n",
      " 5   SibSp        418 non-null    int64  \n",
      " 6   Parch        418 non-null    int64  \n",
      " 7   Ticket       418 non-null    object \n",
      " 8   Fare         417 non-null    float64\n",
      " 9   Cabin        91 non-null     object \n",
      " 10  Embarked     418 non-null    object \n",
      "dtypes: float64(2), int64(4), object(5)\n",
      "memory usage: 36.0+ KB\n"
     ]
    }
   ],
   "source": [
    "# get basic info on the test_df\n",
    "test_df.info()"
   ]
  },
  {
   "cell_type": "code",
   "execution_count": 7,
   "id": "91272939",
   "metadata": {
    "execution": {
     "iopub.execute_input": "2022-04-12T13:27:36.003750Z",
     "iopub.status.busy": "2022-04-12T13:27:36.001674Z",
     "iopub.status.idle": "2022-04-12T13:27:36.007958Z",
     "shell.execute_reply": "2022-04-12T13:27:36.007104Z",
     "shell.execute_reply.started": "2022-04-12T12:40:33.039471Z"
    },
    "papermill": {
     "duration": 0.026658,
     "end_time": "2022-04-12T13:27:36.008176",
     "exception": false,
     "start_time": "2022-04-12T13:27:35.981518",
     "status": "completed"
    },
    "tags": []
   },
   "outputs": [
    {
     "name": "stdout",
     "output_type": "stream",
     "text": [
      "Percentage of data in test set: 31.93%\n"
     ]
    }
   ],
   "source": [
    "# percentage of test set to overall set\n",
    "perc = round((len(test_df.index) / (len(train_df.index) + len(test_df.index)) * 100),2)\n",
    "print(f'Percentage of data in test set: {perc}%')"
   ]
  },
  {
   "cell_type": "markdown",
   "id": "387f5eab",
   "metadata": {
    "papermill": {
     "duration": 0.017234,
     "end_time": "2022-04-12T13:27:36.045588",
     "exception": false,
     "start_time": "2022-04-12T13:27:36.028354",
     "status": "completed"
    },
    "tags": []
   },
   "source": [
    "We see that the **train_df** has 891 rows and 11 columns. 10 of these columns will become *features*, while 1 (Survived) will become the *dependent variable*.\n",
    "\n",
    "We see that the **test_df** has 418 rows and 10 columns. 31.93% of our overall data is in the test set.\n",
    "\n",
    "**Data Dictionary:**\n",
    "* PassengerId - int. Key.\n",
    "* Survived - int. Survival. 0 = No, 1 = Yes. Boolean.\n",
    "* Pclass - int. Ticket class.\n",
    "* Name - str. Name of passenger.\n",
    "* Sex - str. Sex of passenger.\n",
    "* Age - float. Age of passenger. If age is estimated, takes xx.5.\n",
    "* SibSp - int. # of siblings/spouses on board. \n",
    "* Parch - int. # of parents/ children aboard the titanic.\n",
    "* Ticket - str. Ticket number.\n",
    "* Fare - float. Fare paid by passenger.\n",
    "* Cabin - str. Cabin of passenger.\n",
    "* Embarked - str. Port of embarkation. C = Cherbourg, Q = Queenstown, S = Southampton.\n",
    "\n",
    "**Initial Hypotheses:**\n",
    "* Young children will survive\n",
    "* Young women will survive.\n",
    "* Rich people will survive.\n",
    "* Location on ship matters.\n",
    "* Officers will not survive."
   ]
  },
  {
   "cell_type": "markdown",
   "id": "89139ea1",
   "metadata": {
    "papermill": {
     "duration": 0.016709,
     "end_time": "2022-04-12T13:27:36.079488",
     "exception": false,
     "start_time": "2022-04-12T13:27:36.062779",
     "status": "completed"
    },
    "tags": []
   },
   "source": [
    "## Categorical Variables"
   ]
  },
  {
   "cell_type": "markdown",
   "id": "fc2af67b",
   "metadata": {
    "papermill": {
     "duration": 0.016556,
     "end_time": "2022-04-12T13:27:36.113084",
     "exception": false,
     "start_time": "2022-04-12T13:27:36.096528",
     "status": "completed"
    },
    "tags": []
   },
   "source": [
    "Initial categorical variables are as follows:\n",
    "* Survived\n",
    "* Pclass\n",
    "* Name\n",
    "* Sex\n",
    "* Ticket\n",
    "* Cabin\n",
    "* Embarked"
   ]
  },
  {
   "cell_type": "markdown",
   "id": "88d08217",
   "metadata": {
    "papermill": {
     "duration": 0.016568,
     "end_time": "2022-04-12T13:27:36.146471",
     "exception": false,
     "start_time": "2022-04-12T13:27:36.129903",
     "status": "completed"
    },
    "tags": []
   },
   "source": [
    "## Quantitative Variables"
   ]
  },
  {
   "cell_type": "markdown",
   "id": "355d16b2",
   "metadata": {
    "papermill": {
     "duration": 0.016777,
     "end_time": "2022-04-12T13:27:36.180214",
     "exception": false,
     "start_time": "2022-04-12T13:27:36.163437",
     "status": "completed"
    },
    "tags": []
   },
   "source": [
    "Initial categorical variables are as follows:\n",
    "* Age\n",
    "* SibSp\n",
    "* Parch\n",
    "* Fare"
   ]
  },
  {
   "cell_type": "code",
   "execution_count": 8,
   "id": "15699322",
   "metadata": {
    "execution": {
     "iopub.execute_input": "2022-04-12T13:27:36.217929Z",
     "iopub.status.busy": "2022-04-12T13:27:36.217041Z",
     "iopub.status.idle": "2022-04-12T13:27:36.248980Z",
     "shell.execute_reply": "2022-04-12T13:27:36.249894Z",
     "shell.execute_reply.started": "2022-04-12T12:40:43.109970Z"
    },
    "papermill": {
     "duration": 0.052838,
     "end_time": "2022-04-12T13:27:36.250118",
     "exception": false,
     "start_time": "2022-04-12T13:27:36.197280",
     "status": "completed"
    },
    "tags": []
   },
   "outputs": [
    {
     "data": {
      "text/html": [
       "<div>\n",
       "<style scoped>\n",
       "    .dataframe tbody tr th:only-of-type {\n",
       "        vertical-align: middle;\n",
       "    }\n",
       "\n",
       "    .dataframe tbody tr th {\n",
       "        vertical-align: top;\n",
       "    }\n",
       "\n",
       "    .dataframe thead th {\n",
       "        text-align: right;\n",
       "    }\n",
       "</style>\n",
       "<table border=\"1\" class=\"dataframe\">\n",
       "  <thead>\n",
       "    <tr style=\"text-align: right;\">\n",
       "      <th></th>\n",
       "      <th>PassengerId</th>\n",
       "      <th>Survived</th>\n",
       "      <th>Pclass</th>\n",
       "      <th>Age</th>\n",
       "      <th>SibSp</th>\n",
       "      <th>Parch</th>\n",
       "      <th>Fare</th>\n",
       "    </tr>\n",
       "  </thead>\n",
       "  <tbody>\n",
       "    <tr>\n",
       "      <th>count</th>\n",
       "      <td>891.000000</td>\n",
       "      <td>891.000000</td>\n",
       "      <td>891.000000</td>\n",
       "      <td>714.000000</td>\n",
       "      <td>891.000000</td>\n",
       "      <td>891.000000</td>\n",
       "      <td>891.000000</td>\n",
       "    </tr>\n",
       "    <tr>\n",
       "      <th>mean</th>\n",
       "      <td>446.000000</td>\n",
       "      <td>0.383838</td>\n",
       "      <td>2.308642</td>\n",
       "      <td>29.699118</td>\n",
       "      <td>0.523008</td>\n",
       "      <td>0.381594</td>\n",
       "      <td>32.204208</td>\n",
       "    </tr>\n",
       "    <tr>\n",
       "      <th>std</th>\n",
       "      <td>257.353842</td>\n",
       "      <td>0.486592</td>\n",
       "      <td>0.836071</td>\n",
       "      <td>14.526497</td>\n",
       "      <td>1.102743</td>\n",
       "      <td>0.806057</td>\n",
       "      <td>49.693429</td>\n",
       "    </tr>\n",
       "    <tr>\n",
       "      <th>min</th>\n",
       "      <td>1.000000</td>\n",
       "      <td>0.000000</td>\n",
       "      <td>1.000000</td>\n",
       "      <td>0.420000</td>\n",
       "      <td>0.000000</td>\n",
       "      <td>0.000000</td>\n",
       "      <td>0.000000</td>\n",
       "    </tr>\n",
       "    <tr>\n",
       "      <th>25%</th>\n",
       "      <td>223.500000</td>\n",
       "      <td>0.000000</td>\n",
       "      <td>2.000000</td>\n",
       "      <td>20.125000</td>\n",
       "      <td>0.000000</td>\n",
       "      <td>0.000000</td>\n",
       "      <td>7.910400</td>\n",
       "    </tr>\n",
       "    <tr>\n",
       "      <th>50%</th>\n",
       "      <td>446.000000</td>\n",
       "      <td>0.000000</td>\n",
       "      <td>3.000000</td>\n",
       "      <td>28.000000</td>\n",
       "      <td>0.000000</td>\n",
       "      <td>0.000000</td>\n",
       "      <td>14.454200</td>\n",
       "    </tr>\n",
       "    <tr>\n",
       "      <th>75%</th>\n",
       "      <td>668.500000</td>\n",
       "      <td>1.000000</td>\n",
       "      <td>3.000000</td>\n",
       "      <td>38.000000</td>\n",
       "      <td>1.000000</td>\n",
       "      <td>0.000000</td>\n",
       "      <td>31.000000</td>\n",
       "    </tr>\n",
       "    <tr>\n",
       "      <th>max</th>\n",
       "      <td>891.000000</td>\n",
       "      <td>1.000000</td>\n",
       "      <td>3.000000</td>\n",
       "      <td>80.000000</td>\n",
       "      <td>8.000000</td>\n",
       "      <td>6.000000</td>\n",
       "      <td>512.329200</td>\n",
       "    </tr>\n",
       "  </tbody>\n",
       "</table>\n",
       "</div>"
      ],
      "text/plain": [
       "       PassengerId    Survived      Pclass         Age       SibSp  \\\n",
       "count   891.000000  891.000000  891.000000  714.000000  891.000000   \n",
       "mean    446.000000    0.383838    2.308642   29.699118    0.523008   \n",
       "std     257.353842    0.486592    0.836071   14.526497    1.102743   \n",
       "min       1.000000    0.000000    1.000000    0.420000    0.000000   \n",
       "25%     223.500000    0.000000    2.000000   20.125000    0.000000   \n",
       "50%     446.000000    0.000000    3.000000   28.000000    0.000000   \n",
       "75%     668.500000    1.000000    3.000000   38.000000    1.000000   \n",
       "max     891.000000    1.000000    3.000000   80.000000    8.000000   \n",
       "\n",
       "            Parch        Fare  \n",
       "count  891.000000  891.000000  \n",
       "mean     0.381594   32.204208  \n",
       "std      0.806057   49.693429  \n",
       "min      0.000000    0.000000  \n",
       "25%      0.000000    7.910400  \n",
       "50%      0.000000   14.454200  \n",
       "75%      0.000000   31.000000  \n",
       "max      6.000000  512.329200  "
      ]
     },
     "execution_count": 8,
     "metadata": {},
     "output_type": "execute_result"
    }
   ],
   "source": [
    "train_df.describe()"
   ]
  },
  {
   "cell_type": "code",
   "execution_count": 9,
   "id": "c9864127",
   "metadata": {
    "execution": {
     "iopub.execute_input": "2022-04-12T13:27:36.304427Z",
     "iopub.status.busy": "2022-04-12T13:27:36.303463Z",
     "iopub.status.idle": "2022-04-12T13:27:36.330053Z",
     "shell.execute_reply": "2022-04-12T13:27:36.330823Z",
     "shell.execute_reply.started": "2022-04-12T13:23:10.076599Z"
    },
    "papermill": {
     "duration": 0.062397,
     "end_time": "2022-04-12T13:27:36.331070",
     "exception": false,
     "start_time": "2022-04-12T13:27:36.268673",
     "status": "completed"
    },
    "tags": []
   },
   "outputs": [
    {
     "data": {
      "text/html": [
       "<div>\n",
       "<style scoped>\n",
       "    .dataframe tbody tr th:only-of-type {\n",
       "        vertical-align: middle;\n",
       "    }\n",
       "\n",
       "    .dataframe tbody tr th {\n",
       "        vertical-align: top;\n",
       "    }\n",
       "\n",
       "    .dataframe thead th {\n",
       "        text-align: right;\n",
       "    }\n",
       "</style>\n",
       "<table border=\"1\" class=\"dataframe\">\n",
       "  <thead>\n",
       "    <tr style=\"text-align: right;\">\n",
       "      <th></th>\n",
       "      <th>PassengerId</th>\n",
       "      <th>Pclass</th>\n",
       "      <th>Age</th>\n",
       "      <th>SibSp</th>\n",
       "      <th>Parch</th>\n",
       "      <th>Fare</th>\n",
       "    </tr>\n",
       "  </thead>\n",
       "  <tbody>\n",
       "    <tr>\n",
       "      <th>count</th>\n",
       "      <td>418.000000</td>\n",
       "      <td>418.000000</td>\n",
       "      <td>332.000000</td>\n",
       "      <td>418.000000</td>\n",
       "      <td>418.000000</td>\n",
       "      <td>417.000000</td>\n",
       "    </tr>\n",
       "    <tr>\n",
       "      <th>mean</th>\n",
       "      <td>1100.500000</td>\n",
       "      <td>2.265550</td>\n",
       "      <td>30.272590</td>\n",
       "      <td>0.447368</td>\n",
       "      <td>0.392344</td>\n",
       "      <td>35.627188</td>\n",
       "    </tr>\n",
       "    <tr>\n",
       "      <th>std</th>\n",
       "      <td>120.810458</td>\n",
       "      <td>0.841838</td>\n",
       "      <td>14.181209</td>\n",
       "      <td>0.896760</td>\n",
       "      <td>0.981429</td>\n",
       "      <td>55.907576</td>\n",
       "    </tr>\n",
       "    <tr>\n",
       "      <th>min</th>\n",
       "      <td>892.000000</td>\n",
       "      <td>1.000000</td>\n",
       "      <td>0.170000</td>\n",
       "      <td>0.000000</td>\n",
       "      <td>0.000000</td>\n",
       "      <td>0.000000</td>\n",
       "    </tr>\n",
       "    <tr>\n",
       "      <th>25%</th>\n",
       "      <td>996.250000</td>\n",
       "      <td>1.000000</td>\n",
       "      <td>21.000000</td>\n",
       "      <td>0.000000</td>\n",
       "      <td>0.000000</td>\n",
       "      <td>7.895800</td>\n",
       "    </tr>\n",
       "    <tr>\n",
       "      <th>50%</th>\n",
       "      <td>1100.500000</td>\n",
       "      <td>3.000000</td>\n",
       "      <td>27.000000</td>\n",
       "      <td>0.000000</td>\n",
       "      <td>0.000000</td>\n",
       "      <td>14.454200</td>\n",
       "    </tr>\n",
       "    <tr>\n",
       "      <th>75%</th>\n",
       "      <td>1204.750000</td>\n",
       "      <td>3.000000</td>\n",
       "      <td>39.000000</td>\n",
       "      <td>1.000000</td>\n",
       "      <td>0.000000</td>\n",
       "      <td>31.500000</td>\n",
       "    </tr>\n",
       "    <tr>\n",
       "      <th>max</th>\n",
       "      <td>1309.000000</td>\n",
       "      <td>3.000000</td>\n",
       "      <td>76.000000</td>\n",
       "      <td>8.000000</td>\n",
       "      <td>9.000000</td>\n",
       "      <td>512.329200</td>\n",
       "    </tr>\n",
       "  </tbody>\n",
       "</table>\n",
       "</div>"
      ],
      "text/plain": [
       "       PassengerId      Pclass         Age       SibSp       Parch        Fare\n",
       "count   418.000000  418.000000  332.000000  418.000000  418.000000  417.000000\n",
       "mean   1100.500000    2.265550   30.272590    0.447368    0.392344   35.627188\n",
       "std     120.810458    0.841838   14.181209    0.896760    0.981429   55.907576\n",
       "min     892.000000    1.000000    0.170000    0.000000    0.000000    0.000000\n",
       "25%     996.250000    1.000000   21.000000    0.000000    0.000000    7.895800\n",
       "50%    1100.500000    3.000000   27.000000    0.000000    0.000000   14.454200\n",
       "75%    1204.750000    3.000000   39.000000    1.000000    0.000000   31.500000\n",
       "max    1309.000000    3.000000   76.000000    8.000000    9.000000  512.329200"
      ]
     },
     "execution_count": 9,
     "metadata": {},
     "output_type": "execute_result"
    }
   ],
   "source": [
    "test_df.describe()"
   ]
  },
  {
   "cell_type": "markdown",
   "id": "e9aa8aae",
   "metadata": {
    "papermill": {
     "duration": 0.017925,
     "end_time": "2022-04-12T13:27:36.371024",
     "exception": false,
     "start_time": "2022-04-12T13:27:36.353099",
     "status": "completed"
    },
    "tags": []
   },
   "source": [
    "## Nulls"
   ]
  },
  {
   "cell_type": "code",
   "execution_count": null,
   "id": "b9010727",
   "metadata": {
    "papermill": {
     "duration": 0.01764,
     "end_time": "2022-04-12T13:27:36.406486",
     "exception": false,
     "start_time": "2022-04-12T13:27:36.388846",
     "status": "completed"
    },
    "tags": []
   },
   "outputs": [],
   "source": []
  },
  {
   "cell_type": "markdown",
   "id": "35b02153",
   "metadata": {
    "papermill": {
     "duration": 0.017686,
     "end_time": "2022-04-12T13:27:36.442202",
     "exception": false,
     "start_time": "2022-04-12T13:27:36.424516",
     "status": "completed"
    },
    "tags": []
   },
   "source": [
    "---\n",
    "# Modeling"
   ]
  },
  {
   "cell_type": "markdown",
   "id": "f17e24c4",
   "metadata": {
    "papermill": {
     "duration": 0.017641,
     "end_time": "2022-04-12T13:27:36.477826",
     "exception": false,
     "start_time": "2022-04-12T13:27:36.460185",
     "status": "completed"
    },
    "tags": []
   },
   "source": [
    "## Data Cleaning"
   ]
  },
  {
   "cell_type": "markdown",
   "id": "8045aa9f",
   "metadata": {
    "papermill": {
     "duration": 0.018864,
     "end_time": "2022-04-12T13:27:36.514577",
     "exception": false,
     "start_time": "2022-04-12T13:27:36.495713",
     "status": "completed"
    },
    "tags": []
   },
   "source": [
    "## Feature Engineering"
   ]
  },
  {
   "cell_type": "markdown",
   "id": "8833fa93",
   "metadata": {
    "papermill": {
     "duration": 0.01788,
     "end_time": "2022-04-12T13:27:36.551201",
     "exception": false,
     "start_time": "2022-04-12T13:27:36.533321",
     "status": "completed"
    },
    "tags": []
   },
   "source": [
    "## Train-Test Split"
   ]
  },
  {
   "cell_type": "markdown",
   "id": "ab955be4",
   "metadata": {
    "papermill": {
     "duration": 0.017609,
     "end_time": "2022-04-12T13:27:36.586613",
     "exception": false,
     "start_time": "2022-04-12T13:27:36.569004",
     "status": "completed"
    },
    "tags": []
   },
   "source": [
    "---\n",
    "# Submission"
   ]
  },
  {
   "cell_type": "code",
   "execution_count": null,
   "id": "e3251b21",
   "metadata": {
    "papermill": {
     "duration": 0.018347,
     "end_time": "2022-04-12T13:27:36.623093",
     "exception": false,
     "start_time": "2022-04-12T13:27:36.604746",
     "status": "completed"
    },
    "tags": []
   },
   "outputs": [],
   "source": []
  }
 ],
 "metadata": {
  "kernelspec": {
   "display_name": "Python 3",
   "language": "python",
   "name": "python3"
  },
  "language_info": {
   "codemirror_mode": {
    "name": "ipython",
    "version": 3
   },
   "file_extension": ".py",
   "mimetype": "text/x-python",
   "name": "python",
   "nbconvert_exporter": "python",
   "pygments_lexer": "ipython3",
   "version": "3.7.12"
  },
  "papermill": {
   "default_parameters": {},
   "duration": 10.251282,
   "end_time": "2022-04-12T13:27:37.251741",
   "environment_variables": {},
   "exception": null,
   "input_path": "__notebook__.ipynb",
   "output_path": "__notebook__.ipynb",
   "parameters": {},
   "start_time": "2022-04-12T13:27:27.000459",
   "version": "2.3.3"
  }
 },
 "nbformat": 4,
 "nbformat_minor": 5
}
