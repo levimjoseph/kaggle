{
 "cells": [
  {
   "cell_type": "markdown",
   "id": "2c863628",
   "metadata": {
    "papermill": {
     "duration": 0.054638,
     "end_time": "2022-04-12T17:56:39.432157",
     "exception": false,
     "start_time": "2022-04-12T17:56:39.377519",
     "status": "completed"
    },
    "tags": []
   },
   "source": [
    "# Overview"
   ]
  },
  {
   "cell_type": "markdown",
   "id": "43886861",
   "metadata": {
    "papermill": {
     "duration": 0.057184,
     "end_time": "2022-04-12T17:56:39.544943",
     "exception": false,
     "start_time": "2022-04-12T17:56:39.487759",
     "status": "completed"
    },
    "tags": []
   },
   "source": [
    " This is my first time participating in a Kaggle. I have used Kaggle competitions as learning resources in the past, and am now determined to become a competitor myself. Please see my [blog post](https://medium.com/@levimjoseph/getting-started-with-kaggle-competitions-63bee65fb31d) on the matter.  \n",
    "\n",
    "Much has been written about the Titanic competition on Kaggle. There are several wonderful notebook write ups, such as Alexis Cook's [Titanic Tutorial](https://www.kaggle.com/alexisbcook/titanic-tutorial). Therefore, I will not belabor my introduction.  \n",
    "\n",
    "That said, the Titanic Competition is a classification problem where we are tasked with predicting whether or not a passenger survived the ship's sinking."
   ]
  },
  {
   "cell_type": "markdown",
   "id": "50911737",
   "metadata": {
    "papermill": {
     "duration": 0.052781,
     "end_time": "2022-04-12T17:56:39.652819",
     "exception": false,
     "start_time": "2022-04-12T17:56:39.600038",
     "status": "completed"
    },
    "tags": []
   },
   "source": [
    "# Setup"
   ]
  },
  {
   "cell_type": "code",
   "execution_count": 1,
   "id": "692f4397",
   "metadata": {
    "execution": {
     "iopub.execute_input": "2022-04-12T17:56:39.778030Z",
     "iopub.status.busy": "2022-04-12T17:56:39.777277Z",
     "iopub.status.idle": "2022-04-12T17:56:40.937213Z",
     "shell.execute_reply": "2022-04-12T17:56:40.937807Z",
     "shell.execute_reply.started": "2022-04-12T16:13:59.906817Z"
    },
    "papermill": {
     "duration": 1.227123,
     "end_time": "2022-04-12T17:56:40.938167",
     "exception": false,
     "start_time": "2022-04-12T17:56:39.711044",
     "status": "completed"
    },
    "tags": []
   },
   "outputs": [],
   "source": [
    "# initial imports\n",
    "import numpy as np\n",
    "import pandas as pd\n",
    "import seaborn as sns\n",
    "\n",
    "seed = 42"
   ]
  },
  {
   "cell_type": "code",
   "execution_count": 2,
   "id": "19da2632",
   "metadata": {
    "execution": {
     "iopub.execute_input": "2022-04-12T17:56:41.073845Z",
     "iopub.status.busy": "2022-04-12T17:56:41.072807Z",
     "iopub.status.idle": "2022-04-12T17:56:41.103095Z",
     "shell.execute_reply": "2022-04-12T17:56:41.103643Z",
     "shell.execute_reply.started": "2022-04-12T16:14:00.461234Z"
    },
    "papermill": {
     "duration": 0.087921,
     "end_time": "2022-04-12T17:56:41.103868",
     "exception": false,
     "start_time": "2022-04-12T17:56:41.015947",
     "status": "completed"
    },
    "tags": []
   },
   "outputs": [],
   "source": [
    "# import train and test set\n",
    "train_df = pd.read_csv('../input/titanic/train.csv')\n",
    "test_df = pd.read_csv('../input/titanic/test.csv')"
   ]
  },
  {
   "cell_type": "code",
   "execution_count": 3,
   "id": "822b8bfc",
   "metadata": {
    "execution": {
     "iopub.execute_input": "2022-04-12T17:56:41.214323Z",
     "iopub.status.busy": "2022-04-12T17:56:41.213357Z",
     "iopub.status.idle": "2022-04-12T17:56:41.238848Z",
     "shell.execute_reply": "2022-04-12T17:56:41.239356Z",
     "shell.execute_reply.started": "2022-04-12T16:14:00.47988Z"
    },
    "papermill": {
     "duration": 0.082212,
     "end_time": "2022-04-12T17:56:41.239525",
     "exception": false,
     "start_time": "2022-04-12T17:56:41.157313",
     "status": "completed"
    },
    "tags": []
   },
   "outputs": [
    {
     "data": {
      "text/html": [
       "<div>\n",
       "<style scoped>\n",
       "    .dataframe tbody tr th:only-of-type {\n",
       "        vertical-align: middle;\n",
       "    }\n",
       "\n",
       "    .dataframe tbody tr th {\n",
       "        vertical-align: top;\n",
       "    }\n",
       "\n",
       "    .dataframe thead th {\n",
       "        text-align: right;\n",
       "    }\n",
       "</style>\n",
       "<table border=\"1\" class=\"dataframe\">\n",
       "  <thead>\n",
       "    <tr style=\"text-align: right;\">\n",
       "      <th></th>\n",
       "      <th>PassengerId</th>\n",
       "      <th>Survived</th>\n",
       "      <th>Pclass</th>\n",
       "      <th>Name</th>\n",
       "      <th>Sex</th>\n",
       "      <th>Age</th>\n",
       "      <th>SibSp</th>\n",
       "      <th>Parch</th>\n",
       "      <th>Ticket</th>\n",
       "      <th>Fare</th>\n",
       "      <th>Cabin</th>\n",
       "      <th>Embarked</th>\n",
       "    </tr>\n",
       "  </thead>\n",
       "  <tbody>\n",
       "    <tr>\n",
       "      <th>0</th>\n",
       "      <td>1</td>\n",
       "      <td>0</td>\n",
       "      <td>3</td>\n",
       "      <td>Braund, Mr. Owen Harris</td>\n",
       "      <td>male</td>\n",
       "      <td>22.0</td>\n",
       "      <td>1</td>\n",
       "      <td>0</td>\n",
       "      <td>A/5 21171</td>\n",
       "      <td>7.2500</td>\n",
       "      <td>NaN</td>\n",
       "      <td>S</td>\n",
       "    </tr>\n",
       "    <tr>\n",
       "      <th>1</th>\n",
       "      <td>2</td>\n",
       "      <td>1</td>\n",
       "      <td>1</td>\n",
       "      <td>Cumings, Mrs. John Bradley (Florence Briggs Th...</td>\n",
       "      <td>female</td>\n",
       "      <td>38.0</td>\n",
       "      <td>1</td>\n",
       "      <td>0</td>\n",
       "      <td>PC 17599</td>\n",
       "      <td>71.2833</td>\n",
       "      <td>C85</td>\n",
       "      <td>C</td>\n",
       "    </tr>\n",
       "    <tr>\n",
       "      <th>2</th>\n",
       "      <td>3</td>\n",
       "      <td>1</td>\n",
       "      <td>3</td>\n",
       "      <td>Heikkinen, Miss. Laina</td>\n",
       "      <td>female</td>\n",
       "      <td>26.0</td>\n",
       "      <td>0</td>\n",
       "      <td>0</td>\n",
       "      <td>STON/O2. 3101282</td>\n",
       "      <td>7.9250</td>\n",
       "      <td>NaN</td>\n",
       "      <td>S</td>\n",
       "    </tr>\n",
       "    <tr>\n",
       "      <th>3</th>\n",
       "      <td>4</td>\n",
       "      <td>1</td>\n",
       "      <td>1</td>\n",
       "      <td>Futrelle, Mrs. Jacques Heath (Lily May Peel)</td>\n",
       "      <td>female</td>\n",
       "      <td>35.0</td>\n",
       "      <td>1</td>\n",
       "      <td>0</td>\n",
       "      <td>113803</td>\n",
       "      <td>53.1000</td>\n",
       "      <td>C123</td>\n",
       "      <td>S</td>\n",
       "    </tr>\n",
       "    <tr>\n",
       "      <th>4</th>\n",
       "      <td>5</td>\n",
       "      <td>0</td>\n",
       "      <td>3</td>\n",
       "      <td>Allen, Mr. William Henry</td>\n",
       "      <td>male</td>\n",
       "      <td>35.0</td>\n",
       "      <td>0</td>\n",
       "      <td>0</td>\n",
       "      <td>373450</td>\n",
       "      <td>8.0500</td>\n",
       "      <td>NaN</td>\n",
       "      <td>S</td>\n",
       "    </tr>\n",
       "  </tbody>\n",
       "</table>\n",
       "</div>"
      ],
      "text/plain": [
       "   PassengerId  Survived  Pclass  \\\n",
       "0            1         0       3   \n",
       "1            2         1       1   \n",
       "2            3         1       3   \n",
       "3            4         1       1   \n",
       "4            5         0       3   \n",
       "\n",
       "                                                Name     Sex   Age  SibSp  \\\n",
       "0                            Braund, Mr. Owen Harris    male  22.0      1   \n",
       "1  Cumings, Mrs. John Bradley (Florence Briggs Th...  female  38.0      1   \n",
       "2                             Heikkinen, Miss. Laina  female  26.0      0   \n",
       "3       Futrelle, Mrs. Jacques Heath (Lily May Peel)  female  35.0      1   \n",
       "4                           Allen, Mr. William Henry    male  35.0      0   \n",
       "\n",
       "   Parch            Ticket     Fare Cabin Embarked  \n",
       "0      0         A/5 21171   7.2500   NaN        S  \n",
       "1      0          PC 17599  71.2833   C85        C  \n",
       "2      0  STON/O2. 3101282   7.9250   NaN        S  \n",
       "3      0            113803  53.1000  C123        S  \n",
       "4      0            373450   8.0500   NaN        S  "
      ]
     },
     "execution_count": 3,
     "metadata": {},
     "output_type": "execute_result"
    }
   ],
   "source": [
    "# confirm train_df\n",
    "train_df.head()"
   ]
  },
  {
   "cell_type": "code",
   "execution_count": 4,
   "id": "80c645f3",
   "metadata": {
    "execution": {
     "iopub.execute_input": "2022-04-12T17:56:41.353091Z",
     "iopub.status.busy": "2022-04-12T17:56:41.352120Z",
     "iopub.status.idle": "2022-04-12T17:56:41.367538Z",
     "shell.execute_reply": "2022-04-12T17:56:41.368058Z",
     "shell.execute_reply.started": "2022-04-12T16:14:00.510496Z"
    },
    "papermill": {
     "duration": 0.072651,
     "end_time": "2022-04-12T17:56:41.368276",
     "exception": false,
     "start_time": "2022-04-12T17:56:41.295625",
     "status": "completed"
    },
    "tags": []
   },
   "outputs": [
    {
     "data": {
      "text/html": [
       "<div>\n",
       "<style scoped>\n",
       "    .dataframe tbody tr th:only-of-type {\n",
       "        vertical-align: middle;\n",
       "    }\n",
       "\n",
       "    .dataframe tbody tr th {\n",
       "        vertical-align: top;\n",
       "    }\n",
       "\n",
       "    .dataframe thead th {\n",
       "        text-align: right;\n",
       "    }\n",
       "</style>\n",
       "<table border=\"1\" class=\"dataframe\">\n",
       "  <thead>\n",
       "    <tr style=\"text-align: right;\">\n",
       "      <th></th>\n",
       "      <th>PassengerId</th>\n",
       "      <th>Pclass</th>\n",
       "      <th>Name</th>\n",
       "      <th>Sex</th>\n",
       "      <th>Age</th>\n",
       "      <th>SibSp</th>\n",
       "      <th>Parch</th>\n",
       "      <th>Ticket</th>\n",
       "      <th>Fare</th>\n",
       "      <th>Cabin</th>\n",
       "      <th>Embarked</th>\n",
       "    </tr>\n",
       "  </thead>\n",
       "  <tbody>\n",
       "    <tr>\n",
       "      <th>0</th>\n",
       "      <td>892</td>\n",
       "      <td>3</td>\n",
       "      <td>Kelly, Mr. James</td>\n",
       "      <td>male</td>\n",
       "      <td>34.5</td>\n",
       "      <td>0</td>\n",
       "      <td>0</td>\n",
       "      <td>330911</td>\n",
       "      <td>7.8292</td>\n",
       "      <td>NaN</td>\n",
       "      <td>Q</td>\n",
       "    </tr>\n",
       "    <tr>\n",
       "      <th>1</th>\n",
       "      <td>893</td>\n",
       "      <td>3</td>\n",
       "      <td>Wilkes, Mrs. James (Ellen Needs)</td>\n",
       "      <td>female</td>\n",
       "      <td>47.0</td>\n",
       "      <td>1</td>\n",
       "      <td>0</td>\n",
       "      <td>363272</td>\n",
       "      <td>7.0000</td>\n",
       "      <td>NaN</td>\n",
       "      <td>S</td>\n",
       "    </tr>\n",
       "    <tr>\n",
       "      <th>2</th>\n",
       "      <td>894</td>\n",
       "      <td>2</td>\n",
       "      <td>Myles, Mr. Thomas Francis</td>\n",
       "      <td>male</td>\n",
       "      <td>62.0</td>\n",
       "      <td>0</td>\n",
       "      <td>0</td>\n",
       "      <td>240276</td>\n",
       "      <td>9.6875</td>\n",
       "      <td>NaN</td>\n",
       "      <td>Q</td>\n",
       "    </tr>\n",
       "    <tr>\n",
       "      <th>3</th>\n",
       "      <td>895</td>\n",
       "      <td>3</td>\n",
       "      <td>Wirz, Mr. Albert</td>\n",
       "      <td>male</td>\n",
       "      <td>27.0</td>\n",
       "      <td>0</td>\n",
       "      <td>0</td>\n",
       "      <td>315154</td>\n",
       "      <td>8.6625</td>\n",
       "      <td>NaN</td>\n",
       "      <td>S</td>\n",
       "    </tr>\n",
       "    <tr>\n",
       "      <th>4</th>\n",
       "      <td>896</td>\n",
       "      <td>3</td>\n",
       "      <td>Hirvonen, Mrs. Alexander (Helga E Lindqvist)</td>\n",
       "      <td>female</td>\n",
       "      <td>22.0</td>\n",
       "      <td>1</td>\n",
       "      <td>1</td>\n",
       "      <td>3101298</td>\n",
       "      <td>12.2875</td>\n",
       "      <td>NaN</td>\n",
       "      <td>S</td>\n",
       "    </tr>\n",
       "  </tbody>\n",
       "</table>\n",
       "</div>"
      ],
      "text/plain": [
       "   PassengerId  Pclass                                          Name     Sex  \\\n",
       "0          892       3                              Kelly, Mr. James    male   \n",
       "1          893       3              Wilkes, Mrs. James (Ellen Needs)  female   \n",
       "2          894       2                     Myles, Mr. Thomas Francis    male   \n",
       "3          895       3                              Wirz, Mr. Albert    male   \n",
       "4          896       3  Hirvonen, Mrs. Alexander (Helga E Lindqvist)  female   \n",
       "\n",
       "    Age  SibSp  Parch   Ticket     Fare Cabin Embarked  \n",
       "0  34.5      0      0   330911   7.8292   NaN        Q  \n",
       "1  47.0      1      0   363272   7.0000   NaN        S  \n",
       "2  62.0      0      0   240276   9.6875   NaN        Q  \n",
       "3  27.0      0      0   315154   8.6625   NaN        S  \n",
       "4  22.0      1      1  3101298  12.2875   NaN        S  "
      ]
     },
     "execution_count": 4,
     "metadata": {},
     "output_type": "execute_result"
    }
   ],
   "source": [
    "# confirm test_df\n",
    "test_df.head()"
   ]
  },
  {
   "cell_type": "markdown",
   "id": "5c0dedc1",
   "metadata": {
    "papermill": {
     "duration": 0.054235,
     "end_time": "2022-04-12T17:56:41.477732",
     "exception": false,
     "start_time": "2022-04-12T17:56:41.423497",
     "status": "completed"
    },
    "tags": []
   },
   "source": [
    "---\n",
    "# EDA"
   ]
  },
  {
   "cell_type": "code",
   "execution_count": 5,
   "id": "a3acc126",
   "metadata": {
    "execution": {
     "iopub.execute_input": "2022-04-12T17:56:41.591864Z",
     "iopub.status.busy": "2022-04-12T17:56:41.590931Z",
     "iopub.status.idle": "2022-04-12T17:56:41.617572Z",
     "shell.execute_reply": "2022-04-12T17:56:41.618245Z",
     "shell.execute_reply.started": "2022-04-12T16:14:00.529733Z"
    },
    "papermill": {
     "duration": 0.086117,
     "end_time": "2022-04-12T17:56:41.618438",
     "exception": false,
     "start_time": "2022-04-12T17:56:41.532321",
     "status": "completed"
    },
    "tags": []
   },
   "outputs": [
    {
     "name": "stdout",
     "output_type": "stream",
     "text": [
      "<class 'pandas.core.frame.DataFrame'>\n",
      "RangeIndex: 891 entries, 0 to 890\n",
      "Data columns (total 12 columns):\n",
      " #   Column       Non-Null Count  Dtype  \n",
      "---  ------       --------------  -----  \n",
      " 0   PassengerId  891 non-null    int64  \n",
      " 1   Survived     891 non-null    int64  \n",
      " 2   Pclass       891 non-null    int64  \n",
      " 3   Name         891 non-null    object \n",
      " 4   Sex          891 non-null    object \n",
      " 5   Age          714 non-null    float64\n",
      " 6   SibSp        891 non-null    int64  \n",
      " 7   Parch        891 non-null    int64  \n",
      " 8   Ticket       891 non-null    object \n",
      " 9   Fare         891 non-null    float64\n",
      " 10  Cabin        204 non-null    object \n",
      " 11  Embarked     889 non-null    object \n",
      "dtypes: float64(2), int64(5), object(5)\n",
      "memory usage: 83.7+ KB\n"
     ]
    }
   ],
   "source": [
    "# get basic info on the train_df\n",
    "train_df.info()"
   ]
  },
  {
   "cell_type": "code",
   "execution_count": 6,
   "id": "e37f354b",
   "metadata": {
    "execution": {
     "iopub.execute_input": "2022-04-12T17:56:41.731418Z",
     "iopub.status.busy": "2022-04-12T17:56:41.730458Z",
     "iopub.status.idle": "2022-04-12T17:56:41.743618Z",
     "shell.execute_reply": "2022-04-12T17:56:41.742963Z",
     "shell.execute_reply.started": "2022-04-12T16:14:00.557935Z"
    },
    "papermill": {
     "duration": 0.070634,
     "end_time": "2022-04-12T17:56:41.743777",
     "exception": false,
     "start_time": "2022-04-12T17:56:41.673143",
     "status": "completed"
    },
    "tags": []
   },
   "outputs": [
    {
     "name": "stdout",
     "output_type": "stream",
     "text": [
      "<class 'pandas.core.frame.DataFrame'>\n",
      "RangeIndex: 418 entries, 0 to 417\n",
      "Data columns (total 11 columns):\n",
      " #   Column       Non-Null Count  Dtype  \n",
      "---  ------       --------------  -----  \n",
      " 0   PassengerId  418 non-null    int64  \n",
      " 1   Pclass       418 non-null    int64  \n",
      " 2   Name         418 non-null    object \n",
      " 3   Sex          418 non-null    object \n",
      " 4   Age          332 non-null    float64\n",
      " 5   SibSp        418 non-null    int64  \n",
      " 6   Parch        418 non-null    int64  \n",
      " 7   Ticket       418 non-null    object \n",
      " 8   Fare         417 non-null    float64\n",
      " 9   Cabin        91 non-null     object \n",
      " 10  Embarked     418 non-null    object \n",
      "dtypes: float64(2), int64(4), object(5)\n",
      "memory usage: 36.0+ KB\n"
     ]
    }
   ],
   "source": [
    "# get basic info on the test_df\n",
    "test_df.info()"
   ]
  },
  {
   "cell_type": "code",
   "execution_count": 7,
   "id": "e85ed329",
   "metadata": {
    "execution": {
     "iopub.execute_input": "2022-04-12T17:56:41.859943Z",
     "iopub.status.busy": "2022-04-12T17:56:41.858915Z",
     "iopub.status.idle": "2022-04-12T17:56:41.864966Z",
     "shell.execute_reply": "2022-04-12T17:56:41.865473Z",
     "shell.execute_reply.started": "2022-04-12T16:14:00.581528Z"
    },
    "papermill": {
     "duration": 0.065411,
     "end_time": "2022-04-12T17:56:41.865647",
     "exception": false,
     "start_time": "2022-04-12T17:56:41.800236",
     "status": "completed"
    },
    "tags": []
   },
   "outputs": [
    {
     "name": "stdout",
     "output_type": "stream",
     "text": [
      "Percentage of data in test set: 31.93%\n"
     ]
    }
   ],
   "source": [
    "# percentage of test set to overall set\n",
    "test_perc = round((len(test_df.index) / (len(train_df.index) + len(test_df.index)) * 100),2)\n",
    "print(f'Percentage of data in test set: {test_perc}%')"
   ]
  },
  {
   "cell_type": "markdown",
   "id": "5a70ded0",
   "metadata": {
    "papermill": {
     "duration": 0.054694,
     "end_time": "2022-04-12T17:56:41.975152",
     "exception": false,
     "start_time": "2022-04-12T17:56:41.920458",
     "status": "completed"
    },
    "tags": []
   },
   "source": [
    "We see that the **train_df** has 891 rows and 11 columns. 10 of these columns will become *features*, while 1 (Survived) will become the *dependent variable*.\n",
    "\n",
    "We see that the **test_df** has 418 rows and 10 columns. 31.93% of our overall data is in the test set.\n",
    "\n",
    "**Data Dictionary:**\n",
    "* PassengerId - int. Key.\n",
    "* Survived - int. Survival. 0 = No, 1 = Yes. Boolean.\n",
    "* Pclass - int. Ticket class.\n",
    "* Name - str. Name of passenger.\n",
    "* Sex - str. Sex of passenger.\n",
    "* Age - float. Age of passenger. If age is estimated, takes xx.5. Has nulls.\n",
    "* SibSp - int. # of siblings/spouses on board. \n",
    "* Parch - int. # of parents/ children aboard the titanic.\n",
    "* Ticket - str. Ticket number.\n",
    "* Fare - float. Fare paid by passenger. Has nulls.\n",
    "* Cabin - str. Cabin of passenger. Has nulls.\n",
    "* Embarked - str. Port of embarkation. C = Cherbourg, Q = Queenstown, S = Southampton. Has nulls.\n",
    "\n",
    "**Initial Hypotheses:**\n",
    "* Young children will survive\n",
    "* Young women will survive.\n",
    "* Rich people will survive.\n",
    "* Location on ship matters.\n",
    "* Titles will or will not survive (depending on title).\n",
    "* Larger families will not survive."
   ]
  },
  {
   "cell_type": "code",
   "execution_count": 8,
   "id": "77b59c72",
   "metadata": {
    "execution": {
     "iopub.execute_input": "2022-04-12T17:56:42.092824Z",
     "iopub.status.busy": "2022-04-12T17:56:42.092132Z",
     "iopub.status.idle": "2022-04-12T17:56:42.372354Z",
     "shell.execute_reply": "2022-04-12T17:56:42.372840Z",
     "shell.execute_reply.started": "2022-04-12T16:14:00.59047Z"
    },
    "papermill": {
     "duration": 0.342919,
     "end_time": "2022-04-12T17:56:42.373018",
     "exception": false,
     "start_time": "2022-04-12T17:56:42.030099",
     "status": "completed"
    },
    "tags": []
   },
   "outputs": [
    {
     "name": "stdout",
     "output_type": "stream",
     "text": [
      "Percentage who survived: 38.38%\n"
     ]
    },
    {
     "data": {
      "image/png": "[encoded data removed]",
      "text/plain": [
       "<Figure size 360x360 with 1 Axes>"
      ]
     },
     "metadata": {
      "needs_background": "light"
     },
     "output_type": "display_data"
    }
   ],
   "source": [
    "# Survived\n",
    "sns.catplot(x='Survived', data=train_df, kind='count')\n",
    "survived_perc = round((train_df['Survived'].sum()) / len(train_df.index) * 100,2)\n",
    "print(f'Percentage who survived: {survived_perc}%')"
   ]
  },
  {
   "cell_type": "code",
   "execution_count": 9,
   "id": "42d82e3c",
   "metadata": {
    "execution": {
     "iopub.execute_input": "2022-04-12T17:56:42.489100Z",
     "iopub.status.busy": "2022-04-12T17:56:42.488372Z",
     "iopub.status.idle": "2022-04-12T17:56:42.735145Z",
     "shell.execute_reply": "2022-04-12T17:56:42.734481Z",
     "shell.execute_reply.started": "2022-04-12T16:14:00.880477Z"
    },
    "papermill": {
     "duration": 0.305863,
     "end_time": "2022-04-12T17:56:42.735297",
     "exception": false,
     "start_time": "2022-04-12T17:56:42.429434",
     "status": "completed"
    },
    "tags": []
   },
   "outputs": [
    {
     "data": {
      "text/plain": [
       "<seaborn.axisgrid.FacetGrid at 0x7f57c6229710>"
      ]
     },
     "execution_count": 9,
     "metadata": {},
     "output_type": "execute_result"
    },
    {
     "data": {
      "image/png": "[encoded data removed]",
      "text/plain": [
       "<Figure size 360x360 with 1 Axes>"
      ]
     },
     "metadata": {
      "needs_background": "light"
     },
     "output_type": "display_data"
    }
   ],
   "source": [
    "# PClass\n",
    "sns.catplot(x='Pclass', data=train_df, kind='count')"
   ]
  },
  {
   "cell_type": "code",
   "execution_count": 10,
   "id": "9d6c0310",
   "metadata": {
    "execution": {
     "iopub.execute_input": "2022-04-12T17:56:42.859661Z",
     "iopub.status.busy": "2022-04-12T17:56:42.859015Z",
     "iopub.status.idle": "2022-04-12T17:56:43.199792Z",
     "shell.execute_reply": "2022-04-12T17:56:43.200307Z",
     "shell.execute_reply.started": "2022-04-12T16:14:01.141726Z"
    },
    "papermill": {
     "duration": 0.406514,
     "end_time": "2022-04-12T17:56:43.200495",
     "exception": false,
     "start_time": "2022-04-12T17:56:42.793981",
     "status": "completed"
    },
    "tags": []
   },
   "outputs": [
    {
     "data": {
      "text/plain": [
       "<seaborn.axisgrid.FacetGrid at 0x7f57c8283150>"
      ]
     },
     "execution_count": 10,
     "metadata": {},
     "output_type": "execute_result"
    },
    {
     "data": {
      "image/png": "[encoded data removed]",
      "text/plain": [
       "<Figure size 411.875x360 with 1 Axes>"
      ]
     },
     "metadata": {
      "needs_background": "light"
     },
     "output_type": "display_data"
    }
   ],
   "source": [
    "# PClass and Survived\n",
    "sns.catplot(x='Pclass', hue='Survived', data=train_df, kind='count')"
   ]
  },
  {
   "cell_type": "markdown",
   "id": "cdaf6f8a",
   "metadata": {
    "papermill": {
     "duration": 0.061561,
     "end_time": "2022-04-12T17:56:43.322784",
     "exception": false,
     "start_time": "2022-04-12T17:56:43.261223",
     "status": "completed"
    },
    "tags": []
   },
   "source": [
    "As expected, Pclass appears to be correlated with survival."
   ]
  },
  {
   "cell_type": "code",
   "execution_count": 11,
   "id": "11242e5c",
   "metadata": {
    "execution": {
     "iopub.execute_input": "2022-04-12T17:56:43.445835Z",
     "iopub.status.busy": "2022-04-12T17:56:43.445098Z",
     "iopub.status.idle": "2022-04-12T17:56:43.690481Z",
     "shell.execute_reply": "2022-04-12T17:56:43.691001Z",
     "shell.execute_reply.started": "2022-04-12T16:14:01.503268Z"
    },
    "papermill": {
     "duration": 0.308862,
     "end_time": "2022-04-12T17:56:43.691196",
     "exception": false,
     "start_time": "2022-04-12T17:56:43.382334",
     "status": "completed"
    },
    "tags": []
   },
   "outputs": [
    {
     "data": {
      "text/plain": [
       "<seaborn.axisgrid.FacetGrid at 0x7f57c6229f10>"
      ]
     },
     "execution_count": 11,
     "metadata": {},
     "output_type": "execute_result"
    },
    {
     "data": {
      "image/png": "[encoded data removed]",
      "text/plain": [
       "<Figure size 360x360 with 1 Axes>"
      ]
     },
     "metadata": {
      "needs_background": "light"
     },
     "output_type": "display_data"
    }
   ],
   "source": [
    "# Sex\n",
    "sns.catplot(x='Sex', data=train_df, kind='count')"
   ]
  },
  {
   "cell_type": "code",
   "execution_count": 12,
   "id": "ef1724ed",
   "metadata": {
    "execution": {
     "iopub.execute_input": "2022-04-12T17:56:43.818941Z",
     "iopub.status.busy": "2022-04-12T17:56:43.817797Z",
     "iopub.status.idle": "2022-04-12T17:56:44.128306Z",
     "shell.execute_reply": "2022-04-12T17:56:44.127694Z",
     "shell.execute_reply.started": "2022-04-12T16:14:01.766468Z"
    },
    "papermill": {
     "duration": 0.37723,
     "end_time": "2022-04-12T17:56:44.128459",
     "exception": false,
     "start_time": "2022-04-12T17:56:43.751229",
     "status": "completed"
    },
    "tags": []
   },
   "outputs": [
    {
     "data": {
      "text/plain": [
       "<seaborn.axisgrid.FacetGrid at 0x7f57c5fd0810>"
      ]
     },
     "execution_count": 12,
     "metadata": {},
     "output_type": "execute_result"
    },
    {
     "data": {
      "image/png": "[encoded data removed]",
      "text/plain": [
       "<Figure size 411.875x360 with 1 Axes>"
      ]
     },
     "metadata": {
      "needs_background": "light"
     },
     "output_type": "display_data"
    }
   ],
   "source": [
    "# Sex and Survived\n",
    "sns.catplot(x='Sex', hue='Survived', data=train_df, kind='count')"
   ]
  },
  {
   "cell_type": "markdown",
   "id": "6ac5890b",
   "metadata": {
    "papermill": {
     "duration": 0.061245,
     "end_time": "2022-04-12T17:56:44.250902",
     "exception": false,
     "start_time": "2022-04-12T17:56:44.189657",
     "status": "completed"
    },
    "tags": []
   },
   "source": [
    "As expected, Sex appears to be correlated with survival."
   ]
  },
  {
   "cell_type": "code",
   "execution_count": 13,
   "id": "bfb1735e",
   "metadata": {
    "execution": {
     "iopub.execute_input": "2022-04-12T17:56:44.387043Z",
     "iopub.status.busy": "2022-04-12T17:56:44.384739Z",
     "iopub.status.idle": "2022-04-12T17:56:44.636906Z",
     "shell.execute_reply": "2022-04-12T17:56:44.636374Z",
     "shell.execute_reply.started": "2022-04-12T16:14:02.095878Z"
    },
    "papermill": {
     "duration": 0.323019,
     "end_time": "2022-04-12T17:56:44.637049",
     "exception": false,
     "start_time": "2022-04-12T17:56:44.314030",
     "status": "completed"
    },
    "tags": []
   },
   "outputs": [
    {
     "data": {
      "text/plain": [
       "<seaborn.axisgrid.FacetGrid at 0x7f57c5fd7fd0>"
      ]
     },
     "execution_count": 13,
     "metadata": {},
     "output_type": "execute_result"
    },
    {
     "data": {
      "image/png": "[encoded data removed]",
      "text/plain": [
       "<Figure size 360x360 with 1 Axes>"
      ]
     },
     "metadata": {
      "needs_background": "light"
     },
     "output_type": "display_data"
    }
   ],
   "source": [
    "# Embarked\n",
    "sns.catplot(x='Embarked', data=train_df, kind='count')"
   ]
  },
  {
   "cell_type": "code",
   "execution_count": 14,
   "id": "72370ecf",
   "metadata": {
    "execution": {
     "iopub.execute_input": "2022-04-12T17:56:44.775288Z",
     "iopub.status.busy": "2022-04-12T17:56:44.774405Z",
     "iopub.status.idle": "2022-04-12T17:56:45.125098Z",
     "shell.execute_reply": "2022-04-12T17:56:45.124430Z",
     "shell.execute_reply.started": "2022-04-12T16:14:02.355465Z"
    },
    "papermill": {
     "duration": 0.425243,
     "end_time": "2022-04-12T17:56:45.125243",
     "exception": false,
     "start_time": "2022-04-12T17:56:44.700000",
     "status": "completed"
    },
    "tags": []
   },
   "outputs": [
    {
     "data": {
      "text/plain": [
       "<seaborn.axisgrid.FacetGrid at 0x7f57c5ee66d0>"
      ]
     },
     "execution_count": 14,
     "metadata": {},
     "output_type": "execute_result"
    },
    {
     "data": {
      "image/png": "[encoded data removed]",
      "text/plain": [
       "<Figure size 411.875x360 with 1 Axes>"
      ]
     },
     "metadata": {
      "needs_background": "light"
     },
     "output_type": "display_data"
    }
   ],
   "source": [
    "# Embarked and Survived\n",
    "sns.catplot(x='Embarked', hue='Survived', data=train_df, kind='count')"
   ]
  },
  {
   "cell_type": "markdown",
   "id": "6a7950b6",
   "metadata": {
    "papermill": {
     "duration": 0.064158,
     "end_time": "2022-04-12T17:56:45.252616",
     "exception": false,
     "start_time": "2022-04-12T17:56:45.188458",
     "status": "completed"
    },
    "tags": []
   },
   "source": [
    "This is an initially surprising finding, though I think perhaps Embarked may be correlated with Pclass."
   ]
  },
  {
   "cell_type": "code",
   "execution_count": 15,
   "id": "63c6340e",
   "metadata": {
    "execution": {
     "iopub.execute_input": "2022-04-12T17:56:45.391870Z",
     "iopub.status.busy": "2022-04-12T17:56:45.390863Z",
     "iopub.status.idle": "2022-04-12T17:56:45.744355Z",
     "shell.execute_reply": "2022-04-12T17:56:45.743803Z",
     "shell.execute_reply.started": "2022-04-12T16:14:02.724338Z"
    },
    "papermill": {
     "duration": 0.427651,
     "end_time": "2022-04-12T17:56:45.744495",
     "exception": false,
     "start_time": "2022-04-12T17:56:45.316844",
     "status": "completed"
    },
    "tags": []
   },
   "outputs": [
    {
     "data": {
      "text/plain": [
       "<seaborn.axisgrid.FacetGrid at 0x7f57c6044dd0>"
      ]
     },
     "execution_count": 15,
     "metadata": {},
     "output_type": "execute_result"
    },
    {
     "data": {
      "image/png": "[encoded data removed]",
      "text/plain": [
       "<Figure size 402.375x360 with 1 Axes>"
      ]
     },
     "metadata": {
      "needs_background": "light"
     },
     "output_type": "display_data"
    }
   ],
   "source": [
    "# Embarked and Pclass\n",
    "sns.catplot(x='Embarked', hue='Pclass', data=train_df, kind='count')"
   ]
  },
  {
   "cell_type": "markdown",
   "id": "b59ebc5f",
   "metadata": {
    "papermill": {
     "duration": 0.067643,
     "end_time": "2022-04-12T17:56:45.876532",
     "exception": false,
     "start_time": "2022-04-12T17:56:45.808889",
     "status": "completed"
    },
    "tags": []
   },
   "source": [
    "As expected, S is disproportionately 3rd class. I would consider this a spurious correlation as Pclass is likely the underlying structure driving survival in this case (phrased differently, I do not think being from C or Q means you are a better swimmer)."
   ]
  },
  {
   "cell_type": "code",
   "execution_count": 16,
   "id": "b6d77b5a",
   "metadata": {
    "execution": {
     "iopub.execute_input": "2022-04-12T17:56:46.015363Z",
     "iopub.status.busy": "2022-04-12T17:56:46.014623Z",
     "iopub.status.idle": "2022-04-12T17:56:46.043652Z",
     "shell.execute_reply": "2022-04-12T17:56:46.043096Z",
     "shell.execute_reply.started": "2022-04-12T16:14:03.104102Z"
    },
    "papermill": {
     "duration": 0.101087,
     "end_time": "2022-04-12T17:56:46.043821",
     "exception": false,
     "start_time": "2022-04-12T17:56:45.942734",
     "status": "completed"
    },
    "tags": []
   },
   "outputs": [
    {
     "data": {
      "text/html": [
       "<div>\n",
       "<style scoped>\n",
       "    .dataframe tbody tr th:only-of-type {\n",
       "        vertical-align: middle;\n",
       "    }\n",
       "\n",
       "    .dataframe tbody tr th {\n",
       "        vertical-align: top;\n",
       "    }\n",
       "\n",
       "    .dataframe thead th {\n",
       "        text-align: right;\n",
       "    }\n",
       "</style>\n",
       "<table border=\"1\" class=\"dataframe\">\n",
       "  <thead>\n",
       "    <tr style=\"text-align: right;\">\n",
       "      <th></th>\n",
       "      <th>PassengerId</th>\n",
       "      <th>Survived</th>\n",
       "      <th>Pclass</th>\n",
       "      <th>Age</th>\n",
       "      <th>SibSp</th>\n",
       "      <th>Parch</th>\n",
       "      <th>Fare</th>\n",
       "    </tr>\n",
       "  </thead>\n",
       "  <tbody>\n",
       "    <tr>\n",
       "      <th>count</th>\n",
       "      <td>891.000000</td>\n",
       "      <td>891.000000</td>\n",
       "      <td>891.000000</td>\n",
       "      <td>714.000000</td>\n",
       "      <td>891.000000</td>\n",
       "      <td>891.000000</td>\n",
       "      <td>891.000000</td>\n",
       "    </tr>\n",
       "    <tr>\n",
       "      <th>mean</th>\n",
       "      <td>446.000000</td>\n",
       "      <td>0.383838</td>\n",
       "      <td>2.308642</td>\n",
       "      <td>29.699118</td>\n",
       "      <td>0.523008</td>\n",
       "      <td>0.381594</td>\n",
       "      <td>32.204208</td>\n",
       "    </tr>\n",
       "    <tr>\n",
       "      <th>std</th>\n",
       "      <td>257.353842</td>\n",
       "      <td>0.486592</td>\n",
       "      <td>0.836071</td>\n",
       "      <td>14.526497</td>\n",
       "      <td>1.102743</td>\n",
       "      <td>0.806057</td>\n",
       "      <td>49.693429</td>\n",
       "    </tr>\n",
       "    <tr>\n",
       "      <th>min</th>\n",
       "      <td>1.000000</td>\n",
       "      <td>0.000000</td>\n",
       "      <td>1.000000</td>\n",
       "      <td>0.420000</td>\n",
       "      <td>0.000000</td>\n",
       "      <td>0.000000</td>\n",
       "      <td>0.000000</td>\n",
       "    </tr>\n",
       "    <tr>\n",
       "      <th>25%</th>\n",
       "      <td>223.500000</td>\n",
       "      <td>0.000000</td>\n",
       "      <td>2.000000</td>\n",
       "      <td>20.125000</td>\n",
       "      <td>0.000000</td>\n",
       "      <td>0.000000</td>\n",
       "      <td>7.910400</td>\n",
       "    </tr>\n",
       "    <tr>\n",
       "      <th>50%</th>\n",
       "      <td>446.000000</td>\n",
       "      <td>0.000000</td>\n",
       "      <td>3.000000</td>\n",
       "      <td>28.000000</td>\n",
       "      <td>0.000000</td>\n",
       "      <td>0.000000</td>\n",
       "      <td>14.454200</td>\n",
       "    </tr>\n",
       "    <tr>\n",
       "      <th>75%</th>\n",
       "      <td>668.500000</td>\n",
       "      <td>1.000000</td>\n",
       "      <td>3.000000</td>\n",
       "      <td>38.000000</td>\n",
       "      <td>1.000000</td>\n",
       "      <td>0.000000</td>\n",
       "      <td>31.000000</td>\n",
       "    </tr>\n",
       "    <tr>\n",
       "      <th>max</th>\n",
       "      <td>891.000000</td>\n",
       "      <td>1.000000</td>\n",
       "      <td>3.000000</td>\n",
       "      <td>80.000000</td>\n",
       "      <td>8.000000</td>\n",
       "      <td>6.000000</td>\n",
       "      <td>512.329200</td>\n",
       "    </tr>\n",
       "  </tbody>\n",
       "</table>\n",
       "</div>"
      ],
      "text/plain": [
       "       PassengerId    Survived      Pclass         Age       SibSp  \\\n",
       "count   891.000000  891.000000  891.000000  714.000000  891.000000   \n",
       "mean    446.000000    0.383838    2.308642   29.699118    0.523008   \n",
       "std     257.353842    0.486592    0.836071   14.526497    1.102743   \n",
       "min       1.000000    0.000000    1.000000    0.420000    0.000000   \n",
       "25%     223.500000    0.000000    2.000000   20.125000    0.000000   \n",
       "50%     446.000000    0.000000    3.000000   28.000000    0.000000   \n",
       "75%     668.500000    1.000000    3.000000   38.000000    1.000000   \n",
       "max     891.000000    1.000000    3.000000   80.000000    8.000000   \n",
       "\n",
       "            Parch        Fare  \n",
       "count  891.000000  891.000000  \n",
       "mean     0.381594   32.204208  \n",
       "std      0.806057   49.693429  \n",
       "min      0.000000    0.000000  \n",
       "25%      0.000000    7.910400  \n",
       "50%      0.000000   14.454200  \n",
       "75%      0.000000   31.000000  \n",
       "max      6.000000  512.329200  "
      ]
     },
     "execution_count": 16,
     "metadata": {},
     "output_type": "execute_result"
    }
   ],
   "source": [
    "train_df.describe()"
   ]
  },
  {
   "cell_type": "code",
   "execution_count": 17,
   "id": "1dcb8bec",
   "metadata": {
    "execution": {
     "iopub.execute_input": "2022-04-12T17:56:46.195199Z",
     "iopub.status.busy": "2022-04-12T17:56:46.189731Z",
     "iopub.status.idle": "2022-04-12T17:56:46.211776Z",
     "shell.execute_reply": "2022-04-12T17:56:46.212244Z",
     "shell.execute_reply.started": "2022-04-12T16:14:03.142373Z"
    },
    "papermill": {
     "duration": 0.102145,
     "end_time": "2022-04-12T17:56:46.212419",
     "exception": false,
     "start_time": "2022-04-12T17:56:46.110274",
     "status": "completed"
    },
    "tags": []
   },
   "outputs": [
    {
     "data": {
      "text/html": [
       "<div>\n",
       "<style scoped>\n",
       "    .dataframe tbody tr th:only-of-type {\n",
       "        vertical-align: middle;\n",
       "    }\n",
       "\n",
       "    .dataframe tbody tr th {\n",
       "        vertical-align: top;\n",
       "    }\n",
       "\n",
       "    .dataframe thead th {\n",
       "        text-align: right;\n",
       "    }\n",
       "</style>\n",
       "<table border=\"1\" class=\"dataframe\">\n",
       "  <thead>\n",
       "    <tr style=\"text-align: right;\">\n",
       "      <th></th>\n",
       "      <th>PassengerId</th>\n",
       "      <th>Pclass</th>\n",
       "      <th>Age</th>\n",
       "      <th>SibSp</th>\n",
       "      <th>Parch</th>\n",
       "      <th>Fare</th>\n",
       "    </tr>\n",
       "  </thead>\n",
       "  <tbody>\n",
       "    <tr>\n",
       "      <th>count</th>\n",
       "      <td>418.000000</td>\n",
       "      <td>418.000000</td>\n",
       "      <td>332.000000</td>\n",
       "      <td>418.000000</td>\n",
       "      <td>418.000000</td>\n",
       "      <td>417.000000</td>\n",
       "    </tr>\n",
       "    <tr>\n",
       "      <th>mean</th>\n",
       "      <td>1100.500000</td>\n",
       "      <td>2.265550</td>\n",
       "      <td>30.272590</td>\n",
       "      <td>0.447368</td>\n",
       "      <td>0.392344</td>\n",
       "      <td>35.627188</td>\n",
       "    </tr>\n",
       "    <tr>\n",
       "      <th>std</th>\n",
       "      <td>120.810458</td>\n",
       "      <td>0.841838</td>\n",
       "      <td>14.181209</td>\n",
       "      <td>0.896760</td>\n",
       "      <td>0.981429</td>\n",
       "      <td>55.907576</td>\n",
       "    </tr>\n",
       "    <tr>\n",
       "      <th>min</th>\n",
       "      <td>892.000000</td>\n",
       "      <td>1.000000</td>\n",
       "      <td>0.170000</td>\n",
       "      <td>0.000000</td>\n",
       "      <td>0.000000</td>\n",
       "      <td>0.000000</td>\n",
       "    </tr>\n",
       "    <tr>\n",
       "      <th>25%</th>\n",
       "      <td>996.250000</td>\n",
       "      <td>1.000000</td>\n",
       "      <td>21.000000</td>\n",
       "      <td>0.000000</td>\n",
       "      <td>0.000000</td>\n",
       "      <td>7.895800</td>\n",
       "    </tr>\n",
       "    <tr>\n",
       "      <th>50%</th>\n",
       "      <td>1100.500000</td>\n",
       "      <td>3.000000</td>\n",
       "      <td>27.000000</td>\n",
       "      <td>0.000000</td>\n",
       "      <td>0.000000</td>\n",
       "      <td>14.454200</td>\n",
       "    </tr>\n",
       "    <tr>\n",
       "      <th>75%</th>\n",
       "      <td>1204.750000</td>\n",
       "      <td>3.000000</td>\n",
       "      <td>39.000000</td>\n",
       "      <td>1.000000</td>\n",
       "      <td>0.000000</td>\n",
       "      <td>31.500000</td>\n",
       "    </tr>\n",
       "    <tr>\n",
       "      <th>max</th>\n",
       "      <td>1309.000000</td>\n",
       "      <td>3.000000</td>\n",
       "      <td>76.000000</td>\n",
       "      <td>8.000000</td>\n",
       "      <td>9.000000</td>\n",
       "      <td>512.329200</td>\n",
       "    </tr>\n",
       "  </tbody>\n",
       "</table>\n",
       "</div>"
      ],
      "text/plain": [
       "       PassengerId      Pclass         Age       SibSp       Parch        Fare\n",
       "count   418.000000  418.000000  332.000000  418.000000  418.000000  417.000000\n",
       "mean   1100.500000    2.265550   30.272590    0.447368    0.392344   35.627188\n",
       "std     120.810458    0.841838   14.181209    0.896760    0.981429   55.907576\n",
       "min     892.000000    1.000000    0.170000    0.000000    0.000000    0.000000\n",
       "25%     996.250000    1.000000   21.000000    0.000000    0.000000    7.895800\n",
       "50%    1100.500000    3.000000   27.000000    0.000000    0.000000   14.454200\n",
       "75%    1204.750000    3.000000   39.000000    1.000000    0.000000   31.500000\n",
       "max    1309.000000    3.000000   76.000000    8.000000    9.000000  512.329200"
      ]
     },
     "execution_count": 17,
     "metadata": {},
     "output_type": "execute_result"
    }
   ],
   "source": [
    "test_df.describe()"
   ]
  },
  {
   "cell_type": "code",
   "execution_count": 18,
   "id": "bba349dc",
   "metadata": {
    "execution": {
     "iopub.execute_input": "2022-04-12T17:56:46.355609Z",
     "iopub.status.busy": "2022-04-12T17:56:46.354904Z",
     "iopub.status.idle": "2022-04-12T17:56:46.559147Z",
     "shell.execute_reply": "2022-04-12T17:56:46.558610Z",
     "shell.execute_reply.started": "2022-04-12T16:14:03.176393Z"
    },
    "papermill": {
     "duration": 0.275698,
     "end_time": "2022-04-12T17:56:46.559306",
     "exception": false,
     "start_time": "2022-04-12T17:56:46.283608",
     "status": "completed"
    },
    "tags": []
   },
   "outputs": [
    {
     "data": {
      "text/plain": [
       "<AxesSubplot:xlabel='Survived', ylabel='Age'>"
      ]
     },
     "execution_count": 18,
     "metadata": {},
     "output_type": "execute_result"
    },
    {
     "data": {
      "image/png": "[encoded data removed]",
      "text/plain": [
       "<Figure size 432x288 with 1 Axes>"
      ]
     },
     "metadata": {
      "needs_background": "light"
     },
     "output_type": "display_data"
    }
   ],
   "source": [
    "# Survived and Age\n",
    "sns.boxplot(x='Survived', y='Age', data=train_df)"
   ]
  },
  {
   "cell_type": "code",
   "execution_count": 19,
   "id": "4b53ab3c",
   "metadata": {
    "execution": {
     "iopub.execute_input": "2022-04-12T17:56:46.705424Z",
     "iopub.status.busy": "2022-04-12T17:56:46.704727Z",
     "iopub.status.idle": "2022-04-12T17:56:46.924479Z",
     "shell.execute_reply": "2022-04-12T17:56:46.925021Z",
     "shell.execute_reply.started": "2022-04-12T16:14:03.393456Z"
    },
    "papermill": {
     "duration": 0.292997,
     "end_time": "2022-04-12T17:56:46.925222",
     "exception": false,
     "start_time": "2022-04-12T17:56:46.632225",
     "status": "completed"
    },
    "tags": []
   },
   "outputs": [
    {
     "data": {
      "text/plain": [
       "<AxesSubplot:xlabel='Pclass', ylabel='Age'>"
      ]
     },
     "execution_count": 19,
     "metadata": {},
     "output_type": "execute_result"
    },
    {
     "data": {
      "image/png": "[encoded data removed]",
      "text/plain": [
       "<Figure size 432x288 with 1 Axes>"
      ]
     },
     "metadata": {
      "needs_background": "light"
     },
     "output_type": "display_data"
    }
   ],
   "source": [
    "# Pclass and Age\n",
    "sns.boxplot(x='Pclass', y='Age', data=train_df)"
   ]
  },
  {
   "cell_type": "code",
   "execution_count": 20,
   "id": "689174c1",
   "metadata": {
    "execution": {
     "iopub.execute_input": "2022-04-12T17:56:47.067653Z",
     "iopub.status.busy": "2022-04-12T17:56:47.066658Z",
     "iopub.status.idle": "2022-04-12T17:56:47.271421Z",
     "shell.execute_reply": "2022-04-12T17:56:47.270472Z",
     "shell.execute_reply.started": "2022-04-12T16:14:03.630075Z"
    },
    "papermill": {
     "duration": 0.277327,
     "end_time": "2022-04-12T17:56:47.271572",
     "exception": false,
     "start_time": "2022-04-12T17:56:46.994245",
     "status": "completed"
    },
    "tags": []
   },
   "outputs": [
    {
     "data": {
      "text/plain": [
       "<AxesSubplot:xlabel='Sex', ylabel='Age'>"
      ]
     },
     "execution_count": 20,
     "metadata": {},
     "output_type": "execute_result"
    },
    {
     "data": {
      "image/png": "[encoded data removed]",
      "text/plain": [
       "<Figure size 432x288 with 1 Axes>"
      ]
     },
     "metadata": {
      "needs_background": "light"
     },
     "output_type": "display_data"
    }
   ],
   "source": [
    "# Sex and Age\n",
    "sns.boxplot(x='Sex', y='Age', data=train_df)"
   ]
  },
  {
   "cell_type": "markdown",
   "id": "4e2f36bf",
   "metadata": {
    "papermill": {
     "duration": 0.069089,
     "end_time": "2022-04-12T17:56:47.410931",
     "exception": false,
     "start_time": "2022-04-12T17:56:47.341842",
     "status": "completed"
    },
    "tags": []
   },
   "source": [
    "Younger passengers were more likely to not survive than older passengers.  \n",
    "\n",
    "It appears that 1st class passengers were disproportionately older. 2nd class passengers were also older than 3rd class.  \n",
    "\n",
    "Male passengers were older than female passengers.  "
   ]
  },
  {
   "cell_type": "code",
   "execution_count": 21,
   "id": "fdb477a8",
   "metadata": {
    "execution": {
     "iopub.execute_input": "2022-04-12T17:56:47.556523Z",
     "iopub.status.busy": "2022-04-12T17:56:47.555506Z",
     "iopub.status.idle": "2022-04-12T17:56:47.886247Z",
     "shell.execute_reply": "2022-04-12T17:56:47.885665Z",
     "shell.execute_reply.started": "2022-04-12T16:14:03.843387Z"
    },
    "papermill": {
     "duration": 0.405381,
     "end_time": "2022-04-12T17:56:47.886403",
     "exception": false,
     "start_time": "2022-04-12T17:56:47.481022",
     "status": "completed"
    },
    "tags": []
   },
   "outputs": [
    {
     "data": {
      "text/plain": [
       "<AxesSubplot:xlabel='Survived', ylabel='SibSp'>"
      ]
     },
     "execution_count": 21,
     "metadata": {},
     "output_type": "execute_result"
    },
    {
     "data": {
      "image/png": "[encoded data removed]",
      "text/plain": [
       "<Figure size 432x288 with 1 Axes>"
      ]
     },
     "metadata": {
      "needs_background": "light"
     },
     "output_type": "display_data"
    }
   ],
   "source": [
    "# Survived and SibSp\n",
    "sns.boxplot(x='Survived', y='SibSp', data=train_df)"
   ]
  },
  {
   "cell_type": "code",
   "execution_count": 22,
   "id": "c7821973",
   "metadata": {
    "execution": {
     "iopub.execute_input": "2022-04-12T17:56:48.033941Z",
     "iopub.status.busy": "2022-04-12T17:56:48.033212Z",
     "iopub.status.idle": "2022-04-12T17:56:48.223932Z",
     "shell.execute_reply": "2022-04-12T17:56:48.223293Z",
     "shell.execute_reply.started": "2022-04-12T16:14:14.478602Z"
    },
    "papermill": {
     "duration": 0.267206,
     "end_time": "2022-04-12T17:56:48.224079",
     "exception": false,
     "start_time": "2022-04-12T17:56:47.956873",
     "status": "completed"
    },
    "tags": []
   },
   "outputs": [
    {
     "data": {
      "text/plain": [
       "<AxesSubplot:xlabel='Survived', ylabel='Parch'>"
      ]
     },
     "execution_count": 22,
     "metadata": {},
     "output_type": "execute_result"
    },
    {
     "data": {
      "image/png": "[encoded data removed]",
      "text/plain": [
       "<Figure size 432x288 with 1 Axes>"
      ]
     },
     "metadata": {
      "needs_background": "light"
     },
     "output_type": "display_data"
    }
   ],
   "source": [
    "# Survived and Parch\n",
    "sns.boxplot(x='Survived', y='Parch', data=train_df)"
   ]
  },
  {
   "cell_type": "markdown",
   "id": "30c6cdfa",
   "metadata": {
    "papermill": {
     "duration": 0.070902,
     "end_time": "2022-04-12T17:56:48.366273",
     "exception": false,
     "start_time": "2022-04-12T17:56:48.295371",
     "status": "completed"
    },
    "tags": []
   },
   "source": [
    "It appears that SibSp relationship does not impact survival.  \n",
    "\n",
    "It does appear that having a Parch relationship impacts survival."
   ]
  },
  {
   "cell_type": "markdown",
   "id": "8f34081f",
   "metadata": {
    "papermill": {
     "duration": 0.070882,
     "end_time": "2022-04-12T17:56:48.508560",
     "exception": false,
     "start_time": "2022-04-12T17:56:48.437678",
     "status": "completed"
    },
    "tags": []
   },
   "source": [
    "---\n",
    "# Modeling"
   ]
  },
  {
   "cell_type": "code",
   "execution_count": 23,
   "id": "43cb1f33",
   "metadata": {
    "execution": {
     "iopub.execute_input": "2022-04-12T17:56:48.660237Z",
     "iopub.status.busy": "2022-04-12T17:56:48.659533Z",
     "iopub.status.idle": "2022-04-12T17:56:48.669263Z",
     "shell.execute_reply": "2022-04-12T17:56:48.669889Z",
     "shell.execute_reply.started": "2022-04-12T17:07:43.948093Z"
    },
    "papermill": {
     "duration": 0.089301,
     "end_time": "2022-04-12T17:56:48.670078",
     "exception": false,
     "start_time": "2022-04-12T17:56:48.580777",
     "status": "completed"
    },
    "tags": []
   },
   "outputs": [
    {
     "name": "stdout",
     "output_type": "stream",
     "text": [
      "<class 'pandas.core.frame.DataFrame'>\n",
      "RangeIndex: 891 entries, 0 to 890\n",
      "Data columns (total 12 columns):\n",
      " #   Column       Non-Null Count  Dtype  \n",
      "---  ------       --------------  -----  \n",
      " 0   PassengerId  891 non-null    int64  \n",
      " 1   Survived     891 non-null    int64  \n",
      " 2   Pclass       891 non-null    int64  \n",
      " 3   Name         891 non-null    object \n",
      " 4   Sex          891 non-null    object \n",
      " 5   Age          714 non-null    float64\n",
      " 6   SibSp        891 non-null    int64  \n",
      " 7   Parch        891 non-null    int64  \n",
      " 8   Ticket       891 non-null    object \n",
      " 9   Fare         891 non-null    float64\n",
      " 10  Cabin        204 non-null    object \n",
      " 11  Embarked     889 non-null    object \n",
      "dtypes: float64(2), int64(5), object(5)\n",
      "memory usage: 83.7+ KB\n"
     ]
    }
   ],
   "source": [
    "train_df.info()"
   ]
  },
  {
   "cell_type": "code",
   "execution_count": 24,
   "id": "8b4599b5",
   "metadata": {
    "execution": {
     "iopub.execute_input": "2022-04-12T17:56:48.816976Z",
     "iopub.status.busy": "2022-04-12T17:56:48.816276Z",
     "iopub.status.idle": "2022-04-12T17:56:48.820403Z",
     "shell.execute_reply": "2022-04-12T17:56:48.820938Z",
     "shell.execute_reply.started": "2022-04-12T17:15:33.623796Z"
    },
    "papermill": {
     "duration": 0.079001,
     "end_time": "2022-04-12T17:56:48.821115",
     "exception": false,
     "start_time": "2022-04-12T17:56:48.742114",
     "status": "completed"
    },
    "tags": []
   },
   "outputs": [],
   "source": [
    "# make copies of original data\n",
    "e_train_df = train_df.copy()\n",
    "e_test_df = test_df.copy()"
   ]
  },
  {
   "cell_type": "code",
   "execution_count": 25,
   "id": "907b709c",
   "metadata": {
    "execution": {
     "iopub.execute_input": "2022-04-12T17:56:48.997287Z",
     "iopub.status.busy": "2022-04-12T17:56:48.996569Z",
     "iopub.status.idle": "2022-04-12T17:56:51.347250Z",
     "shell.execute_reply": "2022-04-12T17:56:51.347849Z",
     "shell.execute_reply.started": "2022-04-12T17:15:35.995993Z"
    },
    "papermill": {
     "duration": 2.434284,
     "end_time": "2022-04-12T17:56:51.348048",
     "exception": false,
     "start_time": "2022-04-12T17:56:48.913764",
     "status": "completed"
    },
    "tags": []
   },
   "outputs": [
    {
     "data": {
      "text/plain": [
       "<seaborn.axisgrid.FacetGrid at 0x7f57c82f3490>"
      ]
     },
     "execution_count": 25,
     "metadata": {},
     "output_type": "execute_result"
    },
    {
     "data": {
      "image/png": "[encoded data removed]",
      "text/plain": [
       "<Figure size 360x360 with 1 Axes>"
      ]
     },
     "metadata": {
      "needs_background": "light"
     },
     "output_type": "display_data"
    }
   ],
   "source": [
    "# determine if Cabin is high cardinality\n",
    "sns.catplot(x='Cabin', data=e_train_df, kind='count')"
   ]
  },
  {
   "cell_type": "markdown",
   "id": "f6c77411",
   "metadata": {
    "papermill": {
     "duration": 0.0725,
     "end_time": "2022-04-12T17:56:51.493994",
     "exception": false,
     "start_time": "2022-04-12T17:56:51.421494",
     "status": "completed"
    },
    "tags": []
   },
   "source": [
    "As you can see, Cabin is a high cardinality feature. We could either:\n",
    "* impute it with 'missing' value\n",
    "* try and get it from the Ticket."
   ]
  },
  {
   "cell_type": "code",
   "execution_count": 26,
   "id": "bd3ef268",
   "metadata": {
    "execution": {
     "iopub.execute_input": "2022-04-12T17:56:51.643886Z",
     "iopub.status.busy": "2022-04-12T17:56:51.643207Z",
     "iopub.status.idle": "2022-04-12T17:56:51.653673Z",
     "shell.execute_reply": "2022-04-12T17:56:51.654274Z",
     "shell.execute_reply.started": "2022-04-12T17:15:40.938046Z"
    },
    "papermill": {
     "duration": 0.087613,
     "end_time": "2022-04-12T17:56:51.654454",
     "exception": false,
     "start_time": "2022-04-12T17:56:51.566841",
     "status": "completed"
    },
    "tags": []
   },
   "outputs": [
    {
     "data": {
      "text/html": [
       "<div>\n",
       "<style scoped>\n",
       "    .dataframe tbody tr th:only-of-type {\n",
       "        vertical-align: middle;\n",
       "    }\n",
       "\n",
       "    .dataframe tbody tr th {\n",
       "        vertical-align: top;\n",
       "    }\n",
       "\n",
       "    .dataframe thead th {\n",
       "        text-align: right;\n",
       "    }\n",
       "</style>\n",
       "<table border=\"1\" class=\"dataframe\">\n",
       "  <thead>\n",
       "    <tr style=\"text-align: right;\">\n",
       "      <th></th>\n",
       "      <th>Ticket</th>\n",
       "      <th>Cabin</th>\n",
       "    </tr>\n",
       "  </thead>\n",
       "  <tbody>\n",
       "    <tr>\n",
       "      <th>1</th>\n",
       "      <td>PC 17599</td>\n",
       "      <td>C85</td>\n",
       "    </tr>\n",
       "    <tr>\n",
       "      <th>3</th>\n",
       "      <td>113803</td>\n",
       "      <td>C123</td>\n",
       "    </tr>\n",
       "    <tr>\n",
       "      <th>6</th>\n",
       "      <td>17463</td>\n",
       "      <td>E46</td>\n",
       "    </tr>\n",
       "    <tr>\n",
       "      <th>10</th>\n",
       "      <td>PP 9549</td>\n",
       "      <td>G6</td>\n",
       "    </tr>\n",
       "    <tr>\n",
       "      <th>11</th>\n",
       "      <td>113783</td>\n",
       "      <td>C103</td>\n",
       "    </tr>\n",
       "    <tr>\n",
       "      <th>21</th>\n",
       "      <td>248698</td>\n",
       "      <td>D56</td>\n",
       "    </tr>\n",
       "    <tr>\n",
       "      <th>23</th>\n",
       "      <td>113788</td>\n",
       "      <td>A6</td>\n",
       "    </tr>\n",
       "    <tr>\n",
       "      <th>27</th>\n",
       "      <td>19950</td>\n",
       "      <td>C23 C25 C27</td>\n",
       "    </tr>\n",
       "    <tr>\n",
       "      <th>31</th>\n",
       "      <td>PC 17569</td>\n",
       "      <td>B78</td>\n",
       "    </tr>\n",
       "    <tr>\n",
       "      <th>52</th>\n",
       "      <td>PC 17572</td>\n",
       "      <td>D33</td>\n",
       "    </tr>\n",
       "  </tbody>\n",
       "</table>\n",
       "</div>"
      ],
      "text/plain": [
       "      Ticket        Cabin\n",
       "1   PC 17599          C85\n",
       "3     113803         C123\n",
       "6      17463          E46\n",
       "10   PP 9549           G6\n",
       "11    113783         C103\n",
       "21    248698          D56\n",
       "23    113788           A6\n",
       "27     19950  C23 C25 C27\n",
       "31  PC 17569          B78\n",
       "52  PC 17572          D33"
      ]
     },
     "execution_count": 26,
     "metadata": {},
     "output_type": "execute_result"
    }
   ],
   "source": [
    "# see if there is a connection between Ticket and Cabin\n",
    "e_train_df.loc[e_train_df['Cabin'].notnull(), ['Ticket', 'Cabin']].head(10)"
   ]
  },
  {
   "cell_type": "markdown",
   "id": "12415118",
   "metadata": {
    "papermill": {
     "duration": 0.073362,
     "end_time": "2022-04-12T17:56:51.801267",
     "exception": false,
     "start_time": "2022-04-12T17:56:51.727905",
     "status": "completed"
    },
    "tags": []
   },
   "source": [
    "Therefore, we cannot use Ticket to determine Cabin. What is likely occurring is that some tickets did not come with an assigned cabin."
   ]
  },
  {
   "cell_type": "code",
   "execution_count": 27,
   "id": "00a20ffc",
   "metadata": {
    "execution": {
     "iopub.execute_input": "2022-04-12T17:56:51.951893Z",
     "iopub.status.busy": "2022-04-12T17:56:51.951239Z",
     "iopub.status.idle": "2022-04-12T17:56:51.971925Z",
     "shell.execute_reply": "2022-04-12T17:56:51.972641Z",
     "shell.execute_reply.started": "2022-04-12T17:17:39.906233Z"
    },
    "papermill": {
     "duration": 0.098006,
     "end_time": "2022-04-12T17:56:51.972927",
     "exception": false,
     "start_time": "2022-04-12T17:56:51.874921",
     "status": "completed"
    },
    "tags": []
   },
   "outputs": [
    {
     "name": "stdout",
     "output_type": "stream",
     "text": [
      "<class 'pandas.core.frame.DataFrame'>\n",
      "RangeIndex: 891 entries, 0 to 890\n",
      "Data columns (total 16 columns):\n",
      " #   Column            Non-Null Count  Dtype  \n",
      "---  ------            --------------  -----  \n",
      " 0   PassengerId       891 non-null    int64  \n",
      " 1   Survived          891 non-null    int64  \n",
      " 2   Pclass            891 non-null    int64  \n",
      " 3   Name              891 non-null    object \n",
      " 4   Sex               891 non-null    object \n",
      " 5   Age               714 non-null    float64\n",
      " 6   SibSp             891 non-null    int64  \n",
      " 7   Parch             891 non-null    int64  \n",
      " 8   Ticket            891 non-null    object \n",
      " 9   Fare              891 non-null    float64\n",
      " 10  Cabin             204 non-null    object \n",
      " 11  Embarked          889 non-null    object \n",
      " 12  cabin_missing     891 non-null    int64  \n",
      " 13  embarked_missing  891 non-null    int64  \n",
      " 14  age_missing       891 non-null    int64  \n",
      " 15  fare_missing      891 non-null    int64  \n",
      "dtypes: float64(2), int64(9), object(5)\n",
      "memory usage: 111.5+ KB\n"
     ]
    }
   ],
   "source": [
    "# retain information on missing values prior to imputation\n",
    "e_train_df['cabin_missing'] = e_train_df['Cabin'].isnull().map({True: 1, False: 0})\n",
    "e_train_df['embarked_missing'] = e_train_df['Embarked'].isnull().map({True: 1, False: 0})\n",
    "e_train_df['age_missing'] = e_train_df['Age'].isnull().map({True: 1, False: 0})\n",
    "e_train_df['fare_missing'] = e_train_df['Fare'].isnull().map({True: 1, False: 0})\n",
    "e_train_df.info()"
   ]
  },
  {
   "cell_type": "code",
   "execution_count": 28,
   "id": "7a397991",
   "metadata": {
    "execution": {
     "iopub.execute_input": "2022-04-12T17:56:52.128194Z",
     "iopub.status.busy": "2022-04-12T17:56:52.127516Z",
     "iopub.status.idle": "2022-04-12T17:56:52.148375Z",
     "shell.execute_reply": "2022-04-12T17:56:52.149278Z",
     "shell.execute_reply.started": "2022-04-12T17:18:19.423675Z"
    },
    "papermill": {
     "duration": 0.100629,
     "end_time": "2022-04-12T17:56:52.149521",
     "exception": false,
     "start_time": "2022-04-12T17:56:52.048892",
     "status": "completed"
    },
    "tags": []
   },
   "outputs": [
    {
     "name": "stdout",
     "output_type": "stream",
     "text": [
      "<class 'pandas.core.frame.DataFrame'>\n",
      "RangeIndex: 418 entries, 0 to 417\n",
      "Data columns (total 15 columns):\n",
      " #   Column            Non-Null Count  Dtype  \n",
      "---  ------            --------------  -----  \n",
      " 0   PassengerId       418 non-null    int64  \n",
      " 1   Pclass            418 non-null    int64  \n",
      " 2   Name              418 non-null    object \n",
      " 3   Sex               418 non-null    object \n",
      " 4   Age               332 non-null    float64\n",
      " 5   SibSp             418 non-null    int64  \n",
      " 6   Parch             418 non-null    int64  \n",
      " 7   Ticket            418 non-null    object \n",
      " 8   Fare              417 non-null    float64\n",
      " 9   Cabin             91 non-null     object \n",
      " 10  Embarked          418 non-null    object \n",
      " 11  cabin_missing     418 non-null    int64  \n",
      " 12  embarked_missing  418 non-null    int64  \n",
      " 13  age_missing       418 non-null    int64  \n",
      " 14  fare_missing      418 non-null    int64  \n",
      "dtypes: float64(2), int64(8), object(5)\n",
      "memory usage: 49.1+ KB\n"
     ]
    }
   ],
   "source": [
    "# retain information on missing values prior to imputation\n",
    "e_test_df['cabin_missing'] = e_test_df['Cabin'].isnull().map({True: 1, False: 0})\n",
    "e_test_df['embarked_missing'] = e_test_df['Embarked'].isnull().map({True: 1, False: 0})\n",
    "e_test_df['age_missing'] = e_test_df['Age'].isnull().map({True: 1, False: 0})\n",
    "e_test_df['fare_missing'] = e_test_df['Fare'].isnull().map({True: 1, False: 0})\n",
    "e_test_df.info()"
   ]
  },
  {
   "cell_type": "code",
   "execution_count": 29,
   "id": "9a8b6396",
   "metadata": {
    "execution": {
     "iopub.execute_input": "2022-04-12T17:56:52.302795Z",
     "iopub.status.busy": "2022-04-12T17:56:52.302115Z",
     "iopub.status.idle": "2022-04-12T17:56:52.318126Z",
     "shell.execute_reply": "2022-04-12T17:56:52.318649Z",
     "shell.execute_reply.started": "2022-04-12T17:18:32.265391Z"
    },
    "papermill": {
     "duration": 0.09395,
     "end_time": "2022-04-12T17:56:52.318839",
     "exception": false,
     "start_time": "2022-04-12T17:56:52.224889",
     "status": "completed"
    },
    "tags": []
   },
   "outputs": [
    {
     "name": "stdout",
     "output_type": "stream",
     "text": [
      "<class 'pandas.core.frame.DataFrame'>\n",
      "RangeIndex: 891 entries, 0 to 890\n",
      "Data columns (total 16 columns):\n",
      " #   Column            Non-Null Count  Dtype  \n",
      "---  ------            --------------  -----  \n",
      " 0   PassengerId       891 non-null    int64  \n",
      " 1   Survived          891 non-null    int64  \n",
      " 2   Pclass            891 non-null    int64  \n",
      " 3   Name              891 non-null    object \n",
      " 4   Sex               891 non-null    object \n",
      " 5   Age               714 non-null    float64\n",
      " 6   SibSp             891 non-null    int64  \n",
      " 7   Parch             891 non-null    int64  \n",
      " 8   Ticket            891 non-null    object \n",
      " 9   Fare              891 non-null    float64\n",
      " 10  Cabin             891 non-null    object \n",
      " 11  Embarked          891 non-null    object \n",
      " 12  cabin_missing     891 non-null    int64  \n",
      " 13  embarked_missing  891 non-null    int64  \n",
      " 14  age_missing       891 non-null    int64  \n",
      " 15  fare_missing      891 non-null    int64  \n",
      "dtypes: float64(2), int64(9), object(5)\n",
      "memory usage: 111.5+ KB\n"
     ]
    }
   ],
   "source": [
    "# categorical impute\n",
    "e_train_df['Cabin'] = e_train_df['Cabin'].fillna('Missing') \n",
    "e_train_df['Embarked'] = e_train_df['Embarked'].fillna(e_train_df['Embarked'].mode()[0])\n",
    "e_train_df.info()"
   ]
  },
  {
   "cell_type": "code",
   "execution_count": 30,
   "id": "a3170ccd",
   "metadata": {
    "execution": {
     "iopub.execute_input": "2022-04-12T17:56:52.477734Z",
     "iopub.status.busy": "2022-04-12T17:56:52.476674Z",
     "iopub.status.idle": "2022-04-12T17:56:52.493146Z",
     "shell.execute_reply": "2022-04-12T17:56:52.493924Z",
     "shell.execute_reply.started": "2022-04-12T17:18:34.284801Z"
    },
    "papermill": {
     "duration": 0.098107,
     "end_time": "2022-04-12T17:56:52.494164",
     "exception": false,
     "start_time": "2022-04-12T17:56:52.396057",
     "status": "completed"
    },
    "tags": []
   },
   "outputs": [
    {
     "name": "stdout",
     "output_type": "stream",
     "text": [
      "<class 'pandas.core.frame.DataFrame'>\n",
      "RangeIndex: 418 entries, 0 to 417\n",
      "Data columns (total 15 columns):\n",
      " #   Column            Non-Null Count  Dtype  \n",
      "---  ------            --------------  -----  \n",
      " 0   PassengerId       418 non-null    int64  \n",
      " 1   Pclass            418 non-null    int64  \n",
      " 2   Name              418 non-null    object \n",
      " 3   Sex               418 non-null    object \n",
      " 4   Age               332 non-null    float64\n",
      " 5   SibSp             418 non-null    int64  \n",
      " 6   Parch             418 non-null    int64  \n",
      " 7   Ticket            418 non-null    object \n",
      " 8   Fare              417 non-null    float64\n",
      " 9   Cabin             418 non-null    object \n",
      " 10  Embarked          418 non-null    object \n",
      " 11  cabin_missing     418 non-null    int64  \n",
      " 12  embarked_missing  418 non-null    int64  \n",
      " 13  age_missing       418 non-null    int64  \n",
      " 14  fare_missing      418 non-null    int64  \n",
      "dtypes: float64(2), int64(8), object(5)\n",
      "memory usage: 49.1+ KB\n"
     ]
    }
   ],
   "source": [
    "# categorical impute\n",
    "e_test_df['Cabin'] = e_test_df['Cabin'].fillna('Missing')\n",
    "e_test_df['Embarked'] = e_test_df['Cabin'].fillna(e_test_df['Embarked'].mode()[0])\n",
    "e_test_df.info()"
   ]
  },
  {
   "cell_type": "code",
   "execution_count": 31,
   "id": "99ce30cf",
   "metadata": {
    "execution": {
     "iopub.execute_input": "2022-04-12T17:56:52.671513Z",
     "iopub.status.busy": "2022-04-12T17:56:52.651179Z",
     "iopub.status.idle": "2022-04-12T17:56:52.842125Z",
     "shell.execute_reply": "2022-04-12T17:56:52.842608Z",
     "shell.execute_reply.started": "2022-04-12T16:32:40.085742Z"
    },
    "papermill": {
     "duration": 0.271846,
     "end_time": "2022-04-12T17:56:52.842863",
     "exception": false,
     "start_time": "2022-04-12T17:56:52.571017",
     "status": "completed"
    },
    "tags": []
   },
   "outputs": [
    {
     "data": {
      "text/plain": [
       "<AxesSubplot:xlabel='Age'>"
      ]
     },
     "execution_count": 31,
     "metadata": {},
     "output_type": "execute_result"
    },
    {
     "data": {
      "image/png": "[encoded data removed]",
      "text/plain": [
       "<Figure size 432x288 with 1 Axes>"
      ]
     },
     "metadata": {
      "needs_background": "light"
     },
     "output_type": "display_data"
    }
   ],
   "source": [
    "# checking Age for distribution and outliers\n",
    "sns.boxplot(x='Age', data=train_df)"
   ]
  },
  {
   "cell_type": "code",
   "execution_count": 32,
   "id": "7740312b",
   "metadata": {
    "execution": {
     "iopub.execute_input": "2022-04-12T17:56:53.026741Z",
     "iopub.status.busy": "2022-04-12T17:56:53.025633Z",
     "iopub.status.idle": "2022-04-12T17:56:53.194164Z",
     "shell.execute_reply": "2022-04-12T17:56:53.195052Z",
     "shell.execute_reply.started": "2022-04-12T16:32:52.711506Z"
    },
    "papermill": {
     "duration": 0.256141,
     "end_time": "2022-04-12T17:56:53.195373",
     "exception": false,
     "start_time": "2022-04-12T17:56:52.939232",
     "status": "completed"
    },
    "tags": []
   },
   "outputs": [
    {
     "data": {
      "text/plain": [
       "<AxesSubplot:xlabel='Fare'>"
      ]
     },
     "execution_count": 32,
     "metadata": {},
     "output_type": "execute_result"
    },
    {
     "data": {
      "image/png": "[encoded data removed]",
      "text/plain": [
       "<Figure size 432x288 with 1 Axes>"
      ]
     },
     "metadata": {
      "needs_background": "light"
     },
     "output_type": "display_data"
    }
   ],
   "source": [
    "# checking Fare for distribution and outliers\n",
    "sns.boxplot(x='Fare', data=train_df)"
   ]
  },
  {
   "cell_type": "markdown",
   "id": "9887e92d",
   "metadata": {
    "papermill": {
     "duration": 0.078138,
     "end_time": "2022-04-12T17:56:53.357491",
     "exception": false,
     "start_time": "2022-04-12T17:56:53.279353",
     "status": "completed"
    },
    "tags": []
   },
   "source": [
    "It appears that Age is relatively symmetrical and that Fare is right skewed. I will use **mean** imputation for Age and **median** imputation for Fare."
   ]
  },
  {
   "cell_type": "code",
   "execution_count": 33,
   "id": "f02fdabe",
   "metadata": {
    "execution": {
     "iopub.execute_input": "2022-04-12T17:56:53.525313Z",
     "iopub.status.busy": "2022-04-12T17:56:53.524559Z",
     "iopub.status.idle": "2022-04-12T17:56:53.546350Z",
     "shell.execute_reply": "2022-04-12T17:56:53.546897Z",
     "shell.execute_reply.started": "2022-04-12T17:18:42.0422Z"
    },
    "papermill": {
     "duration": 0.110049,
     "end_time": "2022-04-12T17:56:53.547090",
     "exception": false,
     "start_time": "2022-04-12T17:56:53.437041",
     "status": "completed"
    },
    "tags": []
   },
   "outputs": [
    {
     "name": "stdout",
     "output_type": "stream",
     "text": [
      "<class 'pandas.core.frame.DataFrame'>\n",
      "RangeIndex: 891 entries, 0 to 890\n",
      "Data columns (total 16 columns):\n",
      " #   Column            Non-Null Count  Dtype  \n",
      "---  ------            --------------  -----  \n",
      " 0   PassengerId       891 non-null    int64  \n",
      " 1   Survived          891 non-null    int64  \n",
      " 2   Pclass            891 non-null    int64  \n",
      " 3   Name              891 non-null    object \n",
      " 4   Sex               891 non-null    object \n",
      " 5   Age               891 non-null    float64\n",
      " 6   SibSp             891 non-null    int64  \n",
      " 7   Parch             891 non-null    int64  \n",
      " 8   Ticket            891 non-null    object \n",
      " 9   Fare              891 non-null    float64\n",
      " 10  Cabin             891 non-null    object \n",
      " 11  Embarked          891 non-null    object \n",
      " 12  cabin_missing     891 non-null    int64  \n",
      " 13  embarked_missing  891 non-null    int64  \n",
      " 14  age_missing       891 non-null    int64  \n",
      " 15  fare_missing      891 non-null    int64  \n",
      "dtypes: float64(2), int64(9), object(5)\n",
      "memory usage: 111.5+ KB\n"
     ]
    }
   ],
   "source": [
    "# quantitative impute\n",
    "e_train_df['Age'] = e_train_df['Age'].fillna(e_train_df['Age'].mean())\n",
    "e_train_df['Fare'] = e_train_df['Fare'].fillna(e_train_df['Fare'].median())\n",
    "e_train_df.info()"
   ]
  },
  {
   "cell_type": "code",
   "execution_count": 34,
   "id": "2c74a78a",
   "metadata": {
    "execution": {
     "iopub.execute_input": "2022-04-12T17:56:53.712735Z",
     "iopub.status.busy": "2022-04-12T17:56:53.712059Z",
     "iopub.status.idle": "2022-04-12T17:56:53.726613Z",
     "shell.execute_reply": "2022-04-12T17:56:53.727176Z",
     "shell.execute_reply.started": "2022-04-12T17:18:44.6608Z"
    },
    "papermill": {
     "duration": 0.100756,
     "end_time": "2022-04-12T17:56:53.727369",
     "exception": false,
     "start_time": "2022-04-12T17:56:53.626613",
     "status": "completed"
    },
    "tags": []
   },
   "outputs": [
    {
     "name": "stdout",
     "output_type": "stream",
     "text": [
      "<class 'pandas.core.frame.DataFrame'>\n",
      "RangeIndex: 418 entries, 0 to 417\n",
      "Data columns (total 15 columns):\n",
      " #   Column            Non-Null Count  Dtype  \n",
      "---  ------            --------------  -----  \n",
      " 0   PassengerId       418 non-null    int64  \n",
      " 1   Pclass            418 non-null    int64  \n",
      " 2   Name              418 non-null    object \n",
      " 3   Sex               418 non-null    object \n",
      " 4   Age               418 non-null    float64\n",
      " 5   SibSp             418 non-null    int64  \n",
      " 6   Parch             418 non-null    int64  \n",
      " 7   Ticket            418 non-null    object \n",
      " 8   Fare              418 non-null    float64\n",
      " 9   Cabin             418 non-null    object \n",
      " 10  Embarked          418 non-null    object \n",
      " 11  cabin_missing     418 non-null    int64  \n",
      " 12  embarked_missing  418 non-null    int64  \n",
      " 13  age_missing       418 non-null    int64  \n",
      " 14  fare_missing      418 non-null    int64  \n",
      "dtypes: float64(2), int64(8), object(5)\n",
      "memory usage: 49.1+ KB\n"
     ]
    }
   ],
   "source": [
    "# quantitative impute\n",
    "e_test_df['Age'] = e_test_df['Age'].fillna(e_test_df['Age'].mean())\n",
    "e_test_df['Fare'] = e_test_df['Fare'].fillna(e_test_df['Fare'].median())\n",
    "e_test_df.info()"
   ]
  },
  {
   "cell_type": "code",
   "execution_count": 35,
   "id": "dabd507c",
   "metadata": {
    "execution": {
     "iopub.execute_input": "2022-04-12T17:56:53.891625Z",
     "iopub.status.busy": "2022-04-12T17:56:53.890524Z",
     "iopub.status.idle": "2022-04-12T17:56:53.893222Z",
     "shell.execute_reply": "2022-04-12T17:56:53.892560Z"
    },
    "papermill": {
     "duration": 0.086989,
     "end_time": "2022-04-12T17:56:53.893370",
     "exception": false,
     "start_time": "2022-04-12T17:56:53.806381",
     "status": "completed"
    },
    "tags": []
   },
   "outputs": [],
   "source": [
    "# age_bucket\n"
   ]
  },
  {
   "cell_type": "code",
   "execution_count": 36,
   "id": "94f919f7",
   "metadata": {
    "execution": {
     "iopub.execute_input": "2022-04-12T17:56:54.059442Z",
     "iopub.status.busy": "2022-04-12T17:56:54.058389Z",
     "iopub.status.idle": "2022-04-12T17:56:54.061679Z",
     "shell.execute_reply": "2022-04-12T17:56:54.062242Z"
    },
    "papermill": {
     "duration": 0.089281,
     "end_time": "2022-04-12T17:56:54.062419",
     "exception": false,
     "start_time": "2022-04-12T17:56:53.973138",
     "status": "completed"
    },
    "tags": []
   },
   "outputs": [],
   "source": [
    "# title"
   ]
  },
  {
   "cell_type": "markdown",
   "id": "1aa39270",
   "metadata": {
    "papermill": {
     "duration": 0.079172,
     "end_time": "2022-04-12T17:56:54.220683",
     "exception": false,
     "start_time": "2022-04-12T17:56:54.141511",
     "status": "completed"
    },
    "tags": []
   },
   "source": [
    "ship_location = what specific area were you on the ship. I will use first letter of ticket to determine)"
   ]
  },
  {
   "cell_type": "code",
   "execution_count": 37,
   "id": "13c22af9",
   "metadata": {
    "execution": {
     "iopub.execute_input": "2022-04-12T17:56:54.385655Z",
     "iopub.status.busy": "2022-04-12T17:56:54.384851Z",
     "iopub.status.idle": "2022-04-12T17:56:54.388041Z",
     "shell.execute_reply": "2022-04-12T17:56:54.388550Z",
     "shell.execute_reply.started": "2022-04-12T17:55:27.123346Z"
    },
    "papermill": {
     "duration": 0.088377,
     "end_time": "2022-04-12T17:56:54.388744",
     "exception": false,
     "start_time": "2022-04-12T17:56:54.300367",
     "status": "completed"
    },
    "tags": []
   },
   "outputs": [
    {
     "name": "stdout",
     "output_type": "stream",
     "text": [
      "Cabins in sort order: ['A10', 'A11', 'A14', 'A16', 'A18', 'A19', 'A20', 'A21', 'A23', 'A24', 'A26', 'A29', 'A31', 'A32', 'A34', 'A36', 'A5', 'A6', 'A7', 'A9', 'B10', 'B101', 'B102', 'B11', 'B18', 'B19', 'B20', 'B22', 'B24', 'B26', 'B28', 'B3', 'B30', 'B35', 'B36', 'B37', 'B38', 'B39', 'B4', 'B41', 'B42', 'B45', 'B49', 'B5', 'B50', 'B51 B53 B55', 'B52 B54 B56', 'B57 B59 B63 B66', 'B58 B60', 'B61', 'B69', 'B71', 'B73', 'B77', 'B78', 'B79', 'B80', 'B82 B84', 'B86', 'B94', 'B96 B98', 'C101', 'C103', 'C104', 'C105', 'C106', 'C110', 'C111', 'C116', 'C118', 'C123', 'C124', 'C125', 'C126', 'C128', 'C130', 'C132', 'C148', 'C2', 'C22 C26', 'C23 C25 C27', 'C28', 'C30', 'C31', 'C32', 'C39', 'C45', 'C46', 'C47', 'C49', 'C50', 'C51', 'C52', 'C53', 'C54', 'C55 C57', 'C6', 'C62 C64', 'C65', 'C68', 'C7', 'C70', 'C78', 'C80', 'C82', 'C83', 'C85', 'C86', 'C87', 'C89', 'C90', 'C91', 'C92', 'C93', 'C95', 'C97', 'C99', 'D', 'D10 D12', 'D11', 'D15', 'D17', 'D19', 'D20', 'D21', 'D22', 'D26', 'D28', 'D30', 'D33', 'D34', 'D35', 'D36', 'D37', 'D38', 'D40', 'D43', 'D45', 'D46', 'D47', 'D48', 'D49', 'D50', 'D56', 'D6', 'D7', 'D9', 'E10', 'E101', 'E12', 'E121', 'E17', 'E24', 'E25', 'E31', 'E33', 'E34', 'E36', 'E38', 'E39 E41', 'E40', 'E44', 'E45', 'E46', 'E49', 'E50', 'E52', 'E58', 'E60', 'E63', 'E67', 'E68', 'E77', 'E8', 'F', 'F E46', 'F E57', 'F E69', 'F G63', 'F G73', 'F2', 'F33', 'F38', 'F4', 'G6', 'Missing', 'T']\n"
     ]
    }
   ],
   "source": [
    "# ship_location\n",
    "train_cabin_set = set(e_train_df['Cabin'].tolist())\n",
    "test_cabin_set = set(e_test_df['Cabin'].tolist())\n",
    "cabins_sorted = sorted(train_cabin_set.union(test_cabin_set))\n",
    "print(f'Cabins in sort order: {cabins_sorted}')"
   ]
  },
  {
   "cell_type": "code",
   "execution_count": 38,
   "id": "5a2a5a60",
   "metadata": {
    "execution": {
     "iopub.execute_input": "2022-04-12T17:56:54.559489Z",
     "iopub.status.busy": "2022-04-12T17:56:54.558455Z",
     "iopub.status.idle": "2022-04-12T17:56:54.564762Z",
     "shell.execute_reply": "2022-04-12T17:56:54.564046Z",
     "shell.execute_reply.started": "2022-04-12T17:45:29.213514Z"
    },
    "papermill": {
     "duration": 0.095958,
     "end_time": "2022-04-12T17:56:54.564915",
     "exception": false,
     "start_time": "2022-04-12T17:56:54.468957",
     "status": "completed"
    },
    "tags": []
   },
   "outputs": [],
   "source": [
    "# ship_location\n",
    "e_train_df['ship_location'] = e_train_df['Cabin'].astype(str).str[0]\n",
    "e_test_df['ship_location'] = e_test_df['Cabin'].astype(str).str[0]"
   ]
  },
  {
   "cell_type": "markdown",
   "id": "abcf9047",
   "metadata": {
    "papermill": {
     "duration": 0.081324,
     "end_time": "2022-04-12T17:56:54.727278",
     "exception": false,
     "start_time": "2022-04-12T17:56:54.645954",
     "status": "completed"
    },
    "tags": []
   },
   "source": [
    "family_size = The total amount of siblings, spouses, parents and children. The idea here is that larger families do not want to be split up, where as individuals can make more ruthless survi"
   ]
  },
  {
   "cell_type": "code",
   "execution_count": 39,
   "id": "cc893984",
   "metadata": {
    "execution": {
     "iopub.execute_input": "2022-04-12T17:56:54.894540Z",
     "iopub.status.busy": "2022-04-12T17:56:54.893467Z",
     "iopub.status.idle": "2022-04-12T17:56:54.899866Z",
     "shell.execute_reply": "2022-04-12T17:56:54.900388Z"
    },
    "papermill": {
     "duration": 0.091326,
     "end_time": "2022-04-12T17:56:54.900557",
     "exception": false,
     "start_time": "2022-04-12T17:56:54.809231",
     "status": "completed"
    },
    "tags": []
   },
   "outputs": [],
   "source": [
    "# family_size\n",
    "e_train_df['family_size'] = e_train_df['SibSp'] + e_train_df['Parch']\n",
    "e_test_df['family_size'] = e_test_df['SibSp'] + e_test_df['Parch']"
   ]
  },
  {
   "cell_type": "markdown",
   "id": "b4c77951",
   "metadata": {
    "papermill": {
     "duration": 0.079206,
     "end_time": "2022-04-12T17:56:55.060995",
     "exception": false,
     "start_time": "2022-04-12T17:56:54.981789",
     "status": "completed"
    },
    "tags": []
   },
   "source": [
    "\n"
   ]
  },
  {
   "cell_type": "markdown",
   "id": "5b8f0263",
   "metadata": {
    "papermill": {
     "duration": 0.079258,
     "end_time": "2022-04-12T17:56:55.220677",
     "exception": false,
     "start_time": "2022-04-12T17:56:55.141419",
     "status": "completed"
    },
    "tags": []
   },
   "source": [
    "**One Hot Encode:**\n",
    "* Pclass\n",
    "* Embarked\n",
    "* age_bucket\n",
    "* title\n",
    "* ship_location\n",
    "* has_spouse\n",
    "* has_child\n",
    "* has_parent\n",
    "\n",
    "**Standardize/Scaling:**\n",
    "* Age\n",
    "* Fare\n",
    "\n",
    "**Drop Columns**:\n",
    "* PassengerID\n",
    "* Name\n",
    "* Ticket"
   ]
  },
  {
   "cell_type": "code",
   "execution_count": null,
   "id": "5e9c9347",
   "metadata": {
    "papermill": {
     "duration": 0.079453,
     "end_time": "2022-04-12T17:56:55.380794",
     "exception": false,
     "start_time": "2022-04-12T17:56:55.301341",
     "status": "completed"
    },
    "tags": []
   },
   "outputs": [],
   "source": []
  },
  {
   "cell_type": "code",
   "execution_count": null,
   "id": "06dee518",
   "metadata": {
    "papermill": {
     "duration": 0.079402,
     "end_time": "2022-04-12T17:56:55.540063",
     "exception": false,
     "start_time": "2022-04-12T17:56:55.460661",
     "status": "completed"
    },
    "tags": []
   },
   "outputs": [],
   "source": []
  },
  {
   "cell_type": "markdown",
   "id": "973d662b",
   "metadata": {
    "papermill": {
     "duration": 0.08002,
     "end_time": "2022-04-12T17:56:55.699667",
     "exception": false,
     "start_time": "2022-04-12T17:56:55.619647",
     "status": "completed"
    },
    "tags": []
   },
   "source": []
  },
  {
   "cell_type": "code",
   "execution_count": null,
   "id": "e69b3d46",
   "metadata": {
    "papermill": {
     "duration": 0.081587,
     "end_time": "2022-04-12T17:56:55.860615",
     "exception": false,
     "start_time": "2022-04-12T17:56:55.779028",
     "status": "completed"
    },
    "tags": []
   },
   "outputs": [],
   "source": []
  },
  {
   "cell_type": "markdown",
   "id": "95200b57",
   "metadata": {
    "papermill": {
     "duration": 0.079266,
     "end_time": "2022-04-12T17:56:56.019852",
     "exception": false,
     "start_time": "2022-04-12T17:56:55.940586",
     "status": "completed"
    },
    "tags": []
   },
   "source": [
    "---\n",
    "# Submission"
   ]
  },
  {
   "cell_type": "code",
   "execution_count": null,
   "id": "36e24ea6",
   "metadata": {
    "papermill": {
     "duration": 0.088768,
     "end_time": "2022-04-12T17:56:56.188172",
     "exception": false,
     "start_time": "2022-04-12T17:56:56.099404",
     "status": "completed"
    },
    "tags": []
   },
   "outputs": [],
   "source": []
  }
 ],
 "metadata": {
  "kernelspec": {
   "display_name": "Python 3",
   "language": "python",
   "name": "python3"
  },
  "language_info": {
   "codemirror_mode": {
    "name": "ipython",
    "version": 3
   },
   "file_extension": ".py",
   "mimetype": "text/x-python",
   "name": "python",
   "nbconvert_exporter": "python",
   "pygments_lexer": "ipython3",
   "version": "3.7.12"
  },
  "papermill": {
   "default_parameters": {},
   "duration": 28.211275,
   "end_time": "2022-04-12T17:56:57.078531",
   "environment_variables": {},
   "exception": null,
   "input_path": "__notebook__.ipynb",
   "output_path": "__notebook__.ipynb",
   "parameters": {},
   "start_time": "2022-04-12T17:56:28.867256",
   "version": "2.3.3"
  }
 },
 "nbformat": 4,
 "nbformat_minor": 5
}
