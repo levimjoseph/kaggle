{
 "cells": [
  {
   "cell_type": "markdown",
   "id": "cc0a1983",
   "metadata": {
    "papermill": {
     "duration": 0.009809,
     "end_time": "2022-04-11T14:33:00.765548",
     "exception": false,
     "start_time": "2022-04-11T14:33:00.755739",
     "status": "completed"
    },
    "tags": []
   },
   "source": [
    "# Overview"
   ]
  },
  {
   "cell_type": "code",
   "execution_count": 1,
   "id": "483620c6",
   "metadata": {
    "_cell_guid": "b1076dfc-b9ad-4769-8c92-a6c4dae69d19",
    "_uuid": "8f2839f25d086af736a60e9eeb907d3b93b6e0e5",
    "execution": {
     "iopub.execute_input": "2022-04-11T14:33:00.794493Z",
     "iopub.status.busy": "2022-04-11T14:33:00.793799Z",
     "iopub.status.idle": "2022-04-11T14:33:00.804790Z",
     "shell.execute_reply": "2022-04-11T14:33:00.805525Z"
    },
    "papermill": {
     "duration": 0.031007,
     "end_time": "2022-04-11T14:33:00.805898",
     "exception": false,
     "start_time": "2022-04-11T14:33:00.774891",
     "status": "completed"
    },
    "tags": []
   },
   "outputs": [
    {
     "name": "stdout",
     "output_type": "stream",
     "text": [
      "/kaggle/input/titanic/train.csv\n",
      "/kaggle/input/titanic/test.csv\n",
      "/kaggle/input/titanic/gender_submission.csv\n"
     ]
    }
   ],
   "source": [
    "# This Python 3 environment comes with many helpful analytics libraries installed\n",
    "# It is defined by the kaggle/python Docker image: https://github.com/kaggle/docker-python\n",
    "# For example, here's several helpful packages to load\n",
    "\n",
    "import numpy as np # linear algebra\n",
    "import pandas as pd # data processing, CSV file I/O (e.g. pd.read_csv)\n",
    "\n",
    "# Input data files are available in the read-only \"../input/\" directory\n",
    "# For example, running this (by clicking run or pressing Shift+Enter) will list all files under the input directory\n",
    "import os\n",
    "for dirname, _, filenames in os.walk('/kaggle/input'):\n",
    "    for filename in filenames:\n",
    "        print(os.path.join(dirname, filename))\n",
    "\n",
    "# You can write up to 20GB to the current directory (/kaggle/working/) that gets preserved as output when you create a version using \"Save & Run All\" \n",
    "# You can also write temporary files to /kaggle/temp/, but they won't be saved outside of the current session"
   ]
  },
  {
   "cell_type": "markdown",
   "id": "30da539c",
   "metadata": {
    "papermill": {
     "duration": 0.009224,
     "end_time": "2022-04-11T14:33:00.826552",
     "exception": false,
     "start_time": "2022-04-11T14:33:00.817328",
     "status": "completed"
    },
    "tags": []
   },
   "source": [
    "# Setup"
   ]
  },
  {
   "cell_type": "code",
   "execution_count": null,
   "id": "264d91de",
   "metadata": {
    "papermill": {
     "duration": 0.00868,
     "end_time": "2022-04-11T14:33:00.845758",
     "exception": false,
     "start_time": "2022-04-11T14:33:00.837078",
     "status": "completed"
    },
    "tags": []
   },
   "outputs": [],
   "source": []
  },
  {
   "cell_type": "markdown",
   "id": "6472b59f",
   "metadata": {
    "papermill": {
     "duration": 0.009699,
     "end_time": "2022-04-11T14:33:00.864466",
     "exception": false,
     "start_time": "2022-04-11T14:33:00.854767",
     "status": "completed"
    },
    "tags": []
   },
   "source": [
    "# EDA"
   ]
  },
  {
   "cell_type": "code",
   "execution_count": null,
   "id": "0174825a",
   "metadata": {
    "papermill": {
     "duration": 0.009086,
     "end_time": "2022-04-11T14:33:00.885266",
     "exception": false,
     "start_time": "2022-04-11T14:33:00.876180",
     "status": "completed"
    },
    "tags": []
   },
   "outputs": [],
   "source": []
  },
  {
   "cell_type": "markdown",
   "id": "4113a36a",
   "metadata": {
    "papermill": {
     "duration": 0.009607,
     "end_time": "2022-04-11T14:33:00.904106",
     "exception": false,
     "start_time": "2022-04-11T14:33:00.894499",
     "status": "completed"
    },
    "tags": []
   },
   "source": [
    "# Modeling"
   ]
  },
  {
   "cell_type": "code",
   "execution_count": null,
   "id": "f11f0df1",
   "metadata": {
    "papermill": {
     "duration": 0.008641,
     "end_time": "2022-04-11T14:33:00.921803",
     "exception": false,
     "start_time": "2022-04-11T14:33:00.913162",
     "status": "completed"
    },
    "tags": []
   },
   "outputs": [],
   "source": []
  },
  {
   "cell_type": "markdown",
   "id": "c6f5007c",
   "metadata": {
    "papermill": {
     "duration": 0.010307,
     "end_time": "2022-04-11T14:33:00.941512",
     "exception": false,
     "start_time": "2022-04-11T14:33:00.931205",
     "status": "completed"
    },
    "tags": []
   },
   "source": [
    "# Submission"
   ]
  },
  {
   "cell_type": "code",
   "execution_count": null,
   "id": "eceb34af",
   "metadata": {
    "papermill": {
     "duration": 0.008819,
     "end_time": "2022-04-11T14:33:00.960256",
     "exception": false,
     "start_time": "2022-04-11T14:33:00.951437",
     "status": "completed"
    },
    "tags": []
   },
   "outputs": [],
   "source": []
  }
 ],
 "metadata": {
  "kernelspec": {
   "display_name": "Python 3",
   "language": "python",
   "name": "python3"
  },
  "language_info": {
   "codemirror_mode": {
    "name": "ipython",
    "version": 3
   },
   "file_extension": ".py",
   "mimetype": "text/x-python",
   "name": "python",
   "nbconvert_exporter": "python",
   "pygments_lexer": "ipython3",
   "version": "3.7.12"
  },
  "papermill": {
   "default_parameters": {},
   "duration": 12.766317,
   "end_time": "2022-04-11T14:33:01.681734",
   "environment_variables": {},
   "exception": null,
   "input_path": "__notebook__.ipynb",
   "output_path": "__notebook__.ipynb",
   "parameters": {},
   "start_time": "2022-04-11T14:32:48.915417",
   "version": "2.3.3"
  }
 },
 "nbformat": 4,
 "nbformat_minor": 5
}
