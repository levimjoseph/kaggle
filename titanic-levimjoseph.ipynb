{
 "cells": [
  {
   "cell_type": "markdown",
   "id": "943b0928",
   "metadata": {
    "papermill": {
     "duration": 0.032908,
     "end_time": "2022-04-12T13:46:36.392402",
     "exception": false,
     "start_time": "2022-04-12T13:46:36.359494",
     "status": "completed"
    },
    "tags": []
   },
   "source": [
    "# Overview"
   ]
  },
  {
   "cell_type": "markdown",
   "id": "98340eec",
   "metadata": {
    "papermill": {
     "duration": 0.028101,
     "end_time": "2022-04-12T13:46:36.449560",
     "exception": false,
     "start_time": "2022-04-12T13:46:36.421459",
     "status": "completed"
    },
    "tags": []
   },
   "source": [
    " This is my first time participating in a Kaggle. I have used Kaggle competitions as learning resources in the past, and am now determined to become a competitor myself. Please see my [blog post](https://medium.com/@levimjoseph/getting-started-with-kaggle-competitions-63bee65fb31d) on the matter.  \n",
    "\n",
    "Much has been written about the Titanic competition on Kaggle. There are several wonderful notebook write ups, such as Alexis Cook's [Titanic Tutorial](https://www.kaggle.com/alexisbcook/titanic-tutorial). Therefore, I will not belabor my introduction.  \n",
    "\n",
    "That said, the Titanic Competition is a classification problem where we are tasked with predicting whether or not a passenger survived the ship's sinking."
   ]
  },
  {
   "cell_type": "markdown",
   "id": "135c273f",
   "metadata": {
    "papermill": {
     "duration": 0.027675,
     "end_time": "2022-04-12T13:46:36.505150",
     "exception": false,
     "start_time": "2022-04-12T13:46:36.477475",
     "status": "completed"
    },
    "tags": []
   },
   "source": [
    "# Setup"
   ]
  },
  {
   "cell_type": "code",
   "execution_count": 1,
   "id": "a5b07f53",
   "metadata": {
    "execution": {
     "iopub.execute_input": "2022-04-12T13:46:36.566742Z",
     "iopub.status.busy": "2022-04-12T13:46:36.565453Z",
     "iopub.status.idle": "2022-04-12T13:46:37.650645Z",
     "shell.execute_reply": "2022-04-12T13:46:37.649936Z",
     "shell.execute_reply.started": "2022-04-12T13:34:07.623662Z"
    },
    "papermill": {
     "duration": 1.117762,
     "end_time": "2022-04-12T13:46:37.650862",
     "exception": false,
     "start_time": "2022-04-12T13:46:36.533100",
     "status": "completed"
    },
    "tags": []
   },
   "outputs": [],
   "source": [
    "# initial imports\n",
    "import numpy as np\n",
    "import pandas as pd\n",
    "import seaborn as sns\n",
    "\n",
    "seed = 42"
   ]
  },
  {
   "cell_type": "code",
   "execution_count": 2,
   "id": "1ae17b29",
   "metadata": {
    "execution": {
     "iopub.execute_input": "2022-04-12T13:46:37.713048Z",
     "iopub.status.busy": "2022-04-12T13:46:37.712310Z",
     "iopub.status.idle": "2022-04-12T13:46:37.737715Z",
     "shell.execute_reply": "2022-04-12T13:46:37.738312Z",
     "shell.execute_reply.started": "2022-04-12T12:34:24.440388Z"
    },
    "papermill": {
     "duration": 0.059275,
     "end_time": "2022-04-12T13:46:37.738501",
     "exception": false,
     "start_time": "2022-04-12T13:46:37.679226",
     "status": "completed"
    },
    "tags": []
   },
   "outputs": [],
   "source": [
    "# import train and test set\n",
    "train_df = pd.read_csv('../input/titanic/train.csv')\n",
    "test_df = pd.read_csv('../input/titanic/test.csv')"
   ]
  },
  {
   "cell_type": "code",
   "execution_count": 3,
   "id": "82b4b366",
   "metadata": {
    "execution": {
     "iopub.execute_input": "2022-04-12T13:46:37.798667Z",
     "iopub.status.busy": "2022-04-12T13:46:37.797957Z",
     "iopub.status.idle": "2022-04-12T13:46:37.821428Z",
     "shell.execute_reply": "2022-04-12T13:46:37.821981Z",
     "shell.execute_reply.started": "2022-04-12T12:34:26.232564Z"
    },
    "papermill": {
     "duration": 0.055492,
     "end_time": "2022-04-12T13:46:37.822167",
     "exception": false,
     "start_time": "2022-04-12T13:46:37.766675",
     "status": "completed"
    },
    "tags": []
   },
   "outputs": [
    {
     "data": {
      "text/html": [
       "<div>\n",
       "<style scoped>\n",
       "    .dataframe tbody tr th:only-of-type {\n",
       "        vertical-align: middle;\n",
       "    }\n",
       "\n",
       "    .dataframe tbody tr th {\n",
       "        vertical-align: top;\n",
       "    }\n",
       "\n",
       "    .dataframe thead th {\n",
       "        text-align: right;\n",
       "    }\n",
       "</style>\n",
       "<table border=\"1\" class=\"dataframe\">\n",
       "  <thead>\n",
       "    <tr style=\"text-align: right;\">\n",
       "      <th></th>\n",
       "      <th>PassengerId</th>\n",
       "      <th>Survived</th>\n",
       "      <th>Pclass</th>\n",
       "      <th>Name</th>\n",
       "      <th>Sex</th>\n",
       "      <th>Age</th>\n",
       "      <th>SibSp</th>\n",
       "      <th>Parch</th>\n",
       "      <th>Ticket</th>\n",
       "      <th>Fare</th>\n",
       "      <th>Cabin</th>\n",
       "      <th>Embarked</th>\n",
       "    </tr>\n",
       "  </thead>\n",
       "  <tbody>\n",
       "    <tr>\n",
       "      <th>0</th>\n",
       "      <td>1</td>\n",
       "      <td>0</td>\n",
       "      <td>3</td>\n",
       "      <td>Braund, Mr. Owen Harris</td>\n",
       "      <td>male</td>\n",
       "      <td>22.0</td>\n",
       "      <td>1</td>\n",
       "      <td>0</td>\n",
       "      <td>A/5 21171</td>\n",
       "      <td>7.2500</td>\n",
       "      <td>NaN</td>\n",
       "      <td>S</td>\n",
       "    </tr>\n",
       "    <tr>\n",
       "      <th>1</th>\n",
       "      <td>2</td>\n",
       "      <td>1</td>\n",
       "      <td>1</td>\n",
       "      <td>Cumings, Mrs. John Bradley (Florence Briggs Th...</td>\n",
       "      <td>female</td>\n",
       "      <td>38.0</td>\n",
       "      <td>1</td>\n",
       "      <td>0</td>\n",
       "      <td>PC 17599</td>\n",
       "      <td>71.2833</td>\n",
       "      <td>C85</td>\n",
       "      <td>C</td>\n",
       "    </tr>\n",
       "    <tr>\n",
       "      <th>2</th>\n",
       "      <td>3</td>\n",
       "      <td>1</td>\n",
       "      <td>3</td>\n",
       "      <td>Heikkinen, Miss. Laina</td>\n",
       "      <td>female</td>\n",
       "      <td>26.0</td>\n",
       "      <td>0</td>\n",
       "      <td>0</td>\n",
       "      <td>STON/O2. 3101282</td>\n",
       "      <td>7.9250</td>\n",
       "      <td>NaN</td>\n",
       "      <td>S</td>\n",
       "    </tr>\n",
       "    <tr>\n",
       "      <th>3</th>\n",
       "      <td>4</td>\n",
       "      <td>1</td>\n",
       "      <td>1</td>\n",
       "      <td>Futrelle, Mrs. Jacques Heath (Lily May Peel)</td>\n",
       "      <td>female</td>\n",
       "      <td>35.0</td>\n",
       "      <td>1</td>\n",
       "      <td>0</td>\n",
       "      <td>113803</td>\n",
       "      <td>53.1000</td>\n",
       "      <td>C123</td>\n",
       "      <td>S</td>\n",
       "    </tr>\n",
       "    <tr>\n",
       "      <th>4</th>\n",
       "      <td>5</td>\n",
       "      <td>0</td>\n",
       "      <td>3</td>\n",
       "      <td>Allen, Mr. William Henry</td>\n",
       "      <td>male</td>\n",
       "      <td>35.0</td>\n",
       "      <td>0</td>\n",
       "      <td>0</td>\n",
       "      <td>373450</td>\n",
       "      <td>8.0500</td>\n",
       "      <td>NaN</td>\n",
       "      <td>S</td>\n",
       "    </tr>\n",
       "  </tbody>\n",
       "</table>\n",
       "</div>"
      ],
      "text/plain": [
       "   PassengerId  Survived  Pclass  \\\n",
       "0            1         0       3   \n",
       "1            2         1       1   \n",
       "2            3         1       3   \n",
       "3            4         1       1   \n",
       "4            5         0       3   \n",
       "\n",
       "                                                Name     Sex   Age  SibSp  \\\n",
       "0                            Braund, Mr. Owen Harris    male  22.0      1   \n",
       "1  Cumings, Mrs. John Bradley (Florence Briggs Th...  female  38.0      1   \n",
       "2                             Heikkinen, Miss. Laina  female  26.0      0   \n",
       "3       Futrelle, Mrs. Jacques Heath (Lily May Peel)  female  35.0      1   \n",
       "4                           Allen, Mr. William Henry    male  35.0      0   \n",
       "\n",
       "   Parch            Ticket     Fare Cabin Embarked  \n",
       "0      0         A/5 21171   7.2500   NaN        S  \n",
       "1      0          PC 17599  71.2833   C85        C  \n",
       "2      0  STON/O2. 3101282   7.9250   NaN        S  \n",
       "3      0            113803  53.1000  C123        S  \n",
       "4      0            373450   8.0500   NaN        S  "
      ]
     },
     "execution_count": 3,
     "metadata": {},
     "output_type": "execute_result"
    }
   ],
   "source": [
    "# confirm train_df\n",
    "train_df.head()"
   ]
  },
  {
   "cell_type": "code",
   "execution_count": 4,
   "id": "988796df",
   "metadata": {
    "execution": {
     "iopub.execute_input": "2022-04-12T13:46:37.899433Z",
     "iopub.status.busy": "2022-04-12T13:46:37.898305Z",
     "iopub.status.idle": "2022-04-12T13:46:37.902410Z",
     "shell.execute_reply": "2022-04-12T13:46:37.902958Z",
     "shell.execute_reply.started": "2022-04-12T12:34:28.618926Z"
    },
    "papermill": {
     "duration": 0.050942,
     "end_time": "2022-04-12T13:46:37.903145",
     "exception": false,
     "start_time": "2022-04-12T13:46:37.852203",
     "status": "completed"
    },
    "tags": []
   },
   "outputs": [
    {
     "data": {
      "text/html": [
       "<div>\n",
       "<style scoped>\n",
       "    .dataframe tbody tr th:only-of-type {\n",
       "        vertical-align: middle;\n",
       "    }\n",
       "\n",
       "    .dataframe tbody tr th {\n",
       "        vertical-align: top;\n",
       "    }\n",
       "\n",
       "    .dataframe thead th {\n",
       "        text-align: right;\n",
       "    }\n",
       "</style>\n",
       "<table border=\"1\" class=\"dataframe\">\n",
       "  <thead>\n",
       "    <tr style=\"text-align: right;\">\n",
       "      <th></th>\n",
       "      <th>PassengerId</th>\n",
       "      <th>Pclass</th>\n",
       "      <th>Name</th>\n",
       "      <th>Sex</th>\n",
       "      <th>Age</th>\n",
       "      <th>SibSp</th>\n",
       "      <th>Parch</th>\n",
       "      <th>Ticket</th>\n",
       "      <th>Fare</th>\n",
       "      <th>Cabin</th>\n",
       "      <th>Embarked</th>\n",
       "    </tr>\n",
       "  </thead>\n",
       "  <tbody>\n",
       "    <tr>\n",
       "      <th>0</th>\n",
       "      <td>892</td>\n",
       "      <td>3</td>\n",
       "      <td>Kelly, Mr. James</td>\n",
       "      <td>male</td>\n",
       "      <td>34.5</td>\n",
       "      <td>0</td>\n",
       "      <td>0</td>\n",
       "      <td>330911</td>\n",
       "      <td>7.8292</td>\n",
       "      <td>NaN</td>\n",
       "      <td>Q</td>\n",
       "    </tr>\n",
       "    <tr>\n",
       "      <th>1</th>\n",
       "      <td>893</td>\n",
       "      <td>3</td>\n",
       "      <td>Wilkes, Mrs. James (Ellen Needs)</td>\n",
       "      <td>female</td>\n",
       "      <td>47.0</td>\n",
       "      <td>1</td>\n",
       "      <td>0</td>\n",
       "      <td>363272</td>\n",
       "      <td>7.0000</td>\n",
       "      <td>NaN</td>\n",
       "      <td>S</td>\n",
       "    </tr>\n",
       "    <tr>\n",
       "      <th>2</th>\n",
       "      <td>894</td>\n",
       "      <td>2</td>\n",
       "      <td>Myles, Mr. Thomas Francis</td>\n",
       "      <td>male</td>\n",
       "      <td>62.0</td>\n",
       "      <td>0</td>\n",
       "      <td>0</td>\n",
       "      <td>240276</td>\n",
       "      <td>9.6875</td>\n",
       "      <td>NaN</td>\n",
       "      <td>Q</td>\n",
       "    </tr>\n",
       "    <tr>\n",
       "      <th>3</th>\n",
       "      <td>895</td>\n",
       "      <td>3</td>\n",
       "      <td>Wirz, Mr. Albert</td>\n",
       "      <td>male</td>\n",
       "      <td>27.0</td>\n",
       "      <td>0</td>\n",
       "      <td>0</td>\n",
       "      <td>315154</td>\n",
       "      <td>8.6625</td>\n",
       "      <td>NaN</td>\n",
       "      <td>S</td>\n",
       "    </tr>\n",
       "    <tr>\n",
       "      <th>4</th>\n",
       "      <td>896</td>\n",
       "      <td>3</td>\n",
       "      <td>Hirvonen, Mrs. Alexander (Helga E Lindqvist)</td>\n",
       "      <td>female</td>\n",
       "      <td>22.0</td>\n",
       "      <td>1</td>\n",
       "      <td>1</td>\n",
       "      <td>3101298</td>\n",
       "      <td>12.2875</td>\n",
       "      <td>NaN</td>\n",
       "      <td>S</td>\n",
       "    </tr>\n",
       "  </tbody>\n",
       "</table>\n",
       "</div>"
      ],
      "text/plain": [
       "   PassengerId  Pclass                                          Name     Sex  \\\n",
       "0          892       3                              Kelly, Mr. James    male   \n",
       "1          893       3              Wilkes, Mrs. James (Ellen Needs)  female   \n",
       "2          894       2                     Myles, Mr. Thomas Francis    male   \n",
       "3          895       3                              Wirz, Mr. Albert    male   \n",
       "4          896       3  Hirvonen, Mrs. Alexander (Helga E Lindqvist)  female   \n",
       "\n",
       "    Age  SibSp  Parch   Ticket     Fare Cabin Embarked  \n",
       "0  34.5      0      0   330911   7.8292   NaN        Q  \n",
       "1  47.0      1      0   363272   7.0000   NaN        S  \n",
       "2  62.0      0      0   240276   9.6875   NaN        Q  \n",
       "3  27.0      0      0   315154   8.6625   NaN        S  \n",
       "4  22.0      1      1  3101298  12.2875   NaN        S  "
      ]
     },
     "execution_count": 4,
     "metadata": {},
     "output_type": "execute_result"
    }
   ],
   "source": [
    "# confirm test_df\n",
    "test_df.head()"
   ]
  },
  {
   "cell_type": "markdown",
   "id": "6c1a6614",
   "metadata": {
    "papermill": {
     "duration": 0.029519,
     "end_time": "2022-04-12T13:46:37.962281",
     "exception": false,
     "start_time": "2022-04-12T13:46:37.932762",
     "status": "completed"
    },
    "tags": []
   },
   "source": [
    "---\n",
    "# EDA"
   ]
  },
  {
   "cell_type": "code",
   "execution_count": 5,
   "id": "79bca940",
   "metadata": {
    "execution": {
     "iopub.execute_input": "2022-04-12T13:46:38.026643Z",
     "iopub.status.busy": "2022-04-12T13:46:38.025600Z",
     "iopub.status.idle": "2022-04-12T13:46:38.050816Z",
     "shell.execute_reply": "2022-04-12T13:46:38.049832Z",
     "shell.execute_reply.started": "2022-04-12T12:34:30.960740Z"
    },
    "papermill": {
     "duration": 0.057982,
     "end_time": "2022-04-12T13:46:38.051035",
     "exception": false,
     "start_time": "2022-04-12T13:46:37.993053",
     "status": "completed"
    },
    "tags": []
   },
   "outputs": [
    {
     "name": "stdout",
     "output_type": "stream",
     "text": [
      "<class 'pandas.core.frame.DataFrame'>\n",
      "RangeIndex: 891 entries, 0 to 890\n",
      "Data columns (total 12 columns):\n",
      " #   Column       Non-Null Count  Dtype  \n",
      "---  ------       --------------  -----  \n",
      " 0   PassengerId  891 non-null    int64  \n",
      " 1   Survived     891 non-null    int64  \n",
      " 2   Pclass       891 non-null    int64  \n",
      " 3   Name         891 non-null    object \n",
      " 4   Sex          891 non-null    object \n",
      " 5   Age          714 non-null    float64\n",
      " 6   SibSp        891 non-null    int64  \n",
      " 7   Parch        891 non-null    int64  \n",
      " 8   Ticket       891 non-null    object \n",
      " 9   Fare         891 non-null    float64\n",
      " 10  Cabin        204 non-null    object \n",
      " 11  Embarked     889 non-null    object \n",
      "dtypes: float64(2), int64(5), object(5)\n",
      "memory usage: 83.7+ KB\n"
     ]
    }
   ],
   "source": [
    "# get basic info on the train_df\n",
    "train_df.info()"
   ]
  },
  {
   "cell_type": "code",
   "execution_count": 6,
   "id": "0670b536",
   "metadata": {
    "execution": {
     "iopub.execute_input": "2022-04-12T13:46:38.118633Z",
     "iopub.status.busy": "2022-04-12T13:46:38.117540Z",
     "iopub.status.idle": "2022-04-12T13:46:38.128478Z",
     "shell.execute_reply": "2022-04-12T13:46:38.129027Z",
     "shell.execute_reply.started": "2022-04-12T12:34:51.975283Z"
    },
    "papermill": {
     "duration": 0.046848,
     "end_time": "2022-04-12T13:46:38.129253",
     "exception": false,
     "start_time": "2022-04-12T13:46:38.082405",
     "status": "completed"
    },
    "tags": []
   },
   "outputs": [
    {
     "name": "stdout",
     "output_type": "stream",
     "text": [
      "<class 'pandas.core.frame.DataFrame'>\n",
      "RangeIndex: 418 entries, 0 to 417\n",
      "Data columns (total 11 columns):\n",
      " #   Column       Non-Null Count  Dtype  \n",
      "---  ------       --------------  -----  \n",
      " 0   PassengerId  418 non-null    int64  \n",
      " 1   Pclass       418 non-null    int64  \n",
      " 2   Name         418 non-null    object \n",
      " 3   Sex          418 non-null    object \n",
      " 4   Age          332 non-null    float64\n",
      " 5   SibSp        418 non-null    int64  \n",
      " 6   Parch        418 non-null    int64  \n",
      " 7   Ticket       418 non-null    object \n",
      " 8   Fare         417 non-null    float64\n",
      " 9   Cabin        91 non-null     object \n",
      " 10  Embarked     418 non-null    object \n",
      "dtypes: float64(2), int64(4), object(5)\n",
      "memory usage: 36.0+ KB\n"
     ]
    }
   ],
   "source": [
    "# get basic info on the test_df\n",
    "test_df.info()"
   ]
  },
  {
   "cell_type": "code",
   "execution_count": 7,
   "id": "cc778403",
   "metadata": {
    "execution": {
     "iopub.execute_input": "2022-04-12T13:46:38.194278Z",
     "iopub.status.busy": "2022-04-12T13:46:38.193232Z",
     "iopub.status.idle": "2022-04-12T13:46:38.199007Z",
     "shell.execute_reply": "2022-04-12T13:46:38.199704Z",
     "shell.execute_reply.started": "2022-04-12T12:40:33.039471Z"
    },
    "papermill": {
     "duration": 0.039954,
     "end_time": "2022-04-12T13:46:38.199884",
     "exception": false,
     "start_time": "2022-04-12T13:46:38.159930",
     "status": "completed"
    },
    "tags": []
   },
   "outputs": [
    {
     "name": "stdout",
     "output_type": "stream",
     "text": [
      "Percentage of data in test set: 31.93%\n"
     ]
    }
   ],
   "source": [
    "# percentage of test set to overall set\n",
    "perc = round((len(test_df.index) / (len(train_df.index) + len(test_df.index)) * 100),2)\n",
    "print(f'Percentage of data in test set: {perc}%')"
   ]
  },
  {
   "cell_type": "markdown",
   "id": "a686d1c3",
   "metadata": {
    "papermill": {
     "duration": 0.030649,
     "end_time": "2022-04-12T13:46:38.261241",
     "exception": false,
     "start_time": "2022-04-12T13:46:38.230592",
     "status": "completed"
    },
    "tags": []
   },
   "source": [
    "We see that the **train_df** has 891 rows and 11 columns. 10 of these columns will become *features*, while 1 (Survived) will become the *dependent variable*.\n",
    "\n",
    "We see that the **test_df** has 418 rows and 10 columns. 31.93% of our overall data is in the test set.\n",
    "\n",
    "**Data Dictionary:**\n",
    "* PassengerId - int. Key.\n",
    "* Survived - int. Survival. 0 = No, 1 = Yes. Boolean.\n",
    "* Pclass - int. Ticket class.\n",
    "* Name - str. Name of passenger.\n",
    "* Sex - str. Sex of passenger.\n",
    "* Age - float. Age of passenger. If age is estimated, takes xx.5.\n",
    "* SibSp - int. # of siblings/spouses on board. \n",
    "* Parch - int. # of parents/ children aboard the titanic.\n",
    "* Ticket - str. Ticket number.\n",
    "* Fare - float. Fare paid by passenger.\n",
    "* Cabin - str. Cabin of passenger.\n",
    "* Embarked - str. Port of embarkation. C = Cherbourg, Q = Queenstown, S = Southampton.\n",
    "\n",
    "**Initial Hypotheses:**\n",
    "* Young children will survive\n",
    "* Young women will survive.\n",
    "* Rich people will survive.\n",
    "* Location on ship matters.\n",
    "* Officers will not survive."
   ]
  },
  {
   "cell_type": "markdown",
   "id": "ac1e46aa",
   "metadata": {
    "papermill": {
     "duration": 0.030427,
     "end_time": "2022-04-12T13:46:38.322243",
     "exception": false,
     "start_time": "2022-04-12T13:46:38.291816",
     "status": "completed"
    },
    "tags": []
   },
   "source": [
    "## Categorical Variables"
   ]
  },
  {
   "cell_type": "code",
   "execution_count": 8,
   "id": "91c9d659",
   "metadata": {
    "execution": {
     "iopub.execute_input": "2022-04-12T13:46:38.391106Z",
     "iopub.status.busy": "2022-04-12T13:46:38.390298Z",
     "iopub.status.idle": "2022-04-12T13:46:38.828895Z",
     "shell.execute_reply": "2022-04-12T13:46:38.828198Z",
     "shell.execute_reply.started": "2022-04-12T13:35:11.851538Z"
    },
    "papermill": {
     "duration": 0.47613,
     "end_time": "2022-04-12T13:46:38.829048",
     "exception": false,
     "start_time": "2022-04-12T13:46:38.352918",
     "status": "completed"
    },
    "tags": []
   },
   "outputs": [
    {
     "data": {
      "text/plain": [
       "<seaborn.axisgrid.FacetGrid at 0x7fcc521c41d0>"
      ]
     },
     "execution_count": 8,
     "metadata": {},
     "output_type": "execute_result"
    },
    {
     "data": {
      "image/png": "[encoded data removed]",
      "text/plain": [
       "<Figure size 411.875x360 with 1 Axes>"
      ]
     },
     "metadata": {
      "needs_background": "light"
     },
     "output_type": "display_data"
    }
   ],
   "source": [
    "# PClass vs Survived\n",
    "sns.catplot(x='Pclass', hue='Survived', data=train_df, kind='count')"
   ]
  },
  {
   "cell_type": "markdown",
   "id": "e08c22be",
   "metadata": {
    "papermill": {
     "duration": 0.032779,
     "end_time": "2022-04-12T13:46:38.894389",
     "exception": false,
     "start_time": "2022-04-12T13:46:38.861610",
     "status": "completed"
    },
    "tags": []
   },
   "source": [
    "As expected, Pclass appears to be correlated with survival."
   ]
  },
  {
   "cell_type": "code",
   "execution_count": 9,
   "id": "e6213958",
   "metadata": {
    "execution": {
     "iopub.execute_input": "2022-04-12T13:46:38.968302Z",
     "iopub.status.busy": "2022-04-12T13:46:38.966171Z",
     "iopub.status.idle": "2022-04-12T13:46:39.331828Z",
     "shell.execute_reply": "2022-04-12T13:46:39.330960Z",
     "shell.execute_reply.started": "2022-04-12T13:35:55.089012Z"
    },
    "papermill": {
     "duration": 0.405203,
     "end_time": "2022-04-12T13:46:39.331988",
     "exception": false,
     "start_time": "2022-04-12T13:46:38.926785",
     "status": "completed"
    },
    "tags": []
   },
   "outputs": [
    {
     "data": {
      "text/plain": [
       "<seaborn.axisgrid.FacetGrid at 0x7fcc51f6cb10>"
      ]
     },
     "execution_count": 9,
     "metadata": {},
     "output_type": "execute_result"
    },
    {
     "data": {
      "image/png": "[encoded data removed]",
      "text/plain": [
       "<Figure size 411.875x360 with 1 Axes>"
      ]
     },
     "metadata": {
      "needs_background": "light"
     },
     "output_type": "display_data"
    }
   ],
   "source": [
    "# Sex vs Survived\n",
    "sns.catplot(x='Sex', hue='Survived', data=train_df, kind='count')"
   ]
  },
  {
   "cell_type": "markdown",
   "id": "5404ef8e",
   "metadata": {
    "papermill": {
     "duration": 0.03446,
     "end_time": "2022-04-12T13:46:39.400816",
     "exception": false,
     "start_time": "2022-04-12T13:46:39.366356",
     "status": "completed"
    },
    "tags": []
   },
   "source": [
    "As expected, Sex appears to be correlated with survival."
   ]
  },
  {
   "cell_type": "code",
   "execution_count": 10,
   "id": "2f75e1fc",
   "metadata": {
    "execution": {
     "iopub.execute_input": "2022-04-12T13:46:39.500640Z",
     "iopub.status.busy": "2022-04-12T13:46:39.477621Z",
     "iopub.status.idle": "2022-04-12T13:46:39.809434Z",
     "shell.execute_reply": "2022-04-12T13:46:39.808852Z",
     "shell.execute_reply.started": "2022-04-12T13:36:46.664650Z"
    },
    "papermill": {
     "duration": 0.375329,
     "end_time": "2022-04-12T13:46:39.809596",
     "exception": false,
     "start_time": "2022-04-12T13:46:39.434267",
     "status": "completed"
    },
    "tags": []
   },
   "outputs": [
    {
     "data": {
      "text/plain": [
       "<seaborn.axisgrid.FacetGrid at 0x7fcc51f43750>"
      ]
     },
     "execution_count": 10,
     "metadata": {},
     "output_type": "execute_result"
    },
    {
     "data": {
      "image/png": "[encoded data removed]",
      "text/plain": [
       "<Figure size 411.875x360 with 1 Axes>"
      ]
     },
     "metadata": {
      "needs_background": "light"
     },
     "output_type": "display_data"
    }
   ],
   "source": [
    "# Sex vs Survived\n",
    "sns.catplot(x='Embarked', hue='Survived', data=train_df, kind='count')"
   ]
  },
  {
   "cell_type": "markdown",
   "id": "6b0c83f2",
   "metadata": {
    "papermill": {
     "duration": 0.035099,
     "end_time": "2022-04-12T13:46:39.879897",
     "exception": false,
     "start_time": "2022-04-12T13:46:39.844798",
     "status": "completed"
    },
    "tags": []
   },
   "source": [
    "This is an initially surprising finding, though I think perhaps Embarked may be correlated with Pclass."
   ]
  },
  {
   "cell_type": "code",
   "execution_count": 11,
   "id": "703a4d44",
   "metadata": {
    "execution": {
     "iopub.execute_input": "2022-04-12T13:46:39.958409Z",
     "iopub.status.busy": "2022-04-12T13:46:39.957320Z",
     "iopub.status.idle": "2022-04-12T13:46:40.316472Z",
     "shell.execute_reply": "2022-04-12T13:46:40.315902Z",
     "shell.execute_reply.started": "2022-04-12T13:43:13.561314Z"
    },
    "papermill": {
     "duration": 0.401925,
     "end_time": "2022-04-12T13:46:40.316632",
     "exception": false,
     "start_time": "2022-04-12T13:46:39.914707",
     "status": "completed"
    },
    "tags": []
   },
   "outputs": [
    {
     "data": {
      "text/plain": [
       "<seaborn.axisgrid.FacetGrid at 0x7fcc4fdc91d0>"
      ]
     },
     "execution_count": 11,
     "metadata": {},
     "output_type": "execute_result"
    },
    {
     "data": {
      "image/png": "[encoded data removed]",
      "text/plain": [
       "<Figure size 402.375x360 with 1 Axes>"
      ]
     },
     "metadata": {
      "needs_background": "light"
     },
     "output_type": "display_data"
    }
   ],
   "source": [
    "# Sex vs Survived\n",
    "sns.catplot(x='Embarked', hue='Pclass', data=train_df, kind='count')"
   ]
  },
  {
   "cell_type": "markdown",
   "id": "67d8d99b",
   "metadata": {
    "papermill": {
     "duration": 0.03613,
     "end_time": "2022-04-12T13:46:40.389488",
     "exception": false,
     "start_time": "2022-04-12T13:46:40.353358",
     "status": "completed"
    },
    "tags": []
   },
   "source": [
    "As expected, S is disproportionately 3rd class. I would consider this a spurious correlation as Pclass is likely the underlying structure driving survival in this case (phrased differently, I do not think being from C or Q means you are a better swimmer)."
   ]
  },
  {
   "cell_type": "markdown",
   "id": "6a6453e1",
   "metadata": {
    "papermill": {
     "duration": 0.036494,
     "end_time": "2022-04-12T13:46:40.462484",
     "exception": false,
     "start_time": "2022-04-12T13:46:40.425990",
     "status": "completed"
    },
    "tags": []
   },
   "source": [
    "## Quantitative Variables"
   ]
  },
  {
   "cell_type": "markdown",
   "id": "052b9c33",
   "metadata": {
    "papermill": {
     "duration": 0.036116,
     "end_time": "2022-04-12T13:46:40.534864",
     "exception": false,
     "start_time": "2022-04-12T13:46:40.498748",
     "status": "completed"
    },
    "tags": []
   },
   "source": [
    "Initial categorical variables are as follows:\n",
    "* Age\n",
    "* SibSp\n",
    "* Parch\n",
    "* Fare"
   ]
  },
  {
   "cell_type": "code",
   "execution_count": 12,
   "id": "bec5e578",
   "metadata": {
    "execution": {
     "iopub.execute_input": "2022-04-12T13:46:40.611320Z",
     "iopub.status.busy": "2022-04-12T13:46:40.610593Z",
     "iopub.status.idle": "2022-04-12T13:46:40.644605Z",
     "shell.execute_reply": "2022-04-12T13:46:40.645167Z",
     "shell.execute_reply.started": "2022-04-12T12:40:43.109970Z"
    },
    "papermill": {
     "duration": 0.073456,
     "end_time": "2022-04-12T13:46:40.645377",
     "exception": false,
     "start_time": "2022-04-12T13:46:40.571921",
     "status": "completed"
    },
    "tags": []
   },
   "outputs": [
    {
     "data": {
      "text/html": [
       "<div>\n",
       "<style scoped>\n",
       "    .dataframe tbody tr th:only-of-type {\n",
       "        vertical-align: middle;\n",
       "    }\n",
       "\n",
       "    .dataframe tbody tr th {\n",
       "        vertical-align: top;\n",
       "    }\n",
       "\n",
       "    .dataframe thead th {\n",
       "        text-align: right;\n",
       "    }\n",
       "</style>\n",
       "<table border=\"1\" class=\"dataframe\">\n",
       "  <thead>\n",
       "    <tr style=\"text-align: right;\">\n",
       "      <th></th>\n",
       "      <th>PassengerId</th>\n",
       "      <th>Survived</th>\n",
       "      <th>Pclass</th>\n",
       "      <th>Age</th>\n",
       "      <th>SibSp</th>\n",
       "      <th>Parch</th>\n",
       "      <th>Fare</th>\n",
       "    </tr>\n",
       "  </thead>\n",
       "  <tbody>\n",
       "    <tr>\n",
       "      <th>count</th>\n",
       "      <td>891.000000</td>\n",
       "      <td>891.000000</td>\n",
       "      <td>891.000000</td>\n",
       "      <td>714.000000</td>\n",
       "      <td>891.000000</td>\n",
       "      <td>891.000000</td>\n",
       "      <td>891.000000</td>\n",
       "    </tr>\n",
       "    <tr>\n",
       "      <th>mean</th>\n",
       "      <td>446.000000</td>\n",
       "      <td>0.383838</td>\n",
       "      <td>2.308642</td>\n",
       "      <td>29.699118</td>\n",
       "      <td>0.523008</td>\n",
       "      <td>0.381594</td>\n",
       "      <td>32.204208</td>\n",
       "    </tr>\n",
       "    <tr>\n",
       "      <th>std</th>\n",
       "      <td>257.353842</td>\n",
       "      <td>0.486592</td>\n",
       "      <td>0.836071</td>\n",
       "      <td>14.526497</td>\n",
       "      <td>1.102743</td>\n",
       "      <td>0.806057</td>\n",
       "      <td>49.693429</td>\n",
       "    </tr>\n",
       "    <tr>\n",
       "      <th>min</th>\n",
       "      <td>1.000000</td>\n",
       "      <td>0.000000</td>\n",
       "      <td>1.000000</td>\n",
       "      <td>0.420000</td>\n",
       "      <td>0.000000</td>\n",
       "      <td>0.000000</td>\n",
       "      <td>0.000000</td>\n",
       "    </tr>\n",
       "    <tr>\n",
       "      <th>25%</th>\n",
       "      <td>223.500000</td>\n",
       "      <td>0.000000</td>\n",
       "      <td>2.000000</td>\n",
       "      <td>20.125000</td>\n",
       "      <td>0.000000</td>\n",
       "      <td>0.000000</td>\n",
       "      <td>7.910400</td>\n",
       "    </tr>\n",
       "    <tr>\n",
       "      <th>50%</th>\n",
       "      <td>446.000000</td>\n",
       "      <td>0.000000</td>\n",
       "      <td>3.000000</td>\n",
       "      <td>28.000000</td>\n",
       "      <td>0.000000</td>\n",
       "      <td>0.000000</td>\n",
       "      <td>14.454200</td>\n",
       "    </tr>\n",
       "    <tr>\n",
       "      <th>75%</th>\n",
       "      <td>668.500000</td>\n",
       "      <td>1.000000</td>\n",
       "      <td>3.000000</td>\n",
       "      <td>38.000000</td>\n",
       "      <td>1.000000</td>\n",
       "      <td>0.000000</td>\n",
       "      <td>31.000000</td>\n",
       "    </tr>\n",
       "    <tr>\n",
       "      <th>max</th>\n",
       "      <td>891.000000</td>\n",
       "      <td>1.000000</td>\n",
       "      <td>3.000000</td>\n",
       "      <td>80.000000</td>\n",
       "      <td>8.000000</td>\n",
       "      <td>6.000000</td>\n",
       "      <td>512.329200</td>\n",
       "    </tr>\n",
       "  </tbody>\n",
       "</table>\n",
       "</div>"
      ],
      "text/plain": [
       "       PassengerId    Survived      Pclass         Age       SibSp  \\\n",
       "count   891.000000  891.000000  891.000000  714.000000  891.000000   \n",
       "mean    446.000000    0.383838    2.308642   29.699118    0.523008   \n",
       "std     257.353842    0.486592    0.836071   14.526497    1.102743   \n",
       "min       1.000000    0.000000    1.000000    0.420000    0.000000   \n",
       "25%     223.500000    0.000000    2.000000   20.125000    0.000000   \n",
       "50%     446.000000    0.000000    3.000000   28.000000    0.000000   \n",
       "75%     668.500000    1.000000    3.000000   38.000000    1.000000   \n",
       "max     891.000000    1.000000    3.000000   80.000000    8.000000   \n",
       "\n",
       "            Parch        Fare  \n",
       "count  891.000000  891.000000  \n",
       "mean     0.381594   32.204208  \n",
       "std      0.806057   49.693429  \n",
       "min      0.000000    0.000000  \n",
       "25%      0.000000    7.910400  \n",
       "50%      0.000000   14.454200  \n",
       "75%      0.000000   31.000000  \n",
       "max      6.000000  512.329200  "
      ]
     },
     "execution_count": 12,
     "metadata": {},
     "output_type": "execute_result"
    }
   ],
   "source": [
    "train_df.describe()"
   ]
  },
  {
   "cell_type": "code",
   "execution_count": 13,
   "id": "f24e297c",
   "metadata": {
    "execution": {
     "iopub.execute_input": "2022-04-12T13:46:40.725403Z",
     "iopub.status.busy": "2022-04-12T13:46:40.724687Z",
     "iopub.status.idle": "2022-04-12T13:46:40.751093Z",
     "shell.execute_reply": "2022-04-12T13:46:40.750403Z",
     "shell.execute_reply.started": "2022-04-12T13:23:10.076599Z"
    },
    "papermill": {
     "duration": 0.069494,
     "end_time": "2022-04-12T13:46:40.751296",
     "exception": false,
     "start_time": "2022-04-12T13:46:40.681802",
     "status": "completed"
    },
    "tags": []
   },
   "outputs": [
    {
     "data": {
      "text/html": [
       "<div>\n",
       "<style scoped>\n",
       "    .dataframe tbody tr th:only-of-type {\n",
       "        vertical-align: middle;\n",
       "    }\n",
       "\n",
       "    .dataframe tbody tr th {\n",
       "        vertical-align: top;\n",
       "    }\n",
       "\n",
       "    .dataframe thead th {\n",
       "        text-align: right;\n",
       "    }\n",
       "</style>\n",
       "<table border=\"1\" class=\"dataframe\">\n",
       "  <thead>\n",
       "    <tr style=\"text-align: right;\">\n",
       "      <th></th>\n",
       "      <th>PassengerId</th>\n",
       "      <th>Pclass</th>\n",
       "      <th>Age</th>\n",
       "      <th>SibSp</th>\n",
       "      <th>Parch</th>\n",
       "      <th>Fare</th>\n",
       "    </tr>\n",
       "  </thead>\n",
       "  <tbody>\n",
       "    <tr>\n",
       "      <th>count</th>\n",
       "      <td>418.000000</td>\n",
       "      <td>418.000000</td>\n",
       "      <td>332.000000</td>\n",
       "      <td>418.000000</td>\n",
       "      <td>418.000000</td>\n",
       "      <td>417.000000</td>\n",
       "    </tr>\n",
       "    <tr>\n",
       "      <th>mean</th>\n",
       "      <td>1100.500000</td>\n",
       "      <td>2.265550</td>\n",
       "      <td>30.272590</td>\n",
       "      <td>0.447368</td>\n",
       "      <td>0.392344</td>\n",
       "      <td>35.627188</td>\n",
       "    </tr>\n",
       "    <tr>\n",
       "      <th>std</th>\n",
       "      <td>120.810458</td>\n",
       "      <td>0.841838</td>\n",
       "      <td>14.181209</td>\n",
       "      <td>0.896760</td>\n",
       "      <td>0.981429</td>\n",
       "      <td>55.907576</td>\n",
       "    </tr>\n",
       "    <tr>\n",
       "      <th>min</th>\n",
       "      <td>892.000000</td>\n",
       "      <td>1.000000</td>\n",
       "      <td>0.170000</td>\n",
       "      <td>0.000000</td>\n",
       "      <td>0.000000</td>\n",
       "      <td>0.000000</td>\n",
       "    </tr>\n",
       "    <tr>\n",
       "      <th>25%</th>\n",
       "      <td>996.250000</td>\n",
       "      <td>1.000000</td>\n",
       "      <td>21.000000</td>\n",
       "      <td>0.000000</td>\n",
       "      <td>0.000000</td>\n",
       "      <td>7.895800</td>\n",
       "    </tr>\n",
       "    <tr>\n",
       "      <th>50%</th>\n",
       "      <td>1100.500000</td>\n",
       "      <td>3.000000</td>\n",
       "      <td>27.000000</td>\n",
       "      <td>0.000000</td>\n",
       "      <td>0.000000</td>\n",
       "      <td>14.454200</td>\n",
       "    </tr>\n",
       "    <tr>\n",
       "      <th>75%</th>\n",
       "      <td>1204.750000</td>\n",
       "      <td>3.000000</td>\n",
       "      <td>39.000000</td>\n",
       "      <td>1.000000</td>\n",
       "      <td>0.000000</td>\n",
       "      <td>31.500000</td>\n",
       "    </tr>\n",
       "    <tr>\n",
       "      <th>max</th>\n",
       "      <td>1309.000000</td>\n",
       "      <td>3.000000</td>\n",
       "      <td>76.000000</td>\n",
       "      <td>8.000000</td>\n",
       "      <td>9.000000</td>\n",
       "      <td>512.329200</td>\n",
       "    </tr>\n",
       "  </tbody>\n",
       "</table>\n",
       "</div>"
      ],
      "text/plain": [
       "       PassengerId      Pclass         Age       SibSp       Parch        Fare\n",
       "count   418.000000  418.000000  332.000000  418.000000  418.000000  417.000000\n",
       "mean   1100.500000    2.265550   30.272590    0.447368    0.392344   35.627188\n",
       "std     120.810458    0.841838   14.181209    0.896760    0.981429   55.907576\n",
       "min     892.000000    1.000000    0.170000    0.000000    0.000000    0.000000\n",
       "25%     996.250000    1.000000   21.000000    0.000000    0.000000    7.895800\n",
       "50%    1100.500000    3.000000   27.000000    0.000000    0.000000   14.454200\n",
       "75%    1204.750000    3.000000   39.000000    1.000000    0.000000   31.500000\n",
       "max    1309.000000    3.000000   76.000000    8.000000    9.000000  512.329200"
      ]
     },
     "execution_count": 13,
     "metadata": {},
     "output_type": "execute_result"
    }
   ],
   "source": [
    "test_df.describe()"
   ]
  },
  {
   "cell_type": "markdown",
   "id": "647f8589",
   "metadata": {
    "papermill": {
     "duration": 0.036872,
     "end_time": "2022-04-12T13:46:40.825686",
     "exception": false,
     "start_time": "2022-04-12T13:46:40.788814",
     "status": "completed"
    },
    "tags": []
   },
   "source": [
    "## Nulls"
   ]
  },
  {
   "cell_type": "code",
   "execution_count": null,
   "id": "aba5a1d8",
   "metadata": {
    "papermill": {
     "duration": 0.036997,
     "end_time": "2022-04-12T13:46:40.900453",
     "exception": false,
     "start_time": "2022-04-12T13:46:40.863456",
     "status": "completed"
    },
    "tags": []
   },
   "outputs": [],
   "source": []
  },
  {
   "cell_type": "markdown",
   "id": "6a8996c5",
   "metadata": {
    "papermill": {
     "duration": 0.037193,
     "end_time": "2022-04-12T13:46:40.974869",
     "exception": false,
     "start_time": "2022-04-12T13:46:40.937676",
     "status": "completed"
    },
    "tags": []
   },
   "source": [
    "---\n",
    "# Modeling"
   ]
  },
  {
   "cell_type": "markdown",
   "id": "b82064d4",
   "metadata": {
    "papermill": {
     "duration": 0.037454,
     "end_time": "2022-04-12T13:46:41.049422",
     "exception": false,
     "start_time": "2022-04-12T13:46:41.011968",
     "status": "completed"
    },
    "tags": []
   },
   "source": [
    "## Data Cleaning"
   ]
  },
  {
   "cell_type": "markdown",
   "id": "fcce139c",
   "metadata": {
    "papermill": {
     "duration": 0.039039,
     "end_time": "2022-04-12T13:46:41.125990",
     "exception": false,
     "start_time": "2022-04-12T13:46:41.086951",
     "status": "completed"
    },
    "tags": []
   },
   "source": [
    "## Feature Engineering"
   ]
  },
  {
   "cell_type": "markdown",
   "id": "e70245a9",
   "metadata": {
    "papermill": {
     "duration": 0.037864,
     "end_time": "2022-04-12T13:46:41.201861",
     "exception": false,
     "start_time": "2022-04-12T13:46:41.163997",
     "status": "completed"
    },
    "tags": []
   },
   "source": [
    "## Train-Test Split"
   ]
  },
  {
   "cell_type": "markdown",
   "id": "f0367275",
   "metadata": {
    "papermill": {
     "duration": 0.037712,
     "end_time": "2022-04-12T13:46:41.277970",
     "exception": false,
     "start_time": "2022-04-12T13:46:41.240258",
     "status": "completed"
    },
    "tags": []
   },
   "source": [
    "---\n",
    "# Submission"
   ]
  },
  {
   "cell_type": "code",
   "execution_count": null,
   "id": "d4c671c7",
   "metadata": {
    "papermill": {
     "duration": 0.03786,
     "end_time": "2022-04-12T13:46:41.353645",
     "exception": false,
     "start_time": "2022-04-12T13:46:41.315785",
     "status": "completed"
    },
    "tags": []
   },
   "outputs": [],
   "source": []
  }
 ],
 "metadata": {
  "kernelspec": {
   "display_name": "Python 3",
   "language": "python",
   "name": "python3"
  },
  "language_info": {
   "codemirror_mode": {
    "name": "ipython",
    "version": 3
   },
   "file_extension": ".py",
   "mimetype": "text/x-python",
   "name": "python",
   "nbconvert_exporter": "python",
   "pygments_lexer": "ipython3",
   "version": "3.7.12"
  },
  "papermill": {
   "default_parameters": {},
   "duration": 15.636042,
   "end_time": "2022-04-12T13:46:42.103647",
   "environment_variables": {},
   "exception": null,
   "input_path": "__notebook__.ipynb",
   "output_path": "__notebook__.ipynb",
   "parameters": {},
   "start_time": "2022-04-12T13:46:26.467605",
   "version": "2.3.3"
  }
 },
 "nbformat": 4,
 "nbformat_minor": 5
}
