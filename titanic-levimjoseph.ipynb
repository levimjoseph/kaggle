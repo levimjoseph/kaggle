{
 "cells": [
  {
   "cell_type": "markdown",
   "id": "a0d0e233",
   "metadata": {
    "papermill": {
     "duration": 0.092615,
     "end_time": "2022-04-13T14:49:24.596456",
     "exception": false,
     "start_time": "2022-04-13T14:49:24.503841",
     "status": "completed"
    },
    "tags": []
   },
   "source": [
    "# Overview"
   ]
  },
  {
   "cell_type": "markdown",
   "id": "abf0438d",
   "metadata": {
    "papermill": {
     "duration": 0.088833,
     "end_time": "2022-04-13T14:49:24.775997",
     "exception": false,
     "start_time": "2022-04-13T14:49:24.687164",
     "status": "completed"
    },
    "tags": []
   },
   "source": [
    " This is my first time participating in a Kaggle. I have used Kaggle competitions as learning resources in the past, and am now determined to become a competitor myself.  \n",
    "\n",
    "Much has been written about the Titanic competition on Kaggle. There are several wonderful notebook write ups, such as Alexis Cook's [Titanic Tutorial](https://www.kaggle.com/alexisbcook/titanic-tutorial). Therefore, I will not belabor my introduction.  \n",
    "\n",
    "That said, the Titanic Competition is a classification problem where we are tasked with predicting whether or not a passenger survived the ship's sinking."
   ]
  },
  {
   "cell_type": "markdown",
   "id": "8d83c851",
   "metadata": {
    "papermill": {
     "duration": 0.091393,
     "end_time": "2022-04-13T14:49:24.958862",
     "exception": false,
     "start_time": "2022-04-13T14:49:24.867469",
     "status": "completed"
    },
    "tags": []
   },
   "source": [
    "# Setup"
   ]
  },
  {
   "cell_type": "code",
   "execution_count": 1,
   "id": "fe5a1692",
   "metadata": {
    "execution": {
     "iopub.execute_input": "2022-04-13T14:49:25.148260Z",
     "iopub.status.busy": "2022-04-13T14:49:25.146972Z",
     "iopub.status.idle": "2022-04-13T14:49:26.418156Z",
     "shell.execute_reply": "2022-04-13T14:49:26.417320Z",
     "shell.execute_reply.started": "2022-04-13T02:47:30.313862Z"
    },
    "papermill": {
     "duration": 1.364941,
     "end_time": "2022-04-13T14:49:26.418364",
     "exception": false,
     "start_time": "2022-04-13T14:49:25.053423",
     "status": "completed"
    },
    "tags": []
   },
   "outputs": [],
   "source": [
    "# initial imports\n",
    "import numpy as np\n",
    "import pandas as pd\n",
    "import seaborn as sns\n",
    "\n",
    "seed = 42"
   ]
  },
  {
   "cell_type": "code",
   "execution_count": 2,
   "id": "de249892",
   "metadata": {
    "execution": {
     "iopub.execute_input": "2022-04-13T14:49:26.604735Z",
     "iopub.status.busy": "2022-04-13T14:49:26.604005Z",
     "iopub.status.idle": "2022-04-13T14:49:26.632498Z",
     "shell.execute_reply": "2022-04-13T14:49:26.633150Z",
     "shell.execute_reply.started": "2022-04-13T02:47:31.335273Z"
    },
    "papermill": {
     "duration": 0.122373,
     "end_time": "2022-04-13T14:49:26.633357",
     "exception": false,
     "start_time": "2022-04-13T14:49:26.510984",
     "status": "completed"
    },
    "tags": []
   },
   "outputs": [],
   "source": [
    "# import train and test set\n",
    "train_df = pd.read_csv('../input/titanic/train.csv')\n",
    "test_df = pd.read_csv('../input/titanic/test.csv')"
   ]
  },
  {
   "cell_type": "code",
   "execution_count": 3,
   "id": "8da23eb1",
   "metadata": {
    "execution": {
     "iopub.execute_input": "2022-04-13T14:49:26.813603Z",
     "iopub.status.busy": "2022-04-13T14:49:26.812868Z",
     "iopub.status.idle": "2022-04-13T14:49:26.835796Z",
     "shell.execute_reply": "2022-04-13T14:49:26.836296Z",
     "shell.execute_reply.started": "2022-04-13T02:47:31.367273Z"
    },
    "papermill": {
     "duration": 0.114878,
     "end_time": "2022-04-13T14:49:26.836489",
     "exception": false,
     "start_time": "2022-04-13T14:49:26.721611",
     "status": "completed"
    },
    "tags": []
   },
   "outputs": [
    {
     "data": {
      "text/html": [
       "<div>\n",
       "<style scoped>\n",
       "    .dataframe tbody tr th:only-of-type {\n",
       "        vertical-align: middle;\n",
       "    }\n",
       "\n",
       "    .dataframe tbody tr th {\n",
       "        vertical-align: top;\n",
       "    }\n",
       "\n",
       "    .dataframe thead th {\n",
       "        text-align: right;\n",
       "    }\n",
       "</style>\n",
       "<table border=\"1\" class=\"dataframe\">\n",
       "  <thead>\n",
       "    <tr style=\"text-align: right;\">\n",
       "      <th></th>\n",
       "      <th>PassengerId</th>\n",
       "      <th>Survived</th>\n",
       "      <th>Pclass</th>\n",
       "      <th>Name</th>\n",
       "      <th>Sex</th>\n",
       "      <th>Age</th>\n",
       "      <th>SibSp</th>\n",
       "      <th>Parch</th>\n",
       "      <th>Ticket</th>\n",
       "      <th>Fare</th>\n",
       "      <th>Cabin</th>\n",
       "      <th>Embarked</th>\n",
       "    </tr>\n",
       "  </thead>\n",
       "  <tbody>\n",
       "    <tr>\n",
       "      <th>0</th>\n",
       "      <td>1</td>\n",
       "      <td>0</td>\n",
       "      <td>3</td>\n",
       "      <td>Braund, Mr. Owen Harris</td>\n",
       "      <td>male</td>\n",
       "      <td>22.0</td>\n",
       "      <td>1</td>\n",
       "      <td>0</td>\n",
       "      <td>A/5 21171</td>\n",
       "      <td>7.2500</td>\n",
       "      <td>NaN</td>\n",
       "      <td>S</td>\n",
       "    </tr>\n",
       "    <tr>\n",
       "      <th>1</th>\n",
       "      <td>2</td>\n",
       "      <td>1</td>\n",
       "      <td>1</td>\n",
       "      <td>Cumings, Mrs. John Bradley (Florence Briggs Th...</td>\n",
       "      <td>female</td>\n",
       "      <td>38.0</td>\n",
       "      <td>1</td>\n",
       "      <td>0</td>\n",
       "      <td>PC 17599</td>\n",
       "      <td>71.2833</td>\n",
       "      <td>C85</td>\n",
       "      <td>C</td>\n",
       "    </tr>\n",
       "    <tr>\n",
       "      <th>2</th>\n",
       "      <td>3</td>\n",
       "      <td>1</td>\n",
       "      <td>3</td>\n",
       "      <td>Heikkinen, Miss. Laina</td>\n",
       "      <td>female</td>\n",
       "      <td>26.0</td>\n",
       "      <td>0</td>\n",
       "      <td>0</td>\n",
       "      <td>STON/O2. 3101282</td>\n",
       "      <td>7.9250</td>\n",
       "      <td>NaN</td>\n",
       "      <td>S</td>\n",
       "    </tr>\n",
       "    <tr>\n",
       "      <th>3</th>\n",
       "      <td>4</td>\n",
       "      <td>1</td>\n",
       "      <td>1</td>\n",
       "      <td>Futrelle, Mrs. Jacques Heath (Lily May Peel)</td>\n",
       "      <td>female</td>\n",
       "      <td>35.0</td>\n",
       "      <td>1</td>\n",
       "      <td>0</td>\n",
       "      <td>113803</td>\n",
       "      <td>53.1000</td>\n",
       "      <td>C123</td>\n",
       "      <td>S</td>\n",
       "    </tr>\n",
       "    <tr>\n",
       "      <th>4</th>\n",
       "      <td>5</td>\n",
       "      <td>0</td>\n",
       "      <td>3</td>\n",
       "      <td>Allen, Mr. William Henry</td>\n",
       "      <td>male</td>\n",
       "      <td>35.0</td>\n",
       "      <td>0</td>\n",
       "      <td>0</td>\n",
       "      <td>373450</td>\n",
       "      <td>8.0500</td>\n",
       "      <td>NaN</td>\n",
       "      <td>S</td>\n",
       "    </tr>\n",
       "  </tbody>\n",
       "</table>\n",
       "</div>"
      ],
      "text/plain": [
       "   PassengerId  Survived  Pclass  \\\n",
       "0            1         0       3   \n",
       "1            2         1       1   \n",
       "2            3         1       3   \n",
       "3            4         1       1   \n",
       "4            5         0       3   \n",
       "\n",
       "                                                Name     Sex   Age  SibSp  \\\n",
       "0                            Braund, Mr. Owen Harris    male  22.0      1   \n",
       "1  Cumings, Mrs. John Bradley (Florence Briggs Th...  female  38.0      1   \n",
       "2                             Heikkinen, Miss. Laina  female  26.0      0   \n",
       "3       Futrelle, Mrs. Jacques Heath (Lily May Peel)  female  35.0      1   \n",
       "4                           Allen, Mr. William Henry    male  35.0      0   \n",
       "\n",
       "   Parch            Ticket     Fare Cabin Embarked  \n",
       "0      0         A/5 21171   7.2500   NaN        S  \n",
       "1      0          PC 17599  71.2833   C85        C  \n",
       "2      0  STON/O2. 3101282   7.9250   NaN        S  \n",
       "3      0            113803  53.1000  C123        S  \n",
       "4      0            373450   8.0500   NaN        S  "
      ]
     },
     "execution_count": 3,
     "metadata": {},
     "output_type": "execute_result"
    }
   ],
   "source": [
    "# confirm train_df\n",
    "train_df.head()"
   ]
  },
  {
   "cell_type": "code",
   "execution_count": 4,
   "id": "bf28e27b",
   "metadata": {
    "execution": {
     "iopub.execute_input": "2022-04-13T14:49:27.036227Z",
     "iopub.status.busy": "2022-04-13T14:49:27.035472Z",
     "iopub.status.idle": "2022-04-13T14:49:27.040515Z",
     "shell.execute_reply": "2022-04-13T14:49:27.039865Z",
     "shell.execute_reply.started": "2022-04-13T02:47:31.391241Z"
    },
    "papermill": {
     "duration": 0.111849,
     "end_time": "2022-04-13T14:49:27.040665",
     "exception": false,
     "start_time": "2022-04-13T14:49:26.928816",
     "status": "completed"
    },
    "tags": []
   },
   "outputs": [
    {
     "data": {
      "text/html": [
       "<div>\n",
       "<style scoped>\n",
       "    .dataframe tbody tr th:only-of-type {\n",
       "        vertical-align: middle;\n",
       "    }\n",
       "\n",
       "    .dataframe tbody tr th {\n",
       "        vertical-align: top;\n",
       "    }\n",
       "\n",
       "    .dataframe thead th {\n",
       "        text-align: right;\n",
       "    }\n",
       "</style>\n",
       "<table border=\"1\" class=\"dataframe\">\n",
       "  <thead>\n",
       "    <tr style=\"text-align: right;\">\n",
       "      <th></th>\n",
       "      <th>PassengerId</th>\n",
       "      <th>Pclass</th>\n",
       "      <th>Name</th>\n",
       "      <th>Sex</th>\n",
       "      <th>Age</th>\n",
       "      <th>SibSp</th>\n",
       "      <th>Parch</th>\n",
       "      <th>Ticket</th>\n",
       "      <th>Fare</th>\n",
       "      <th>Cabin</th>\n",
       "      <th>Embarked</th>\n",
       "    </tr>\n",
       "  </thead>\n",
       "  <tbody>\n",
       "    <tr>\n",
       "      <th>0</th>\n",
       "      <td>892</td>\n",
       "      <td>3</td>\n",
       "      <td>Kelly, Mr. James</td>\n",
       "      <td>male</td>\n",
       "      <td>34.5</td>\n",
       "      <td>0</td>\n",
       "      <td>0</td>\n",
       "      <td>330911</td>\n",
       "      <td>7.8292</td>\n",
       "      <td>NaN</td>\n",
       "      <td>Q</td>\n",
       "    </tr>\n",
       "    <tr>\n",
       "      <th>1</th>\n",
       "      <td>893</td>\n",
       "      <td>3</td>\n",
       "      <td>Wilkes, Mrs. James (Ellen Needs)</td>\n",
       "      <td>female</td>\n",
       "      <td>47.0</td>\n",
       "      <td>1</td>\n",
       "      <td>0</td>\n",
       "      <td>363272</td>\n",
       "      <td>7.0000</td>\n",
       "      <td>NaN</td>\n",
       "      <td>S</td>\n",
       "    </tr>\n",
       "    <tr>\n",
       "      <th>2</th>\n",
       "      <td>894</td>\n",
       "      <td>2</td>\n",
       "      <td>Myles, Mr. Thomas Francis</td>\n",
       "      <td>male</td>\n",
       "      <td>62.0</td>\n",
       "      <td>0</td>\n",
       "      <td>0</td>\n",
       "      <td>240276</td>\n",
       "      <td>9.6875</td>\n",
       "      <td>NaN</td>\n",
       "      <td>Q</td>\n",
       "    </tr>\n",
       "    <tr>\n",
       "      <th>3</th>\n",
       "      <td>895</td>\n",
       "      <td>3</td>\n",
       "      <td>Wirz, Mr. Albert</td>\n",
       "      <td>male</td>\n",
       "      <td>27.0</td>\n",
       "      <td>0</td>\n",
       "      <td>0</td>\n",
       "      <td>315154</td>\n",
       "      <td>8.6625</td>\n",
       "      <td>NaN</td>\n",
       "      <td>S</td>\n",
       "    </tr>\n",
       "    <tr>\n",
       "      <th>4</th>\n",
       "      <td>896</td>\n",
       "      <td>3</td>\n",
       "      <td>Hirvonen, Mrs. Alexander (Helga E Lindqvist)</td>\n",
       "      <td>female</td>\n",
       "      <td>22.0</td>\n",
       "      <td>1</td>\n",
       "      <td>1</td>\n",
       "      <td>3101298</td>\n",
       "      <td>12.2875</td>\n",
       "      <td>NaN</td>\n",
       "      <td>S</td>\n",
       "    </tr>\n",
       "  </tbody>\n",
       "</table>\n",
       "</div>"
      ],
      "text/plain": [
       "   PassengerId  Pclass                                          Name     Sex  \\\n",
       "0          892       3                              Kelly, Mr. James    male   \n",
       "1          893       3              Wilkes, Mrs. James (Ellen Needs)  female   \n",
       "2          894       2                     Myles, Mr. Thomas Francis    male   \n",
       "3          895       3                              Wirz, Mr. Albert    male   \n",
       "4          896       3  Hirvonen, Mrs. Alexander (Helga E Lindqvist)  female   \n",
       "\n",
       "    Age  SibSp  Parch   Ticket     Fare Cabin Embarked  \n",
       "0  34.5      0      0   330911   7.8292   NaN        Q  \n",
       "1  47.0      1      0   363272   7.0000   NaN        S  \n",
       "2  62.0      0      0   240276   9.6875   NaN        Q  \n",
       "3  27.0      0      0   315154   8.6625   NaN        S  \n",
       "4  22.0      1      1  3101298  12.2875   NaN        S  "
      ]
     },
     "execution_count": 4,
     "metadata": {},
     "output_type": "execute_result"
    }
   ],
   "source": [
    "# confirm test_df\n",
    "test_df.head()"
   ]
  },
  {
   "cell_type": "markdown",
   "id": "431cbd85",
   "metadata": {
    "papermill": {
     "duration": 0.097073,
     "end_time": "2022-04-13T14:49:27.230949",
     "exception": false,
     "start_time": "2022-04-13T14:49:27.133876",
     "status": "completed"
    },
    "tags": []
   },
   "source": [
    "---\n",
    "# EDA"
   ]
  },
  {
   "cell_type": "code",
   "execution_count": 5,
   "id": "5c700dde",
   "metadata": {
    "execution": {
     "iopub.execute_input": "2022-04-13T14:49:27.421106Z",
     "iopub.status.busy": "2022-04-13T14:49:27.420114Z",
     "iopub.status.idle": "2022-04-13T14:49:27.445223Z",
     "shell.execute_reply": "2022-04-13T14:49:27.444638Z",
     "shell.execute_reply.started": "2022-04-13T02:47:31.408314Z"
    },
    "papermill": {
     "duration": 0.124115,
     "end_time": "2022-04-13T14:49:27.445420",
     "exception": false,
     "start_time": "2022-04-13T14:49:27.321305",
     "status": "completed"
    },
    "tags": []
   },
   "outputs": [
    {
     "name": "stdout",
     "output_type": "stream",
     "text": [
      "<class 'pandas.core.frame.DataFrame'>\n",
      "RangeIndex: 891 entries, 0 to 890\n",
      "Data columns (total 12 columns):\n",
      " #   Column       Non-Null Count  Dtype  \n",
      "---  ------       --------------  -----  \n",
      " 0   PassengerId  891 non-null    int64  \n",
      " 1   Survived     891 non-null    int64  \n",
      " 2   Pclass       891 non-null    int64  \n",
      " 3   Name         891 non-null    object \n",
      " 4   Sex          891 non-null    object \n",
      " 5   Age          714 non-null    float64\n",
      " 6   SibSp        891 non-null    int64  \n",
      " 7   Parch        891 non-null    int64  \n",
      " 8   Ticket       891 non-null    object \n",
      " 9   Fare         891 non-null    float64\n",
      " 10  Cabin        204 non-null    object \n",
      " 11  Embarked     889 non-null    object \n",
      "dtypes: float64(2), int64(5), object(5)\n",
      "memory usage: 83.7+ KB\n"
     ]
    }
   ],
   "source": [
    "# get basic info on the train_df\n",
    "train_df.info()"
   ]
  },
  {
   "cell_type": "code",
   "execution_count": 6,
   "id": "5929671c",
   "metadata": {
    "execution": {
     "iopub.execute_input": "2022-04-13T14:49:27.643895Z",
     "iopub.status.busy": "2022-04-13T14:49:27.636597Z",
     "iopub.status.idle": "2022-04-13T14:49:27.648904Z",
     "shell.execute_reply": "2022-04-13T14:49:27.648242Z",
     "shell.execute_reply.started": "2022-04-13T02:47:31.439399Z"
    },
    "papermill": {
     "duration": 0.110534,
     "end_time": "2022-04-13T14:49:27.649065",
     "exception": false,
     "start_time": "2022-04-13T14:49:27.538531",
     "status": "completed"
    },
    "tags": []
   },
   "outputs": [
    {
     "name": "stdout",
     "output_type": "stream",
     "text": [
      "<class 'pandas.core.frame.DataFrame'>\n",
      "RangeIndex: 418 entries, 0 to 417\n",
      "Data columns (total 11 columns):\n",
      " #   Column       Non-Null Count  Dtype  \n",
      "---  ------       --------------  -----  \n",
      " 0   PassengerId  418 non-null    int64  \n",
      " 1   Pclass       418 non-null    int64  \n",
      " 2   Name         418 non-null    object \n",
      " 3   Sex          418 non-null    object \n",
      " 4   Age          332 non-null    float64\n",
      " 5   SibSp        418 non-null    int64  \n",
      " 6   Parch        418 non-null    int64  \n",
      " 7   Ticket       418 non-null    object \n",
      " 8   Fare         417 non-null    float64\n",
      " 9   Cabin        91 non-null     object \n",
      " 10  Embarked     418 non-null    object \n",
      "dtypes: float64(2), int64(4), object(5)\n",
      "memory usage: 36.0+ KB\n"
     ]
    }
   ],
   "source": [
    "# get basic info on the test_df\n",
    "test_df.info()"
   ]
  },
  {
   "cell_type": "code",
   "execution_count": 7,
   "id": "4eb888e6",
   "metadata": {
    "execution": {
     "iopub.execute_input": "2022-04-13T14:49:27.841181Z",
     "iopub.status.busy": "2022-04-13T14:49:27.840472Z",
     "iopub.status.idle": "2022-04-13T14:49:27.844718Z",
     "shell.execute_reply": "2022-04-13T14:49:27.844147Z",
     "shell.execute_reply.started": "2022-04-13T02:47:31.452565Z"
    },
    "papermill": {
     "duration": 0.102857,
     "end_time": "2022-04-13T14:49:27.844996",
     "exception": false,
     "start_time": "2022-04-13T14:49:27.742139",
     "status": "completed"
    },
    "tags": []
   },
   "outputs": [
    {
     "name": "stdout",
     "output_type": "stream",
     "text": [
      "Percentage of data in test set: 31.93%\n"
     ]
    }
   ],
   "source": [
    "# percentage of test set to overall set\n",
    "test_perc = round((len(test_df.index) / (len(train_df.index) + len(test_df.index)) * 100),2)\n",
    "print(f'Percentage of data in test set: {test_perc}%')"
   ]
  },
  {
   "cell_type": "markdown",
   "id": "97f70327",
   "metadata": {
    "papermill": {
     "duration": 0.094892,
     "end_time": "2022-04-13T14:49:28.032929",
     "exception": false,
     "start_time": "2022-04-13T14:49:27.938037",
     "status": "completed"
    },
    "tags": []
   },
   "source": [
    "We see that the **train_df** has 891 rows and 11 columns. 10 of these columns will become *features*, while 1 (Survived) will become the *dependent variable*.\n",
    "\n",
    "We see that the **test_df** has 418 rows and 10 columns. 31.93% of our overall data is in the test set.\n",
    "\n",
    "**Data Dictionary:**\n",
    "* PassengerId - int. Key.\n",
    "* Survived - int. Survival. 0 = No, 1 = Yes. Boolean.\n",
    "* Pclass - int. Ticket class.\n",
    "* Name - str. Name of passenger.\n",
    "* Sex - str. Sex of passenger.\n",
    "* Age - float. Age of passenger. If age is estimated, takes xx.5. Has nulls.\n",
    "* SibSp - int. # of siblings/spouses on board. \n",
    "* Parch - int. # of parents/ children aboard the titanic.\n",
    "* Ticket - str. Ticket number.\n",
    "* Fare - float. Fare paid by passenger. Has nulls.\n",
    "* Cabin - str. Cabin of passenger. Has nulls.\n",
    "* Embarked - str. Port of embarkation. C = Cherbourg, Q = Queenstown, S = Southampton. Has nulls.\n",
    "\n",
    "**Initial Hypotheses:**\n",
    "* Young children will survive\n",
    "* Young women will survive.\n",
    "* Rich people will survive.\n",
    "* Location on ship matters.\n",
    "* Titles will or will not survive (depending on title).\n",
    "* Larger families will not survive."
   ]
  },
  {
   "cell_type": "code",
   "execution_count": 8,
   "id": "e4c0125a",
   "metadata": {
    "execution": {
     "iopub.execute_input": "2022-04-13T14:49:28.226154Z",
     "iopub.status.busy": "2022-04-13T14:49:28.225449Z",
     "iopub.status.idle": "2022-04-13T14:49:28.499704Z",
     "shell.execute_reply": "2022-04-13T14:49:28.498571Z",
     "shell.execute_reply.started": "2022-04-13T02:47:31.459716Z"
    },
    "papermill": {
     "duration": 0.376673,
     "end_time": "2022-04-13T14:49:28.499874",
     "exception": false,
     "start_time": "2022-04-13T14:49:28.123201",
     "status": "completed"
    },
    "tags": []
   },
   "outputs": [
    {
     "name": "stdout",
     "output_type": "stream",
     "text": [
      "Percentage who survived: 38.38%\n"
     ]
    },
    {
     "data": {
      "image/png": "[encoded data removed]",
      "text/plain": [
       "<Figure size 360x360 with 1 Axes>"
      ]
     },
     "metadata": {
      "needs_background": "light"
     },
     "output_type": "display_data"
    }
   ],
   "source": [
    "# Survived\n",
    "sns.catplot(x='Survived', data=train_df, kind='count')\n",
    "survived_perc = round((train_df['Survived'].sum()) / len(train_df.index) * 100,2)\n",
    "print(f'Percentage who survived: {survived_perc}%')"
   ]
  },
  {
   "cell_type": "code",
   "execution_count": 9,
   "id": "166311b3",
   "metadata": {
    "execution": {
     "iopub.execute_input": "2022-04-13T14:49:28.694128Z",
     "iopub.status.busy": "2022-04-13T14:49:28.691373Z",
     "iopub.status.idle": "2022-04-13T14:49:28.952982Z",
     "shell.execute_reply": "2022-04-13T14:49:28.952473Z",
     "shell.execute_reply.started": "2022-04-13T02:47:31.704715Z"
    },
    "papermill": {
     "duration": 0.35736,
     "end_time": "2022-04-13T14:49:28.953136",
     "exception": false,
     "start_time": "2022-04-13T14:49:28.595776",
     "status": "completed"
    },
    "tags": []
   },
   "outputs": [
    {
     "data": {
      "text/plain": [
       "<seaborn.axisgrid.FacetGrid at 0x7f1b42074ed0>"
      ]
     },
     "execution_count": 9,
     "metadata": {},
     "output_type": "execute_result"
    },
    {
     "data": {
      "image/png": "[encoded data removed]",
      "text/plain": [
       "<Figure size 360x360 with 1 Axes>"
      ]
     },
     "metadata": {
      "needs_background": "light"
     },
     "output_type": "display_data"
    }
   ],
   "source": [
    "# PClass\n",
    "sns.catplot(x='Pclass', data=train_df, kind='count')"
   ]
  },
  {
   "cell_type": "code",
   "execution_count": 10,
   "id": "65c030d4",
   "metadata": {
    "execution": {
     "iopub.execute_input": "2022-04-13T14:49:29.150258Z",
     "iopub.status.busy": "2022-04-13T14:49:29.148860Z",
     "iopub.status.idle": "2022-04-13T14:49:29.509008Z",
     "shell.execute_reply": "2022-04-13T14:49:29.508288Z",
     "shell.execute_reply.started": "2022-04-13T02:47:31.952947Z"
    },
    "papermill": {
     "duration": 0.463241,
     "end_time": "2022-04-13T14:49:29.509167",
     "exception": false,
     "start_time": "2022-04-13T14:49:29.045926",
     "status": "completed"
    },
    "tags": []
   },
   "outputs": [
    {
     "data": {
      "text/plain": [
       "<seaborn.axisgrid.FacetGrid at 0x7f1b41f693d0>"
      ]
     },
     "execution_count": 10,
     "metadata": {},
     "output_type": "execute_result"
    },
    {
     "data": {
      "image/png": "[encoded data removed]",
      "text/plain": [
       "<Figure size 411.875x360 with 1 Axes>"
      ]
     },
     "metadata": {
      "needs_background": "light"
     },
     "output_type": "display_data"
    }
   ],
   "source": [
    "# PClass and Survived\n",
    "sns.catplot(x='Pclass', hue='Survived', data=train_df, kind='count')"
   ]
  },
  {
   "cell_type": "markdown",
   "id": "fb614f2b",
   "metadata": {
    "papermill": {
     "duration": 0.105476,
     "end_time": "2022-04-13T14:49:29.712554",
     "exception": false,
     "start_time": "2022-04-13T14:49:29.607078",
     "status": "completed"
    },
    "tags": []
   },
   "source": [
    "As expected, Pclass appears to be correlated with survival."
   ]
  },
  {
   "cell_type": "code",
   "execution_count": 11,
   "id": "89f169a8",
   "metadata": {
    "execution": {
     "iopub.execute_input": "2022-04-13T14:49:29.926478Z",
     "iopub.status.busy": "2022-04-13T14:49:29.917231Z",
     "iopub.status.idle": "2022-04-13T14:49:30.178391Z",
     "shell.execute_reply": "2022-04-13T14:49:30.177728Z",
     "shell.execute_reply.started": "2022-04-13T02:47:32.294817Z"
    },
    "papermill": {
     "duration": 0.366675,
     "end_time": "2022-04-13T14:49:30.178542",
     "exception": false,
     "start_time": "2022-04-13T14:49:29.811867",
     "status": "completed"
    },
    "tags": []
   },
   "outputs": [
    {
     "data": {
      "text/plain": [
       "<seaborn.axisgrid.FacetGrid at 0x7f1b44138d50>"
      ]
     },
     "execution_count": 11,
     "metadata": {},
     "output_type": "execute_result"
    },
    {
     "data": {
      "image/png": "[encoded data removed]",
      "text/plain": [
       "<Figure size 360x360 with 1 Axes>"
      ]
     },
     "metadata": {
      "needs_background": "light"
     },
     "output_type": "display_data"
    }
   ],
   "source": [
    "# Sex\n",
    "sns.catplot(x='Sex', data=train_df, kind='count')"
   ]
  },
  {
   "cell_type": "code",
   "execution_count": 12,
   "id": "d65a86d7",
   "metadata": {
    "execution": {
     "iopub.execute_input": "2022-04-13T14:49:30.387146Z",
     "iopub.status.busy": "2022-04-13T14:49:30.385022Z",
     "iopub.status.idle": "2022-04-13T14:49:30.651299Z",
     "shell.execute_reply": "2022-04-13T14:49:30.651832Z",
     "shell.execute_reply.started": "2022-04-13T02:47:32.532464Z"
    },
    "papermill": {
     "duration": 0.374162,
     "end_time": "2022-04-13T14:49:30.652027",
     "exception": false,
     "start_time": "2022-04-13T14:49:30.277865",
     "status": "completed"
    },
    "tags": []
   },
   "outputs": [
    {
     "data": {
      "text/plain": [
       "<seaborn.axisgrid.FacetGrid at 0x7f1b41e1a5d0>"
      ]
     },
     "execution_count": 12,
     "metadata": {},
     "output_type": "execute_result"
    },
    {
     "data": {
      "image/png": "[encoded data removed]",
      "text/plain": [
       "<Figure size 411.875x360 with 1 Axes>"
      ]
     },
     "metadata": {
      "needs_background": "light"
     },
     "output_type": "display_data"
    }
   ],
   "source": [
    "# Sex and Survived\n",
    "sns.catplot(x='Sex', hue='Survived', data=train_df, kind='count')"
   ]
  },
  {
   "cell_type": "markdown",
   "id": "c5382f6e",
   "metadata": {
    "papermill": {
     "duration": 0.100069,
     "end_time": "2022-04-13T14:49:30.849232",
     "exception": false,
     "start_time": "2022-04-13T14:49:30.749163",
     "status": "completed"
    },
    "tags": []
   },
   "source": [
    "As expected, Sex appears to be correlated with survival."
   ]
  },
  {
   "cell_type": "code",
   "execution_count": 13,
   "id": "beac5c92",
   "metadata": {
    "execution": {
     "iopub.execute_input": "2022-04-13T14:49:31.051685Z",
     "iopub.status.busy": "2022-04-13T14:49:31.050965Z",
     "iopub.status.idle": "2022-04-13T14:49:31.324838Z",
     "shell.execute_reply": "2022-04-13T14:49:31.325349Z",
     "shell.execute_reply.started": "2022-04-13T02:47:32.826241Z"
    },
    "papermill": {
     "duration": 0.377435,
     "end_time": "2022-04-13T14:49:31.325550",
     "exception": false,
     "start_time": "2022-04-13T14:49:30.948115",
     "status": "completed"
    },
    "tags": []
   },
   "outputs": [
    {
     "data": {
      "text/plain": [
       "<seaborn.axisgrid.FacetGrid at 0x7f1b41d97710>"
      ]
     },
     "execution_count": 13,
     "metadata": {},
     "output_type": "execute_result"
    },
    {
     "data": {
      "image/png": "[encoded data removed]",
      "text/plain": [
       "<Figure size 360x360 with 1 Axes>"
      ]
     },
     "metadata": {
      "needs_background": "light"
     },
     "output_type": "display_data"
    }
   ],
   "source": [
    "# Embarked\n",
    "sns.catplot(x='Embarked', data=train_df, kind='count')"
   ]
  },
  {
   "cell_type": "code",
   "execution_count": 14,
   "id": "2449cf6e",
   "metadata": {
    "execution": {
     "iopub.execute_input": "2022-04-13T14:49:31.531256Z",
     "iopub.status.busy": "2022-04-13T14:49:31.530457Z",
     "iopub.status.idle": "2022-04-13T14:49:31.903618Z",
     "shell.execute_reply": "2022-04-13T14:49:31.902978Z",
     "shell.execute_reply.started": "2022-04-13T02:47:33.068503Z"
    },
    "papermill": {
     "duration": 0.478152,
     "end_time": "2022-04-13T14:49:31.903847",
     "exception": false,
     "start_time": "2022-04-13T14:49:31.425695",
     "status": "completed"
    },
    "tags": []
   },
   "outputs": [
    {
     "data": {
      "text/plain": [
       "<seaborn.axisgrid.FacetGrid at 0x7f1b41d8fd50>"
      ]
     },
     "execution_count": 14,
     "metadata": {},
     "output_type": "execute_result"
    },
    {
     "data": {
      "image/png": "[encoded data removed]",
      "text/plain": [
       "<Figure size 411.875x360 with 1 Axes>"
      ]
     },
     "metadata": {
      "needs_background": "light"
     },
     "output_type": "display_data"
    }
   ],
   "source": [
    "# Embarked and Survived\n",
    "sns.catplot(x='Embarked', hue='Survived', data=train_df, kind='count')"
   ]
  },
  {
   "cell_type": "markdown",
   "id": "3ed9891b",
   "metadata": {
    "papermill": {
     "duration": 0.100367,
     "end_time": "2022-04-13T14:49:32.105104",
     "exception": false,
     "start_time": "2022-04-13T14:49:32.004737",
     "status": "completed"
    },
    "tags": []
   },
   "source": [
    "This is an initially surprising finding, though I think perhaps Embarked may be correlated with Pclass."
   ]
  },
  {
   "cell_type": "code",
   "execution_count": 15,
   "id": "f358c223",
   "metadata": {
    "execution": {
     "iopub.execute_input": "2022-04-13T14:49:32.321118Z",
     "iopub.status.busy": "2022-04-13T14:49:32.320403Z",
     "iopub.status.idle": "2022-04-13T14:49:32.714208Z",
     "shell.execute_reply": "2022-04-13T14:49:32.713099Z",
     "shell.execute_reply.started": "2022-04-13T02:47:33.410094Z"
    },
    "papermill": {
     "duration": 0.505982,
     "end_time": "2022-04-13T14:49:32.714416",
     "exception": false,
     "start_time": "2022-04-13T14:49:32.208434",
     "status": "completed"
    },
    "tags": []
   },
   "outputs": [
    {
     "data": {
      "text/plain": [
       "<seaborn.axisgrid.FacetGrid at 0x7f1b41d0e0d0>"
      ]
     },
     "execution_count": 15,
     "metadata": {},
     "output_type": "execute_result"
    },
    {
     "data": {
      "image/png": "[encoded data removed]",
      "text/plain": [
       "<Figure size 402.375x360 with 1 Axes>"
      ]
     },
     "metadata": {
      "needs_background": "light"
     },
     "output_type": "display_data"
    }
   ],
   "source": [
    "# Embarked and Pclass\n",
    "sns.catplot(x='Embarked', hue='Pclass', data=train_df, kind='count')"
   ]
  },
  {
   "cell_type": "markdown",
   "id": "9df7a678",
   "metadata": {
    "papermill": {
     "duration": 0.101343,
     "end_time": "2022-04-13T14:49:32.937143",
     "exception": false,
     "start_time": "2022-04-13T14:49:32.835800",
     "status": "completed"
    },
    "tags": []
   },
   "source": [
    "As expected, S is disproportionately 3rd class. I would consider this a spurious correlation as Pclass is likely the underlying structure driving survival in this case (phrased differently, I do not think being from C or Q means you are a better swimmer)."
   ]
  },
  {
   "cell_type": "code",
   "execution_count": 16,
   "id": "3aa2b060",
   "metadata": {
    "execution": {
     "iopub.execute_input": "2022-04-13T14:49:33.150002Z",
     "iopub.status.busy": "2022-04-13T14:49:33.144436Z",
     "iopub.status.idle": "2022-04-13T14:49:33.176065Z",
     "shell.execute_reply": "2022-04-13T14:49:33.176739Z",
     "shell.execute_reply.started": "2022-04-13T02:47:33.760182Z"
    },
    "papermill": {
     "duration": 0.138311,
     "end_time": "2022-04-13T14:49:33.176922",
     "exception": false,
     "start_time": "2022-04-13T14:49:33.038611",
     "status": "completed"
    },
    "tags": []
   },
   "outputs": [
    {
     "data": {
      "text/html": [
       "<div>\n",
       "<style scoped>\n",
       "    .dataframe tbody tr th:only-of-type {\n",
       "        vertical-align: middle;\n",
       "    }\n",
       "\n",
       "    .dataframe tbody tr th {\n",
       "        vertical-align: top;\n",
       "    }\n",
       "\n",
       "    .dataframe thead th {\n",
       "        text-align: right;\n",
       "    }\n",
       "</style>\n",
       "<table border=\"1\" class=\"dataframe\">\n",
       "  <thead>\n",
       "    <tr style=\"text-align: right;\">\n",
       "      <th></th>\n",
       "      <th>PassengerId</th>\n",
       "      <th>Survived</th>\n",
       "      <th>Pclass</th>\n",
       "      <th>Age</th>\n",
       "      <th>SibSp</th>\n",
       "      <th>Parch</th>\n",
       "      <th>Fare</th>\n",
       "    </tr>\n",
       "  </thead>\n",
       "  <tbody>\n",
       "    <tr>\n",
       "      <th>count</th>\n",
       "      <td>891.000000</td>\n",
       "      <td>891.000000</td>\n",
       "      <td>891.000000</td>\n",
       "      <td>714.000000</td>\n",
       "      <td>891.000000</td>\n",
       "      <td>891.000000</td>\n",
       "      <td>891.000000</td>\n",
       "    </tr>\n",
       "    <tr>\n",
       "      <th>mean</th>\n",
       "      <td>446.000000</td>\n",
       "      <td>0.383838</td>\n",
       "      <td>2.308642</td>\n",
       "      <td>29.699118</td>\n",
       "      <td>0.523008</td>\n",
       "      <td>0.381594</td>\n",
       "      <td>32.204208</td>\n",
       "    </tr>\n",
       "    <tr>\n",
       "      <th>std</th>\n",
       "      <td>257.353842</td>\n",
       "      <td>0.486592</td>\n",
       "      <td>0.836071</td>\n",
       "      <td>14.526497</td>\n",
       "      <td>1.102743</td>\n",
       "      <td>0.806057</td>\n",
       "      <td>49.693429</td>\n",
       "    </tr>\n",
       "    <tr>\n",
       "      <th>min</th>\n",
       "      <td>1.000000</td>\n",
       "      <td>0.000000</td>\n",
       "      <td>1.000000</td>\n",
       "      <td>0.420000</td>\n",
       "      <td>0.000000</td>\n",
       "      <td>0.000000</td>\n",
       "      <td>0.000000</td>\n",
       "    </tr>\n",
       "    <tr>\n",
       "      <th>25%</th>\n",
       "      <td>223.500000</td>\n",
       "      <td>0.000000</td>\n",
       "      <td>2.000000</td>\n",
       "      <td>20.125000</td>\n",
       "      <td>0.000000</td>\n",
       "      <td>0.000000</td>\n",
       "      <td>7.910400</td>\n",
       "    </tr>\n",
       "    <tr>\n",
       "      <th>50%</th>\n",
       "      <td>446.000000</td>\n",
       "      <td>0.000000</td>\n",
       "      <td>3.000000</td>\n",
       "      <td>28.000000</td>\n",
       "      <td>0.000000</td>\n",
       "      <td>0.000000</td>\n",
       "      <td>14.454200</td>\n",
       "    </tr>\n",
       "    <tr>\n",
       "      <th>75%</th>\n",
       "      <td>668.500000</td>\n",
       "      <td>1.000000</td>\n",
       "      <td>3.000000</td>\n",
       "      <td>38.000000</td>\n",
       "      <td>1.000000</td>\n",
       "      <td>0.000000</td>\n",
       "      <td>31.000000</td>\n",
       "    </tr>\n",
       "    <tr>\n",
       "      <th>max</th>\n",
       "      <td>891.000000</td>\n",
       "      <td>1.000000</td>\n",
       "      <td>3.000000</td>\n",
       "      <td>80.000000</td>\n",
       "      <td>8.000000</td>\n",
       "      <td>6.000000</td>\n",
       "      <td>512.329200</td>\n",
       "    </tr>\n",
       "  </tbody>\n",
       "</table>\n",
       "</div>"
      ],
      "text/plain": [
       "       PassengerId    Survived      Pclass         Age       SibSp  \\\n",
       "count   891.000000  891.000000  891.000000  714.000000  891.000000   \n",
       "mean    446.000000    0.383838    2.308642   29.699118    0.523008   \n",
       "std     257.353842    0.486592    0.836071   14.526497    1.102743   \n",
       "min       1.000000    0.000000    1.000000    0.420000    0.000000   \n",
       "25%     223.500000    0.000000    2.000000   20.125000    0.000000   \n",
       "50%     446.000000    0.000000    3.000000   28.000000    0.000000   \n",
       "75%     668.500000    1.000000    3.000000   38.000000    1.000000   \n",
       "max     891.000000    1.000000    3.000000   80.000000    8.000000   \n",
       "\n",
       "            Parch        Fare  \n",
       "count  891.000000  891.000000  \n",
       "mean     0.381594   32.204208  \n",
       "std      0.806057   49.693429  \n",
       "min      0.000000    0.000000  \n",
       "25%      0.000000    7.910400  \n",
       "50%      0.000000   14.454200  \n",
       "75%      0.000000   31.000000  \n",
       "max      6.000000  512.329200  "
      ]
     },
     "execution_count": 16,
     "metadata": {},
     "output_type": "execute_result"
    }
   ],
   "source": [
    "train_df.describe()"
   ]
  },
  {
   "cell_type": "code",
   "execution_count": 17,
   "id": "56b46b0e",
   "metadata": {
    "execution": {
     "iopub.execute_input": "2022-04-13T14:49:33.391102Z",
     "iopub.status.busy": "2022-04-13T14:49:33.390376Z",
     "iopub.status.idle": "2022-04-13T14:49:33.416448Z",
     "shell.execute_reply": "2022-04-13T14:49:33.416984Z",
     "shell.execute_reply.started": "2022-04-13T02:47:33.796107Z"
    },
    "papermill": {
     "duration": 0.134737,
     "end_time": "2022-04-13T14:49:33.417163",
     "exception": false,
     "start_time": "2022-04-13T14:49:33.282426",
     "status": "completed"
    },
    "tags": []
   },
   "outputs": [
    {
     "data": {
      "text/html": [
       "<div>\n",
       "<style scoped>\n",
       "    .dataframe tbody tr th:only-of-type {\n",
       "        vertical-align: middle;\n",
       "    }\n",
       "\n",
       "    .dataframe tbody tr th {\n",
       "        vertical-align: top;\n",
       "    }\n",
       "\n",
       "    .dataframe thead th {\n",
       "        text-align: right;\n",
       "    }\n",
       "</style>\n",
       "<table border=\"1\" class=\"dataframe\">\n",
       "  <thead>\n",
       "    <tr style=\"text-align: right;\">\n",
       "      <th></th>\n",
       "      <th>PassengerId</th>\n",
       "      <th>Pclass</th>\n",
       "      <th>Age</th>\n",
       "      <th>SibSp</th>\n",
       "      <th>Parch</th>\n",
       "      <th>Fare</th>\n",
       "    </tr>\n",
       "  </thead>\n",
       "  <tbody>\n",
       "    <tr>\n",
       "      <th>count</th>\n",
       "      <td>418.000000</td>\n",
       "      <td>418.000000</td>\n",
       "      <td>332.000000</td>\n",
       "      <td>418.000000</td>\n",
       "      <td>418.000000</td>\n",
       "      <td>417.000000</td>\n",
       "    </tr>\n",
       "    <tr>\n",
       "      <th>mean</th>\n",
       "      <td>1100.500000</td>\n",
       "      <td>2.265550</td>\n",
       "      <td>30.272590</td>\n",
       "      <td>0.447368</td>\n",
       "      <td>0.392344</td>\n",
       "      <td>35.627188</td>\n",
       "    </tr>\n",
       "    <tr>\n",
       "      <th>std</th>\n",
       "      <td>120.810458</td>\n",
       "      <td>0.841838</td>\n",
       "      <td>14.181209</td>\n",
       "      <td>0.896760</td>\n",
       "      <td>0.981429</td>\n",
       "      <td>55.907576</td>\n",
       "    </tr>\n",
       "    <tr>\n",
       "      <th>min</th>\n",
       "      <td>892.000000</td>\n",
       "      <td>1.000000</td>\n",
       "      <td>0.170000</td>\n",
       "      <td>0.000000</td>\n",
       "      <td>0.000000</td>\n",
       "      <td>0.000000</td>\n",
       "    </tr>\n",
       "    <tr>\n",
       "      <th>25%</th>\n",
       "      <td>996.250000</td>\n",
       "      <td>1.000000</td>\n",
       "      <td>21.000000</td>\n",
       "      <td>0.000000</td>\n",
       "      <td>0.000000</td>\n",
       "      <td>7.895800</td>\n",
       "    </tr>\n",
       "    <tr>\n",
       "      <th>50%</th>\n",
       "      <td>1100.500000</td>\n",
       "      <td>3.000000</td>\n",
       "      <td>27.000000</td>\n",
       "      <td>0.000000</td>\n",
       "      <td>0.000000</td>\n",
       "      <td>14.454200</td>\n",
       "    </tr>\n",
       "    <tr>\n",
       "      <th>75%</th>\n",
       "      <td>1204.750000</td>\n",
       "      <td>3.000000</td>\n",
       "      <td>39.000000</td>\n",
       "      <td>1.000000</td>\n",
       "      <td>0.000000</td>\n",
       "      <td>31.500000</td>\n",
       "    </tr>\n",
       "    <tr>\n",
       "      <th>max</th>\n",
       "      <td>1309.000000</td>\n",
       "      <td>3.000000</td>\n",
       "      <td>76.000000</td>\n",
       "      <td>8.000000</td>\n",
       "      <td>9.000000</td>\n",
       "      <td>512.329200</td>\n",
       "    </tr>\n",
       "  </tbody>\n",
       "</table>\n",
       "</div>"
      ],
      "text/plain": [
       "       PassengerId      Pclass         Age       SibSp       Parch        Fare\n",
       "count   418.000000  418.000000  332.000000  418.000000  418.000000  417.000000\n",
       "mean   1100.500000    2.265550   30.272590    0.447368    0.392344   35.627188\n",
       "std     120.810458    0.841838   14.181209    0.896760    0.981429   55.907576\n",
       "min     892.000000    1.000000    0.170000    0.000000    0.000000    0.000000\n",
       "25%     996.250000    1.000000   21.000000    0.000000    0.000000    7.895800\n",
       "50%    1100.500000    3.000000   27.000000    0.000000    0.000000   14.454200\n",
       "75%    1204.750000    3.000000   39.000000    1.000000    0.000000   31.500000\n",
       "max    1309.000000    3.000000   76.000000    8.000000    9.000000  512.329200"
      ]
     },
     "execution_count": 17,
     "metadata": {},
     "output_type": "execute_result"
    }
   ],
   "source": [
    "test_df.describe()"
   ]
  },
  {
   "cell_type": "code",
   "execution_count": 18,
   "id": "e67044cb",
   "metadata": {
    "execution": {
     "iopub.execute_input": "2022-04-13T14:49:33.628541Z",
     "iopub.status.busy": "2022-04-13T14:49:33.627566Z",
     "iopub.status.idle": "2022-04-13T14:49:33.838346Z",
     "shell.execute_reply": "2022-04-13T14:49:33.839057Z",
     "shell.execute_reply.started": "2022-04-13T02:47:33.826585Z"
    },
    "papermill": {
     "duration": 0.317331,
     "end_time": "2022-04-13T14:49:33.839244",
     "exception": false,
     "start_time": "2022-04-13T14:49:33.521913",
     "status": "completed"
    },
    "tags": []
   },
   "outputs": [
    {
     "data": {
      "text/plain": [
       "<AxesSubplot:xlabel='Survived', ylabel='Age'>"
      ]
     },
     "execution_count": 18,
     "metadata": {},
     "output_type": "execute_result"
    },
    {
     "data": {
      "image/png": "[encoded data removed]",
      "text/plain": [
       "<Figure size 432x288 with 1 Axes>"
      ]
     },
     "metadata": {
      "needs_background": "light"
     },
     "output_type": "display_data"
    }
   ],
   "source": [
    "# Survived and Age\n",
    "sns.boxplot(x='Survived', y='Age', data=train_df)"
   ]
  },
  {
   "cell_type": "code",
   "execution_count": 19,
   "id": "d2f63021",
   "metadata": {
    "execution": {
     "iopub.execute_input": "2022-04-13T14:49:34.051862Z",
     "iopub.status.busy": "2022-04-13T14:49:34.050833Z",
     "iopub.status.idle": "2022-04-13T14:49:34.281192Z",
     "shell.execute_reply": "2022-04-13T14:49:34.280527Z",
     "shell.execute_reply.started": "2022-04-13T02:47:34.024623Z"
    },
    "papermill": {
     "duration": 0.338641,
     "end_time": "2022-04-13T14:49:34.281357",
     "exception": false,
     "start_time": "2022-04-13T14:49:33.942716",
     "status": "completed"
    },
    "tags": []
   },
   "outputs": [
    {
     "data": {
      "text/plain": [
       "<AxesSubplot:xlabel='Pclass', ylabel='Age'>"
      ]
     },
     "execution_count": 19,
     "metadata": {},
     "output_type": "execute_result"
    },
    {
     "data": {
      "image/png": "[encoded data removed]",
      "text/plain": [
       "<Figure size 432x288 with 1 Axes>"
      ]
     },
     "metadata": {
      "needs_background": "light"
     },
     "output_type": "display_data"
    }
   ],
   "source": [
    "# Pclass and Age\n",
    "sns.boxplot(x='Pclass', y='Age', data=train_df)"
   ]
  },
  {
   "cell_type": "code",
   "execution_count": 20,
   "id": "69d87200",
   "metadata": {
    "execution": {
     "iopub.execute_input": "2022-04-13T14:49:34.506070Z",
     "iopub.status.busy": "2022-04-13T14:49:34.501468Z",
     "iopub.status.idle": "2022-04-13T14:49:34.717101Z",
     "shell.execute_reply": "2022-04-13T14:49:34.716564Z",
     "shell.execute_reply.started": "2022-04-13T02:47:34.24078Z"
    },
    "papermill": {
     "duration": 0.325651,
     "end_time": "2022-04-13T14:49:34.717271",
     "exception": false,
     "start_time": "2022-04-13T14:49:34.391620",
     "status": "completed"
    },
    "tags": []
   },
   "outputs": [
    {
     "data": {
      "text/plain": [
       "<AxesSubplot:xlabel='Sex', ylabel='Age'>"
      ]
     },
     "execution_count": 20,
     "metadata": {},
     "output_type": "execute_result"
    },
    {
     "data": {
      "image/png": "[encoded data removed]",
      "text/plain": [
       "<Figure size 432x288 with 1 Axes>"
      ]
     },
     "metadata": {
      "needs_background": "light"
     },
     "output_type": "display_data"
    }
   ],
   "source": [
    "# Sex and Age\n",
    "sns.boxplot(x='Sex', y='Age', data=train_df)"
   ]
  },
  {
   "cell_type": "markdown",
   "id": "9f7ca848",
   "metadata": {
    "papermill": {
     "duration": 0.110009,
     "end_time": "2022-04-13T14:49:34.940027",
     "exception": false,
     "start_time": "2022-04-13T14:49:34.830018",
     "status": "completed"
    },
    "tags": []
   },
   "source": [
    "Younger passengers were more likely to not survive than older passengers.  \n",
    "\n",
    "It appears that 1st class passengers were disproportionately older. 2nd class passengers were also older than 3rd class.  \n",
    "\n",
    "Male passengers were older than female passengers.  "
   ]
  },
  {
   "cell_type": "code",
   "execution_count": 21,
   "id": "34c50290",
   "metadata": {
    "execution": {
     "iopub.execute_input": "2022-04-13T14:49:35.166694Z",
     "iopub.status.busy": "2022-04-13T14:49:35.165901Z",
     "iopub.status.idle": "2022-04-13T14:49:35.512399Z",
     "shell.execute_reply": "2022-04-13T14:49:35.512925Z",
     "shell.execute_reply.started": "2022-04-13T02:47:34.553059Z"
    },
    "papermill": {
     "duration": 0.465579,
     "end_time": "2022-04-13T14:49:35.513105",
     "exception": false,
     "start_time": "2022-04-13T14:49:35.047526",
     "status": "completed"
    },
    "tags": []
   },
   "outputs": [
    {
     "data": {
      "text/plain": [
       "<AxesSubplot:xlabel='Survived', ylabel='SibSp'>"
      ]
     },
     "execution_count": 21,
     "metadata": {},
     "output_type": "execute_result"
    },
    {
     "data": {
      "image/png": "[encoded data removed]",
      "text/plain": [
       "<Figure size 432x288 with 1 Axes>"
      ]
     },
     "metadata": {
      "needs_background": "light"
     },
     "output_type": "display_data"
    }
   ],
   "source": [
    "# Survived and SibSp\n",
    "sns.boxplot(x='Survived', y='SibSp', data=train_df)"
   ]
  },
  {
   "cell_type": "code",
   "execution_count": 22,
   "id": "5a15f821",
   "metadata": {
    "execution": {
     "iopub.execute_input": "2022-04-13T14:49:35.730615Z",
     "iopub.status.busy": "2022-04-13T14:49:35.729643Z",
     "iopub.status.idle": "2022-04-13T14:49:35.929991Z",
     "shell.execute_reply": "2022-04-13T14:49:35.929100Z",
     "shell.execute_reply.started": "2022-04-13T02:47:34.748193Z"
    },
    "papermill": {
     "duration": 0.309903,
     "end_time": "2022-04-13T14:49:35.930154",
     "exception": false,
     "start_time": "2022-04-13T14:49:35.620251",
     "status": "completed"
    },
    "tags": []
   },
   "outputs": [
    {
     "data": {
      "text/plain": [
       "<AxesSubplot:xlabel='Survived', ylabel='Parch'>"
      ]
     },
     "execution_count": 22,
     "metadata": {},
     "output_type": "execute_result"
    },
    {
     "data": {
      "image/png": "[encoded data removed]",
      "text/plain": [
       "<Figure size 432x288 with 1 Axes>"
      ]
     },
     "metadata": {
      "needs_background": "light"
     },
     "output_type": "display_data"
    }
   ],
   "source": [
    "# Survived and Parch\n",
    "sns.boxplot(x='Survived', y='Parch', data=train_df)"
   ]
  },
  {
   "cell_type": "markdown",
   "id": "100f1300",
   "metadata": {
    "papermill": {
     "duration": 0.108708,
     "end_time": "2022-04-13T14:49:36.148780",
     "exception": false,
     "start_time": "2022-04-13T14:49:36.040072",
     "status": "completed"
    },
    "tags": []
   },
   "source": [
    "It appears that SibSp relationship does not impact survival.  \n",
    "\n",
    "It does appear that having a Parch relationship impacts survival."
   ]
  },
  {
   "cell_type": "markdown",
   "id": "22c7c33d",
   "metadata": {
    "papermill": {
     "duration": 0.109739,
     "end_time": "2022-04-13T14:49:36.367171",
     "exception": false,
     "start_time": "2022-04-13T14:49:36.257432",
     "status": "completed"
    },
    "tags": []
   },
   "source": [
    "---\n",
    "# Modeling"
   ]
  },
  {
   "cell_type": "code",
   "execution_count": 23,
   "id": "3b60b1ed",
   "metadata": {
    "execution": {
     "iopub.execute_input": "2022-04-13T14:49:36.602817Z",
     "iopub.status.busy": "2022-04-13T14:49:36.601774Z",
     "iopub.status.idle": "2022-04-13T14:49:36.605225Z",
     "shell.execute_reply": "2022-04-13T14:49:36.605795Z",
     "shell.execute_reply.started": "2022-04-13T02:47:34.937666Z"
    },
    "papermill": {
     "duration": 0.128264,
     "end_time": "2022-04-13T14:49:36.605978",
     "exception": false,
     "start_time": "2022-04-13T14:49:36.477714",
     "status": "completed"
    },
    "tags": []
   },
   "outputs": [
    {
     "name": "stdout",
     "output_type": "stream",
     "text": [
      "<class 'pandas.core.frame.DataFrame'>\n",
      "RangeIndex: 891 entries, 0 to 890\n",
      "Data columns (total 12 columns):\n",
      " #   Column       Non-Null Count  Dtype  \n",
      "---  ------       --------------  -----  \n",
      " 0   PassengerId  891 non-null    int64  \n",
      " 1   Survived     891 non-null    int64  \n",
      " 2   Pclass       891 non-null    int64  \n",
      " 3   Name         891 non-null    object \n",
      " 4   Sex          891 non-null    object \n",
      " 5   Age          714 non-null    float64\n",
      " 6   SibSp        891 non-null    int64  \n",
      " 7   Parch        891 non-null    int64  \n",
      " 8   Ticket       891 non-null    object \n",
      " 9   Fare         891 non-null    float64\n",
      " 10  Cabin        204 non-null    object \n",
      " 11  Embarked     889 non-null    object \n",
      "dtypes: float64(2), int64(5), object(5)\n",
      "memory usage: 83.7+ KB\n"
     ]
    }
   ],
   "source": [
    "train_df.info()"
   ]
  },
  {
   "cell_type": "code",
   "execution_count": 24,
   "id": "02001dda",
   "metadata": {
    "execution": {
     "iopub.execute_input": "2022-04-13T14:49:36.830995Z",
     "iopub.status.busy": "2022-04-13T14:49:36.830303Z",
     "iopub.status.idle": "2022-04-13T14:49:36.833325Z",
     "shell.execute_reply": "2022-04-13T14:49:36.832813Z",
     "shell.execute_reply.started": "2022-04-13T02:47:34.954502Z"
    },
    "papermill": {
     "duration": 0.118566,
     "end_time": "2022-04-13T14:49:36.833491",
     "exception": false,
     "start_time": "2022-04-13T14:49:36.714925",
     "status": "completed"
    },
    "tags": []
   },
   "outputs": [],
   "source": [
    "# make copies of original data\n",
    "e_train_df = train_df.copy()\n",
    "e_test_df = test_df.copy()"
   ]
  },
  {
   "cell_type": "code",
   "execution_count": 25,
   "id": "cb04ff29",
   "metadata": {
    "execution": {
     "iopub.execute_input": "2022-04-13T14:49:37.101842Z",
     "iopub.status.busy": "2022-04-13T14:49:37.069708Z",
     "iopub.status.idle": "2022-04-13T14:49:39.502741Z",
     "shell.execute_reply": "2022-04-13T14:49:39.503831Z",
     "shell.execute_reply.started": "2022-04-13T02:47:34.968677Z"
    },
    "papermill": {
     "duration": 2.559049,
     "end_time": "2022-04-13T14:49:39.504071",
     "exception": false,
     "start_time": "2022-04-13T14:49:36.945022",
     "status": "completed"
    },
    "tags": []
   },
   "outputs": [
    {
     "data": {
      "text/plain": [
       "<seaborn.axisgrid.FacetGrid at 0x7f1b41a09b50>"
      ]
     },
     "execution_count": 25,
     "metadata": {},
     "output_type": "execute_result"
    },
    {
     "data": {
      "image/png": "[encoded data removed]",
      "text/plain": [
       "<Figure size 360x360 with 1 Axes>"
      ]
     },
     "metadata": {
      "needs_background": "light"
     },
     "output_type": "display_data"
    }
   ],
   "source": [
    "# determine if Cabin is high cardinality\n",
    "sns.catplot(x='Cabin', data=e_train_df, kind='count')"
   ]
  },
  {
   "cell_type": "markdown",
   "id": "287e16dd",
   "metadata": {
    "papermill": {
     "duration": 0.118057,
     "end_time": "2022-04-13T14:49:39.734523",
     "exception": false,
     "start_time": "2022-04-13T14:49:39.616466",
     "status": "completed"
    },
    "tags": []
   },
   "source": [
    "As you can see, Cabin is a high cardinality feature. We could either:\n",
    "* impute it with 'missing' value\n",
    "* try and get it from the Ticket."
   ]
  },
  {
   "cell_type": "code",
   "execution_count": 26,
   "id": "d5aeb210",
   "metadata": {
    "execution": {
     "iopub.execute_input": "2022-04-13T14:49:39.965903Z",
     "iopub.status.busy": "2022-04-13T14:49:39.965003Z",
     "iopub.status.idle": "2022-04-13T14:49:39.973313Z",
     "shell.execute_reply": "2022-04-13T14:49:39.973879Z",
     "shell.execute_reply.started": "2022-04-13T02:47:37.126843Z"
    },
    "papermill": {
     "duration": 0.128671,
     "end_time": "2022-04-13T14:49:39.974057",
     "exception": false,
     "start_time": "2022-04-13T14:49:39.845386",
     "status": "completed"
    },
    "tags": []
   },
   "outputs": [
    {
     "data": {
      "text/html": [
       "<div>\n",
       "<style scoped>\n",
       "    .dataframe tbody tr th:only-of-type {\n",
       "        vertical-align: middle;\n",
       "    }\n",
       "\n",
       "    .dataframe tbody tr th {\n",
       "        vertical-align: top;\n",
       "    }\n",
       "\n",
       "    .dataframe thead th {\n",
       "        text-align: right;\n",
       "    }\n",
       "</style>\n",
       "<table border=\"1\" class=\"dataframe\">\n",
       "  <thead>\n",
       "    <tr style=\"text-align: right;\">\n",
       "      <th></th>\n",
       "      <th>Ticket</th>\n",
       "      <th>Cabin</th>\n",
       "    </tr>\n",
       "  </thead>\n",
       "  <tbody>\n",
       "    <tr>\n",
       "      <th>1</th>\n",
       "      <td>PC 17599</td>\n",
       "      <td>C85</td>\n",
       "    </tr>\n",
       "    <tr>\n",
       "      <th>3</th>\n",
       "      <td>113803</td>\n",
       "      <td>C123</td>\n",
       "    </tr>\n",
       "    <tr>\n",
       "      <th>6</th>\n",
       "      <td>17463</td>\n",
       "      <td>E46</td>\n",
       "    </tr>\n",
       "    <tr>\n",
       "      <th>10</th>\n",
       "      <td>PP 9549</td>\n",
       "      <td>G6</td>\n",
       "    </tr>\n",
       "    <tr>\n",
       "      <th>11</th>\n",
       "      <td>113783</td>\n",
       "      <td>C103</td>\n",
       "    </tr>\n",
       "    <tr>\n",
       "      <th>21</th>\n",
       "      <td>248698</td>\n",
       "      <td>D56</td>\n",
       "    </tr>\n",
       "    <tr>\n",
       "      <th>23</th>\n",
       "      <td>113788</td>\n",
       "      <td>A6</td>\n",
       "    </tr>\n",
       "    <tr>\n",
       "      <th>27</th>\n",
       "      <td>19950</td>\n",
       "      <td>C23 C25 C27</td>\n",
       "    </tr>\n",
       "    <tr>\n",
       "      <th>31</th>\n",
       "      <td>PC 17569</td>\n",
       "      <td>B78</td>\n",
       "    </tr>\n",
       "    <tr>\n",
       "      <th>52</th>\n",
       "      <td>PC 17572</td>\n",
       "      <td>D33</td>\n",
       "    </tr>\n",
       "  </tbody>\n",
       "</table>\n",
       "</div>"
      ],
      "text/plain": [
       "      Ticket        Cabin\n",
       "1   PC 17599          C85\n",
       "3     113803         C123\n",
       "6      17463          E46\n",
       "10   PP 9549           G6\n",
       "11    113783         C103\n",
       "21    248698          D56\n",
       "23    113788           A6\n",
       "27     19950  C23 C25 C27\n",
       "31  PC 17569          B78\n",
       "52  PC 17572          D33"
      ]
     },
     "execution_count": 26,
     "metadata": {},
     "output_type": "execute_result"
    }
   ],
   "source": [
    "# see if there is a connection between Ticket and Cabin\n",
    "e_train_df.loc[e_train_df['Cabin'].notnull(), ['Ticket', 'Cabin']].head(10)"
   ]
  },
  {
   "cell_type": "markdown",
   "id": "2a8c9316",
   "metadata": {
    "papermill": {
     "duration": 0.111524,
     "end_time": "2022-04-13T14:49:40.196446",
     "exception": false,
     "start_time": "2022-04-13T14:49:40.084922",
     "status": "completed"
    },
    "tags": []
   },
   "source": [
    "Therefore, we cannot use Ticket to determine Cabin. What is likely occurring is that some tickets did not come with an assigned cabin."
   ]
  },
  {
   "cell_type": "code",
   "execution_count": 27,
   "id": "ce2367c2",
   "metadata": {
    "execution": {
     "iopub.execute_input": "2022-04-13T14:49:40.432117Z",
     "iopub.status.busy": "2022-04-13T14:49:40.431292Z",
     "iopub.status.idle": "2022-04-13T14:49:40.434259Z",
     "shell.execute_reply": "2022-04-13T14:49:40.434863Z",
     "shell.execute_reply.started": "2022-04-13T02:47:37.141616Z"
    },
    "papermill": {
     "duration": 0.125104,
     "end_time": "2022-04-13T14:49:40.435049",
     "exception": false,
     "start_time": "2022-04-13T14:49:40.309945",
     "status": "completed"
    },
    "tags": []
   },
   "outputs": [],
   "source": [
    "# categorical impute\n",
    "e_train_df['Cabin'] = e_train_df['Cabin'].fillna('Missing') \n",
    "e_train_df['Embarked'] = e_train_df['Embarked'].fillna(e_train_df['Embarked'].mode()[0])"
   ]
  },
  {
   "cell_type": "code",
   "execution_count": 28,
   "id": "a4645691",
   "metadata": {
    "execution": {
     "iopub.execute_input": "2022-04-13T14:49:40.661232Z",
     "iopub.status.busy": "2022-04-13T14:49:40.660581Z",
     "iopub.status.idle": "2022-04-13T14:49:40.666442Z",
     "shell.execute_reply": "2022-04-13T14:49:40.666939Z",
     "shell.execute_reply.started": "2022-04-13T02:47:37.161209Z"
    },
    "papermill": {
     "duration": 0.120013,
     "end_time": "2022-04-13T14:49:40.667147",
     "exception": false,
     "start_time": "2022-04-13T14:49:40.547134",
     "status": "completed"
    },
    "tags": []
   },
   "outputs": [],
   "source": [
    "# categorical impute\n",
    "e_test_df['Cabin'] = e_test_df['Cabin'].fillna('Missing')\n",
    "e_test_df['Embarked'] = e_test_df['Embarked'].fillna(e_test_df['Embarked'].mode()[0])"
   ]
  },
  {
   "cell_type": "code",
   "execution_count": 29,
   "id": "3870790c",
   "metadata": {
    "execution": {
     "iopub.execute_input": "2022-04-13T14:49:40.892422Z",
     "iopub.status.busy": "2022-04-13T14:49:40.891698Z",
     "iopub.status.idle": "2022-04-13T14:49:41.077420Z",
     "shell.execute_reply": "2022-04-13T14:49:41.076847Z",
     "shell.execute_reply.started": "2022-04-13T02:47:37.172858Z"
    },
    "papermill": {
     "duration": 0.300263,
     "end_time": "2022-04-13T14:49:41.077579",
     "exception": false,
     "start_time": "2022-04-13T14:49:40.777316",
     "status": "completed"
    },
    "tags": []
   },
   "outputs": [
    {
     "data": {
      "text/plain": [
       "<AxesSubplot:xlabel='Age'>"
      ]
     },
     "execution_count": 29,
     "metadata": {},
     "output_type": "execute_result"
    },
    {
     "data": {
      "image/png": "[encoded data removed]",
      "text/plain": [
       "<Figure size 432x288 with 1 Axes>"
      ]
     },
     "metadata": {
      "needs_background": "light"
     },
     "output_type": "display_data"
    }
   ],
   "source": [
    "# checking Age for distribution and outliers\n",
    "sns.boxplot(x='Age', data=train_df)"
   ]
  },
  {
   "cell_type": "code",
   "execution_count": 30,
   "id": "1fcc98af",
   "metadata": {
    "execution": {
     "iopub.execute_input": "2022-04-13T14:49:41.310755Z",
     "iopub.status.busy": "2022-04-13T14:49:41.309944Z",
     "iopub.status.idle": "2022-04-13T14:49:41.486964Z",
     "shell.execute_reply": "2022-04-13T14:49:41.486221Z",
     "shell.execute_reply.started": "2022-04-13T02:47:37.351213Z"
    },
    "papermill": {
     "duration": 0.297307,
     "end_time": "2022-04-13T14:49:41.487119",
     "exception": false,
     "start_time": "2022-04-13T14:49:41.189812",
     "status": "completed"
    },
    "tags": []
   },
   "outputs": [
    {
     "data": {
      "text/plain": [
       "<AxesSubplot:xlabel='Fare'>"
      ]
     },
     "execution_count": 30,
     "metadata": {},
     "output_type": "execute_result"
    },
    {
     "data": {
      "image/png": "[encoded data removed]",
      "text/plain": [
       "<Figure size 432x288 with 1 Axes>"
      ]
     },
     "metadata": {
      "needs_background": "light"
     },
     "output_type": "display_data"
    }
   ],
   "source": [
    "# checking Fare for distribution and outliers\n",
    "sns.boxplot(x='Fare', data=train_df)"
   ]
  },
  {
   "cell_type": "markdown",
   "id": "a7cd2389",
   "metadata": {
    "papermill": {
     "duration": 0.114001,
     "end_time": "2022-04-13T14:49:41.717159",
     "exception": false,
     "start_time": "2022-04-13T14:49:41.603158",
     "status": "completed"
    },
    "tags": []
   },
   "source": [
    "It appears that Age is relatively symmetrical and that Fare is right skewed. I will use **mean** imputation for Age and **median** imputation for Fare."
   ]
  },
  {
   "cell_type": "code",
   "execution_count": 31,
   "id": "b1b117ca",
   "metadata": {
    "execution": {
     "iopub.execute_input": "2022-04-13T14:49:41.956741Z",
     "iopub.status.busy": "2022-04-13T14:49:41.956001Z",
     "iopub.status.idle": "2022-04-13T14:49:41.959632Z",
     "shell.execute_reply": "2022-04-13T14:49:41.960187Z",
     "shell.execute_reply.started": "2022-04-13T02:47:37.511205Z"
    },
    "papermill": {
     "duration": 0.125535,
     "end_time": "2022-04-13T14:49:41.960397",
     "exception": false,
     "start_time": "2022-04-13T14:49:41.834862",
     "status": "completed"
    },
    "tags": []
   },
   "outputs": [],
   "source": [
    "# quantitative impute\n",
    "e_train_df['Age'] = e_train_df['Age'].fillna(e_train_df['Age'].mean())\n",
    "e_train_df['Fare'] = e_train_df['Fare'].fillna(e_train_df['Fare'].median())"
   ]
  },
  {
   "cell_type": "code",
   "execution_count": 32,
   "id": "21ee9b0e",
   "metadata": {
    "execution": {
     "iopub.execute_input": "2022-04-13T14:49:42.202786Z",
     "iopub.status.busy": "2022-04-13T14:49:42.202011Z",
     "iopub.status.idle": "2022-04-13T14:49:42.208005Z",
     "shell.execute_reply": "2022-04-13T14:49:42.208589Z",
     "shell.execute_reply.started": "2022-04-13T02:47:37.519903Z"
    },
    "papermill": {
     "duration": 0.128617,
     "end_time": "2022-04-13T14:49:42.208805",
     "exception": false,
     "start_time": "2022-04-13T14:49:42.080188",
     "status": "completed"
    },
    "tags": []
   },
   "outputs": [],
   "source": [
    "# quantitative impute\n",
    "e_test_df['Age'] = e_test_df['Age'].fillna(e_test_df['Age'].mean())\n",
    "e_test_df['Fare'] = e_test_df['Fare'].fillna(e_test_df['Fare'].median())"
   ]
  },
  {
   "cell_type": "code",
   "execution_count": 33,
   "id": "1054390f",
   "metadata": {
    "execution": {
     "iopub.execute_input": "2022-04-13T14:49:42.445386Z",
     "iopub.status.busy": "2022-04-13T14:49:42.444660Z",
     "iopub.status.idle": "2022-04-13T14:49:42.456955Z",
     "shell.execute_reply": "2022-04-13T14:49:42.457503Z",
     "shell.execute_reply.started": "2022-04-13T02:47:37.534319Z"
    },
    "papermill": {
     "duration": 0.129441,
     "end_time": "2022-04-13T14:49:42.457702",
     "exception": false,
     "start_time": "2022-04-13T14:49:42.328261",
     "status": "completed"
    },
    "tags": []
   },
   "outputs": [
    {
     "name": "stdout",
     "output_type": "stream",
     "text": [
      "<class 'pandas.core.frame.DataFrame'>\n",
      "RangeIndex: 891 entries, 0 to 890\n",
      "Data columns (total 12 columns):\n",
      " #   Column       Non-Null Count  Dtype  \n",
      "---  ------       --------------  -----  \n",
      " 0   PassengerId  891 non-null    int64  \n",
      " 1   Survived     891 non-null    int64  \n",
      " 2   Pclass       891 non-null    int64  \n",
      " 3   Name         891 non-null    object \n",
      " 4   Sex          891 non-null    object \n",
      " 5   Age          891 non-null    float64\n",
      " 6   SibSp        891 non-null    int64  \n",
      " 7   Parch        891 non-null    int64  \n",
      " 8   Ticket       891 non-null    object \n",
      " 9   Fare         891 non-null    float64\n",
      " 10  Cabin        891 non-null    object \n",
      " 11  Embarked     891 non-null    object \n",
      "dtypes: float64(2), int64(5), object(5)\n",
      "memory usage: 83.7+ KB\n"
     ]
    }
   ],
   "source": [
    "# confirm the imputation worked\n",
    "e_train_df.info()"
   ]
  },
  {
   "cell_type": "code",
   "execution_count": 34,
   "id": "f6c3ab33",
   "metadata": {
    "execution": {
     "iopub.execute_input": "2022-04-13T14:49:42.694306Z",
     "iopub.status.busy": "2022-04-13T14:49:42.693646Z",
     "iopub.status.idle": "2022-04-13T14:49:42.706015Z",
     "shell.execute_reply": "2022-04-13T14:49:42.706555Z",
     "shell.execute_reply.started": "2022-04-13T02:47:37.556614Z"
    },
    "papermill": {
     "duration": 0.135135,
     "end_time": "2022-04-13T14:49:42.706880",
     "exception": false,
     "start_time": "2022-04-13T14:49:42.571745",
     "status": "completed"
    },
    "tags": []
   },
   "outputs": [
    {
     "name": "stdout",
     "output_type": "stream",
     "text": [
      "<class 'pandas.core.frame.DataFrame'>\n",
      "RangeIndex: 418 entries, 0 to 417\n",
      "Data columns (total 11 columns):\n",
      " #   Column       Non-Null Count  Dtype  \n",
      "---  ------       --------------  -----  \n",
      " 0   PassengerId  418 non-null    int64  \n",
      " 1   Pclass       418 non-null    int64  \n",
      " 2   Name         418 non-null    object \n",
      " 3   Sex          418 non-null    object \n",
      " 4   Age          418 non-null    float64\n",
      " 5   SibSp        418 non-null    int64  \n",
      " 6   Parch        418 non-null    int64  \n",
      " 7   Ticket       418 non-null    object \n",
      " 8   Fare         418 non-null    float64\n",
      " 9   Cabin        418 non-null    object \n",
      " 10  Embarked     418 non-null    object \n",
      "dtypes: float64(2), int64(4), object(5)\n",
      "memory usage: 36.0+ KB\n"
     ]
    }
   ],
   "source": [
    "# confirm the imputation worked\n",
    "e_test_df.info()"
   ]
  },
  {
   "cell_type": "markdown",
   "id": "fc2468d2",
   "metadata": {
    "papermill": {
     "duration": 0.115371,
     "end_time": "2022-04-13T14:49:42.938628",
     "exception": false,
     "start_time": "2022-04-13T14:49:42.823257",
     "status": "completed"
    },
    "tags": []
   },
   "source": [
    "age_bucket = discretizing age into buckets."
   ]
  },
  {
   "cell_type": "code",
   "execution_count": 35,
   "id": "b18ddcc7",
   "metadata": {
    "execution": {
     "iopub.execute_input": "2022-04-13T14:49:43.176393Z",
     "iopub.status.busy": "2022-04-13T14:49:43.175702Z",
     "iopub.status.idle": "2022-04-13T14:49:43.186857Z",
     "shell.execute_reply": "2022-04-13T14:49:43.186276Z",
     "shell.execute_reply.started": "2022-04-13T02:47:37.570471Z"
    },
    "papermill": {
     "duration": 0.132336,
     "end_time": "2022-04-13T14:49:43.187011",
     "exception": false,
     "start_time": "2022-04-13T14:49:43.054675",
     "status": "completed"
    },
    "tags": []
   },
   "outputs": [],
   "source": [
    "# age_bucket\n",
    "age_bins = [0, 12, 18, 30, 65, 100]\n",
    "age_labels = ['Child', 'Teen', 'Young Adult','Adult', 'Elderly']\n",
    "\n",
    "e_train_df['age_bucket'] = pd.cut(x=e_train_df['Age'], bins=age_bins,\n",
    "                    labels=age_labels).astype('object')\n",
    "\n",
    "e_test_df['age_bucket'] = pd.cut(x=e_test_df['Age'], bins=age_bins,\n",
    "                    labels=age_labels).astype('object')"
   ]
  },
  {
   "cell_type": "markdown",
   "id": "0a6054f8",
   "metadata": {
    "papermill": {
     "duration": 0.118953,
     "end_time": "2022-04-13T14:49:43.425329",
     "exception": false,
     "start_time": "2022-04-13T14:49:43.306376",
     "status": "completed"
    },
    "tags": []
   },
   "source": [
    "I wonder how age_bucket interacts with survival."
   ]
  },
  {
   "cell_type": "code",
   "execution_count": 36,
   "id": "1cfb2d55",
   "metadata": {
    "execution": {
     "iopub.execute_input": "2022-04-13T14:49:43.674580Z",
     "iopub.status.busy": "2022-04-13T14:49:43.673529Z",
     "iopub.status.idle": "2022-04-13T14:49:44.078486Z",
     "shell.execute_reply": "2022-04-13T14:49:44.077763Z",
     "shell.execute_reply.started": "2022-04-13T02:47:37.582921Z"
    },
    "papermill": {
     "duration": 0.537369,
     "end_time": "2022-04-13T14:49:44.078649",
     "exception": false,
     "start_time": "2022-04-13T14:49:43.541280",
     "status": "completed"
    },
    "tags": []
   },
   "outputs": [
    {
     "data": {
      "text/plain": [
       "<seaborn.axisgrid.FacetGrid at 0x7f1b413dded0>"
      ]
     },
     "execution_count": 36,
     "metadata": {},
     "output_type": "execute_result"
    },
    {
     "data": {
      "image/png": "[encoded data removed]",
      "text/plain": [
       "<Figure size 411.875x360 with 1 Axes>"
      ]
     },
     "metadata": {
      "needs_background": "light"
     },
     "output_type": "display_data"
    }
   ],
   "source": [
    "# ship_location and survived\n",
    "sns.catplot(x='age_bucket', hue='Survived', data=e_train_df, kind='count')"
   ]
  },
  {
   "cell_type": "markdown",
   "id": "138d4ba5",
   "metadata": {
    "papermill": {
     "duration": 0.116616,
     "end_time": "2022-04-13T14:49:44.310882",
     "exception": false,
     "start_time": "2022-04-13T14:49:44.194266",
     "status": "completed"
    },
    "tags": []
   },
   "source": [
    "It seems like most of the passengers on the Titanic were young adults."
   ]
  },
  {
   "cell_type": "markdown",
   "id": "6e49db92",
   "metadata": {
    "papermill": {
     "duration": 0.115248,
     "end_time": "2022-04-13T14:49:44.545710",
     "exception": false,
     "start_time": "2022-04-13T14:49:44.430462",
     "status": "completed"
    },
    "tags": []
   },
   "source": [
    "title = Positions that accompany your name. Some may assist in survival (such as being royalty), while others might hurt it (such as being a military officer)."
   ]
  },
  {
   "cell_type": "code",
   "execution_count": 37,
   "id": "344a8da7",
   "metadata": {
    "execution": {
     "iopub.execute_input": "2022-04-13T14:49:44.792733Z",
     "iopub.status.busy": "2022-04-13T14:49:44.791153Z",
     "iopub.status.idle": "2022-04-13T14:49:44.806876Z",
     "shell.execute_reply": "2022-04-13T14:49:44.807461Z",
     "shell.execute_reply.started": "2022-04-13T02:47:37.934316Z"
    },
    "papermill": {
     "duration": 0.144229,
     "end_time": "2022-04-13T14:49:44.807664",
     "exception": false,
     "start_time": "2022-04-13T14:49:44.663435",
     "status": "completed"
    },
    "tags": []
   },
   "outputs": [],
   "source": [
    "# title\n",
    "e_train_df[['last_name','intermediate']] = e_train_df['Name'].str.split(', ', expand=True)\n",
    "e_train_df[['title','first_name']] = e_train_df['intermediate'].str.split('.', 1, expand=True)\n",
    "e_train_df = e_train_df.drop(columns=['last_name', 'intermediate', 'first_name'])\n",
    "\n",
    "e_test_df[['last_name','intermediate']] = e_test_df['Name'].str.split(', ', expand=True)\n",
    "e_test_df[['title','first_name']] = e_test_df['intermediate'].str.split('.', 1, expand=True)\n",
    "e_test_df = e_test_df.drop(columns=['last_name', 'intermediate', 'first_name'])"
   ]
  },
  {
   "cell_type": "code",
   "execution_count": 38,
   "id": "bceccb79",
   "metadata": {
    "execution": {
     "iopub.execute_input": "2022-04-13T14:49:45.046888Z",
     "iopub.status.busy": "2022-04-13T14:49:45.043859Z",
     "iopub.status.idle": "2022-04-13T14:49:45.050945Z",
     "shell.execute_reply": "2022-04-13T14:49:45.050380Z",
     "shell.execute_reply.started": "2022-04-13T02:47:37.958008Z"
    },
    "papermill": {
     "duration": 0.126384,
     "end_time": "2022-04-13T14:49:45.051082",
     "exception": false,
     "start_time": "2022-04-13T14:49:44.924698",
     "status": "completed"
    },
    "tags": []
   },
   "outputs": [
    {
     "name": "stdout",
     "output_type": "stream",
     "text": [
      "['Capt', 'Col', 'Don', 'Dona', 'Dr', 'Jonkheer', 'Lady', 'Major', 'Master', 'Miss', 'Mlle', 'Mme', 'Mr', 'Mrs', 'Ms', 'Rev', 'Sir', 'the Countess']\n"
     ]
    }
   ],
   "source": [
    "# unique titles\n",
    "train_title_set = set(e_train_df['title'].tolist())\n",
    "test_title_set = set(e_test_df['title'].tolist())\n",
    "title_sorted = sorted(train_title_set.union(test_title_set))\n",
    "\n",
    "print(title_sorted)"
   ]
  },
  {
   "cell_type": "markdown",
   "id": "023cb5d7",
   "metadata": {
    "papermill": {
     "duration": 0.117371,
     "end_time": "2022-04-13T14:49:45.284483",
     "exception": false,
     "start_time": "2022-04-13T14:49:45.167112",
     "status": "completed"
    },
    "tags": []
   },
   "source": [
    "I am going to bucket into \"officer\", \"important\", and \"average\"."
   ]
  },
  {
   "cell_type": "code",
   "execution_count": 39,
   "id": "ab4c5e66",
   "metadata": {
    "execution": {
     "iopub.execute_input": "2022-04-13T14:49:45.524921Z",
     "iopub.status.busy": "2022-04-13T14:49:45.523858Z",
     "iopub.status.idle": "2022-04-13T14:49:45.564975Z",
     "shell.execute_reply": "2022-04-13T14:49:45.565538Z",
     "shell.execute_reply.started": "2022-04-13T02:47:37.965883Z"
    },
    "papermill": {
     "duration": 0.162447,
     "end_time": "2022-04-13T14:49:45.565722",
     "exception": false,
     "start_time": "2022-04-13T14:49:45.403275",
     "status": "completed"
    },
    "tags": []
   },
   "outputs": [],
   "source": [
    "# assign titles to flags\n",
    "def assign_role(row):\n",
    "    if row['title'] in ['Capt', 'Col', 'Major']:\n",
    "        return 'officer'\n",
    "    elif row['title'] in ['Don', 'Dona', 'Dr', 'Jonkheer', 'Lady', 'Master', 'Rev', 'Sir', 'the Countess']:\n",
    "        return 'important'\n",
    "    elif row['title'] in ['Miss', 'Mlle', 'Mme', 'Mr', 'Mrs', 'Ms']:\n",
    "        return 'average'\n",
    "    \n",
    "e_train_df['role'] = e_train_df.apply(lambda row: assign_role(row), axis=1)\n",
    "e_test_df['role'] = e_test_df.apply(lambda row: assign_role(row), axis=1)"
   ]
  },
  {
   "cell_type": "markdown",
   "id": "52e1433c",
   "metadata": {
    "papermill": {
     "duration": 0.117718,
     "end_time": "2022-04-13T14:49:45.801431",
     "exception": false,
     "start_time": "2022-04-13T14:49:45.683713",
     "status": "completed"
    },
    "tags": []
   },
   "source": [
    "I wonder how role interacts with survival."
   ]
  },
  {
   "cell_type": "code",
   "execution_count": 40,
   "id": "02f3ac7a",
   "metadata": {
    "execution": {
     "iopub.execute_input": "2022-04-13T14:49:46.041006Z",
     "iopub.status.busy": "2022-04-13T14:49:46.039981Z",
     "iopub.status.idle": "2022-04-13T14:49:46.386556Z",
     "shell.execute_reply": "2022-04-13T14:49:46.385860Z",
     "shell.execute_reply.started": "2022-04-13T02:47:38.004678Z"
    },
    "papermill": {
     "duration": 0.467219,
     "end_time": "2022-04-13T14:49:46.386704",
     "exception": false,
     "start_time": "2022-04-13T14:49:45.919485",
     "status": "completed"
    },
    "tags": []
   },
   "outputs": [
    {
     "data": {
      "text/plain": [
       "<seaborn.axisgrid.FacetGrid at 0x7f1b41337b90>"
      ]
     },
     "execution_count": 40,
     "metadata": {},
     "output_type": "execute_result"
    },
    {
     "data": {
      "image/png": "[encoded data removed]",
      "text/plain": [
       "<Figure size 411.875x360 with 1 Axes>"
      ]
     },
     "metadata": {
      "needs_background": "light"
     },
     "output_type": "display_data"
    }
   ],
   "source": [
    "# ship_location and survived\n",
    "sns.catplot(x='role', hue='Survived', data=e_train_df, kind='count')"
   ]
  },
  {
   "cell_type": "markdown",
   "id": "2574b284",
   "metadata": {
    "papermill": {
     "duration": 0.118404,
     "end_time": "2022-04-13T14:49:46.622701",
     "exception": false,
     "start_time": "2022-04-13T14:49:46.504297",
     "status": "completed"
    },
    "tags": []
   },
   "source": [
    "It appears that \"important\" increases chances of survival versus being an \"officer\" or \"average\"."
   ]
  },
  {
   "cell_type": "markdown",
   "id": "7aff0f23",
   "metadata": {
    "papermill": {
     "duration": 0.115361,
     "end_time": "2022-04-13T14:49:46.855541",
     "exception": false,
     "start_time": "2022-04-13T14:49:46.740180",
     "status": "completed"
    },
    "tags": []
   },
   "source": [
    "ship_location = what specific area were you on the ship. I will use first letter of ticket to determine."
   ]
  },
  {
   "cell_type": "code",
   "execution_count": 41,
   "id": "4f38ffa4",
   "metadata": {
    "execution": {
     "iopub.execute_input": "2022-04-13T14:49:47.095280Z",
     "iopub.status.busy": "2022-04-13T14:49:47.094411Z",
     "iopub.status.idle": "2022-04-13T14:49:47.097386Z",
     "shell.execute_reply": "2022-04-13T14:49:47.097893Z",
     "shell.execute_reply.started": "2022-04-13T02:47:38.325462Z"
    },
    "papermill": {
     "duration": 0.125832,
     "end_time": "2022-04-13T14:49:47.098069",
     "exception": false,
     "start_time": "2022-04-13T14:49:46.972237",
     "status": "completed"
    },
    "tags": []
   },
   "outputs": [
    {
     "name": "stdout",
     "output_type": "stream",
     "text": [
      "Cabins in sort order: ['A10', 'A11', 'A14', 'A16', 'A18', 'A19', 'A20', 'A21', 'A23', 'A24', 'A26', 'A29', 'A31', 'A32', 'A34', 'A36', 'A5', 'A6', 'A7', 'A9', 'B10', 'B101', 'B102', 'B11', 'B18', 'B19', 'B20', 'B22', 'B24', 'B26', 'B28', 'B3', 'B30', 'B35', 'B36', 'B37', 'B38', 'B39', 'B4', 'B41', 'B42', 'B45', 'B49', 'B5', 'B50', 'B51 B53 B55', 'B52 B54 B56', 'B57 B59 B63 B66', 'B58 B60', 'B61', 'B69', 'B71', 'B73', 'B77', 'B78', 'B79', 'B80', 'B82 B84', 'B86', 'B94', 'B96 B98', 'C101', 'C103', 'C104', 'C105', 'C106', 'C110', 'C111', 'C116', 'C118', 'C123', 'C124', 'C125', 'C126', 'C128', 'C130', 'C132', 'C148', 'C2', 'C22 C26', 'C23 C25 C27', 'C28', 'C30', 'C31', 'C32', 'C39', 'C45', 'C46', 'C47', 'C49', 'C50', 'C51', 'C52', 'C53', 'C54', 'C55 C57', 'C6', 'C62 C64', 'C65', 'C68', 'C7', 'C70', 'C78', 'C80', 'C82', 'C83', 'C85', 'C86', 'C87', 'C89', 'C90', 'C91', 'C92', 'C93', 'C95', 'C97', 'C99', 'D', 'D10 D12', 'D11', 'D15', 'D17', 'D19', 'D20', 'D21', 'D22', 'D26', 'D28', 'D30', 'D33', 'D34', 'D35', 'D36', 'D37', 'D38', 'D40', 'D43', 'D45', 'D46', 'D47', 'D48', 'D49', 'D50', 'D56', 'D6', 'D7', 'D9', 'E10', 'E101', 'E12', 'E121', 'E17', 'E24', 'E25', 'E31', 'E33', 'E34', 'E36', 'E38', 'E39 E41', 'E40', 'E44', 'E45', 'E46', 'E49', 'E50', 'E52', 'E58', 'E60', 'E63', 'E67', 'E68', 'E77', 'E8', 'F', 'F E46', 'F E57', 'F E69', 'F G63', 'F G73', 'F2', 'F33', 'F38', 'F4', 'G6', 'Missing', 'T']\n"
     ]
    }
   ],
   "source": [
    "# ship_location\n",
    "train_cabin_set = set(e_train_df['Cabin'].tolist())\n",
    "test_cabin_set = set(e_test_df['Cabin'].tolist())\n",
    "cabins_sorted = sorted(train_cabin_set.union(test_cabin_set))\n",
    "print(f'Cabins in sort order: {cabins_sorted}')"
   ]
  },
  {
   "cell_type": "markdown",
   "id": "a47b81eb",
   "metadata": {
    "papermill": {
     "duration": 0.11725,
     "end_time": "2022-04-13T14:49:47.334047",
     "exception": false,
     "start_time": "2022-04-13T14:49:47.216797",
     "status": "completed"
    },
    "tags": []
   },
   "source": [
    "Some passengers have multiple cabins, but they all appear to be in the same general ship_location."
   ]
  },
  {
   "cell_type": "code",
   "execution_count": 42,
   "id": "b474a861",
   "metadata": {
    "execution": {
     "iopub.execute_input": "2022-04-13T14:49:47.576646Z",
     "iopub.status.busy": "2022-04-13T14:49:47.575948Z",
     "iopub.status.idle": "2022-04-13T14:49:47.579170Z",
     "shell.execute_reply": "2022-04-13T14:49:47.578634Z",
     "shell.execute_reply.started": "2022-04-13T02:47:38.33398Z"
    },
    "papermill": {
     "duration": 0.129017,
     "end_time": "2022-04-13T14:49:47.579318",
     "exception": false,
     "start_time": "2022-04-13T14:49:47.450301",
     "status": "completed"
    },
    "tags": []
   },
   "outputs": [],
   "source": [
    "# ship_location\n",
    "e_train_df['ship_location'] = e_train_df['Cabin'].astype(str).str[0]\n",
    "e_test_df['ship_location'] = e_test_df['Cabin'].astype(str).str[0]"
   ]
  },
  {
   "cell_type": "markdown",
   "id": "ce107d8e",
   "metadata": {
    "papermill": {
     "duration": 0.11802,
     "end_time": "2022-04-13T14:49:47.817205",
     "exception": false,
     "start_time": "2022-04-13T14:49:47.699185",
     "status": "completed"
    },
    "tags": []
   },
   "source": [
    "I want to see if how ship location relates to survival and Pclass. "
   ]
  },
  {
   "cell_type": "code",
   "execution_count": 43,
   "id": "f5863c63",
   "metadata": {
    "execution": {
     "iopub.execute_input": "2022-04-13T14:49:48.088792Z",
     "iopub.status.busy": "2022-04-13T14:49:48.088034Z",
     "iopub.status.idle": "2022-04-13T14:49:48.586224Z",
     "shell.execute_reply": "2022-04-13T14:49:48.585655Z",
     "shell.execute_reply.started": "2022-04-13T02:47:38.349427Z"
    },
    "papermill": {
     "duration": 0.649464,
     "end_time": "2022-04-13T14:49:48.586404",
     "exception": false,
     "start_time": "2022-04-13T14:49:47.936940",
     "status": "completed"
    },
    "tags": []
   },
   "outputs": [
    {
     "data": {
      "text/plain": [
       "<seaborn.axisgrid.FacetGrid at 0x7f1b412e3610>"
      ]
     },
     "execution_count": 43,
     "metadata": {},
     "output_type": "execute_result"
    },
    {
     "data": {
      "image/png": "[encoded data removed]",
      "text/plain": [
       "<Figure size 411.875x360 with 1 Axes>"
      ]
     },
     "metadata": {
      "needs_background": "light"
     },
     "output_type": "display_data"
    }
   ],
   "source": [
    "# ship_location and survived\n",
    "sns.catplot(x='ship_location', hue='Survived', data=e_train_df, kind='count')"
   ]
  },
  {
   "cell_type": "markdown",
   "id": "b9027c02",
   "metadata": {
    "papermill": {
     "duration": 0.119691,
     "end_time": "2022-04-13T14:49:48.822778",
     "exception": false,
     "start_time": "2022-04-13T14:49:48.703087",
     "status": "completed"
    },
    "tags": []
   },
   "source": [
    "Some locations do appear to imply higher chances of survival. Also, this makes me think passenger class correlates with having been assigned a cabin."
   ]
  },
  {
   "cell_type": "code",
   "execution_count": 44,
   "id": "7c5d8493",
   "metadata": {
    "execution": {
     "iopub.execute_input": "2022-04-13T14:49:49.075832Z",
     "iopub.status.busy": "2022-04-13T14:49:49.072860Z",
     "iopub.status.idle": "2022-04-13T14:49:49.460442Z",
     "shell.execute_reply": "2022-04-13T14:49:49.459714Z",
     "shell.execute_reply.started": "2022-04-13T02:47:38.740522Z"
    },
    "papermill": {
     "duration": 0.519194,
     "end_time": "2022-04-13T14:49:49.460613",
     "exception": false,
     "start_time": "2022-04-13T14:49:48.941419",
     "status": "completed"
    },
    "tags": []
   },
   "outputs": [
    {
     "data": {
      "text/plain": [
       "<seaborn.axisgrid.FacetGrid at 0x7f1b412e7590>"
      ]
     },
     "execution_count": 44,
     "metadata": {},
     "output_type": "execute_result"
    },
    {
     "data": {
      "image/png": "[encoded data removed]",
      "text/plain": [
       "<Figure size 402.375x360 with 1 Axes>"
      ]
     },
     "metadata": {
      "needs_background": "light"
     },
     "output_type": "display_data"
    }
   ],
   "source": [
    "# ship_location and Pclass\n",
    "sns.catplot(x='ship_location', hue='Pclass', data=e_train_df, kind='count')"
   ]
  },
  {
   "cell_type": "markdown",
   "id": "43ea87e3",
   "metadata": {
    "papermill": {
     "duration": 0.121009,
     "end_time": "2022-04-13T14:49:49.701502",
     "exception": false,
     "start_time": "2022-04-13T14:49:49.580493",
     "status": "completed"
    },
    "tags": []
   },
   "source": [
    "Clearly passenger class correlates with both having been assigned a cabin."
   ]
  },
  {
   "cell_type": "markdown",
   "id": "001a2984",
   "metadata": {
    "papermill": {
     "duration": 0.120261,
     "end_time": "2022-04-13T14:49:49.945311",
     "exception": false,
     "start_time": "2022-04-13T14:49:49.825050",
     "status": "completed"
    },
    "tags": []
   },
   "source": [
    "family_size = The total amount of siblings, spouses, parents and children. The idea here is that larger families do not want to be split up, where as individuals can make more ruthless survi"
   ]
  },
  {
   "cell_type": "code",
   "execution_count": 45,
   "id": "38216fca",
   "metadata": {
    "execution": {
     "iopub.execute_input": "2022-04-13T14:49:50.194271Z",
     "iopub.status.busy": "2022-04-13T14:49:50.193210Z",
     "iopub.status.idle": "2022-04-13T14:49:50.196134Z",
     "shell.execute_reply": "2022-04-13T14:49:50.195610Z",
     "shell.execute_reply.started": "2022-04-13T02:47:39.165447Z"
    },
    "papermill": {
     "duration": 0.130445,
     "end_time": "2022-04-13T14:49:50.196282",
     "exception": false,
     "start_time": "2022-04-13T14:49:50.065837",
     "status": "completed"
    },
    "tags": []
   },
   "outputs": [],
   "source": [
    "# family_size\n",
    "e_train_df['family_size'] = e_train_df['SibSp'] + e_train_df['Parch']\n",
    "e_test_df['family_size'] = e_test_df['SibSp'] + e_test_df['Parch']"
   ]
  },
  {
   "cell_type": "markdown",
   "id": "ac625421",
   "metadata": {
    "papermill": {
     "duration": 0.121359,
     "end_time": "2022-04-13T14:49:50.436021",
     "exception": false,
     "start_time": "2022-04-13T14:49:50.314662",
     "status": "completed"
    },
    "tags": []
   },
   "source": [
    "I want to see how family_size relates to survival."
   ]
  },
  {
   "cell_type": "code",
   "execution_count": 46,
   "id": "f86307ae",
   "metadata": {
    "execution": {
     "iopub.execute_input": "2022-04-13T14:49:50.695805Z",
     "iopub.status.busy": "2022-04-13T14:49:50.694637Z",
     "iopub.status.idle": "2022-04-13T14:49:50.842107Z",
     "shell.execute_reply": "2022-04-13T14:49:50.841401Z",
     "shell.execute_reply.started": "2022-04-13T02:47:39.174016Z"
    },
    "papermill": {
     "duration": 0.279891,
     "end_time": "2022-04-13T14:49:50.842282",
     "exception": false,
     "start_time": "2022-04-13T14:49:50.562391",
     "status": "completed"
    },
    "tags": []
   },
   "outputs": [
    {
     "data": {
      "text/plain": [
       "<AxesSubplot:xlabel='Survived', ylabel='family_size'>"
      ]
     },
     "execution_count": 46,
     "metadata": {},
     "output_type": "execute_result"
    },
    {
     "data": {
      "image/png": "[encoded data removed]",
      "text/plain": [
       "<Figure size 432x288 with 1 Axes>"
      ]
     },
     "metadata": {
      "needs_background": "light"
     },
     "output_type": "display_data"
    }
   ],
   "source": [
    "# survival and family_size\n",
    "sns.boxplot(x='Survived', y='family_size', data=e_train_df)"
   ]
  },
  {
   "cell_type": "markdown",
   "id": "71c1fceb",
   "metadata": {
    "papermill": {
     "duration": 0.124265,
     "end_time": "2022-04-13T14:49:51.089451",
     "exception": false,
     "start_time": "2022-04-13T14:49:50.965186",
     "status": "completed"
    },
    "tags": []
   },
   "source": [
    "It appears like Parch, larger overall families survive more. This surprises me. I wonder if solo travelers survive more."
   ]
  },
  {
   "cell_type": "code",
   "execution_count": 47,
   "id": "8ece4a11",
   "metadata": {
    "execution": {
     "iopub.execute_input": "2022-04-13T14:49:51.347548Z",
     "iopub.status.busy": "2022-04-13T14:49:51.343381Z",
     "iopub.status.idle": "2022-04-13T14:49:51.720526Z",
     "shell.execute_reply": "2022-04-13T14:49:51.719926Z",
     "shell.execute_reply.started": "2022-04-13T02:47:39.375688Z"
    },
    "papermill": {
     "duration": 0.508141,
     "end_time": "2022-04-13T14:49:51.720679",
     "exception": false,
     "start_time": "2022-04-13T14:49:51.212538",
     "status": "completed"
    },
    "tags": []
   },
   "outputs": [
    {
     "data": {
      "text/plain": [
       "<seaborn.axisgrid.FacetGrid at 0x7f1b411360d0>"
      ]
     },
     "execution_count": 47,
     "metadata": {},
     "output_type": "execute_result"
    },
    {
     "data": {
      "image/png": "[encoded data removed]",
      "text/plain": [
       "<Figure size 411.875x360 with 1 Axes>"
      ]
     },
     "metadata": {
      "needs_background": "light"
     },
     "output_type": "display_data"
    }
   ],
   "source": [
    "# family_size and survived\n",
    "sns.catplot(x='family_size', hue='Survived', data=e_train_df, kind='count')"
   ]
  },
  {
   "cell_type": "markdown",
   "id": "4c1d4a6c",
   "metadata": {
    "papermill": {
     "duration": 0.121859,
     "end_time": "2022-04-13T14:49:51.966149",
     "exception": false,
     "start_time": "2022-04-13T14:49:51.844290",
     "status": "completed"
    },
    "tags": []
   },
   "source": [
    "It appears that solo travelers did not survive as much as those with small families. Larger families also appear to nto survive as much."
   ]
  },
  {
   "cell_type": "code",
   "execution_count": 48,
   "id": "28b57015",
   "metadata": {
    "execution": {
     "iopub.execute_input": "2022-04-13T14:49:52.247938Z",
     "iopub.status.busy": "2022-04-13T14:49:52.244982Z",
     "iopub.status.idle": "2022-04-13T14:49:52.252047Z",
     "shell.execute_reply": "2022-04-13T14:49:52.251462Z",
     "shell.execute_reply.started": "2022-04-13T02:47:39.778605Z"
    },
    "papermill": {
     "duration": 0.160019,
     "end_time": "2022-04-13T14:49:52.252196",
     "exception": false,
     "start_time": "2022-04-13T14:49:52.092177",
     "status": "completed"
    },
    "tags": []
   },
   "outputs": [],
   "source": [
    "# traveling alone\n",
    "e_train_df['travel_solo'] = e_train_df.apply(lambda row: 1 if row['family_size']==0 else 0, axis=1)\n",
    "e_test_df['travel_solo'] = e_test_df.apply(lambda row: 1 if row['family_size']==0 else 0, axis=1)"
   ]
  },
  {
   "cell_type": "code",
   "execution_count": 49,
   "id": "d1435cfe",
   "metadata": {
    "execution": {
     "iopub.execute_input": "2022-04-13T14:49:52.524152Z",
     "iopub.status.busy": "2022-04-13T14:49:52.523400Z",
     "iopub.status.idle": "2022-04-13T14:49:52.526847Z",
     "shell.execute_reply": "2022-04-13T14:49:52.527383Z",
     "shell.execute_reply.started": "2022-04-13T02:47:39.784025Z"
    },
    "papermill": {
     "duration": 0.144441,
     "end_time": "2022-04-13T14:49:52.527570",
     "exception": false,
     "start_time": "2022-04-13T14:49:52.383129",
     "status": "completed"
    },
    "tags": []
   },
   "outputs": [
    {
     "name": "stdout",
     "output_type": "stream",
     "text": [
      "<class 'pandas.core.frame.DataFrame'>\n",
      "RangeIndex: 891 entries, 0 to 890\n",
      "Data columns (total 18 columns):\n",
      " #   Column         Non-Null Count  Dtype  \n",
      "---  ------         --------------  -----  \n",
      " 0   PassengerId    891 non-null    int64  \n",
      " 1   Survived       891 non-null    int64  \n",
      " 2   Pclass         891 non-null    int64  \n",
      " 3   Name           891 non-null    object \n",
      " 4   Sex            891 non-null    object \n",
      " 5   Age            891 non-null    float64\n",
      " 6   SibSp          891 non-null    int64  \n",
      " 7   Parch          891 non-null    int64  \n",
      " 8   Ticket         891 non-null    object \n",
      " 9   Fare           891 non-null    float64\n",
      " 10  Cabin          891 non-null    object \n",
      " 11  Embarked       891 non-null    object \n",
      " 12  age_bucket     891 non-null    object \n",
      " 13  title          891 non-null    object \n",
      " 14  role           891 non-null    object \n",
      " 15  ship_location  891 non-null    object \n",
      " 16  family_size    891 non-null    int64  \n",
      " 17  travel_solo    891 non-null    int64  \n",
      "dtypes: float64(2), int64(7), object(9)\n",
      "memory usage: 125.4+ KB\n"
     ]
    }
   ],
   "source": [
    "e_train_df.info()"
   ]
  },
  {
   "cell_type": "code",
   "execution_count": 50,
   "id": "1b24a980",
   "metadata": {
    "execution": {
     "iopub.execute_input": "2022-04-13T14:49:52.794870Z",
     "iopub.status.busy": "2022-04-13T14:49:52.785731Z",
     "iopub.status.idle": "2022-04-13T14:49:52.798322Z",
     "shell.execute_reply": "2022-04-13T14:49:52.797788Z",
     "shell.execute_reply.started": "2022-04-13T02:47:39.806869Z"
    },
    "papermill": {
     "duration": 0.146692,
     "end_time": "2022-04-13T14:49:52.798485",
     "exception": false,
     "start_time": "2022-04-13T14:49:52.651793",
     "status": "completed"
    },
    "tags": []
   },
   "outputs": [
    {
     "name": "stdout",
     "output_type": "stream",
     "text": [
      "<class 'pandas.core.frame.DataFrame'>\n",
      "RangeIndex: 418 entries, 0 to 417\n",
      "Data columns (total 17 columns):\n",
      " #   Column         Non-Null Count  Dtype  \n",
      "---  ------         --------------  -----  \n",
      " 0   PassengerId    418 non-null    int64  \n",
      " 1   Pclass         418 non-null    int64  \n",
      " 2   Name           418 non-null    object \n",
      " 3   Sex            418 non-null    object \n",
      " 4   Age            418 non-null    float64\n",
      " 5   SibSp          418 non-null    int64  \n",
      " 6   Parch          418 non-null    int64  \n",
      " 7   Ticket         418 non-null    object \n",
      " 8   Fare           418 non-null    float64\n",
      " 9   Cabin          418 non-null    object \n",
      " 10  Embarked       418 non-null    object \n",
      " 11  age_bucket     418 non-null    object \n",
      " 12  title          418 non-null    object \n",
      " 13  role           418 non-null    object \n",
      " 14  ship_location  418 non-null    object \n",
      " 15  family_size    418 non-null    int64  \n",
      " 16  travel_solo    418 non-null    int64  \n",
      "dtypes: float64(2), int64(6), object(9)\n",
      "memory usage: 55.6+ KB\n"
     ]
    }
   ],
   "source": [
    "e_test_df.info()"
   ]
  },
  {
   "cell_type": "code",
   "execution_count": 51,
   "id": "2faca7d5",
   "metadata": {
    "execution": {
     "iopub.execute_input": "2022-04-13T14:49:53.064082Z",
     "iopub.status.busy": "2022-04-13T14:49:53.062781Z",
     "iopub.status.idle": "2022-04-13T14:49:53.065504Z",
     "shell.execute_reply": "2022-04-13T14:49:53.066003Z",
     "shell.execute_reply.started": "2022-04-13T02:47:39.824034Z"
    },
    "papermill": {
     "duration": 0.140062,
     "end_time": "2022-04-13T14:49:53.066198",
     "exception": false,
     "start_time": "2022-04-13T14:49:52.926136",
     "status": "completed"
    },
    "tags": []
   },
   "outputs": [],
   "source": [
    "# make a copy of enhanced dataframes for modeling\n",
    "m_train_df = e_train_df.copy()\n",
    "m_test_df = e_test_df.copy()"
   ]
  },
  {
   "cell_type": "code",
   "execution_count": 52,
   "id": "70d963fb",
   "metadata": {
    "execution": {
     "iopub.execute_input": "2022-04-13T14:49:53.328168Z",
     "iopub.status.busy": "2022-04-13T14:49:53.327305Z",
     "iopub.status.idle": "2022-04-13T14:49:53.331305Z",
     "shell.execute_reply": "2022-04-13T14:49:53.330606Z",
     "shell.execute_reply.started": "2022-04-13T02:47:39.831914Z"
    },
    "papermill": {
     "duration": 0.138381,
     "end_time": "2022-04-13T14:49:53.331477",
     "exception": false,
     "start_time": "2022-04-13T14:49:53.193096",
     "status": "completed"
    },
    "tags": []
   },
   "outputs": [],
   "source": [
    "# drop cols\n",
    "drop_list = ['Name', 'Ticket', 'Cabin', 'title']\n",
    "m_train_df.drop(columns=drop_list, inplace=True)\n",
    "m_test_df.drop(columns=drop_list, inplace=True)"
   ]
  },
  {
   "cell_type": "code",
   "execution_count": 53,
   "id": "328bfdf1",
   "metadata": {
    "execution": {
     "iopub.execute_input": "2022-04-13T14:49:53.593678Z",
     "iopub.status.busy": "2022-04-13T14:49:53.592685Z",
     "iopub.status.idle": "2022-04-13T14:49:53.610493Z",
     "shell.execute_reply": "2022-04-13T14:49:53.609838Z",
     "shell.execute_reply.started": "2022-04-13T02:47:39.843922Z"
    },
    "papermill": {
     "duration": 0.151154,
     "end_time": "2022-04-13T14:49:53.610644",
     "exception": false,
     "start_time": "2022-04-13T14:49:53.459490",
     "status": "completed"
    },
    "tags": []
   },
   "outputs": [],
   "source": [
    "# dummy variables\n",
    "dummy_list = ['Pclass', 'Sex', 'Embarked', 'age_bucket', 'role', 'ship_location']\n",
    "m_train_df = pd.get_dummies(m_train_df, columns=dummy_list)\n",
    "m_test_df = pd.get_dummies(m_test_df, columns=dummy_list)"
   ]
  },
  {
   "cell_type": "markdown",
   "id": "779976fb",
   "metadata": {
    "papermill": {
     "duration": 0.128538,
     "end_time": "2022-04-13T14:49:53.867195",
     "exception": false,
     "start_time": "2022-04-13T14:49:53.738657",
     "status": "completed"
    },
    "tags": []
   },
   "source": [
    "We need to confirm that our df have the same dimensions at this point"
   ]
  },
  {
   "cell_type": "code",
   "execution_count": 54,
   "id": "1a06b9c5",
   "metadata": {
    "execution": {
     "iopub.execute_input": "2022-04-13T14:49:54.130989Z",
     "iopub.status.busy": "2022-04-13T14:49:54.130284Z",
     "iopub.status.idle": "2022-04-13T14:49:54.133736Z",
     "shell.execute_reply": "2022-04-13T14:49:54.133053Z",
     "shell.execute_reply.started": "2022-04-13T02:47:39.870323Z"
    },
    "papermill": {
     "duration": 0.139404,
     "end_time": "2022-04-13T14:49:54.133889",
     "exception": false,
     "start_time": "2022-04-13T14:49:53.994485",
     "status": "completed"
    },
    "tags": []
   },
   "outputs": [
    {
     "name": "stdout",
     "output_type": "stream",
     "text": [
      "Missing columns in train: set()\n",
      "Missing columns in test: {'ship_location_T', 'Survived'}\n"
     ]
    }
   ],
   "source": [
    "train_set = set(m_train_df.columns)\n",
    "test_set = set(m_test_df.columns)\n",
    "\n",
    "train_diff_set = test_set - train_set\n",
    "test_diff_set = train_set - test_set\n",
    "print(f'Missing columns in train: {train_diff_set}')\n",
    "print(f'Missing columns in test: {test_diff_set}')"
   ]
  },
  {
   "cell_type": "markdown",
   "id": "f0816f52",
   "metadata": {
    "papermill": {
     "duration": 0.129417,
     "end_time": "2022-04-13T14:49:54.389744",
     "exception": false,
     "start_time": "2022-04-13T14:49:54.260327",
     "status": "completed"
    },
    "tags": []
   },
   "source": [
    "It appears our dummy_encoder missed 'ship_location_t' on the test set"
   ]
  },
  {
   "cell_type": "code",
   "execution_count": 55,
   "id": "86b94105",
   "metadata": {
    "execution": {
     "iopub.execute_input": "2022-04-13T14:49:54.648587Z",
     "iopub.status.busy": "2022-04-13T14:49:54.647576Z",
     "iopub.status.idle": "2022-04-13T14:49:54.650390Z",
     "shell.execute_reply": "2022-04-13T14:49:54.649782Z",
     "shell.execute_reply.started": "2022-04-13T02:47:39.879063Z"
    },
    "papermill": {
     "duration": 0.136113,
     "end_time": "2022-04-13T14:49:54.650563",
     "exception": false,
     "start_time": "2022-04-13T14:49:54.514450",
     "status": "completed"
    },
    "tags": []
   },
   "outputs": [],
   "source": [
    "m_test_df['ship_location_T'] = 0"
   ]
  },
  {
   "cell_type": "code",
   "execution_count": 56,
   "id": "bac5afae",
   "metadata": {
    "execution": {
     "iopub.execute_input": "2022-04-13T14:49:54.931742Z",
     "iopub.status.busy": "2022-04-13T14:49:54.931070Z",
     "iopub.status.idle": "2022-04-13T14:49:54.940063Z",
     "shell.execute_reply": "2022-04-13T14:49:54.940702Z",
     "shell.execute_reply.started": "2022-04-13T02:47:39.893699Z"
    },
    "papermill": {
     "duration": 0.137818,
     "end_time": "2022-04-13T14:49:54.940901",
     "exception": false,
     "start_time": "2022-04-13T14:49:54.803083",
     "status": "completed"
    },
    "tags": []
   },
   "outputs": [
    {
     "name": "stdout",
     "output_type": "stream",
     "text": [
      "Missing columns in train: set()\n",
      "Missing columns in test: {'Survived'}\n"
     ]
    }
   ],
   "source": [
    "train_set = set(m_train_df.columns)\n",
    "test_set = set(m_test_df.columns)\n",
    "\n",
    "train_diff_set = test_set - train_set\n",
    "test_diff_set = train_set - test_set\n",
    "print(f'Missing columns in train: {train_diff_set}')\n",
    "print(f'Missing columns in test: {test_diff_set}')"
   ]
  },
  {
   "cell_type": "code",
   "execution_count": 57,
   "id": "6f5a667a",
   "metadata": {
    "execution": {
     "iopub.execute_input": "2022-04-13T14:49:55.203006Z",
     "iopub.status.busy": "2022-04-13T14:49:55.198540Z",
     "iopub.status.idle": "2022-04-13T14:49:55.377815Z",
     "shell.execute_reply": "2022-04-13T14:49:55.377083Z",
     "shell.execute_reply.started": "2022-04-13T02:47:39.904712Z"
    },
    "papermill": {
     "duration": 0.312205,
     "end_time": "2022-04-13T14:49:55.377968",
     "exception": false,
     "start_time": "2022-04-13T14:49:55.065763",
     "status": "completed"
    },
    "tags": []
   },
   "outputs": [],
   "source": [
    "# standardize\n",
    "from sklearn.preprocessing import StandardScaler\n",
    "\n",
    "standardize_list = ['Age', 'SibSp', 'Parch', 'Fare', 'family_size']\n",
    "\n",
    "train_features = m_train_df[standardize_list]\n",
    "train_scaler = StandardScaler().fit(train_features.values)\n",
    "train_features = train_scaler.transform(train_features.values)\n",
    "\n",
    "m_train_df[standardize_list] = train_features\n",
    "\n",
    "test_features = m_test_df[standardize_list]\n",
    "test_scaler = StandardScaler().fit(test_features.values)\n",
    "test_features = test_scaler.transform(test_features.values)\n",
    "\n",
    "m_test_df[standardize_list] = test_features"
   ]
  },
  {
   "cell_type": "code",
   "execution_count": 58,
   "id": "aa5bd653",
   "metadata": {
    "execution": {
     "iopub.execute_input": "2022-04-13T14:49:55.640944Z",
     "iopub.status.busy": "2022-04-13T14:49:55.639237Z",
     "iopub.status.idle": "2022-04-13T14:49:55.654594Z",
     "shell.execute_reply": "2022-04-13T14:49:55.655062Z",
     "shell.execute_reply.started": "2022-04-13T02:47:40.217057Z"
    },
    "papermill": {
     "duration": 0.148842,
     "end_time": "2022-04-13T14:49:55.655256",
     "exception": false,
     "start_time": "2022-04-13T14:49:55.506414",
     "status": "completed"
    },
    "tags": []
   },
   "outputs": [
    {
     "name": "stdout",
     "output_type": "stream",
     "text": [
      "<class 'pandas.core.frame.DataFrame'>\n",
      "RangeIndex: 891 entries, 0 to 890\n",
      "Data columns (total 33 columns):\n",
      " #   Column                  Non-Null Count  Dtype  \n",
      "---  ------                  --------------  -----  \n",
      " 0   PassengerId             891 non-null    int64  \n",
      " 1   Survived                891 non-null    int64  \n",
      " 2   Age                     891 non-null    float64\n",
      " 3   SibSp                   891 non-null    float64\n",
      " 4   Parch                   891 non-null    float64\n",
      " 5   Fare                    891 non-null    float64\n",
      " 6   family_size             891 non-null    float64\n",
      " 7   travel_solo             891 non-null    int64  \n",
      " 8   Pclass_1                891 non-null    uint8  \n",
      " 9   Pclass_2                891 non-null    uint8  \n",
      " 10  Pclass_3                891 non-null    uint8  \n",
      " 11  Sex_female              891 non-null    uint8  \n",
      " 12  Sex_male                891 non-null    uint8  \n",
      " 13  Embarked_C              891 non-null    uint8  \n",
      " 14  Embarked_Q              891 non-null    uint8  \n",
      " 15  Embarked_S              891 non-null    uint8  \n",
      " 16  age_bucket_Adult        891 non-null    uint8  \n",
      " 17  age_bucket_Child        891 non-null    uint8  \n",
      " 18  age_bucket_Elderly      891 non-null    uint8  \n",
      " 19  age_bucket_Teen         891 non-null    uint8  \n",
      " 20  age_bucket_Young Adult  891 non-null    uint8  \n",
      " 21  role_average            891 non-null    uint8  \n",
      " 22  role_important          891 non-null    uint8  \n",
      " 23  role_officer            891 non-null    uint8  \n",
      " 24  ship_location_A         891 non-null    uint8  \n",
      " 25  ship_location_B         891 non-null    uint8  \n",
      " 26  ship_location_C         891 non-null    uint8  \n",
      " 27  ship_location_D         891 non-null    uint8  \n",
      " 28  ship_location_E         891 non-null    uint8  \n",
      " 29  ship_location_F         891 non-null    uint8  \n",
      " 30  ship_location_G         891 non-null    uint8  \n",
      " 31  ship_location_M         891 non-null    uint8  \n",
      " 32  ship_location_T         891 non-null    uint8  \n",
      "dtypes: float64(5), int64(3), uint8(25)\n",
      "memory usage: 77.6 KB\n"
     ]
    }
   ],
   "source": [
    "m_train_df.info()"
   ]
  },
  {
   "cell_type": "code",
   "execution_count": 59,
   "id": "51ba06d6",
   "metadata": {
    "execution": {
     "iopub.execute_input": "2022-04-13T14:49:55.911818Z",
     "iopub.status.busy": "2022-04-13T14:49:55.910826Z",
     "iopub.status.idle": "2022-04-13T14:49:55.925485Z",
     "shell.execute_reply": "2022-04-13T14:49:55.925974Z",
     "shell.execute_reply.started": "2022-04-13T02:47:40.233491Z"
    },
    "papermill": {
     "duration": 0.144664,
     "end_time": "2022-04-13T14:49:55.926162",
     "exception": false,
     "start_time": "2022-04-13T14:49:55.781498",
     "status": "completed"
    },
    "tags": []
   },
   "outputs": [
    {
     "name": "stdout",
     "output_type": "stream",
     "text": [
      "<class 'pandas.core.frame.DataFrame'>\n",
      "RangeIndex: 418 entries, 0 to 417\n",
      "Data columns (total 32 columns):\n",
      " #   Column                  Non-Null Count  Dtype  \n",
      "---  ------                  --------------  -----  \n",
      " 0   PassengerId             418 non-null    int64  \n",
      " 1   Age                     418 non-null    float64\n",
      " 2   SibSp                   418 non-null    float64\n",
      " 3   Parch                   418 non-null    float64\n",
      " 4   Fare                    418 non-null    float64\n",
      " 5   family_size             418 non-null    float64\n",
      " 6   travel_solo             418 non-null    int64  \n",
      " 7   Pclass_1                418 non-null    uint8  \n",
      " 8   Pclass_2                418 non-null    uint8  \n",
      " 9   Pclass_3                418 non-null    uint8  \n",
      " 10  Sex_female              418 non-null    uint8  \n",
      " 11  Sex_male                418 non-null    uint8  \n",
      " 12  Embarked_C              418 non-null    uint8  \n",
      " 13  Embarked_Q              418 non-null    uint8  \n",
      " 14  Embarked_S              418 non-null    uint8  \n",
      " 15  age_bucket_Adult        418 non-null    uint8  \n",
      " 16  age_bucket_Child        418 non-null    uint8  \n",
      " 17  age_bucket_Elderly      418 non-null    uint8  \n",
      " 18  age_bucket_Teen         418 non-null    uint8  \n",
      " 19  age_bucket_Young Adult  418 non-null    uint8  \n",
      " 20  role_average            418 non-null    uint8  \n",
      " 21  role_important          418 non-null    uint8  \n",
      " 22  role_officer            418 non-null    uint8  \n",
      " 23  ship_location_A         418 non-null    uint8  \n",
      " 24  ship_location_B         418 non-null    uint8  \n",
      " 25  ship_location_C         418 non-null    uint8  \n",
      " 26  ship_location_D         418 non-null    uint8  \n",
      " 27  ship_location_E         418 non-null    uint8  \n",
      " 28  ship_location_F         418 non-null    uint8  \n",
      " 29  ship_location_G         418 non-null    uint8  \n",
      " 30  ship_location_M         418 non-null    uint8  \n",
      " 31  ship_location_T         418 non-null    int64  \n",
      "dtypes: float64(5), int64(3), uint8(24)\n",
      "memory usage: 36.0 KB\n"
     ]
    }
   ],
   "source": [
    "m_test_df.info()"
   ]
  },
  {
   "cell_type": "markdown",
   "id": "24f42114",
   "metadata": {
    "papermill": {
     "duration": 0.12981,
     "end_time": "2022-04-13T14:49:56.185603",
     "exception": false,
     "start_time": "2022-04-13T14:49:56.055793",
     "status": "completed"
    },
    "tags": []
   },
   "source": [
    "\n"
   ]
  },
  {
   "cell_type": "code",
   "execution_count": 60,
   "id": "46757ed1",
   "metadata": {
    "execution": {
     "iopub.execute_input": "2022-04-13T14:49:56.450921Z",
     "iopub.status.busy": "2022-04-13T14:49:56.449922Z",
     "iopub.status.idle": "2022-04-13T14:49:56.452763Z",
     "shell.execute_reply": "2022-04-13T14:49:56.452091Z",
     "shell.execute_reply.started": "2022-04-13T02:47:40.25284Z"
    },
    "papermill": {
     "duration": 0.137854,
     "end_time": "2022-04-13T14:49:56.452914",
     "exception": false,
     "start_time": "2022-04-13T14:49:56.315060",
     "status": "completed"
    },
    "tags": []
   },
   "outputs": [],
   "source": [
    "# train test split on e_train_df\n",
    "# from sklearn.model_selection import train_test_split\n",
    "# m_train_df.drop(columns=['PassengerId'], inplace=True)\n",
    "# train, test = train_test_split(m_train_df, test_size=0.2, random_state=seed)\n",
    "# dependent_variable = 'Survived'\n",
    "\n",
    "# y_train = train[dependent_variable].copy()\n",
    "# x_train = train.drop([dependent_variable], axis=1)\n",
    "\n",
    "# y_test = test[dependent_variable].copy()\n",
    "# x_test = test.drop([dependent_variable], axis=1)"
   ]
  },
  {
   "cell_type": "code",
   "execution_count": 61,
   "id": "6325ea4d",
   "metadata": {
    "execution": {
     "iopub.execute_input": "2022-04-13T14:49:56.714827Z",
     "iopub.status.busy": "2022-04-13T14:49:56.714094Z",
     "iopub.status.idle": "2022-04-13T14:49:56.718761Z",
     "shell.execute_reply": "2022-04-13T14:49:56.719228Z",
     "shell.execute_reply.started": "2022-04-13T02:47:40.259314Z"
    },
    "papermill": {
     "duration": 0.136439,
     "end_time": "2022-04-13T14:49:56.719432",
     "exception": false,
     "start_time": "2022-04-13T14:49:56.582993",
     "status": "completed"
    },
    "tags": []
   },
   "outputs": [],
   "source": [
    "dependent_variable = 'Survived'\n",
    "m_train_df.drop(columns=['PassengerId'], inplace=True)\n",
    "y_train = m_train_df[dependent_variable].copy()\n",
    "x_train = m_train_df.drop(columns=[dependent_variable], axis=1).copy()"
   ]
  },
  {
   "cell_type": "code",
   "execution_count": 62,
   "id": "a9466c1c",
   "metadata": {
    "execution": {
     "iopub.execute_input": "2022-04-13T14:49:56.976203Z",
     "iopub.status.busy": "2022-04-13T14:49:56.975488Z",
     "iopub.status.idle": "2022-04-13T14:49:56.979097Z",
     "shell.execute_reply": "2022-04-13T14:49:56.979660Z",
     "shell.execute_reply.started": "2022-04-13T02:47:40.272706Z"
    },
    "papermill": {
     "duration": 0.136284,
     "end_time": "2022-04-13T14:49:56.979873",
     "exception": false,
     "start_time": "2022-04-13T14:49:56.843589",
     "status": "completed"
    },
    "tags": []
   },
   "outputs": [],
   "source": [
    "# # use random CV and lightgbm\n",
    "# from scipy import stats\n",
    "# from sklearn.model_selection import RandomizedSearchCV\n",
    "# from lightgbm import LGBMClassifier\n",
    "\n",
    "# param_distributions = {\n",
    "#     'n_estimators': stats.randint(100, 1000),\n",
    "#     'learning_rate': stats.uniform(0.01, 0.59),\n",
    "#     'subsample': stats.uniform(0.4, 0.6),\n",
    "#     'num_leaves': stats.randint(5, 100),\n",
    "#     'min_child_samples': stats.randint(100, 500),\n",
    "#     'max_depth': [4, 6, 8],\n",
    "#     'colsample_bytree': stats.uniform(0.5, 0.4),\n",
    "#     'min_child_weight': [1, 2, 3]\n",
    "# }\n",
    "\n",
    "# model = LGBMClassifier(random_state=seed)\n",
    "\n",
    "# search_model = RandomizedSearchCV(\n",
    "#             model,\n",
    "#             cv=10,\n",
    "#             n_iter = 5,\n",
    "#             scoring='f1',\n",
    "#             error_score = 0, \n",
    "#             n_jobs = 4\n",
    "#         )\n",
    "\n",
    "# fitted_model = search_model.fit(x_train, y_train)"
   ]
  },
  {
   "cell_type": "code",
   "execution_count": 63,
   "id": "a1454759",
   "metadata": {
    "execution": {
     "iopub.execute_input": "2022-04-13T14:49:57.239748Z",
     "iopub.status.busy": "2022-04-13T14:49:57.238978Z",
     "iopub.status.idle": "2022-04-13T14:49:57.257509Z",
     "shell.execute_reply": "2022-04-13T14:49:57.257984Z",
     "shell.execute_reply.started": "2022-04-13T02:47:40.283612Z"
    },
    "papermill": {
     "duration": 0.147841,
     "end_time": "2022-04-13T14:49:57.258195",
     "exception": false,
     "start_time": "2022-04-13T14:49:57.110354",
     "status": "completed"
    },
    "tags": []
   },
   "outputs": [
    {
     "data": {
      "text/html": [
       "<div>\n",
       "<style scoped>\n",
       "    .dataframe tbody tr th:only-of-type {\n",
       "        vertical-align: middle;\n",
       "    }\n",
       "\n",
       "    .dataframe tbody tr th {\n",
       "        vertical-align: top;\n",
       "    }\n",
       "\n",
       "    .dataframe thead th {\n",
       "        text-align: right;\n",
       "    }\n",
       "</style>\n",
       "<table border=\"1\" class=\"dataframe\">\n",
       "  <thead>\n",
       "    <tr style=\"text-align: right;\">\n",
       "      <th></th>\n",
       "      <th>Age</th>\n",
       "      <th>SibSp</th>\n",
       "      <th>Parch</th>\n",
       "      <th>Fare</th>\n",
       "      <th>family_size</th>\n",
       "      <th>travel_solo</th>\n",
       "      <th>Pclass_1</th>\n",
       "      <th>Pclass_2</th>\n",
       "      <th>Pclass_3</th>\n",
       "      <th>Sex_female</th>\n",
       "      <th>...</th>\n",
       "      <th>role_officer</th>\n",
       "      <th>ship_location_A</th>\n",
       "      <th>ship_location_B</th>\n",
       "      <th>ship_location_C</th>\n",
       "      <th>ship_location_D</th>\n",
       "      <th>ship_location_E</th>\n",
       "      <th>ship_location_F</th>\n",
       "      <th>ship_location_G</th>\n",
       "      <th>ship_location_M</th>\n",
       "      <th>ship_location_T</th>\n",
       "    </tr>\n",
       "  </thead>\n",
       "  <tbody>\n",
       "    <tr>\n",
       "      <th>0</th>\n",
       "      <td>-0.592481</td>\n",
       "      <td>0.432793</td>\n",
       "      <td>-0.473674</td>\n",
       "      <td>-0.502445</td>\n",
       "      <td>0.059160</td>\n",
       "      <td>0</td>\n",
       "      <td>0</td>\n",
       "      <td>0</td>\n",
       "      <td>1</td>\n",
       "      <td>0</td>\n",
       "      <td>...</td>\n",
       "      <td>0</td>\n",
       "      <td>0</td>\n",
       "      <td>0</td>\n",
       "      <td>0</td>\n",
       "      <td>0</td>\n",
       "      <td>0</td>\n",
       "      <td>0</td>\n",
       "      <td>0</td>\n",
       "      <td>1</td>\n",
       "      <td>0</td>\n",
       "    </tr>\n",
       "    <tr>\n",
       "      <th>1</th>\n",
       "      <td>0.638789</td>\n",
       "      <td>0.432793</td>\n",
       "      <td>-0.473674</td>\n",
       "      <td>0.786845</td>\n",
       "      <td>0.059160</td>\n",
       "      <td>0</td>\n",
       "      <td>1</td>\n",
       "      <td>0</td>\n",
       "      <td>0</td>\n",
       "      <td>1</td>\n",
       "      <td>...</td>\n",
       "      <td>0</td>\n",
       "      <td>0</td>\n",
       "      <td>0</td>\n",
       "      <td>1</td>\n",
       "      <td>0</td>\n",
       "      <td>0</td>\n",
       "      <td>0</td>\n",
       "      <td>0</td>\n",
       "      <td>0</td>\n",
       "      <td>0</td>\n",
       "    </tr>\n",
       "    <tr>\n",
       "      <th>2</th>\n",
       "      <td>-0.284663</td>\n",
       "      <td>-0.474545</td>\n",
       "      <td>-0.473674</td>\n",
       "      <td>-0.488854</td>\n",
       "      <td>-0.560975</td>\n",
       "      <td>1</td>\n",
       "      <td>0</td>\n",
       "      <td>0</td>\n",
       "      <td>1</td>\n",
       "      <td>1</td>\n",
       "      <td>...</td>\n",
       "      <td>0</td>\n",
       "      <td>0</td>\n",
       "      <td>0</td>\n",
       "      <td>0</td>\n",
       "      <td>0</td>\n",
       "      <td>0</td>\n",
       "      <td>0</td>\n",
       "      <td>0</td>\n",
       "      <td>1</td>\n",
       "      <td>0</td>\n",
       "    </tr>\n",
       "    <tr>\n",
       "      <th>3</th>\n",
       "      <td>0.407926</td>\n",
       "      <td>0.432793</td>\n",
       "      <td>-0.473674</td>\n",
       "      <td>0.420730</td>\n",
       "      <td>0.059160</td>\n",
       "      <td>0</td>\n",
       "      <td>1</td>\n",
       "      <td>0</td>\n",
       "      <td>0</td>\n",
       "      <td>1</td>\n",
       "      <td>...</td>\n",
       "      <td>0</td>\n",
       "      <td>0</td>\n",
       "      <td>0</td>\n",
       "      <td>1</td>\n",
       "      <td>0</td>\n",
       "      <td>0</td>\n",
       "      <td>0</td>\n",
       "      <td>0</td>\n",
       "      <td>0</td>\n",
       "      <td>0</td>\n",
       "    </tr>\n",
       "    <tr>\n",
       "      <th>4</th>\n",
       "      <td>0.407926</td>\n",
       "      <td>-0.474545</td>\n",
       "      <td>-0.473674</td>\n",
       "      <td>-0.486337</td>\n",
       "      <td>-0.560975</td>\n",
       "      <td>1</td>\n",
       "      <td>0</td>\n",
       "      <td>0</td>\n",
       "      <td>1</td>\n",
       "      <td>0</td>\n",
       "      <td>...</td>\n",
       "      <td>0</td>\n",
       "      <td>0</td>\n",
       "      <td>0</td>\n",
       "      <td>0</td>\n",
       "      <td>0</td>\n",
       "      <td>0</td>\n",
       "      <td>0</td>\n",
       "      <td>0</td>\n",
       "      <td>1</td>\n",
       "      <td>0</td>\n",
       "    </tr>\n",
       "  </tbody>\n",
       "</table>\n",
       "<p>5 rows × 31 columns</p>\n",
       "</div>"
      ],
      "text/plain": [
       "        Age     SibSp     Parch      Fare  family_size  travel_solo  Pclass_1  \\\n",
       "0 -0.592481  0.432793 -0.473674 -0.502445     0.059160            0         0   \n",
       "1  0.638789  0.432793 -0.473674  0.786845     0.059160            0         1   \n",
       "2 -0.284663 -0.474545 -0.473674 -0.488854    -0.560975            1         0   \n",
       "3  0.407926  0.432793 -0.473674  0.420730     0.059160            0         1   \n",
       "4  0.407926 -0.474545 -0.473674 -0.486337    -0.560975            1         0   \n",
       "\n",
       "   Pclass_2  Pclass_3  Sex_female  ...  role_officer  ship_location_A  \\\n",
       "0         0         1           0  ...             0                0   \n",
       "1         0         0           1  ...             0                0   \n",
       "2         0         1           1  ...             0                0   \n",
       "3         0         0           1  ...             0                0   \n",
       "4         0         1           0  ...             0                0   \n",
       "\n",
       "   ship_location_B  ship_location_C  ship_location_D  ship_location_E  \\\n",
       "0                0                0                0                0   \n",
       "1                0                1                0                0   \n",
       "2                0                0                0                0   \n",
       "3                0                1                0                0   \n",
       "4                0                0                0                0   \n",
       "\n",
       "   ship_location_F  ship_location_G  ship_location_M  ship_location_T  \n",
       "0                0                0                1                0  \n",
       "1                0                0                0                0  \n",
       "2                0                0                1                0  \n",
       "3                0                0                0                0  \n",
       "4                0                0                1                0  \n",
       "\n",
       "[5 rows x 31 columns]"
      ]
     },
     "execution_count": 63,
     "metadata": {},
     "output_type": "execute_result"
    }
   ],
   "source": [
    "x_train.head()"
   ]
  },
  {
   "cell_type": "code",
   "execution_count": 64,
   "id": "fce49679",
   "metadata": {
    "execution": {
     "iopub.execute_input": "2022-04-13T14:49:57.521648Z",
     "iopub.status.busy": "2022-04-13T14:49:57.520896Z",
     "iopub.status.idle": "2022-04-13T14:50:00.614904Z",
     "shell.execute_reply": "2022-04-13T14:50:00.613952Z",
     "shell.execute_reply.started": "2022-04-13T02:47:40.314139Z"
    },
    "papermill": {
     "duration": 3.224148,
     "end_time": "2022-04-13T14:50:00.615067",
     "exception": false,
     "start_time": "2022-04-13T14:49:57.390919",
     "status": "completed"
    },
    "tags": []
   },
   "outputs": [
    {
     "name": "stderr",
     "output_type": "stream",
     "text": [
      "/opt/conda/lib/python3.7/site-packages/sklearn/base.py:446: UserWarning: X does not have valid feature names, but RandomForestClassifier was fitted with feature names\n",
      "  \"X does not have valid feature names, but\"\n"
     ]
    }
   ],
   "source": [
    "# use random CV and xgboost\n",
    "from sklearn.model_selection import GridSearchCV\n",
    "from sklearn.ensemble import RandomForestClassifier\n",
    "\n",
    "model = RandomForestClassifier(criterion='gini', n_estimators=700,\n",
    "                             min_samples_split=10,min_samples_leaf=1,\n",
    "                             max_features='auto',oob_score=True,\n",
    "                             random_state=seed,n_jobs=-1)\n",
    "\n",
    "fitted_model = model.fit(x_train, y_train)"
   ]
  },
  {
   "cell_type": "code",
   "execution_count": 65,
   "id": "f56471a9",
   "metadata": {
    "execution": {
     "iopub.execute_input": "2022-04-13T14:50:00.884899Z",
     "iopub.status.busy": "2022-04-13T14:50:00.883378Z",
     "iopub.status.idle": "2022-04-13T14:50:00.887827Z",
     "shell.execute_reply": "2022-04-13T14:50:00.886708Z",
     "shell.execute_reply.started": "2022-04-13T02:47:40.490773Z"
    },
    "papermill": {
     "duration": 0.139641,
     "end_time": "2022-04-13T14:50:00.888043",
     "exception": false,
     "start_time": "2022-04-13T14:50:00.748402",
     "status": "completed"
    },
    "tags": []
   },
   "outputs": [],
   "source": [
    "# from sklearn.metrics import accuracy_score\n",
    "# pred_y_test = fitted_model.predict(x_test)\n",
    "\n",
    "# accuracy_score = round(accuracy_score(y_test, pred_y_test), 4)\n",
    "# print(f'Accuracy score: {accuracy_score}%')"
   ]
  },
  {
   "cell_type": "markdown",
   "id": "b6d3caeb",
   "metadata": {
    "papermill": {
     "duration": 0.127493,
     "end_time": "2022-04-13T14:50:01.146316",
     "exception": false,
     "start_time": "2022-04-13T14:50:01.018823",
     "status": "completed"
    },
    "tags": []
   },
   "source": [
    "---\n",
    "# Submission"
   ]
  },
  {
   "cell_type": "code",
   "execution_count": 66,
   "id": "ac2adf0d",
   "metadata": {
    "execution": {
     "iopub.execute_input": "2022-04-13T14:50:01.423866Z",
     "iopub.status.busy": "2022-04-13T14:50:01.423104Z",
     "iopub.status.idle": "2022-04-13T14:50:01.428468Z",
     "shell.execute_reply": "2022-04-13T14:50:01.427583Z",
     "shell.execute_reply.started": "2022-04-13T02:47:40.49786Z"
    },
    "papermill": {
     "duration": 0.151992,
     "end_time": "2022-04-13T14:50:01.428703",
     "exception": false,
     "start_time": "2022-04-13T14:50:01.276711",
     "status": "completed"
    },
    "tags": []
   },
   "outputs": [
    {
     "name": "stdout",
     "output_type": "stream",
     "text": [
      "<class 'pandas.core.frame.DataFrame'>\n",
      "RangeIndex: 418 entries, 0 to 417\n",
      "Data columns (total 32 columns):\n",
      " #   Column                  Non-Null Count  Dtype  \n",
      "---  ------                  --------------  -----  \n",
      " 0   PassengerId             418 non-null    int64  \n",
      " 1   Age                     418 non-null    float64\n",
      " 2   SibSp                   418 non-null    float64\n",
      " 3   Parch                   418 non-null    float64\n",
      " 4   Fare                    418 non-null    float64\n",
      " 5   family_size             418 non-null    float64\n",
      " 6   travel_solo             418 non-null    int64  \n",
      " 7   Pclass_1                418 non-null    uint8  \n",
      " 8   Pclass_2                418 non-null    uint8  \n",
      " 9   Pclass_3                418 non-null    uint8  \n",
      " 10  Sex_female              418 non-null    uint8  \n",
      " 11  Sex_male                418 non-null    uint8  \n",
      " 12  Embarked_C              418 non-null    uint8  \n",
      " 13  Embarked_Q              418 non-null    uint8  \n",
      " 14  Embarked_S              418 non-null    uint8  \n",
      " 15  age_bucket_Adult        418 non-null    uint8  \n",
      " 16  age_bucket_Child        418 non-null    uint8  \n",
      " 17  age_bucket_Elderly      418 non-null    uint8  \n",
      " 18  age_bucket_Teen         418 non-null    uint8  \n",
      " 19  age_bucket_Young Adult  418 non-null    uint8  \n",
      " 20  role_average            418 non-null    uint8  \n",
      " 21  role_important          418 non-null    uint8  \n",
      " 22  role_officer            418 non-null    uint8  \n",
      " 23  ship_location_A         418 non-null    uint8  \n",
      " 24  ship_location_B         418 non-null    uint8  \n",
      " 25  ship_location_C         418 non-null    uint8  \n",
      " 26  ship_location_D         418 non-null    uint8  \n",
      " 27  ship_location_E         418 non-null    uint8  \n",
      " 28  ship_location_F         418 non-null    uint8  \n",
      " 29  ship_location_G         418 non-null    uint8  \n",
      " 30  ship_location_M         418 non-null    uint8  \n",
      " 31  ship_location_T         418 non-null    int64  \n",
      "dtypes: float64(5), int64(3), uint8(24)\n",
      "memory usage: 36.0 KB\n"
     ]
    }
   ],
   "source": [
    "m_test_df.info()"
   ]
  },
  {
   "cell_type": "code",
   "execution_count": 67,
   "id": "4782a917",
   "metadata": {
    "execution": {
     "iopub.execute_input": "2022-04-13T14:50:01.693982Z",
     "iopub.status.busy": "2022-04-13T14:50:01.693210Z",
     "iopub.status.idle": "2022-04-13T14:50:02.002091Z",
     "shell.execute_reply": "2022-04-13T14:50:02.000989Z",
     "shell.execute_reply.started": "2022-04-13T02:47:40.526067Z"
    },
    "papermill": {
     "duration": 0.446802,
     "end_time": "2022-04-13T14:50:02.002271",
     "exception": false,
     "start_time": "2022-04-13T14:50:01.555469",
     "status": "completed"
    },
    "tags": []
   },
   "outputs": [],
   "source": [
    "# construct final\n",
    "submission_df = pd.DataFrame()\n",
    "submission_df['PassengerId'] = m_test_df['PassengerId'].copy()\n",
    "m_test_df.drop(columns=['PassengerId'], inplace=True)\n",
    "submission_df['Survived'] = fitted_model.predict(m_test_df)"
   ]
  },
  {
   "cell_type": "code",
   "execution_count": 68,
   "id": "97ae0c81",
   "metadata": {
    "execution": {
     "iopub.execute_input": "2022-04-13T14:50:02.275893Z",
     "iopub.status.busy": "2022-04-13T14:50:02.275189Z",
     "iopub.status.idle": "2022-04-13T14:50:02.283542Z",
     "shell.execute_reply": "2022-04-13T14:50:02.282930Z",
     "shell.execute_reply.started": "2022-04-13T02:47:40.543626Z"
    },
    "papermill": {
     "duration": 0.147267,
     "end_time": "2022-04-13T14:50:02.283695",
     "exception": false,
     "start_time": "2022-04-13T14:50:02.136428",
     "status": "completed"
    },
    "tags": []
   },
   "outputs": [
    {
     "data": {
      "text/html": [
       "<div>\n",
       "<style scoped>\n",
       "    .dataframe tbody tr th:only-of-type {\n",
       "        vertical-align: middle;\n",
       "    }\n",
       "\n",
       "    .dataframe tbody tr th {\n",
       "        vertical-align: top;\n",
       "    }\n",
       "\n",
       "    .dataframe thead th {\n",
       "        text-align: right;\n",
       "    }\n",
       "</style>\n",
       "<table border=\"1\" class=\"dataframe\">\n",
       "  <thead>\n",
       "    <tr style=\"text-align: right;\">\n",
       "      <th></th>\n",
       "      <th>PassengerId</th>\n",
       "      <th>Survived</th>\n",
       "    </tr>\n",
       "  </thead>\n",
       "  <tbody>\n",
       "    <tr>\n",
       "      <th>0</th>\n",
       "      <td>892</td>\n",
       "      <td>0</td>\n",
       "    </tr>\n",
       "    <tr>\n",
       "      <th>1</th>\n",
       "      <td>893</td>\n",
       "      <td>0</td>\n",
       "    </tr>\n",
       "    <tr>\n",
       "      <th>2</th>\n",
       "      <td>894</td>\n",
       "      <td>0</td>\n",
       "    </tr>\n",
       "    <tr>\n",
       "      <th>3</th>\n",
       "      <td>895</td>\n",
       "      <td>0</td>\n",
       "    </tr>\n",
       "    <tr>\n",
       "      <th>4</th>\n",
       "      <td>896</td>\n",
       "      <td>0</td>\n",
       "    </tr>\n",
       "  </tbody>\n",
       "</table>\n",
       "</div>"
      ],
      "text/plain": [
       "   PassengerId  Survived\n",
       "0          892         0\n",
       "1          893         0\n",
       "2          894         0\n",
       "3          895         0\n",
       "4          896         0"
      ]
     },
     "execution_count": 68,
     "metadata": {},
     "output_type": "execute_result"
    }
   ],
   "source": [
    "submission_df.head()"
   ]
  },
  {
   "cell_type": "code",
   "execution_count": 69,
   "id": "39d0ca96",
   "metadata": {
    "execution": {
     "iopub.execute_input": "2022-04-13T14:50:02.553506Z",
     "iopub.status.busy": "2022-04-13T14:50:02.552407Z",
     "iopub.status.idle": "2022-04-13T14:50:02.561604Z",
     "shell.execute_reply": "2022-04-13T14:50:02.560878Z",
     "shell.execute_reply.started": "2022-04-13T02:47:40.557925Z"
    },
    "papermill": {
     "duration": 0.146747,
     "end_time": "2022-04-13T14:50:02.561781",
     "exception": false,
     "start_time": "2022-04-13T14:50:02.415034",
     "status": "completed"
    },
    "tags": []
   },
   "outputs": [
    {
     "name": "stdout",
     "output_type": "stream",
     "text": [
      "Your submission was successfully saved!\n"
     ]
    }
   ],
   "source": [
    "submission_df.to_csv('submission.csv', index=False)\n",
    "print(\"Your submission was successfully saved!\")"
   ]
  },
  {
   "cell_type": "code",
   "execution_count": null,
   "id": "dd5e8247",
   "metadata": {
    "papermill": {
     "duration": 0.128376,
     "end_time": "2022-04-13T14:50:02.818429",
     "exception": false,
     "start_time": "2022-04-13T14:50:02.690053",
     "status": "completed"
    },
    "tags": []
   },
   "outputs": [],
   "source": []
  }
 ],
 "metadata": {
  "kernelspec": {
   "display_name": "Python 3",
   "language": "python",
   "name": "python3"
  },
  "language_info": {
   "codemirror_mode": {
    "name": "ipython",
    "version": 3
   },
   "file_extension": ".py",
   "mimetype": "text/x-python",
   "name": "python",
   "nbconvert_exporter": "python",
   "pygments_lexer": "ipython3",
   "version": "3.7.12"
  },
  "papermill": {
   "default_parameters": {},
   "duration": 51.738511,
   "end_time": "2022-04-13T14:50:03.960460",
   "environment_variables": {},
   "exception": null,
   "input_path": "__notebook__.ipynb",
   "output_path": "__notebook__.ipynb",
   "parameters": {},
   "start_time": "2022-04-13T14:49:12.221949",
   "version": "2.3.3"
  }
 },
 "nbformat": 4,
 "nbformat_minor": 5
}
