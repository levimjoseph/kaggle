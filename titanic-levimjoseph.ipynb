{
 "cells": [
  {
   "cell_type": "markdown",
   "id": "bdc170dc",
   "metadata": {
    "papermill": {
     "duration": 0.022894,
     "end_time": "2022-04-12T15:05:06.629673",
     "exception": false,
     "start_time": "2022-04-12T15:05:06.606779",
     "status": "completed"
    },
    "tags": []
   },
   "source": [
    "# Overview"
   ]
  },
  {
   "cell_type": "markdown",
   "id": "37e1dc87",
   "metadata": {
    "papermill": {
     "duration": 0.021601,
     "end_time": "2022-04-12T15:05:06.673248",
     "exception": false,
     "start_time": "2022-04-12T15:05:06.651647",
     "status": "completed"
    },
    "tags": []
   },
   "source": [
    " This is my first time participating in a Kaggle. I have used Kaggle competitions as learning resources in the past, and am now determined to become a competitor myself. Please see my [blog post](https://medium.com/@levimjoseph/getting-started-with-kaggle-competitions-63bee65fb31d) on the matter.  \n",
    "\n",
    "Much has been written about the Titanic competition on Kaggle. There are several wonderful notebook write ups, such as Alexis Cook's [Titanic Tutorial](https://www.kaggle.com/alexisbcook/titanic-tutorial). Therefore, I will not belabor my introduction.  \n",
    "\n",
    "That said, the Titanic Competition is a classification problem where we are tasked with predicting whether or not a passenger survived the ship's sinking."
   ]
  },
  {
   "cell_type": "markdown",
   "id": "738bc8d3",
   "metadata": {
    "papermill": {
     "duration": 0.021148,
     "end_time": "2022-04-12T15:05:06.716001",
     "exception": false,
     "start_time": "2022-04-12T15:05:06.694853",
     "status": "completed"
    },
    "tags": []
   },
   "source": [
    "# Setup"
   ]
  },
  {
   "cell_type": "code",
   "execution_count": 1,
   "id": "6f42b501",
   "metadata": {
    "execution": {
     "iopub.execute_input": "2022-04-12T15:05:06.762619Z",
     "iopub.status.busy": "2022-04-12T15:05:06.761606Z",
     "iopub.status.idle": "2022-04-12T15:05:07.809192Z",
     "shell.execute_reply": "2022-04-12T15:05:07.808507Z",
     "shell.execute_reply.started": "2022-04-12T14:41:16.378587Z"
    },
    "papermill": {
     "duration": 1.071906,
     "end_time": "2022-04-12T15:05:07.809390",
     "exception": false,
     "start_time": "2022-04-12T15:05:06.737484",
     "status": "completed"
    },
    "tags": []
   },
   "outputs": [],
   "source": [
    "# initial imports\n",
    "import numpy as np\n",
    "import pandas as pd\n",
    "import seaborn as sns\n",
    "\n",
    "seed = 42"
   ]
  },
  {
   "cell_type": "code",
   "execution_count": 2,
   "id": "1cefb261",
   "metadata": {
    "execution": {
     "iopub.execute_input": "2022-04-12T15:05:07.858488Z",
     "iopub.status.busy": "2022-04-12T15:05:07.857464Z",
     "iopub.status.idle": "2022-04-12T15:05:07.884229Z",
     "shell.execute_reply": "2022-04-12T15:05:07.884712Z",
     "shell.execute_reply.started": "2022-04-12T14:41:18.906713Z"
    },
    "papermill": {
     "duration": 0.052647,
     "end_time": "2022-04-12T15:05:07.884881",
     "exception": false,
     "start_time": "2022-04-12T15:05:07.832234",
     "status": "completed"
    },
    "tags": []
   },
   "outputs": [],
   "source": [
    "# import train and test set\n",
    "train_df = pd.read_csv('../input/titanic/train.csv')\n",
    "test_df = pd.read_csv('../input/titanic/test.csv')"
   ]
  },
  {
   "cell_type": "code",
   "execution_count": 3,
   "id": "2454ccce",
   "metadata": {
    "execution": {
     "iopub.execute_input": "2022-04-12T15:05:07.933636Z",
     "iopub.status.busy": "2022-04-12T15:05:07.932737Z",
     "iopub.status.idle": "2022-04-12T15:05:07.954713Z",
     "shell.execute_reply": "2022-04-12T15:05:07.955209Z",
     "shell.execute_reply.started": "2022-04-12T14:41:20.412925Z"
    },
    "papermill": {
     "duration": 0.047836,
     "end_time": "2022-04-12T15:05:07.955396",
     "exception": false,
     "start_time": "2022-04-12T15:05:07.907560",
     "status": "completed"
    },
    "tags": []
   },
   "outputs": [
    {
     "data": {
      "text/html": [
       "<div>\n",
       "<style scoped>\n",
       "    .dataframe tbody tr th:only-of-type {\n",
       "        vertical-align: middle;\n",
       "    }\n",
       "\n",
       "    .dataframe tbody tr th {\n",
       "        vertical-align: top;\n",
       "    }\n",
       "\n",
       "    .dataframe thead th {\n",
       "        text-align: right;\n",
       "    }\n",
       "</style>\n",
       "<table border=\"1\" class=\"dataframe\">\n",
       "  <thead>\n",
       "    <tr style=\"text-align: right;\">\n",
       "      <th></th>\n",
       "      <th>PassengerId</th>\n",
       "      <th>Survived</th>\n",
       "      <th>Pclass</th>\n",
       "      <th>Name</th>\n",
       "      <th>Sex</th>\n",
       "      <th>Age</th>\n",
       "      <th>SibSp</th>\n",
       "      <th>Parch</th>\n",
       "      <th>Ticket</th>\n",
       "      <th>Fare</th>\n",
       "      <th>Cabin</th>\n",
       "      <th>Embarked</th>\n",
       "    </tr>\n",
       "  </thead>\n",
       "  <tbody>\n",
       "    <tr>\n",
       "      <th>0</th>\n",
       "      <td>1</td>\n",
       "      <td>0</td>\n",
       "      <td>3</td>\n",
       "      <td>Braund, Mr. Owen Harris</td>\n",
       "      <td>male</td>\n",
       "      <td>22.0</td>\n",
       "      <td>1</td>\n",
       "      <td>0</td>\n",
       "      <td>A/5 21171</td>\n",
       "      <td>7.2500</td>\n",
       "      <td>NaN</td>\n",
       "      <td>S</td>\n",
       "    </tr>\n",
       "    <tr>\n",
       "      <th>1</th>\n",
       "      <td>2</td>\n",
       "      <td>1</td>\n",
       "      <td>1</td>\n",
       "      <td>Cumings, Mrs. John Bradley (Florence Briggs Th...</td>\n",
       "      <td>female</td>\n",
       "      <td>38.0</td>\n",
       "      <td>1</td>\n",
       "      <td>0</td>\n",
       "      <td>PC 17599</td>\n",
       "      <td>71.2833</td>\n",
       "      <td>C85</td>\n",
       "      <td>C</td>\n",
       "    </tr>\n",
       "    <tr>\n",
       "      <th>2</th>\n",
       "      <td>3</td>\n",
       "      <td>1</td>\n",
       "      <td>3</td>\n",
       "      <td>Heikkinen, Miss. Laina</td>\n",
       "      <td>female</td>\n",
       "      <td>26.0</td>\n",
       "      <td>0</td>\n",
       "      <td>0</td>\n",
       "      <td>STON/O2. 3101282</td>\n",
       "      <td>7.9250</td>\n",
       "      <td>NaN</td>\n",
       "      <td>S</td>\n",
       "    </tr>\n",
       "    <tr>\n",
       "      <th>3</th>\n",
       "      <td>4</td>\n",
       "      <td>1</td>\n",
       "      <td>1</td>\n",
       "      <td>Futrelle, Mrs. Jacques Heath (Lily May Peel)</td>\n",
       "      <td>female</td>\n",
       "      <td>35.0</td>\n",
       "      <td>1</td>\n",
       "      <td>0</td>\n",
       "      <td>113803</td>\n",
       "      <td>53.1000</td>\n",
       "      <td>C123</td>\n",
       "      <td>S</td>\n",
       "    </tr>\n",
       "    <tr>\n",
       "      <th>4</th>\n",
       "      <td>5</td>\n",
       "      <td>0</td>\n",
       "      <td>3</td>\n",
       "      <td>Allen, Mr. William Henry</td>\n",
       "      <td>male</td>\n",
       "      <td>35.0</td>\n",
       "      <td>0</td>\n",
       "      <td>0</td>\n",
       "      <td>373450</td>\n",
       "      <td>8.0500</td>\n",
       "      <td>NaN</td>\n",
       "      <td>S</td>\n",
       "    </tr>\n",
       "  </tbody>\n",
       "</table>\n",
       "</div>"
      ],
      "text/plain": [
       "   PassengerId  Survived  Pclass  \\\n",
       "0            1         0       3   \n",
       "1            2         1       1   \n",
       "2            3         1       3   \n",
       "3            4         1       1   \n",
       "4            5         0       3   \n",
       "\n",
       "                                                Name     Sex   Age  SibSp  \\\n",
       "0                            Braund, Mr. Owen Harris    male  22.0      1   \n",
       "1  Cumings, Mrs. John Bradley (Florence Briggs Th...  female  38.0      1   \n",
       "2                             Heikkinen, Miss. Laina  female  26.0      0   \n",
       "3       Futrelle, Mrs. Jacques Heath (Lily May Peel)  female  35.0      1   \n",
       "4                           Allen, Mr. William Henry    male  35.0      0   \n",
       "\n",
       "   Parch            Ticket     Fare Cabin Embarked  \n",
       "0      0         A/5 21171   7.2500   NaN        S  \n",
       "1      0          PC 17599  71.2833   C85        C  \n",
       "2      0  STON/O2. 3101282   7.9250   NaN        S  \n",
       "3      0            113803  53.1000  C123        S  \n",
       "4      0            373450   8.0500   NaN        S  "
      ]
     },
     "execution_count": 3,
     "metadata": {},
     "output_type": "execute_result"
    }
   ],
   "source": [
    "# confirm train_df\n",
    "train_df.head()"
   ]
  },
  {
   "cell_type": "code",
   "execution_count": 4,
   "id": "bbbd86a3",
   "metadata": {
    "execution": {
     "iopub.execute_input": "2022-04-12T15:05:08.007797Z",
     "iopub.status.busy": "2022-04-12T15:05:08.006831Z",
     "iopub.status.idle": "2022-04-12T15:05:08.019047Z",
     "shell.execute_reply": "2022-04-12T15:05:08.019513Z",
     "shell.execute_reply.started": "2022-04-12T14:41:22.934249Z"
    },
    "papermill": {
     "duration": 0.041587,
     "end_time": "2022-04-12T15:05:08.019681",
     "exception": false,
     "start_time": "2022-04-12T15:05:07.978094",
     "status": "completed"
    },
    "tags": []
   },
   "outputs": [
    {
     "data": {
      "text/html": [
       "<div>\n",
       "<style scoped>\n",
       "    .dataframe tbody tr th:only-of-type {\n",
       "        vertical-align: middle;\n",
       "    }\n",
       "\n",
       "    .dataframe tbody tr th {\n",
       "        vertical-align: top;\n",
       "    }\n",
       "\n",
       "    .dataframe thead th {\n",
       "        text-align: right;\n",
       "    }\n",
       "</style>\n",
       "<table border=\"1\" class=\"dataframe\">\n",
       "  <thead>\n",
       "    <tr style=\"text-align: right;\">\n",
       "      <th></th>\n",
       "      <th>PassengerId</th>\n",
       "      <th>Pclass</th>\n",
       "      <th>Name</th>\n",
       "      <th>Sex</th>\n",
       "      <th>Age</th>\n",
       "      <th>SibSp</th>\n",
       "      <th>Parch</th>\n",
       "      <th>Ticket</th>\n",
       "      <th>Fare</th>\n",
       "      <th>Cabin</th>\n",
       "      <th>Embarked</th>\n",
       "    </tr>\n",
       "  </thead>\n",
       "  <tbody>\n",
       "    <tr>\n",
       "      <th>0</th>\n",
       "      <td>892</td>\n",
       "      <td>3</td>\n",
       "      <td>Kelly, Mr. James</td>\n",
       "      <td>male</td>\n",
       "      <td>34.5</td>\n",
       "      <td>0</td>\n",
       "      <td>0</td>\n",
       "      <td>330911</td>\n",
       "      <td>7.8292</td>\n",
       "      <td>NaN</td>\n",
       "      <td>Q</td>\n",
       "    </tr>\n",
       "    <tr>\n",
       "      <th>1</th>\n",
       "      <td>893</td>\n",
       "      <td>3</td>\n",
       "      <td>Wilkes, Mrs. James (Ellen Needs)</td>\n",
       "      <td>female</td>\n",
       "      <td>47.0</td>\n",
       "      <td>1</td>\n",
       "      <td>0</td>\n",
       "      <td>363272</td>\n",
       "      <td>7.0000</td>\n",
       "      <td>NaN</td>\n",
       "      <td>S</td>\n",
       "    </tr>\n",
       "    <tr>\n",
       "      <th>2</th>\n",
       "      <td>894</td>\n",
       "      <td>2</td>\n",
       "      <td>Myles, Mr. Thomas Francis</td>\n",
       "      <td>male</td>\n",
       "      <td>62.0</td>\n",
       "      <td>0</td>\n",
       "      <td>0</td>\n",
       "      <td>240276</td>\n",
       "      <td>9.6875</td>\n",
       "      <td>NaN</td>\n",
       "      <td>Q</td>\n",
       "    </tr>\n",
       "    <tr>\n",
       "      <th>3</th>\n",
       "      <td>895</td>\n",
       "      <td>3</td>\n",
       "      <td>Wirz, Mr. Albert</td>\n",
       "      <td>male</td>\n",
       "      <td>27.0</td>\n",
       "      <td>0</td>\n",
       "      <td>0</td>\n",
       "      <td>315154</td>\n",
       "      <td>8.6625</td>\n",
       "      <td>NaN</td>\n",
       "      <td>S</td>\n",
       "    </tr>\n",
       "    <tr>\n",
       "      <th>4</th>\n",
       "      <td>896</td>\n",
       "      <td>3</td>\n",
       "      <td>Hirvonen, Mrs. Alexander (Helga E Lindqvist)</td>\n",
       "      <td>female</td>\n",
       "      <td>22.0</td>\n",
       "      <td>1</td>\n",
       "      <td>1</td>\n",
       "      <td>3101298</td>\n",
       "      <td>12.2875</td>\n",
       "      <td>NaN</td>\n",
       "      <td>S</td>\n",
       "    </tr>\n",
       "  </tbody>\n",
       "</table>\n",
       "</div>"
      ],
      "text/plain": [
       "   PassengerId  Pclass                                          Name     Sex  \\\n",
       "0          892       3                              Kelly, Mr. James    male   \n",
       "1          893       3              Wilkes, Mrs. James (Ellen Needs)  female   \n",
       "2          894       2                     Myles, Mr. Thomas Francis    male   \n",
       "3          895       3                              Wirz, Mr. Albert    male   \n",
       "4          896       3  Hirvonen, Mrs. Alexander (Helga E Lindqvist)  female   \n",
       "\n",
       "    Age  SibSp  Parch   Ticket     Fare Cabin Embarked  \n",
       "0  34.5      0      0   330911   7.8292   NaN        Q  \n",
       "1  47.0      1      0   363272   7.0000   NaN        S  \n",
       "2  62.0      0      0   240276   9.6875   NaN        Q  \n",
       "3  27.0      0      0   315154   8.6625   NaN        S  \n",
       "4  22.0      1      1  3101298  12.2875   NaN        S  "
      ]
     },
     "execution_count": 4,
     "metadata": {},
     "output_type": "execute_result"
    }
   ],
   "source": [
    "# confirm test_df\n",
    "test_df.head()"
   ]
  },
  {
   "cell_type": "markdown",
   "id": "27f02516",
   "metadata": {
    "papermill": {
     "duration": 0.023184,
     "end_time": "2022-04-12T15:05:08.065631",
     "exception": false,
     "start_time": "2022-04-12T15:05:08.042447",
     "status": "completed"
    },
    "tags": []
   },
   "source": [
    "---\n",
    "# EDA"
   ]
  },
  {
   "cell_type": "code",
   "execution_count": 5,
   "id": "ce89e1b7",
   "metadata": {
    "execution": {
     "iopub.execute_input": "2022-04-12T15:05:08.114558Z",
     "iopub.status.busy": "2022-04-12T15:05:08.113682Z",
     "iopub.status.idle": "2022-04-12T15:05:08.137263Z",
     "shell.execute_reply": "2022-04-12T15:05:08.137689Z",
     "shell.execute_reply.started": "2022-04-12T14:41:25.608265Z"
    },
    "papermill": {
     "duration": 0.049515,
     "end_time": "2022-04-12T15:05:08.137857",
     "exception": false,
     "start_time": "2022-04-12T15:05:08.088342",
     "status": "completed"
    },
    "tags": []
   },
   "outputs": [
    {
     "name": "stdout",
     "output_type": "stream",
     "text": [
      "<class 'pandas.core.frame.DataFrame'>\n",
      "RangeIndex: 891 entries, 0 to 890\n",
      "Data columns (total 12 columns):\n",
      " #   Column       Non-Null Count  Dtype  \n",
      "---  ------       --------------  -----  \n",
      " 0   PassengerId  891 non-null    int64  \n",
      " 1   Survived     891 non-null    int64  \n",
      " 2   Pclass       891 non-null    int64  \n",
      " 3   Name         891 non-null    object \n",
      " 4   Sex          891 non-null    object \n",
      " 5   Age          714 non-null    float64\n",
      " 6   SibSp        891 non-null    int64  \n",
      " 7   Parch        891 non-null    int64  \n",
      " 8   Ticket       891 non-null    object \n",
      " 9   Fare         891 non-null    float64\n",
      " 10  Cabin        204 non-null    object \n",
      " 11  Embarked     889 non-null    object \n",
      "dtypes: float64(2), int64(5), object(5)\n",
      "memory usage: 83.7+ KB\n"
     ]
    }
   ],
   "source": [
    "# get basic info on the train_df\n",
    "train_df.info()"
   ]
  },
  {
   "cell_type": "code",
   "execution_count": 6,
   "id": "7080e5d3",
   "metadata": {
    "execution": {
     "iopub.execute_input": "2022-04-12T15:05:08.187636Z",
     "iopub.status.busy": "2022-04-12T15:05:08.187104Z",
     "iopub.status.idle": "2022-04-12T15:05:08.196812Z",
     "shell.execute_reply": "2022-04-12T15:05:08.197249Z",
     "shell.execute_reply.started": "2022-04-12T14:41:27.376311Z"
    },
    "papermill": {
     "duration": 0.03616,
     "end_time": "2022-04-12T15:05:08.197438",
     "exception": false,
     "start_time": "2022-04-12T15:05:08.161278",
     "status": "completed"
    },
    "tags": []
   },
   "outputs": [
    {
     "name": "stdout",
     "output_type": "stream",
     "text": [
      "<class 'pandas.core.frame.DataFrame'>\n",
      "RangeIndex: 418 entries, 0 to 417\n",
      "Data columns (total 11 columns):\n",
      " #   Column       Non-Null Count  Dtype  \n",
      "---  ------       --------------  -----  \n",
      " 0   PassengerId  418 non-null    int64  \n",
      " 1   Pclass       418 non-null    int64  \n",
      " 2   Name         418 non-null    object \n",
      " 3   Sex          418 non-null    object \n",
      " 4   Age          332 non-null    float64\n",
      " 5   SibSp        418 non-null    int64  \n",
      " 6   Parch        418 non-null    int64  \n",
      " 7   Ticket       418 non-null    object \n",
      " 8   Fare         417 non-null    float64\n",
      " 9   Cabin        91 non-null     object \n",
      " 10  Embarked     418 non-null    object \n",
      "dtypes: float64(2), int64(4), object(5)\n",
      "memory usage: 36.0+ KB\n"
     ]
    }
   ],
   "source": [
    "# get basic info on the test_df\n",
    "test_df.info()"
   ]
  },
  {
   "cell_type": "code",
   "execution_count": 7,
   "id": "bf83c036",
   "metadata": {
    "execution": {
     "iopub.execute_input": "2022-04-12T15:05:08.248050Z",
     "iopub.status.busy": "2022-04-12T15:05:08.247472Z",
     "iopub.status.idle": "2022-04-12T15:05:08.251839Z",
     "shell.execute_reply": "2022-04-12T15:05:08.252363Z",
     "shell.execute_reply.started": "2022-04-12T14:41:29.375578Z"
    },
    "papermill": {
     "duration": 0.031281,
     "end_time": "2022-04-12T15:05:08.252519",
     "exception": false,
     "start_time": "2022-04-12T15:05:08.221238",
     "status": "completed"
    },
    "tags": []
   },
   "outputs": [
    {
     "name": "stdout",
     "output_type": "stream",
     "text": [
      "Percentage of data in test set: 31.93%\n"
     ]
    }
   ],
   "source": [
    "# percentage of test set to overall set\n",
    "test_perc = round((len(test_df.index) / (len(train_df.index) + len(test_df.index)) * 100),2)\n",
    "print(f'Percentage of data in test set: {test_perc}%')"
   ]
  },
  {
   "cell_type": "markdown",
   "id": "24b4c02f",
   "metadata": {
    "papermill": {
     "duration": 0.02468,
     "end_time": "2022-04-12T15:05:08.301083",
     "exception": false,
     "start_time": "2022-04-12T15:05:08.276403",
     "status": "completed"
    },
    "tags": []
   },
   "source": [
    "We see that the **train_df** has 891 rows and 11 columns. 10 of these columns will become *features*, while 1 (Survived) will become the *dependent variable*.\n",
    "\n",
    "We see that the **test_df** has 418 rows and 10 columns. 31.93% of our overall data is in the test set.\n",
    "\n",
    "**Data Dictionary:**\n",
    "* PassengerId - int. Key.\n",
    "* Survived - int. Survival. 0 = No, 1 = Yes. Boolean.\n",
    "* Pclass - int. Ticket class.\n",
    "* Name - str. Name of passenger.\n",
    "* Sex - str. Sex of passenger.\n",
    "* Age - float. Age of passenger. If age is estimated, takes xx.5. Has nulls.\n",
    "* SibSp - int. # of siblings/spouses on board. \n",
    "* Parch - int. # of parents/ children aboard the titanic.\n",
    "* Ticket - str. Ticket number.\n",
    "* Fare - float. Fare paid by passenger. Has nulls.\n",
    "* Cabin - str. Cabin of passenger. Has nulls.\n",
    "* Embarked - str. Port of embarkation. C = Cherbourg, Q = Queenstown, S = Southampton. Has nulls.\n",
    "\n",
    "**Initial Hypotheses:**\n",
    "* Young children will survive\n",
    "* Young women will survive.\n",
    "* Rich people will survive.\n",
    "* Location on ship matters.\n",
    "* Officers will not survive."
   ]
  },
  {
   "cell_type": "code",
   "execution_count": 8,
   "id": "e2e39427",
   "metadata": {
    "execution": {
     "iopub.execute_input": "2022-04-12T15:05:08.351690Z",
     "iopub.status.busy": "2022-04-12T15:05:08.351125Z",
     "iopub.status.idle": "2022-04-12T15:05:08.608485Z",
     "shell.execute_reply": "2022-04-12T15:05:08.607739Z",
     "shell.execute_reply.started": "2022-04-12T14:45:07.512104Z"
    },
    "papermill": {
     "duration": 0.283612,
     "end_time": "2022-04-12T15:05:08.608670",
     "exception": false,
     "start_time": "2022-04-12T15:05:08.325058",
     "status": "completed"
    },
    "tags": []
   },
   "outputs": [
    {
     "name": "stdout",
     "output_type": "stream",
     "text": [
      "Percentage who survived: 38.38%\n"
     ]
    },
    {
     "data": {
      "image/png": "[encoded data removed]",
      "text/plain": [
       "<Figure size 360x360 with 1 Axes>"
      ]
     },
     "metadata": {
      "needs_background": "light"
     },
     "output_type": "display_data"
    }
   ],
   "source": [
    "# Survived\n",
    "sns.catplot(x='Survived', data=train_df, kind='count')\n",
    "survived_perc = round((train_df['Survived'].sum()) / len(train_df.index) * 100,2)\n",
    "print(f'Percentage who survived: {survived_perc}%')"
   ]
  },
  {
   "cell_type": "code",
   "execution_count": 9,
   "id": "ff5d501d",
   "metadata": {
    "execution": {
     "iopub.execute_input": "2022-04-12T15:05:08.665666Z",
     "iopub.status.busy": "2022-04-12T15:05:08.665058Z",
     "iopub.status.idle": "2022-04-12T15:05:08.900281Z",
     "shell.execute_reply": "2022-04-12T15:05:08.901007Z",
     "shell.execute_reply.started": "2022-04-12T14:41:43.884581Z"
    },
    "papermill": {
     "duration": 0.266916,
     "end_time": "2022-04-12T15:05:08.901256",
     "exception": false,
     "start_time": "2022-04-12T15:05:08.634340",
     "status": "completed"
    },
    "tags": []
   },
   "outputs": [
    {
     "data": {
      "text/plain": [
       "<seaborn.axisgrid.FacetGrid at 0x7f39ca27d050>"
      ]
     },
     "execution_count": 9,
     "metadata": {},
     "output_type": "execute_result"
    },
    {
     "data": {
      "image/png": "[encoded data removed]",
      "text/plain": [
       "<Figure size 360x360 with 1 Axes>"
      ]
     },
     "metadata": {
      "needs_background": "light"
     },
     "output_type": "display_data"
    }
   ],
   "source": [
    "# PClass\n",
    "sns.catplot(x='Pclass', data=train_df, kind='count')"
   ]
  },
  {
   "cell_type": "code",
   "execution_count": 10,
   "id": "01d76449",
   "metadata": {
    "execution": {
     "iopub.execute_input": "2022-04-12T15:05:08.962377Z",
     "iopub.status.busy": "2022-04-12T15:05:08.961661Z",
     "iopub.status.idle": "2022-04-12T15:05:09.268708Z",
     "shell.execute_reply": "2022-04-12T15:05:09.269168Z",
     "shell.execute_reply.started": "2022-04-12T14:41:46.709120Z"
    },
    "papermill": {
     "duration": 0.336553,
     "end_time": "2022-04-12T15:05:09.269334",
     "exception": false,
     "start_time": "2022-04-12T15:05:08.932781",
     "status": "completed"
    },
    "tags": []
   },
   "outputs": [
    {
     "data": {
      "text/plain": [
       "<seaborn.axisgrid.FacetGrid at 0x7f39c812fcd0>"
      ]
     },
     "execution_count": 10,
     "metadata": {},
     "output_type": "execute_result"
    },
    {
     "data": {
      "image/png": "[encoded data removed]",
      "text/plain": [
       "<Figure size 411.875x360 with 1 Axes>"
      ]
     },
     "metadata": {
      "needs_background": "light"
     },
     "output_type": "display_data"
    }
   ],
   "source": [
    "# PClass and Survived\n",
    "sns.catplot(x='Pclass', hue='Survived', data=train_df, kind='count')"
   ]
  },
  {
   "cell_type": "markdown",
   "id": "a5cf0d8b",
   "metadata": {
    "papermill": {
     "duration": 0.025964,
     "end_time": "2022-04-12T15:05:09.321672",
     "exception": false,
     "start_time": "2022-04-12T15:05:09.295708",
     "status": "completed"
    },
    "tags": []
   },
   "source": [
    "As expected, Pclass appears to be correlated with survival."
   ]
  },
  {
   "cell_type": "code",
   "execution_count": 11,
   "id": "c6461545",
   "metadata": {
    "execution": {
     "iopub.execute_input": "2022-04-12T15:05:09.378406Z",
     "iopub.status.busy": "2022-04-12T15:05:09.377519Z",
     "iopub.status.idle": "2022-04-12T15:05:09.603673Z",
     "shell.execute_reply": "2022-04-12T15:05:09.603095Z",
     "shell.execute_reply.started": "2022-04-12T14:45:34.020042Z"
    },
    "papermill": {
     "duration": 0.255176,
     "end_time": "2022-04-12T15:05:09.603804",
     "exception": false,
     "start_time": "2022-04-12T15:05:09.348628",
     "status": "completed"
    },
    "tags": []
   },
   "outputs": [
    {
     "data": {
      "text/plain": [
       "<seaborn.axisgrid.FacetGrid at 0x7f39c811d450>"
      ]
     },
     "execution_count": 11,
     "metadata": {},
     "output_type": "execute_result"
    },
    {
     "data": {
      "image/png": "[encoded data removed]",
      "text/plain": [
       "<Figure size 360x360 with 1 Axes>"
      ]
     },
     "metadata": {
      "needs_background": "light"
     },
     "output_type": "display_data"
    }
   ],
   "source": [
    "# Sex\n",
    "sns.catplot(x='Sex', data=train_df, kind='count')"
   ]
  },
  {
   "cell_type": "code",
   "execution_count": 12,
   "id": "e1155cb2",
   "metadata": {
    "execution": {
     "iopub.execute_input": "2022-04-12T15:05:09.665152Z",
     "iopub.status.busy": "2022-04-12T15:05:09.662194Z",
     "iopub.status.idle": "2022-04-12T15:05:09.948548Z",
     "shell.execute_reply": "2022-04-12T15:05:09.947940Z",
     "shell.execute_reply.started": "2022-04-12T14:45:49.977121Z"
    },
    "papermill": {
     "duration": 0.317412,
     "end_time": "2022-04-12T15:05:09.948683",
     "exception": false,
     "start_time": "2022-04-12T15:05:09.631271",
     "status": "completed"
    },
    "tags": []
   },
   "outputs": [
    {
     "data": {
      "text/plain": [
       "<seaborn.axisgrid.FacetGrid at 0x7f39c805d4d0>"
      ]
     },
     "execution_count": 12,
     "metadata": {},
     "output_type": "execute_result"
    },
    {
     "data": {
      "image/png": "[encoded data removed]",
      "text/plain": [
       "<Figure size 411.875x360 with 1 Axes>"
      ]
     },
     "metadata": {
      "needs_background": "light"
     },
     "output_type": "display_data"
    }
   ],
   "source": [
    "# Sex and Survived\n",
    "sns.catplot(x='Sex', hue='Survived', data=train_df, kind='count')"
   ]
  },
  {
   "cell_type": "markdown",
   "id": "6f0db87e",
   "metadata": {
    "papermill": {
     "duration": 0.027955,
     "end_time": "2022-04-12T15:05:10.005615",
     "exception": false,
     "start_time": "2022-04-12T15:05:09.977660",
     "status": "completed"
    },
    "tags": []
   },
   "source": [
    "As expected, Sex appears to be correlated with survival."
   ]
  },
  {
   "cell_type": "code",
   "execution_count": 13,
   "id": "5ac69f74",
   "metadata": {
    "execution": {
     "iopub.execute_input": "2022-04-12T15:05:10.082023Z",
     "iopub.status.busy": "2022-04-12T15:05:10.068781Z",
     "iopub.status.idle": "2022-04-12T15:05:10.296999Z",
     "shell.execute_reply": "2022-04-12T15:05:10.296493Z",
     "shell.execute_reply.started": "2022-04-12T14:45:55.972692Z"
    },
    "papermill": {
     "duration": 0.2632,
     "end_time": "2022-04-12T15:05:10.297146",
     "exception": false,
     "start_time": "2022-04-12T15:05:10.033946",
     "status": "completed"
    },
    "tags": []
   },
   "outputs": [
    {
     "data": {
      "text/plain": [
       "<seaborn.axisgrid.FacetGrid at 0x7f39c8064650>"
      ]
     },
     "execution_count": 13,
     "metadata": {},
     "output_type": "execute_result"
    },
    {
     "data": {
      "image/png": "[encoded data removed]",
      "text/plain": [
       "<Figure size 360x360 with 1 Axes>"
      ]
     },
     "metadata": {
      "needs_background": "light"
     },
     "output_type": "display_data"
    }
   ],
   "source": [
    "# Embarked\n",
    "sns.catplot(x='Embarked', data=train_df, kind='count')"
   ]
  },
  {
   "cell_type": "code",
   "execution_count": 14,
   "id": "0801f992",
   "metadata": {
    "execution": {
     "iopub.execute_input": "2022-04-12T15:05:10.363004Z",
     "iopub.status.busy": "2022-04-12T15:05:10.359013Z",
     "iopub.status.idle": "2022-04-12T15:05:10.674379Z",
     "shell.execute_reply": "2022-04-12T15:05:10.674811Z",
     "shell.execute_reply.started": "2022-04-12T14:45:54.192703Z"
    },
    "papermill": {
     "duration": 0.348577,
     "end_time": "2022-04-12T15:05:10.674985",
     "exception": false,
     "start_time": "2022-04-12T15:05:10.326408",
     "status": "completed"
    },
    "tags": []
   },
   "outputs": [
    {
     "data": {
      "text/plain": [
       "<seaborn.axisgrid.FacetGrid at 0x7f39c7f46690>"
      ]
     },
     "execution_count": 14,
     "metadata": {},
     "output_type": "execute_result"
    },
    {
     "data": {
      "image/png": "[encoded data removed]",
      "text/plain": [
       "<Figure size 411.875x360 with 1 Axes>"
      ]
     },
     "metadata": {
      "needs_background": "light"
     },
     "output_type": "display_data"
    }
   ],
   "source": [
    "# Embarked and Survived\n",
    "sns.catplot(x='Embarked', hue='Survived', data=train_df, kind='count')"
   ]
  },
  {
   "cell_type": "markdown",
   "id": "606cbdfb",
   "metadata": {
    "papermill": {
     "duration": 0.030043,
     "end_time": "2022-04-12T15:05:10.735160",
     "exception": false,
     "start_time": "2022-04-12T15:05:10.705117",
     "status": "completed"
    },
    "tags": []
   },
   "source": [
    "This is an initially surprising finding, though I think perhaps Embarked may be correlated with Pclass."
   ]
  },
  {
   "cell_type": "code",
   "execution_count": 15,
   "id": "da20575a",
   "metadata": {
    "execution": {
     "iopub.execute_input": "2022-04-12T15:05:10.804703Z",
     "iopub.status.busy": "2022-04-12T15:05:10.802928Z",
     "iopub.status.idle": "2022-04-12T15:05:11.131178Z",
     "shell.execute_reply": "2022-04-12T15:05:11.131623Z",
     "shell.execute_reply.started": "2022-04-12T14:46:03.867198Z"
    },
    "papermill": {
     "duration": 0.366479,
     "end_time": "2022-04-12T15:05:11.131782",
     "exception": false,
     "start_time": "2022-04-12T15:05:10.765303",
     "status": "completed"
    },
    "tags": []
   },
   "outputs": [
    {
     "data": {
      "text/plain": [
       "<seaborn.axisgrid.FacetGrid at 0x7f39c7ecd150>"
      ]
     },
     "execution_count": 15,
     "metadata": {},
     "output_type": "execute_result"
    },
    {
     "data": {
      "image/png": "[encoded data removed]",
      "text/plain": [
       "<Figure size 402.375x360 with 1 Axes>"
      ]
     },
     "metadata": {
      "needs_background": "light"
     },
     "output_type": "display_data"
    }
   ],
   "source": [
    "# Embarked and Pclass\n",
    "sns.catplot(x='Embarked', hue='Pclass', data=train_df, kind='count')"
   ]
  },
  {
   "cell_type": "markdown",
   "id": "025b3f65",
   "metadata": {
    "papermill": {
     "duration": 0.030907,
     "end_time": "2022-04-12T15:05:11.193497",
     "exception": false,
     "start_time": "2022-04-12T15:05:11.162590",
     "status": "completed"
    },
    "tags": []
   },
   "source": [
    "As expected, S is disproportionately 3rd class. I would consider this a spurious correlation as Pclass is likely the underlying structure driving survival in this case (phrased differently, I do not think being from C or Q means you are a better swimmer)."
   ]
  },
  {
   "cell_type": "code",
   "execution_count": 16,
   "id": "59dadf0f",
   "metadata": {
    "execution": {
     "iopub.execute_input": "2022-04-12T15:05:11.259395Z",
     "iopub.status.busy": "2022-04-12T15:05:11.258435Z",
     "iopub.status.idle": "2022-04-12T15:05:11.286405Z",
     "shell.execute_reply": "2022-04-12T15:05:11.286849Z",
     "shell.execute_reply.started": "2022-04-12T12:40:43.109970Z"
    },
    "papermill": {
     "duration": 0.062453,
     "end_time": "2022-04-12T15:05:11.287026",
     "exception": false,
     "start_time": "2022-04-12T15:05:11.224573",
     "status": "completed"
    },
    "tags": []
   },
   "outputs": [
    {
     "data": {
      "text/html": [
       "<div>\n",
       "<style scoped>\n",
       "    .dataframe tbody tr th:only-of-type {\n",
       "        vertical-align: middle;\n",
       "    }\n",
       "\n",
       "    .dataframe tbody tr th {\n",
       "        vertical-align: top;\n",
       "    }\n",
       "\n",
       "    .dataframe thead th {\n",
       "        text-align: right;\n",
       "    }\n",
       "</style>\n",
       "<table border=\"1\" class=\"dataframe\">\n",
       "  <thead>\n",
       "    <tr style=\"text-align: right;\">\n",
       "      <th></th>\n",
       "      <th>PassengerId</th>\n",
       "      <th>Survived</th>\n",
       "      <th>Pclass</th>\n",
       "      <th>Age</th>\n",
       "      <th>SibSp</th>\n",
       "      <th>Parch</th>\n",
       "      <th>Fare</th>\n",
       "    </tr>\n",
       "  </thead>\n",
       "  <tbody>\n",
       "    <tr>\n",
       "      <th>count</th>\n",
       "      <td>891.000000</td>\n",
       "      <td>891.000000</td>\n",
       "      <td>891.000000</td>\n",
       "      <td>714.000000</td>\n",
       "      <td>891.000000</td>\n",
       "      <td>891.000000</td>\n",
       "      <td>891.000000</td>\n",
       "    </tr>\n",
       "    <tr>\n",
       "      <th>mean</th>\n",
       "      <td>446.000000</td>\n",
       "      <td>0.383838</td>\n",
       "      <td>2.308642</td>\n",
       "      <td>29.699118</td>\n",
       "      <td>0.523008</td>\n",
       "      <td>0.381594</td>\n",
       "      <td>32.204208</td>\n",
       "    </tr>\n",
       "    <tr>\n",
       "      <th>std</th>\n",
       "      <td>257.353842</td>\n",
       "      <td>0.486592</td>\n",
       "      <td>0.836071</td>\n",
       "      <td>14.526497</td>\n",
       "      <td>1.102743</td>\n",
       "      <td>0.806057</td>\n",
       "      <td>49.693429</td>\n",
       "    </tr>\n",
       "    <tr>\n",
       "      <th>min</th>\n",
       "      <td>1.000000</td>\n",
       "      <td>0.000000</td>\n",
       "      <td>1.000000</td>\n",
       "      <td>0.420000</td>\n",
       "      <td>0.000000</td>\n",
       "      <td>0.000000</td>\n",
       "      <td>0.000000</td>\n",
       "    </tr>\n",
       "    <tr>\n",
       "      <th>25%</th>\n",
       "      <td>223.500000</td>\n",
       "      <td>0.000000</td>\n",
       "      <td>2.000000</td>\n",
       "      <td>20.125000</td>\n",
       "      <td>0.000000</td>\n",
       "      <td>0.000000</td>\n",
       "      <td>7.910400</td>\n",
       "    </tr>\n",
       "    <tr>\n",
       "      <th>50%</th>\n",
       "      <td>446.000000</td>\n",
       "      <td>0.000000</td>\n",
       "      <td>3.000000</td>\n",
       "      <td>28.000000</td>\n",
       "      <td>0.000000</td>\n",
       "      <td>0.000000</td>\n",
       "      <td>14.454200</td>\n",
       "    </tr>\n",
       "    <tr>\n",
       "      <th>75%</th>\n",
       "      <td>668.500000</td>\n",
       "      <td>1.000000</td>\n",
       "      <td>3.000000</td>\n",
       "      <td>38.000000</td>\n",
       "      <td>1.000000</td>\n",
       "      <td>0.000000</td>\n",
       "      <td>31.000000</td>\n",
       "    </tr>\n",
       "    <tr>\n",
       "      <th>max</th>\n",
       "      <td>891.000000</td>\n",
       "      <td>1.000000</td>\n",
       "      <td>3.000000</td>\n",
       "      <td>80.000000</td>\n",
       "      <td>8.000000</td>\n",
       "      <td>6.000000</td>\n",
       "      <td>512.329200</td>\n",
       "    </tr>\n",
       "  </tbody>\n",
       "</table>\n",
       "</div>"
      ],
      "text/plain": [
       "       PassengerId    Survived      Pclass         Age       SibSp  \\\n",
       "count   891.000000  891.000000  891.000000  714.000000  891.000000   \n",
       "mean    446.000000    0.383838    2.308642   29.699118    0.523008   \n",
       "std     257.353842    0.486592    0.836071   14.526497    1.102743   \n",
       "min       1.000000    0.000000    1.000000    0.420000    0.000000   \n",
       "25%     223.500000    0.000000    2.000000   20.125000    0.000000   \n",
       "50%     446.000000    0.000000    3.000000   28.000000    0.000000   \n",
       "75%     668.500000    1.000000    3.000000   38.000000    1.000000   \n",
       "max     891.000000    1.000000    3.000000   80.000000    8.000000   \n",
       "\n",
       "            Parch        Fare  \n",
       "count  891.000000  891.000000  \n",
       "mean     0.381594   32.204208  \n",
       "std      0.806057   49.693429  \n",
       "min      0.000000    0.000000  \n",
       "25%      0.000000    7.910400  \n",
       "50%      0.000000   14.454200  \n",
       "75%      0.000000   31.000000  \n",
       "max      6.000000  512.329200  "
      ]
     },
     "execution_count": 16,
     "metadata": {},
     "output_type": "execute_result"
    }
   ],
   "source": [
    "train_df.describe()"
   ]
  },
  {
   "cell_type": "code",
   "execution_count": 17,
   "id": "1dcc450e",
   "metadata": {
    "execution": {
     "iopub.execute_input": "2022-04-12T15:05:11.353809Z",
     "iopub.status.busy": "2022-04-12T15:05:11.352938Z",
     "iopub.status.idle": "2022-04-12T15:05:11.375588Z",
     "shell.execute_reply": "2022-04-12T15:05:11.376060Z",
     "shell.execute_reply.started": "2022-04-12T13:23:10.076599Z"
    },
    "papermill": {
     "duration": 0.05768,
     "end_time": "2022-04-12T15:05:11.376222",
     "exception": false,
     "start_time": "2022-04-12T15:05:11.318542",
     "status": "completed"
    },
    "tags": []
   },
   "outputs": [
    {
     "data": {
      "text/html": [
       "<div>\n",
       "<style scoped>\n",
       "    .dataframe tbody tr th:only-of-type {\n",
       "        vertical-align: middle;\n",
       "    }\n",
       "\n",
       "    .dataframe tbody tr th {\n",
       "        vertical-align: top;\n",
       "    }\n",
       "\n",
       "    .dataframe thead th {\n",
       "        text-align: right;\n",
       "    }\n",
       "</style>\n",
       "<table border=\"1\" class=\"dataframe\">\n",
       "  <thead>\n",
       "    <tr style=\"text-align: right;\">\n",
       "      <th></th>\n",
       "      <th>PassengerId</th>\n",
       "      <th>Pclass</th>\n",
       "      <th>Age</th>\n",
       "      <th>SibSp</th>\n",
       "      <th>Parch</th>\n",
       "      <th>Fare</th>\n",
       "    </tr>\n",
       "  </thead>\n",
       "  <tbody>\n",
       "    <tr>\n",
       "      <th>count</th>\n",
       "      <td>418.000000</td>\n",
       "      <td>418.000000</td>\n",
       "      <td>332.000000</td>\n",
       "      <td>418.000000</td>\n",
       "      <td>418.000000</td>\n",
       "      <td>417.000000</td>\n",
       "    </tr>\n",
       "    <tr>\n",
       "      <th>mean</th>\n",
       "      <td>1100.500000</td>\n",
       "      <td>2.265550</td>\n",
       "      <td>30.272590</td>\n",
       "      <td>0.447368</td>\n",
       "      <td>0.392344</td>\n",
       "      <td>35.627188</td>\n",
       "    </tr>\n",
       "    <tr>\n",
       "      <th>std</th>\n",
       "      <td>120.810458</td>\n",
       "      <td>0.841838</td>\n",
       "      <td>14.181209</td>\n",
       "      <td>0.896760</td>\n",
       "      <td>0.981429</td>\n",
       "      <td>55.907576</td>\n",
       "    </tr>\n",
       "    <tr>\n",
       "      <th>min</th>\n",
       "      <td>892.000000</td>\n",
       "      <td>1.000000</td>\n",
       "      <td>0.170000</td>\n",
       "      <td>0.000000</td>\n",
       "      <td>0.000000</td>\n",
       "      <td>0.000000</td>\n",
       "    </tr>\n",
       "    <tr>\n",
       "      <th>25%</th>\n",
       "      <td>996.250000</td>\n",
       "      <td>1.000000</td>\n",
       "      <td>21.000000</td>\n",
       "      <td>0.000000</td>\n",
       "      <td>0.000000</td>\n",
       "      <td>7.895800</td>\n",
       "    </tr>\n",
       "    <tr>\n",
       "      <th>50%</th>\n",
       "      <td>1100.500000</td>\n",
       "      <td>3.000000</td>\n",
       "      <td>27.000000</td>\n",
       "      <td>0.000000</td>\n",
       "      <td>0.000000</td>\n",
       "      <td>14.454200</td>\n",
       "    </tr>\n",
       "    <tr>\n",
       "      <th>75%</th>\n",
       "      <td>1204.750000</td>\n",
       "      <td>3.000000</td>\n",
       "      <td>39.000000</td>\n",
       "      <td>1.000000</td>\n",
       "      <td>0.000000</td>\n",
       "      <td>31.500000</td>\n",
       "    </tr>\n",
       "    <tr>\n",
       "      <th>max</th>\n",
       "      <td>1309.000000</td>\n",
       "      <td>3.000000</td>\n",
       "      <td>76.000000</td>\n",
       "      <td>8.000000</td>\n",
       "      <td>9.000000</td>\n",
       "      <td>512.329200</td>\n",
       "    </tr>\n",
       "  </tbody>\n",
       "</table>\n",
       "</div>"
      ],
      "text/plain": [
       "       PassengerId      Pclass         Age       SibSp       Parch        Fare\n",
       "count   418.000000  418.000000  332.000000  418.000000  418.000000  417.000000\n",
       "mean   1100.500000    2.265550   30.272590    0.447368    0.392344   35.627188\n",
       "std     120.810458    0.841838   14.181209    0.896760    0.981429   55.907576\n",
       "min     892.000000    1.000000    0.170000    0.000000    0.000000    0.000000\n",
       "25%     996.250000    1.000000   21.000000    0.000000    0.000000    7.895800\n",
       "50%    1100.500000    3.000000   27.000000    0.000000    0.000000   14.454200\n",
       "75%    1204.750000    3.000000   39.000000    1.000000    0.000000   31.500000\n",
       "max    1309.000000    3.000000   76.000000    8.000000    9.000000  512.329200"
      ]
     },
     "execution_count": 17,
     "metadata": {},
     "output_type": "execute_result"
    }
   ],
   "source": [
    "test_df.describe()"
   ]
  },
  {
   "cell_type": "code",
   "execution_count": 18,
   "id": "27dd3896",
   "metadata": {
    "execution": {
     "iopub.execute_input": "2022-04-12T15:05:11.445608Z",
     "iopub.status.busy": "2022-04-12T15:05:11.445052Z",
     "iopub.status.idle": "2022-04-12T15:05:11.626671Z",
     "shell.execute_reply": "2022-04-12T15:05:11.626052Z",
     "shell.execute_reply.started": "2022-04-12T14:55:51.448319Z"
    },
    "papermill": {
     "duration": 0.217999,
     "end_time": "2022-04-12T15:05:11.626825",
     "exception": false,
     "start_time": "2022-04-12T15:05:11.408826",
     "status": "completed"
    },
    "tags": []
   },
   "outputs": [
    {
     "data": {
      "text/plain": [
       "<AxesSubplot:xlabel='Survived', ylabel='Age'>"
      ]
     },
     "execution_count": 18,
     "metadata": {},
     "output_type": "execute_result"
    },
    {
     "data": {
      "image/png": "[encoded data removed]",
      "text/plain": [
       "<Figure size 432x288 with 1 Axes>"
      ]
     },
     "metadata": {
      "needs_background": "light"
     },
     "output_type": "display_data"
    }
   ],
   "source": [
    "# Survived and Age\n",
    "sns.boxplot(x='Survived', y='Age', data=train_df)"
   ]
  },
  {
   "cell_type": "code",
   "execution_count": 19,
   "id": "eb764cb8",
   "metadata": {
    "execution": {
     "iopub.execute_input": "2022-04-12T15:05:11.699491Z",
     "iopub.status.busy": "2022-04-12T15:05:11.698066Z",
     "iopub.status.idle": "2022-04-12T15:05:11.896725Z",
     "shell.execute_reply": "2022-04-12T15:05:11.897269Z",
     "shell.execute_reply.started": "2022-04-12T14:57:10.011376Z"
    },
    "papermill": {
     "duration": 0.237682,
     "end_time": "2022-04-12T15:05:11.897441",
     "exception": false,
     "start_time": "2022-04-12T15:05:11.659759",
     "status": "completed"
    },
    "tags": []
   },
   "outputs": [
    {
     "data": {
      "text/plain": [
       "<AxesSubplot:xlabel='Pclass', ylabel='Age'>"
      ]
     },
     "execution_count": 19,
     "metadata": {},
     "output_type": "execute_result"
    },
    {
     "data": {
      "image/png": "[encoded data removed]",
      "text/plain": [
       "<Figure size 432x288 with 1 Axes>"
      ]
     },
     "metadata": {
      "needs_background": "light"
     },
     "output_type": "display_data"
    }
   ],
   "source": [
    "# Pclass and Age\n",
    "sns.boxplot(x='Pclass', y='Age', data=train_df)"
   ]
  },
  {
   "cell_type": "code",
   "execution_count": 20,
   "id": "19ac898e",
   "metadata": {
    "execution": {
     "iopub.execute_input": "2022-04-12T15:05:11.968336Z",
     "iopub.status.busy": "2022-04-12T15:05:11.967482Z",
     "iopub.status.idle": "2022-04-12T15:05:12.152268Z",
     "shell.execute_reply": "2022-04-12T15:05:12.151696Z",
     "shell.execute_reply.started": "2022-04-12T14:57:39.260711Z"
    },
    "papermill": {
     "duration": 0.221589,
     "end_time": "2022-04-12T15:05:12.152399",
     "exception": false,
     "start_time": "2022-04-12T15:05:11.930810",
     "status": "completed"
    },
    "tags": []
   },
   "outputs": [
    {
     "data": {
      "text/plain": [
       "<AxesSubplot:xlabel='Sex', ylabel='Age'>"
      ]
     },
     "execution_count": 20,
     "metadata": {},
     "output_type": "execute_result"
    },
    {
     "data": {
      "image/png": "[encoded data removed]",
      "text/plain": [
       "<Figure size 432x288 with 1 Axes>"
      ]
     },
     "metadata": {
      "needs_background": "light"
     },
     "output_type": "display_data"
    }
   ],
   "source": [
    "# Sex and Age\n",
    "sns.boxplot(x='Sex', y='Age', data=train_df)"
   ]
  },
  {
   "cell_type": "markdown",
   "id": "0ce2815f",
   "metadata": {
    "papermill": {
     "duration": 0.034115,
     "end_time": "2022-04-12T15:05:12.220895",
     "exception": false,
     "start_time": "2022-04-12T15:05:12.186780",
     "status": "completed"
    },
    "tags": []
   },
   "source": [
    "Younger passengers were more likely to not survive than older passengers.  \n",
    "\n",
    "It appears that 1st class passengers were disproportionately older. 2nd class passengers were also older than 3rd class.  \n",
    "\n",
    "Male passengers were older than female passengers.  "
   ]
  },
  {
   "cell_type": "markdown",
   "id": "bbc156fa",
   "metadata": {
    "papermill": {
     "duration": 0.03385,
     "end_time": "2022-04-12T15:05:12.289005",
     "exception": false,
     "start_time": "2022-04-12T15:05:12.255155",
     "status": "completed"
    },
    "tags": []
   },
   "source": [
    "---\n",
    "# Modeling"
   ]
  },
  {
   "cell_type": "markdown",
   "id": "9dd17ec5",
   "metadata": {
    "papermill": {
     "duration": 0.033989,
     "end_time": "2022-04-12T15:05:12.357327",
     "exception": false,
     "start_time": "2022-04-12T15:05:12.323338",
     "status": "completed"
    },
    "tags": []
   },
   "source": [
    "## Data Cleaning"
   ]
  },
  {
   "cell_type": "markdown",
   "id": "757ff8d9",
   "metadata": {
    "papermill": {
     "duration": 0.034203,
     "end_time": "2022-04-12T15:05:12.426006",
     "exception": false,
     "start_time": "2022-04-12T15:05:12.391803",
     "status": "completed"
    },
    "tags": []
   },
   "source": [
    "## Feature Engineering"
   ]
  },
  {
   "cell_type": "markdown",
   "id": "f1fb539a",
   "metadata": {
    "papermill": {
     "duration": 0.033949,
     "end_time": "2022-04-12T15:05:12.494262",
     "exception": false,
     "start_time": "2022-04-12T15:05:12.460313",
     "status": "completed"
    },
    "tags": []
   },
   "source": [
    "## Train-Test Split"
   ]
  },
  {
   "cell_type": "markdown",
   "id": "930ae898",
   "metadata": {
    "papermill": {
     "duration": 0.03395,
     "end_time": "2022-04-12T15:05:12.562441",
     "exception": false,
     "start_time": "2022-04-12T15:05:12.528491",
     "status": "completed"
    },
    "tags": []
   },
   "source": [
    "---\n",
    "# Submission"
   ]
  },
  {
   "cell_type": "code",
   "execution_count": null,
   "id": "714f634b",
   "metadata": {
    "papermill": {
     "duration": 0.033864,
     "end_time": "2022-04-12T15:05:12.630471",
     "exception": false,
     "start_time": "2022-04-12T15:05:12.596607",
     "status": "completed"
    },
    "tags": []
   },
   "outputs": [],
   "source": []
  }
 ],
 "metadata": {
  "kernelspec": {
   "display_name": "Python 3",
   "language": "python",
   "name": "python3"
  },
  "language_info": {
   "codemirror_mode": {
    "name": "ipython",
    "version": 3
   },
   "file_extension": ".py",
   "mimetype": "text/x-python",
   "name": "python",
   "nbconvert_exporter": "python",
   "pygments_lexer": "ipython3",
   "version": "3.7.12"
  },
  "papermill": {
   "default_parameters": {},
   "duration": 14.807075,
   "end_time": "2022-04-12T15:05:13.374508",
   "environment_variables": {},
   "exception": null,
   "input_path": "__notebook__.ipynb",
   "output_path": "__notebook__.ipynb",
   "parameters": {},
   "start_time": "2022-04-12T15:04:58.567433",
   "version": "2.3.3"
  }
 },
 "nbformat": 4,
 "nbformat_minor": 5
}
