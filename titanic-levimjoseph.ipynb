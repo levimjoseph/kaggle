{
 "cells": [
  {
   "cell_type": "markdown",
   "id": "652a07d9",
   "metadata": {
    "papermill": {
     "duration": 0.009992,
     "end_time": "2022-04-11T14:36:43.666024",
     "exception": false,
     "start_time": "2022-04-11T14:36:43.656032",
     "status": "completed"
    },
    "tags": []
   },
   "source": [
    "# Overview"
   ]
  },
  {
   "cell_type": "markdown",
   "id": "c004cbc6",
   "metadata": {
    "papermill": {
     "duration": 0.008672,
     "end_time": "2022-04-11T14:36:43.684174",
     "exception": false,
     "start_time": "2022-04-11T14:36:43.675502",
     "status": "completed"
    },
    "tags": []
   },
   "source": []
  },
  {
   "cell_type": "markdown",
   "id": "872e2b75",
   "metadata": {
    "papermill": {
     "duration": 0.008533,
     "end_time": "2022-04-11T14:36:43.701581",
     "exception": false,
     "start_time": "2022-04-11T14:36:43.693048",
     "status": "completed"
    },
    "tags": []
   },
   "source": [
    "# Setup"
   ]
  },
  {
   "cell_type": "code",
   "execution_count": 1,
   "id": "e9c55b15",
   "metadata": {
    "_cell_guid": "b1076dfc-b9ad-4769-8c92-a6c4dae69d19",
    "_uuid": "8f2839f25d086af736a60e9eeb907d3b93b6e0e5",
    "execution": {
     "iopub.execute_input": "2022-04-11T14:36:43.733340Z",
     "iopub.status.busy": "2022-04-11T14:36:43.732425Z",
     "iopub.status.idle": "2022-04-11T14:36:43.738945Z",
     "shell.execute_reply": "2022-04-11T14:36:43.739684Z",
     "shell.execute_reply.started": "2022-04-11T14:33:26.839069Z"
    },
    "papermill": {
     "duration": 0.029725,
     "end_time": "2022-04-11T14:36:43.740077",
     "exception": false,
     "start_time": "2022-04-11T14:36:43.710352",
     "status": "completed"
    },
    "tags": []
   },
   "outputs": [
    {
     "name": "stdout",
     "output_type": "stream",
     "text": [
      "/kaggle/input/titanic/train.csv\n",
      "/kaggle/input/titanic/test.csv\n",
      "/kaggle/input/titanic/gender_submission.csv\n"
     ]
    }
   ],
   "source": [
    "# This Python 3 environment comes with many helpful analytics libraries installed\n",
    "# It is defined by the kaggle/python Docker image: https://github.com/kaggle/docker-python\n",
    "# For example, here's several helpful packages to load\n",
    "\n",
    "import numpy as np # linear algebra\n",
    "import pandas as pd # data processing, CSV file I/O (e.g. pd.read_csv)\n",
    "\n",
    "# Input data files are available in the read-only \"../input/\" directory\n",
    "# For example, running this (by clicking run or pressing Shift+Enter) will list all files under the input directory\n",
    "import os\n",
    "for dirname, _, filenames in os.walk('/kaggle/input'):\n",
    "    for filename in filenames:\n",
    "        print(os.path.join(dirname, filename))\n",
    "\n",
    "# You can write up to 20GB to the current directory (/kaggle/working/) that gets preserved as output when you create a version using \"Save & Run All\" \n",
    "# You can also write temporary files to /kaggle/temp/, but they won't be saved outside of the current session"
   ]
  },
  {
   "cell_type": "code",
   "execution_count": null,
   "id": "76929070",
   "metadata": {
    "papermill": {
     "duration": 0.009181,
     "end_time": "2022-04-11T14:36:43.759972",
     "exception": false,
     "start_time": "2022-04-11T14:36:43.750791",
     "status": "completed"
    },
    "tags": []
   },
   "outputs": [],
   "source": []
  },
  {
   "cell_type": "markdown",
   "id": "4cdeaab7",
   "metadata": {
    "papermill": {
     "duration": 0.009227,
     "end_time": "2022-04-11T14:36:43.778553",
     "exception": false,
     "start_time": "2022-04-11T14:36:43.769326",
     "status": "completed"
    },
    "tags": []
   },
   "source": [
    "# EDA"
   ]
  },
  {
   "cell_type": "code",
   "execution_count": null,
   "id": "364d9db7",
   "metadata": {
    "papermill": {
     "duration": 0.00899,
     "end_time": "2022-04-11T14:36:43.797100",
     "exception": false,
     "start_time": "2022-04-11T14:36:43.788110",
     "status": "completed"
    },
    "tags": []
   },
   "outputs": [],
   "source": []
  },
  {
   "cell_type": "markdown",
   "id": "46c6d8b6",
   "metadata": {
    "papermill": {
     "duration": 0.008969,
     "end_time": "2022-04-11T14:36:43.815391",
     "exception": false,
     "start_time": "2022-04-11T14:36:43.806422",
     "status": "completed"
    },
    "tags": []
   },
   "source": [
    "# Modeling"
   ]
  },
  {
   "cell_type": "code",
   "execution_count": null,
   "id": "5bc76a96",
   "metadata": {
    "papermill": {
     "duration": 0.008997,
     "end_time": "2022-04-11T14:36:43.833668",
     "exception": false,
     "start_time": "2022-04-11T14:36:43.824671",
     "status": "completed"
    },
    "tags": []
   },
   "outputs": [],
   "source": []
  },
  {
   "cell_type": "markdown",
   "id": "b897ac6c",
   "metadata": {
    "papermill": {
     "duration": 0.008904,
     "end_time": "2022-04-11T14:36:43.851861",
     "exception": false,
     "start_time": "2022-04-11T14:36:43.842957",
     "status": "completed"
    },
    "tags": []
   },
   "source": [
    "# Submission"
   ]
  },
  {
   "cell_type": "code",
   "execution_count": null,
   "id": "2ad51151",
   "metadata": {
    "papermill": {
     "duration": 0.008997,
     "end_time": "2022-04-11T14:36:43.870467",
     "exception": false,
     "start_time": "2022-04-11T14:36:43.861470",
     "status": "completed"
    },
    "tags": []
   },
   "outputs": [],
   "source": []
  }
 ],
 "metadata": {
  "kernelspec": {
   "display_name": "Python 3",
   "language": "python",
   "name": "python3"
  },
  "language_info": {
   "codemirror_mode": {
    "name": "ipython",
    "version": 3
   },
   "file_extension": ".py",
   "mimetype": "text/x-python",
   "name": "python",
   "nbconvert_exporter": "python",
   "pygments_lexer": "ipython3",
   "version": "3.7.12"
  },
  "papermill": {
   "default_parameters": {},
   "duration": 10.454119,
   "end_time": "2022-04-11T14:36:44.489385",
   "environment_variables": {},
   "exception": null,
   "input_path": "__notebook__.ipynb",
   "output_path": "__notebook__.ipynb",
   "parameters": {},
   "start_time": "2022-04-11T14:36:34.035266",
   "version": "2.3.3"
  }
 },
 "nbformat": 4,
 "nbformat_minor": 5
}
